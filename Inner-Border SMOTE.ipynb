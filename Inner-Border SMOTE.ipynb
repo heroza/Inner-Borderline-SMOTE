{
  "cells": [
    {
      "cell_type": "markdown",
      "metadata": {
        "id": "view-in-github",
        "colab_type": "text"
      },
      "source": [
        "<a href=\"https://colab.research.google.com/github/heroza/Inner-Borderline-SMOTE/blob/main/Inner-Border%20SMOTE.ipynb\" target=\"_parent\"><img src=\"https://colab.research.google.com/assets/colab-badge.svg\" alt=\"Open In Colab\"/></a>"
      ]
    },
    {
      "cell_type": "code",
      "execution_count": 1,
      "metadata": {
        "colab": {
          "base_uri": "https://localhost:8080/"
        },
        "id": "Eus_4tUgfEk9",
        "outputId": "1ccb5408-fb80-478b-94c0-50085ae2686e"
      },
      "outputs": [
        {
          "output_type": "stream",
          "name": "stdout",
          "text": [
            "Mounted at /content/drive\n"
          ]
        }
      ],
      "source": [
        "from google.colab import drive\n",
        "drive.mount('/content/drive')"
      ]
    },
    {
      "cell_type": "markdown",
      "metadata": {
        "id": "E_x4c0_DTkaa"
      },
      "source": [
        "#Library, atribut, and function"
      ]
    },
    {
      "cell_type": "code",
      "execution_count": 1,
      "metadata": {
        "id": "nR2MJBYq-oiB"
      },
      "outputs": [],
      "source": [
        "import pandas as pd\n",
        "import numpy as np\n",
        "import tensorflow as tf\n",
        "import matplotlib.pyplot as plt\n",
        "import seaborn as sns\n",
        "import os\n",
        "from collections import Counter\n",
        "from pathlib import Path\n",
        "from PIL import Image\n",
        "from sklearn import preprocessing\n",
        "from sklearn.neighbors import NearestNeighbors\n",
        "from sklearn.metrics import precision_recall_fscore_support, balanced_accuracy_score, confusion_matrix, accuracy_score\n",
        "from keras.callbacks import ReduceLROnPlateau, EarlyStopping, ModelCheckpoint\n",
        "from keras.preprocessing.image import ImageDataGenerator\n",
        "from keras.models import Sequential\n",
        "from keras.layers import Conv2D, MaxPooling2D, UpSampling2D\n",
        "from tensorflow import keras\n",
        "from tensorflow.keras import layers\n",
        "from tensorflow.keras.optimizers import Adam, SGD\n",
        "from tensorflow.keras.preprocessing import image\n",
        "from tensorflow.keras.applications.resnet50 import ResNet50, preprocess_input, decode_predictions\n",
        "from tensorflow.keras.applications.inception_v3 import InceptionV3, preprocess_input\n",
        "from tensorflow.keras.layers import GlobalAveragePooling2D, Dense, Input, Dropout, Flatten\n",
        "from tensorflow.keras.models import Model, load_model\n",
        "from keras.utils.np_utils import to_categorical\n",
        "import imblearn\n",
        "from imblearn.over_sampling import SMOTE, BorderlineSMOTE, SVMSMOTE, ADASYN, KMeansSMOTE"
      ]
    },
    {
      "cell_type": "code",
      "execution_count": 2,
      "metadata": {
        "id": "9-c7Xghg4SB4"
      },
      "outputs": [],
      "source": [
        "# input image size\n",
        "IMAGE_W = 224\n",
        "IMAGE_H = 224\n",
        "IMG_SIZE = (IMAGE_W,IMAGE_H)\n",
        "num_classes = 7\n",
        "EPOCHS = 100\n",
        "BATCH_SIZE = 64\n",
        "opt_adam = Adam(learning_rate=0.001, beta_1=0.9, beta_2=0.999, epsilon=None, decay=0.0, amsgrad=False)\n",
        "opt_SGD = SGD(learning_rate=0.001)\n",
        "the_arch = 'resnet50'\n",
        "\n",
        "#Callbacks\n",
        "best_model_fpath = '/content/drive/MyDrive/PHD/Model/best_model_attention.h5'\n",
        "last_model_fpath = '/content/drive/MyDrive/PHD/Model/last_model_attention.h5'\n",
        "mc = ModelCheckpoint(best_model_fpath, monitor='val_balanced_acc', mode='max', verbose=1, save_best_only=True)\n",
        "learning_rate_reduction = ReduceLROnPlateau(monitor='val_balanced_acc', patience=20, verbose=1, factor=0.5, min_lr=0.00001)\n",
        "early_stopping_monitor = EarlyStopping(patience=30,monitor='val_balanced_acc')\n"
      ]
    },
    {
      "cell_type": "code",
      "execution_count": 3,
      "metadata": {
        "id": "JffFid9sOXeo"
      },
      "outputs": [],
      "source": [
        "# load train and test dataset\n",
        "def preprocess_image_input(input_images, arch = the_arch):\n",
        "  input_images = input_images.astype('float32')\n",
        "  if arch == 'inception_v3':\n",
        "    output_ims = tf.keras.applications.inception_v3.preprocess_input(input_images)\n",
        "  else:\n",
        "    output_ims = tf.keras.applications.resnet50.preprocess_input(input_images)\n",
        "  return output_ims\n",
        "\n",
        "def load_cifar10_dataset():\n",
        "  from keras.datasets import cifar10\n",
        "    # load dataset\n",
        "  (X_train, y_train), (X_val, y_val) = cifar10.load_data()\n",
        "    # one hot encode target values\n",
        "  y_train = to_categorical(y_train)\n",
        "  y_val = to_categorical(y_val)\n",
        "\n",
        "  return X_train, y_train, X_val, y_val\n",
        "\n",
        "def balanced_acc(y_true, y_pred):\n",
        "    from keras import backend as K\n",
        "\n",
        "    tensor1 = tf.math.argmax(y_true, axis=1)\n",
        "    tensor2 = tf.math.argmax(y_pred, axis=1)\n",
        "\n",
        "    cm = tf.math.confusion_matrix(tensor1, tensor2)\n",
        "    \n",
        "    diag = tf.linalg.tensor_diag_part (cm)\n",
        "    tpfn = tf.cast(K.sum(cm, axis = 1), tf.float32) + K.epsilon()\n",
        "    recall = tf.divide(tf.cast(diag, tf.float32),tpfn)\n",
        "    balanced_acc = K.mean(recall)\n",
        "    return balanced_acc\n",
        "\n",
        "def define_base_model(arch = the_arch, start_trainable_layer = 9999, attention=False):\n",
        "  #x = data_augmentation(input_tensor)\n",
        "  #x = layers.Rescaling(1.0 / 255)(input_tensor)  # Rescale inputs\n",
        "  if arch != 'dense':\n",
        "    input_tensor = Input(shape=(IMAGE_H, IMAGE_W, 3))\n",
        "    #if IMAGE_H == 32:\n",
        "      #x = UpSampling2D(size=(7,7))(input_tensor)\n",
        "    if arch == 'resnet50':\n",
        "      base_model = ResNet50(input_tensor=input_tensor, weights='imagenet', include_top=False)\n",
        "    elif arch == 'inception_v3':\n",
        "      base_model = InceptionV3(input_tensor=input_tensor, weights='imagenet', include_top=False)\n",
        "    elif arch == 'ResNet':\n",
        "      base_model = ResNet(classes ,image_shape)(input_tensor)\n",
        "    x = base_model.output\n",
        "    if attention:\n",
        "      x = Attention(1024,1024,7,8)(x)\n",
        "    x = GlobalAveragePooling2D()(x)\n",
        "    for layer in base_model.layers:\n",
        "      layer.trainable = False\n",
        "    if start_trainable_layer != 9999:\n",
        "      for layer in base_model.layers[start_trainable_layer:]:\n",
        "        layer.trainable = True\n",
        "  else:\n",
        "    input_tensor = Input(shape=(2048))\n",
        "    x = input_tensor\n",
        "  #x = Flatten()(x)\n",
        "  x = Dense(1024, activation='relu')(x)\n",
        "  #x = Dropout(0.2)(x)\n",
        "  x = Dense(512, activation='relu')(x)\n",
        "  predictions = Dense(num_classes, activation='softmax')(x)\n",
        "  model = Model(inputs=input_tensor, outputs=predictions)\n",
        "  model.compile(optimizer = opt_SGD , loss = \"categorical_crossentropy\", metrics=['accuracy', balanced_acc])\n",
        "  return model\n",
        "\n",
        "# plot diagnostic learning curves\n",
        "def summarize_diagnostics(history):\n",
        "    # plot loss\n",
        "    plt.subplot(211)\n",
        "    plt.title('Cross Entropy Loss')\n",
        "    plt.plot(history.history['loss'], color='blue', label='train')\n",
        "    plt.plot(history.history['val_loss'], color='orange', label='test')\n",
        "    # plot accuracy\n",
        "    plt.subplot(212)\n",
        "    plt.title('Classification Accuracy')\n",
        "    plt.plot(history.history['accuracy'], color='blue', label='train')\n",
        "    plt.plot(history.history['val_accuracy'], color='orange', label='test')\n",
        " \n",
        "# scale pixels\n",
        "def norm_pixels(train, test):\n",
        "    # convert from integers to floats\n",
        "    train_norm = train.astype('float32')\n",
        "    test_norm = test.astype('float32')\n",
        "    # normalize to range 0-1\n",
        "    train_norm = train_norm / 255.0\n",
        "    test_norm = test_norm / 255.0\n",
        "    # return normalized images\n",
        "    return train_norm, test_norm\n",
        "\n",
        "def load_isic2018_dataset(train_under_frac = 0):\n",
        "  df_train = pd.read_csv('/content/drive/MyDrive/PHD/Datasets/isic2018/ISIC2018_Task3_Training_GroundTruth/ISIC2018_Task3_Training_GroundTruth.csv') \n",
        "  df_val = pd.read_csv('/content/drive/MyDrive/PHD/Datasets/isic2018/ISIC2018_Task3_Validation_GroundTruth/ISIC2018_Task3_Validation_GroundTruth.csv') \n",
        "\n",
        "  #decode one hot label\n",
        "  df_train[\"Labels\"] = (df_train.iloc[:, 1:]).idxmax(axis=1)\n",
        "  df_val[\"Labels\"] = (df_val.iloc[:, 1:]).idxmax(axis=1)\n",
        "\n",
        "  #random undersampling for training dataset\n",
        "  if train_under_frac !=0:\n",
        "    df_train = df_train.drop(df_train[df_train['Labels'] == 'NV'].sample(frac=train_under_frac).index)\n",
        "\n",
        "  #drop one-hot column\n",
        "  df_train = df_train.drop(columns=['MEL', 'NV', 'BCC', 'AKIEC', 'BKL', 'DF', 'VASC'])\n",
        "  df_val = df_val.drop(columns=['MEL', 'NV', 'BCC', 'AKIEC', 'BKL', 'DF', 'VASC'])\n",
        "\n",
        "  #make filepaths of the image\n",
        "  dir_train = '/content/drive/MyDrive/PHD/Datasets/isic2018/ISIC2018_Task3_Training_Input/'\n",
        "  dir_val = '/content/drive/MyDrive/PHD/Datasets/isic2018/ISIC2018_Task3_Validation_Input/'\n",
        "  df_train['FilePaths'] = dir_train + df_train['image'] + '.jpg'\n",
        "  df_val['FilePaths'] = dir_val + df_val['image'] + '.jpg'\n",
        "  \n",
        "  #load image pixels to dataframe\n",
        "  df_train['image_px'] = df_train['FilePaths'].map(lambda x: np.asarray(Image.open(x).resize(IMG_SIZE)))\n",
        "  df_val['image_px'] = df_val['FilePaths'].map(lambda x: np.asarray(Image.open(x).resize(IMG_SIZE)))\n",
        "\n",
        "  X_train = np.asarray(df_train['image_px'].tolist())\n",
        "  X_val = np.asarray(df_val['image_px'].tolist())\n",
        "  y_train = np.array(df_train['Labels'].values)\n",
        "  y_val = np.array(df_val['Labels'].values)\n",
        "\n",
        "  label_encoder = preprocessing.LabelEncoder()\n",
        "  y_train = label_encoder.fit_transform(y_train)\n",
        "  y_val = label_encoder.fit_transform(y_val)\n",
        "  \n",
        "  y_train = to_categorical(y_train, num_classes = num_classes)\n",
        "  y_val = to_categorical(y_val, num_classes = num_classes)\n",
        "\n",
        "  return X_train, y_train, X_val, y_val\n",
        "\n",
        "def reset_dataset(df_train, df_val):\n",
        "  X_train = np.asarray(df_train['image_px'].tolist())\n",
        "  X_val = np.asarray(df_val['image_px'].tolist())\n",
        "  y_train = np.array(df_train['Labels'].values)\n",
        "  y_val = np.array(df_val['Labels'].values)\n",
        "\n",
        "  X_train = preprocess_image_input(X_train, the_arch)\n",
        "  X_val = preprocess_image_input(X_val, the_arch)\n",
        "\n",
        "  label_encoder = preprocessing.LabelEncoder()\n",
        "  y_train = label_encoder.fit_transform(y_train)\n",
        "  y_val = label_encoder.fit_transform(y_val)\n",
        "  \n",
        "  y_train = to_categorical(y_train, num_classes = num_classes)\n",
        "  y_val = to_categorical(y_val, num_classes = num_classes)\n",
        "  return X_train, y_train, X_val, y_val\n",
        "\n",
        "def SMOTE_Data(X, y, one_hot = False, k = 5, width = IMAGE_W, height = IMAGE_H, c = 3, type = 'smote'):\n",
        "  if one_hot:\n",
        "    y = np.argmax(y, axis=1)\n",
        "  if type == 'borderline':\n",
        "    sm = BorderlineSMOTE(random_state=42, k_neighbors=k)\n",
        "  elif type == 'svm':\n",
        "    sm = SVMSMOTE()\n",
        "  elif type == 'adasyn':\n",
        "    sm = ADASYN(random_state=42, n_neighbors=k)\n",
        "  elif type == 'kmeans':\n",
        "    sm = KMeansSMOTE(k_neighbors=k, kmeans_estimator=10)\n",
        "  else:\n",
        "    sm = SMOTE(random_state=42, k_neighbors=k)\n",
        "  X_resampled, y_resampled = sm.fit_resample(X.reshape((-1, width * height * c)), y)\n",
        "  X_resampled = X_resampled.reshape(-1, width, height, c)\n",
        "  if one_hot:\n",
        "    y_resampled = to_categorical(y_resampled, num_classes = num_classes)\n",
        "  else:\n",
        "    y_resampled = y_resampled.reshape(-1,1)\n",
        "  return X_resampled, y_resampled\n",
        "\n",
        "def SMOTE_Data2(X, y, one_hot = False, k = 5):\n",
        "  if one_hot:\n",
        "    y = np.argmax(y, axis=1)\n",
        "  sm = SMOTE(random_state=42, k_neighbors=k)\n",
        "  X_resampled, y_resampled = sm.fit_resample(X, y)\n",
        "  if one_hot:\n",
        "    y_resampled = to_categorical(y_resampled, num_classes = num_classes)\n",
        "  else:\n",
        "    y_resampled = y_resampled.reshape(-1,1)\n",
        "  return X_resampled, y_resampled"
      ]
    },
    {
      "cell_type": "markdown",
      "source": [
        "#Inner-Borderline SMOTE"
      ],
      "metadata": {
        "id": "BE9FCWBe8deT"
      }
    },
    {
      "cell_type": "code",
      "source": [
        "def get_class(X, y, c):\n",
        "    xbeg = X[y == c]\n",
        "    ybeg = y[y == c]\n",
        "    \n",
        "    return xbeg, ybeg\n",
        "def find_border(xclass, yclass, X, y, cli, n_neigh=5):\n",
        "    nn = NearestNeighbors(n_neighbors=n_neigh, n_jobs=1)\n",
        "    nn.fit(X)\n",
        "    dist, ind = nn.kneighbors(xclass)\n",
        "    ret = []\n",
        "    for i in range(len(ind)):\n",
        "      ret.append(sum(y[ind[i,j]] != cli for j in range(1,len(ind[i]))))\n",
        "    ret = np.array(ret)\n",
        "    xclass = xclass[np.logical_and(ret < (n_neigh-1),ret > ((n_neigh-1)/2))]\n",
        "    yclass = yclass[np.logical_and(ret < (n_neigh-1),ret > ((n_neigh-1)/2))]\n",
        "\n",
        "    return xclass, yclass\n",
        "def find_inner_border(xclass, yclass, X, y, cli, n_neigh=5):\n",
        "    nn = NearestNeighbors(n_neighbors=n_neigh, n_jobs=1)\n",
        "    nn.fit(X)\n",
        "    dist, ind = nn.kneighbors(X)\n",
        "    ret = []\n",
        "    for i in range(len(ind)):\n",
        "      if y[i] != cli:\n",
        "        ret.append(n_neigh)  \n",
        "      else:\n",
        "        ret.append(sum(y[ind[i,j]] != cli for j in range(1,len(ind[i]))))\n",
        "    ret = np.array(ret)\n",
        "    is_border = np.logical_and(ret < (n_neigh-1),ret > ((n_neigh-1)/2))\n",
        "    \n",
        "    ret = []\n",
        "    for i in range(len(ind)):\n",
        "      ret.append(sum(is_border[ind[i,j]] for j in range(1,len(ind[i]))))\n",
        "    ret = np.array(ret)\n",
        "    xclass = X[np.logical_and(np.logical_not(is_border),ret > 0)]\n",
        "    yclass = y[np.logical_and(np.logical_not(is_border),ret > 0)]\n",
        "    return xclass, yclass\n",
        "\n",
        "def G_SM(xclass,n_to_sample,cl, n_neigh = 6):\n",
        "    \n",
        "    nn = NearestNeighbors(n_neighbors=n_neigh, n_jobs=1)\n",
        "    nn.fit(xclass)\n",
        "    dist, ind = nn.kneighbors(xclass)\n",
        "\n",
        "    # generating samples\n",
        "    base_indices = np.random.choice(list(range(len(xclass))),n_to_sample)\n",
        "    neighbor_indices = np.random.choice(list(range(1, n_neigh)),n_to_sample)\n",
        "\n",
        "    X_base = xclass[base_indices]\n",
        "    X_neighbor = xclass[ind[base_indices, neighbor_indices]]\n",
        "\n",
        "    samples = X_base + np.multiply(np.random.rand(n_to_sample,1),\n",
        "            X_neighbor - X_base)\n",
        "\n",
        "    #use 10 as label because 0 to 9 real classes and 1 fake/smoted = 10\n",
        "    return samples, [cl]*n_to_sample\n",
        "\n",
        "def Borderline_SMOTE(X_train, y_train, random_state=42, k_neighbors=5, start=0, n=7):\n",
        "  #reshape X_train\n",
        "  X_train = X_train.reshape(-1, IMAGE_W * IMAGE_H * 3)\n",
        "  #decode y_train from one-hot encoding\n",
        "  y_train = np.argmax(y_train, axis=1) \n",
        "\n",
        "  counter = Counter(y_train)\n",
        "  key_max = max(counter, key=counter.get)\n",
        "  class_max = counter[key_max]\n",
        "  resx=[]\n",
        "  resy=[]\n",
        "\n",
        "  for i in range(start,n):\n",
        "      xclass, yclass = get_class(X_train, y_train, i)\n",
        "      if xclass.shape[0] == class_max:\n",
        "        continue\n",
        "      xclass_bdr, yclass_bdr = find_inner_border(xclass, yclass, X_train, y_train, i, n_neigh=k_neighbors)\n",
        "      n = class_max - xclass.shape[0]\n",
        "      xsamp, ysamp = G_SM(xclass_bdr,n,i, n_neigh=k_neighbors)\n",
        "      ysamp = np.array(ysamp)\n",
        "      resx.append(xsamp)\n",
        "      resy.append(ysamp)\n",
        "  \n",
        "  resx = np.vstack(resx)\n",
        "  resy = np.hstack(resy)\n",
        "  X_train = np.vstack((resx,X_train))\n",
        "  y_train = np.hstack((resy,y_train))\n",
        "  y_train = to_categorical(y_train)\n",
        "  X_train = X_train.reshape(-1, IMAGE_W, IMAGE_H, 3)\n",
        "  return X_train, y_train"
      ],
      "metadata": {
        "id": "s3UnuaKz8kzJ"
      },
      "execution_count": 14,
      "outputs": []
    },
    {
      "cell_type": "markdown",
      "metadata": {
        "id": "5v7sLC2svMuJ"
      },
      "source": [
        "# Main"
      ]
    },
    {
      "cell_type": "code",
      "execution_count": 4,
      "metadata": {
        "colab": {
          "base_uri": "https://localhost:8080/"
        },
        "id": "qge6cnxQPnH6",
        "outputId": "140fa066-e5fc-4f13-8b02-04a3213635e2"
      },
      "outputs": [
        {
          "output_type": "stream",
          "name": "stdout",
          "text": [
            "(4450, 224, 224, 3)\n",
            "(4450, 7)\n",
            "(193, 224, 224, 3)\n",
            "(193, 7)\n",
            "Counter train data:  Counter({5: 1140, 4: 1113, 2: 1099, 1: 514, 0: 327, 6: 142, 3: 115})\n",
            "Counter val data:  Counter({5: 123, 2: 22, 4: 21, 1: 15, 0: 8, 6: 3, 3: 1})\n"
          ]
        }
      ],
      "source": [
        "path = '/content/drive/MyDrive/PHD/Datasets/isic2018/'\n",
        "df1 = pd.read_pickle(path+\"isic2018_train_under83.pkl\")\n",
        "X_train = df1.loc[:, df1.columns != 'y_train'].to_numpy()\n",
        "X_train = X_train.reshape(-1,224,224,3)\n",
        "y_train = df1.loc[:, df1.columns == 'y_train'].to_numpy()\n",
        "y_train = to_categorical(y_train)\n",
        "\n",
        "df1 = pd.read_pickle(path+\"isic2018_val.pkl\")\n",
        "X_val = df1.loc[:, df1.columns != 'y_val'].to_numpy()\n",
        "X_val = X_val.reshape(-1,224,224,3)\n",
        "y_val = df1.loc[:, df1.columns == 'y_val'].to_numpy()\n",
        "y_val = to_categorical(y_val)\n",
        "\n",
        "print(X_train.shape)\n",
        "print(y_train.shape)\n",
        "print(X_val.shape)\n",
        "print(y_val.shape)\n",
        "print('Counter train data: ', Counter(np.argmax(y_train, axis=1)))\n",
        "print('Counter val data: ', Counter(np.argmax(y_val, axis=1)))"
      ]
    },
    {
      "cell_type": "code",
      "execution_count": 5,
      "metadata": {
        "colab": {
          "base_uri": "https://localhost:8080/",
          "height": 236
        },
        "id": "xArGWuciBt_-",
        "outputId": "5b42b221-871a-4268-ae9b-368f816cab7e"
      },
      "outputs": [
        {
          "output_type": "error",
          "ename": "NameError",
          "evalue": "ignored",
          "traceback": [
            "\u001b[0;31m---------------------------------------------------------------------------\u001b[0m",
            "\u001b[0;31mNameError\u001b[0m                                 Traceback (most recent call last)",
            "\u001b[0;32m<ipython-input-5-284dfd7ce7dc>\u001b[0m in \u001b[0;36m<module>\u001b[0;34m\u001b[0m\n\u001b[1;32m      1\u001b[0m \u001b[0;31m#X_train, y_train = SMOTE_Data(X_train, y_train, True)\u001b[0m\u001b[0;34m\u001b[0m\u001b[0;34m\u001b[0m\u001b[0;34m\u001b[0m\u001b[0m\n\u001b[0;32m----> 2\u001b[0;31m \u001b[0mX_train\u001b[0m\u001b[0;34m,\u001b[0m \u001b[0my_train\u001b[0m \u001b[0;34m=\u001b[0m \u001b[0mBorderline_SMOTE\u001b[0m\u001b[0;34m(\u001b[0m\u001b[0mX_train\u001b[0m\u001b[0;34m,\u001b[0m \u001b[0my_train\u001b[0m\u001b[0;34m)\u001b[0m\u001b[0;34m\u001b[0m\u001b[0;34m\u001b[0m\u001b[0m\n\u001b[0m\u001b[1;32m      3\u001b[0m \u001b[0mprint\u001b[0m\u001b[0;34m(\u001b[0m\u001b[0mX_train\u001b[0m\u001b[0;34m.\u001b[0m\u001b[0mshape\u001b[0m\u001b[0;34m)\u001b[0m\u001b[0;34m\u001b[0m\u001b[0;34m\u001b[0m\u001b[0m\n\u001b[1;32m      4\u001b[0m \u001b[0mprint\u001b[0m\u001b[0;34m(\u001b[0m\u001b[0my_train\u001b[0m\u001b[0;34m.\u001b[0m\u001b[0mshape\u001b[0m\u001b[0;34m)\u001b[0m\u001b[0;34m\u001b[0m\u001b[0;34m\u001b[0m\u001b[0m\n\u001b[1;32m      5\u001b[0m \u001b[0mprint\u001b[0m\u001b[0;34m(\u001b[0m\u001b[0mX_val\u001b[0m\u001b[0;34m.\u001b[0m\u001b[0mshape\u001b[0m\u001b[0;34m)\u001b[0m\u001b[0;34m\u001b[0m\u001b[0;34m\u001b[0m\u001b[0m\n",
            "\u001b[0;31mNameError\u001b[0m: name 'Borderline_SMOTE' is not defined"
          ]
        }
      ],
      "source": [
        "#X_train, y_train = SMOTE_Data(X_train, y_train, True)\n",
        "X_train, y_train = Borderline_SMOTE(X_train, y_train)\n",
        "print(X_train.shape)\n",
        "print(y_train.shape)\n",
        "print(X_val.shape)\n",
        "print(y_val.shape)\n",
        "print('Counter train data: ', Counter(np.argmax(y_train, axis=1)))\n",
        "print('Counter val data: ', Counter(np.argmax(y_val, axis=1)))"
      ]
    },
    {
      "cell_type": "code",
      "execution_count": 5,
      "metadata": {
        "id": "V7Z_nccu6QjB"
      },
      "outputs": [],
      "source": [
        "#path = '/content/drive/MyDrive/PHD/Datasets/isic2018/'\n",
        "#df1 = pd.DataFrame(X_train.reshape(X_train.shape[0],-1))\n",
        "#df1['y_train'] = np.argmax(y_train, axis=1).tolist()\n",
        "#df2 = pd.DataFrame(X_val.reshape(X_val.shape[0],-1))\n",
        "#df2['y_val'] = np.argmax(y_val, axis=1).tolist()\n",
        "#df1.to_pickle(path+\"isic2018_train_under83.pkl\")\n",
        "#df2.to_pickle(path+\"isic2018_val.pkl\")"
      ]
    },
    {
      "cell_type": "code",
      "execution_count": 16,
      "metadata": {
        "colab": {
          "base_uri": "https://localhost:8080/",
          "height": 1000
        },
        "id": "vIygrW81Ln4z",
        "outputId": "ca109974-e02d-4fb5-8b34-b1aef65879b7"
      },
      "outputs": [
        {
          "output_type": "stream",
          "name": "stdout",
          "text": [
            "Epoch 1/100\n",
            "124/124 [==============================] - ETA: 0s - loss: 1.6843 - accuracy: 0.3158 - balanced_acc: 0.3139\n",
            "Epoch 1: val_balanced_acc improved from -inf to 0.17007, saving model to /content/drive/MyDrive/PHD/Model/best_model_attention.h5\n",
            "124/124 [==============================] - 34s 196ms/step - loss: 1.6843 - accuracy: 0.3158 - balanced_acc: 0.3139 - val_loss: 1.3502 - val_accuracy: 0.5233 - val_balanced_acc: 0.1701 - lr: 0.0010\n",
            "Epoch 2/100\n",
            "124/124 [==============================] - ETA: 0s - loss: 1.5061 - accuracy: 0.3855 - balanced_acc: 0.3886\n",
            "Epoch 2: val_balanced_acc improved from 0.17007 to 0.21153, saving model to /content/drive/MyDrive/PHD/Model/best_model_attention.h5\n",
            "124/124 [==============================] - 25s 192ms/step - loss: 1.5061 - accuracy: 0.3855 - balanced_acc: 0.3886 - val_loss: 1.2305 - val_accuracy: 0.5699 - val_balanced_acc: 0.2115 - lr: 0.0010\n",
            "Epoch 3/100\n",
            "124/124 [==============================] - ETA: 0s - loss: 1.4400 - accuracy: 0.4226 - balanced_acc: 0.4233\n",
            "Epoch 3: val_balanced_acc improved from 0.21153 to 0.21891, saving model to /content/drive/MyDrive/PHD/Model/best_model_attention.h5\n",
            "124/124 [==============================] - 24s 195ms/step - loss: 1.4400 - accuracy: 0.4226 - balanced_acc: 0.4233 - val_loss: 1.1851 - val_accuracy: 0.5907 - val_balanced_acc: 0.2189 - lr: 0.0010\n",
            "Epoch 4/100\n",
            "124/124 [==============================] - ETA: 0s - loss: 1.3992 - accuracy: 0.4381 - balanced_acc: 0.4394\n",
            "Epoch 4: val_balanced_acc did not improve from 0.21891\n",
            "124/124 [==============================] - 23s 183ms/step - loss: 1.3992 - accuracy: 0.4381 - balanced_acc: 0.4394 - val_loss: 1.1043 - val_accuracy: 0.6010 - val_balanced_acc: 0.2145 - lr: 0.0010\n",
            "Epoch 5/100\n",
            "124/124 [==============================] - ETA: 0s - loss: 1.3651 - accuracy: 0.4573 - balanced_acc: 0.4598\n",
            "Epoch 5: val_balanced_acc improved from 0.21891 to 0.22910, saving model to /content/drive/MyDrive/PHD/Model/best_model_attention.h5\n",
            "124/124 [==============================] - 25s 199ms/step - loss: 1.3651 - accuracy: 0.4573 - balanced_acc: 0.4598 - val_loss: 1.0679 - val_accuracy: 0.6218 - val_balanced_acc: 0.2291 - lr: 0.0010\n",
            "Epoch 6/100\n",
            "124/124 [==============================] - ETA: 0s - loss: 1.3389 - accuracy: 0.4715 - balanced_acc: 0.4739\n",
            "Epoch 6: val_balanced_acc improved from 0.22910 to 0.25483, saving model to /content/drive/MyDrive/PHD/Model/best_model_attention.h5\n",
            "124/124 [==============================] - 25s 202ms/step - loss: 1.3389 - accuracy: 0.4715 - balanced_acc: 0.4739 - val_loss: 1.0398 - val_accuracy: 0.6321 - val_balanced_acc: 0.2548 - lr: 0.0010\n",
            "Epoch 7/100\n",
            "124/124 [==============================] - ETA: 0s - loss: 1.3196 - accuracy: 0.4792 - balanced_acc: 0.4793\n",
            "Epoch 7: val_balanced_acc improved from 0.25483 to 0.26686, saving model to /content/drive/MyDrive/PHD/Model/best_model_attention.h5\n",
            "124/124 [==============================] - 25s 202ms/step - loss: 1.3196 - accuracy: 0.4792 - balanced_acc: 0.4793 - val_loss: 1.0291 - val_accuracy: 0.6321 - val_balanced_acc: 0.2669 - lr: 0.0010\n",
            "Epoch 8/100\n",
            "124/124 [==============================] - ETA: 0s - loss: 1.3046 - accuracy: 0.4848 - balanced_acc: 0.4856\n",
            "Epoch 8: val_balanced_acc improved from 0.26686 to 0.28959, saving model to /content/drive/MyDrive/PHD/Model/best_model_attention.h5\n",
            "124/124 [==============================] - 25s 205ms/step - loss: 1.3046 - accuracy: 0.4848 - balanced_acc: 0.4856 - val_loss: 1.0425 - val_accuracy: 0.6425 - val_balanced_acc: 0.2896 - lr: 0.0010\n",
            "Epoch 9/100\n",
            "124/124 [==============================] - ETA: 0s - loss: 1.2788 - accuracy: 0.4994 - balanced_acc: 0.4972\n",
            "Epoch 9: val_balanced_acc improved from 0.28959 to 0.31837, saving model to /content/drive/MyDrive/PHD/Model/best_model_attention.h5\n",
            "124/124 [==============================] - 25s 202ms/step - loss: 1.2788 - accuracy: 0.4994 - balanced_acc: 0.4972 - val_loss: 1.0063 - val_accuracy: 0.6632 - val_balanced_acc: 0.3184 - lr: 0.0010\n",
            "Epoch 10/100\n",
            "124/124 [==============================] - ETA: 0s - loss: 1.2698 - accuracy: 0.4963 - balanced_acc: 0.4986\n",
            "Epoch 10: val_balanced_acc did not improve from 0.31837\n",
            "124/124 [==============================] - 23s 189ms/step - loss: 1.2698 - accuracy: 0.4963 - balanced_acc: 0.4986 - val_loss: 1.0032 - val_accuracy: 0.6580 - val_balanced_acc: 0.3050 - lr: 0.0010\n",
            "Epoch 11/100\n",
            "124/124 [==============================] - ETA: 0s - loss: 1.2501 - accuracy: 0.5091 - balanced_acc: 0.5120\n",
            "Epoch 11: val_balanced_acc did not improve from 0.31837\n",
            "124/124 [==============================] - 24s 190ms/step - loss: 1.2501 - accuracy: 0.5091 - balanced_acc: 0.5120 - val_loss: 0.9370 - val_accuracy: 0.6528 - val_balanced_acc: 0.2934 - lr: 0.0010\n",
            "Epoch 12/100\n",
            "124/124 [==============================] - ETA: 0s - loss: 1.2492 - accuracy: 0.5044 - balanced_acc: 0.5026\n",
            "Epoch 12: val_balanced_acc did not improve from 0.31837\n",
            "124/124 [==============================] - 24s 190ms/step - loss: 1.2492 - accuracy: 0.5044 - balanced_acc: 0.5026 - val_loss: 0.9414 - val_accuracy: 0.6580 - val_balanced_acc: 0.3112 - lr: 0.0010\n",
            "Epoch 13/100\n",
            "124/124 [==============================] - ETA: 0s - loss: 1.2318 - accuracy: 0.5186 - balanced_acc: 0.5173\n",
            "Epoch 13: val_balanced_acc improved from 0.31837 to 0.32879, saving model to /content/drive/MyDrive/PHD/Model/best_model_attention.h5\n",
            "124/124 [==============================] - 25s 203ms/step - loss: 1.2318 - accuracy: 0.5186 - balanced_acc: 0.5173 - val_loss: 0.9395 - val_accuracy: 0.6736 - val_balanced_acc: 0.3288 - lr: 0.0010\n",
            "Epoch 14/100\n",
            "124/124 [==============================] - ETA: 0s - loss: 1.2266 - accuracy: 0.5143 - balanced_acc: 0.5202\n",
            "Epoch 14: val_balanced_acc improved from 0.32879 to 0.36004, saving model to /content/drive/MyDrive/PHD/Model/best_model_attention.h5\n",
            "124/124 [==============================] - 25s 204ms/step - loss: 1.2266 - accuracy: 0.5143 - balanced_acc: 0.5202 - val_loss: 0.9130 - val_accuracy: 0.6684 - val_balanced_acc: 0.3600 - lr: 0.0010\n",
            "Epoch 15/100\n",
            "124/124 [==============================] - ETA: 0s - loss: 1.2130 - accuracy: 0.5279 - balanced_acc: 0.5270\n",
            "Epoch 15: val_balanced_acc did not improve from 0.36004\n",
            "124/124 [==============================] - 23s 189ms/step - loss: 1.2130 - accuracy: 0.5279 - balanced_acc: 0.5270 - val_loss: 0.9227 - val_accuracy: 0.6580 - val_balanced_acc: 0.3469 - lr: 0.0010\n",
            "Epoch 16/100\n",
            "124/124 [==============================] - ETA: 0s - loss: 1.2064 - accuracy: 0.5258 - balanced_acc: 0.5260\n",
            "Epoch 16: val_balanced_acc improved from 0.36004 to 0.37492, saving model to /content/drive/MyDrive/PHD/Model/best_model_attention.h5\n",
            "124/124 [==============================] - 25s 204ms/step - loss: 1.2064 - accuracy: 0.5258 - balanced_acc: 0.5260 - val_loss: 0.9163 - val_accuracy: 0.6839 - val_balanced_acc: 0.3749 - lr: 0.0010\n",
            "Epoch 17/100\n",
            "124/124 [==============================] - ETA: 0s - loss: 1.1975 - accuracy: 0.5303 - balanced_acc: 0.5311\n",
            "Epoch 17: val_balanced_acc improved from 0.37492 to 0.37909, saving model to /content/drive/MyDrive/PHD/Model/best_model_attention.h5\n",
            "124/124 [==============================] - 25s 202ms/step - loss: 1.1975 - accuracy: 0.5303 - balanced_acc: 0.5311 - val_loss: 0.9257 - val_accuracy: 0.6891 - val_balanced_acc: 0.3791 - lr: 0.0010\n",
            "Epoch 18/100\n",
            "124/124 [==============================] - ETA: 0s - loss: 1.1851 - accuracy: 0.5383 - balanced_acc: 0.5405\n",
            "Epoch 18: val_balanced_acc did not improve from 0.37909\n",
            "124/124 [==============================] - 23s 189ms/step - loss: 1.1851 - accuracy: 0.5383 - balanced_acc: 0.5405 - val_loss: 0.8818 - val_accuracy: 0.6891 - val_balanced_acc: 0.3721 - lr: 0.0010\n",
            "Epoch 19/100\n",
            "124/124 [==============================] - ETA: 0s - loss: 1.1854 - accuracy: 0.5326 - balanced_acc: 0.5341\n",
            "Epoch 19: val_balanced_acc did not improve from 0.37909\n",
            "124/124 [==============================] - 24s 190ms/step - loss: 1.1854 - accuracy: 0.5326 - balanced_acc: 0.5341 - val_loss: 0.9168 - val_accuracy: 0.6839 - val_balanced_acc: 0.3749 - lr: 0.0010\n",
            "Epoch 20/100\n",
            "124/124 [==============================] - ETA: 0s - loss: 1.1741 - accuracy: 0.5387 - balanced_acc: 0.5341\n",
            "Epoch 20: val_balanced_acc improved from 0.37909 to 0.38576, saving model to /content/drive/MyDrive/PHD/Model/best_model_attention.h5\n",
            "124/124 [==============================] - 25s 203ms/step - loss: 1.1741 - accuracy: 0.5387 - balanced_acc: 0.5341 - val_loss: 0.8825 - val_accuracy: 0.7098 - val_balanced_acc: 0.3858 - lr: 0.0010\n",
            "Epoch 21/100\n",
            "124/124 [==============================] - ETA: 0s - loss: 1.1546 - accuracy: 0.5493 - balanced_acc: 0.5498\n",
            "Epoch 21: val_balanced_acc did not improve from 0.38576\n",
            "124/124 [==============================] - 24s 190ms/step - loss: 1.1546 - accuracy: 0.5493 - balanced_acc: 0.5498 - val_loss: 0.8958 - val_accuracy: 0.6943 - val_balanced_acc: 0.3833 - lr: 0.0010\n",
            "Epoch 22/100\n",
            "124/124 [==============================] - ETA: 0s - loss: 1.1657 - accuracy: 0.5419 - balanced_acc: 0.5442\n",
            "Epoch 22: val_balanced_acc did not improve from 0.38576\n",
            "124/124 [==============================] - 23s 189ms/step - loss: 1.1657 - accuracy: 0.5419 - balanced_acc: 0.5442 - val_loss: 0.8893 - val_accuracy: 0.6995 - val_balanced_acc: 0.3841 - lr: 0.0010\n",
            "Epoch 23/100\n",
            "124/124 [==============================] - ETA: 0s - loss: 1.1508 - accuracy: 0.5476 - balanced_acc: 0.5477\n",
            "Epoch 23: val_balanced_acc did not improve from 0.38576\n",
            "124/124 [==============================] - 24s 190ms/step - loss: 1.1508 - accuracy: 0.5476 - balanced_acc: 0.5477 - val_loss: 0.8813 - val_accuracy: 0.7047 - val_balanced_acc: 0.3843 - lr: 0.0010\n",
            "Epoch 24/100\n",
            "124/124 [==============================] - ETA: 0s - loss: 1.1552 - accuracy: 0.5479 - balanced_acc: 0.5458\n",
            "Epoch 24: val_balanced_acc improved from 0.38576 to 0.41163, saving model to /content/drive/MyDrive/PHD/Model/best_model_attention.h5\n",
            "124/124 [==============================] - 25s 202ms/step - loss: 1.1552 - accuracy: 0.5479 - balanced_acc: 0.5458 - val_loss: 0.8623 - val_accuracy: 0.7254 - val_balanced_acc: 0.4116 - lr: 0.0010\n",
            "Epoch 25/100\n",
            "124/124 [==============================] - ETA: 0s - loss: 1.1376 - accuracy: 0.5555 - balanced_acc: 0.5577\n",
            "Epoch 25: val_balanced_acc did not improve from 0.41163\n",
            "124/124 [==============================] - 23s 189ms/step - loss: 1.1376 - accuracy: 0.5555 - balanced_acc: 0.5577 - val_loss: 0.8942 - val_accuracy: 0.7047 - val_balanced_acc: 0.3886 - lr: 0.0010\n",
            "Epoch 26/100\n",
            "124/124 [==============================] - ETA: 0s - loss: 1.1319 - accuracy: 0.5598 - balanced_acc: 0.5611\n",
            "Epoch 26: val_balanced_acc did not improve from 0.41163\n",
            "124/124 [==============================] - 23s 189ms/step - loss: 1.1319 - accuracy: 0.5598 - balanced_acc: 0.5611 - val_loss: 0.8533 - val_accuracy: 0.7254 - val_balanced_acc: 0.4053 - lr: 0.0010\n",
            "Epoch 27/100\n",
            "124/124 [==============================] - ETA: 0s - loss: 1.1339 - accuracy: 0.5528 - balanced_acc: 0.5517\n",
            "Epoch 27: val_balanced_acc improved from 0.41163 to 0.41608, saving model to /content/drive/MyDrive/PHD/Model/best_model_attention.h5\n",
            "124/124 [==============================] - 25s 202ms/step - loss: 1.1339 - accuracy: 0.5528 - balanced_acc: 0.5517 - val_loss: 0.8551 - val_accuracy: 0.7306 - val_balanced_acc: 0.4161 - lr: 0.0010\n",
            "Epoch 28/100\n",
            "124/124 [==============================] - ETA: 0s - loss: 1.1181 - accuracy: 0.5639 - balanced_acc: 0.5668\n",
            "Epoch 28: val_balanced_acc did not improve from 0.41608\n",
            "124/124 [==============================] - 23s 189ms/step - loss: 1.1181 - accuracy: 0.5639 - balanced_acc: 0.5668 - val_loss: 0.8396 - val_accuracy: 0.7202 - val_balanced_acc: 0.3911 - lr: 0.0010\n",
            "Epoch 29/100\n",
            "124/124 [==============================] - ETA: 0s - loss: 1.1229 - accuracy: 0.5632 - balanced_acc: 0.5628\n",
            "Epoch 29: val_balanced_acc did not improve from 0.41608\n",
            "124/124 [==============================] - 23s 189ms/step - loss: 1.1229 - accuracy: 0.5632 - balanced_acc: 0.5628 - val_loss: 0.8438 - val_accuracy: 0.7306 - val_balanced_acc: 0.4062 - lr: 0.0010\n",
            "Epoch 30/100\n",
            "124/124 [==============================] - ETA: 0s - loss: 1.1102 - accuracy: 0.5671 - balanced_acc: 0.5677\n",
            "Epoch 30: val_balanced_acc did not improve from 0.41608\n",
            "124/124 [==============================] - 23s 189ms/step - loss: 1.1102 - accuracy: 0.5671 - balanced_acc: 0.5677 - val_loss: 0.8668 - val_accuracy: 0.7150 - val_balanced_acc: 0.3858 - lr: 0.0010\n",
            "Epoch 31/100\n",
            "124/124 [==============================] - ETA: 0s - loss: 1.1112 - accuracy: 0.5678 - balanced_acc: 0.5653\n",
            "Epoch 31: val_balanced_acc improved from 0.41608 to 0.41693, saving model to /content/drive/MyDrive/PHD/Model/best_model_attention.h5\n",
            "124/124 [==============================] - 25s 202ms/step - loss: 1.1112 - accuracy: 0.5678 - balanced_acc: 0.5653 - val_loss: 0.8531 - val_accuracy: 0.7358 - val_balanced_acc: 0.4169 - lr: 0.0010\n",
            "Epoch 32/100\n",
            "124/124 [==============================] - ETA: 0s - loss: 1.0960 - accuracy: 0.5773 - balanced_acc: 0.5768\n",
            "Epoch 32: val_balanced_acc did not improve from 0.41693\n",
            "124/124 [==============================] - 23s 189ms/step - loss: 1.0960 - accuracy: 0.5773 - balanced_acc: 0.5768 - val_loss: 0.8555 - val_accuracy: 0.7306 - val_balanced_acc: 0.4152 - lr: 0.0010\n",
            "Epoch 33/100\n",
            "124/124 [==============================] - ETA: 0s - loss: 1.0971 - accuracy: 0.5730 - balanced_acc: 0.5732\n",
            "Epoch 33: val_balanced_acc did not improve from 0.41693\n",
            "124/124 [==============================] - 23s 189ms/step - loss: 1.0971 - accuracy: 0.5730 - balanced_acc: 0.5732 - val_loss: 0.8713 - val_accuracy: 0.7202 - val_balanced_acc: 0.4063 - lr: 0.0010\n",
            "Epoch 34/100\n",
            "124/124 [==============================] - ETA: 0s - loss: 1.0948 - accuracy: 0.5714 - balanced_acc: 0.5700\n",
            "Epoch 34: val_balanced_acc did not improve from 0.41693\n",
            "124/124 [==============================] - 23s 189ms/step - loss: 1.0948 - accuracy: 0.5714 - balanced_acc: 0.5700 - val_loss: 0.8493 - val_accuracy: 0.7358 - val_balanced_acc: 0.4160 - lr: 0.0010\n",
            "Epoch 35/100\n",
            "124/124 [==============================] - ETA: 0s - loss: 1.0894 - accuracy: 0.5786 - balanced_acc: 0.5809\n",
            "Epoch 35: val_balanced_acc did not improve from 0.41693\n",
            "124/124 [==============================] - 23s 189ms/step - loss: 1.0894 - accuracy: 0.5786 - balanced_acc: 0.5809 - val_loss: 0.8426 - val_accuracy: 0.7358 - val_balanced_acc: 0.4134 - lr: 0.0010\n",
            "Epoch 36/100\n",
            "124/124 [==============================] - ETA: 0s - loss: 1.0834 - accuracy: 0.5759 - balanced_acc: 0.5757\n",
            "Epoch 36: val_balanced_acc improved from 0.41693 to 0.42220, saving model to /content/drive/MyDrive/PHD/Model/best_model_attention.h5\n",
            "124/124 [==============================] - 25s 203ms/step - loss: 1.0834 - accuracy: 0.5759 - balanced_acc: 0.5757 - val_loss: 0.8100 - val_accuracy: 0.7513 - val_balanced_acc: 0.4222 - lr: 0.0010\n",
            "Epoch 37/100\n",
            "124/124 [==============================] - ETA: 0s - loss: 1.0820 - accuracy: 0.5808 - balanced_acc: 0.5818\n",
            "Epoch 37: val_balanced_acc did not improve from 0.42220\n",
            "124/124 [==============================] - 24s 190ms/step - loss: 1.0820 - accuracy: 0.5808 - balanced_acc: 0.5818 - val_loss: 0.8222 - val_accuracy: 0.7409 - val_balanced_acc: 0.4124 - lr: 0.0010\n",
            "Epoch 38/100\n",
            "124/124 [==============================] - ETA: 0s - loss: 1.0723 - accuracy: 0.5916 - balanced_acc: 0.5921\n",
            "Epoch 38: val_balanced_acc did not improve from 0.42220\n",
            "124/124 [==============================] - 23s 189ms/step - loss: 1.0723 - accuracy: 0.5916 - balanced_acc: 0.5921 - val_loss: 0.8217 - val_accuracy: 0.7461 - val_balanced_acc: 0.4213 - lr: 0.0010\n",
            "Epoch 39/100\n",
            "124/124 [==============================] - ETA: 0s - loss: 1.0719 - accuracy: 0.5854 - balanced_acc: 0.5892\n",
            "Epoch 39: val_balanced_acc improved from 0.42220 to 0.42407, saving model to /content/drive/MyDrive/PHD/Model/best_model_attention.h5\n",
            "124/124 [==============================] - 25s 202ms/step - loss: 1.0719 - accuracy: 0.5854 - balanced_acc: 0.5892 - val_loss: 0.8281 - val_accuracy: 0.7461 - val_balanced_acc: 0.4241 - lr: 0.0010\n",
            "Epoch 40/100\n",
            "124/124 [==============================] - ETA: 0s - loss: 1.0580 - accuracy: 0.5920 - balanced_acc: 0.5891\n",
            "Epoch 40: val_balanced_acc did not improve from 0.42407\n",
            "124/124 [==============================] - 23s 189ms/step - loss: 1.0580 - accuracy: 0.5920 - balanced_acc: 0.5891 - val_loss: 0.8234 - val_accuracy: 0.7461 - val_balanced_acc: 0.4177 - lr: 0.0010\n",
            "Epoch 41/100\n",
            "124/124 [==============================] - ETA: 0s - loss: 1.0632 - accuracy: 0.5888 - balanced_acc: 0.5919\n",
            "Epoch 41: val_balanced_acc did not improve from 0.42407\n",
            "124/124 [==============================] - 24s 190ms/step - loss: 1.0632 - accuracy: 0.5888 - balanced_acc: 0.5919 - val_loss: 0.8168 - val_accuracy: 0.7409 - val_balanced_acc: 0.4124 - lr: 0.0010\n",
            "Epoch 42/100\n",
            "124/124 [==============================] - ETA: 0s - loss: 1.0540 - accuracy: 0.5989 - balanced_acc: 0.5970\n",
            "Epoch 42: val_balanced_acc did not improve from 0.42407\n",
            "124/124 [==============================] - 23s 189ms/step - loss: 1.0540 - accuracy: 0.5989 - balanced_acc: 0.5970 - val_loss: 0.7993 - val_accuracy: 0.7513 - val_balanced_acc: 0.4222 - lr: 0.0010\n",
            "Epoch 43/100\n",
            "124/124 [==============================] - ETA: 0s - loss: 1.0478 - accuracy: 0.5965 - balanced_acc: 0.5960\n",
            "Epoch 43: val_balanced_acc did not improve from 0.42407\n",
            "124/124 [==============================] - 23s 189ms/step - loss: 1.0478 - accuracy: 0.5965 - balanced_acc: 0.5960 - val_loss: 0.8205 - val_accuracy: 0.7461 - val_balanced_acc: 0.4160 - lr: 0.0010\n",
            "Epoch 44/100\n",
            "124/124 [==============================] - ETA: 0s - loss: 1.0482 - accuracy: 0.6013 - balanced_acc: 0.5999\n",
            "Epoch 44: val_balanced_acc did not improve from 0.42407\n",
            "124/124 [==============================] - 23s 189ms/step - loss: 1.0482 - accuracy: 0.6013 - balanced_acc: 0.5999 - val_loss: 0.8083 - val_accuracy: 0.7358 - val_balanced_acc: 0.4116 - lr: 0.0010\n",
            "Epoch 45/100\n",
            "124/124 [==============================] - ETA: 0s - loss: 1.0506 - accuracy: 0.5993 - balanced_acc: 0.5994\n",
            "Epoch 45: val_balanced_acc did not improve from 0.42407\n",
            "124/124 [==============================] - 23s 189ms/step - loss: 1.0506 - accuracy: 0.5993 - balanced_acc: 0.5994 - val_loss: 0.8087 - val_accuracy: 0.7358 - val_balanced_acc: 0.4053 - lr: 0.0010\n",
            "Epoch 46/100\n",
            "124/124 [==============================] - ETA: 0s - loss: 1.0391 - accuracy: 0.5979 - balanced_acc: 0.5976\n",
            "Epoch 46: val_balanced_acc did not improve from 0.42407\n",
            "124/124 [==============================] - 23s 189ms/step - loss: 1.0391 - accuracy: 0.5979 - balanced_acc: 0.5976 - val_loss: 0.7945 - val_accuracy: 0.7461 - val_balanced_acc: 0.3990 - lr: 0.0010\n",
            "Epoch 47/100\n",
            "124/124 [==============================] - ETA: 0s - loss: 1.0286 - accuracy: 0.6075 - balanced_acc: 0.6089\n",
            "Epoch 47: val_balanced_acc did not improve from 0.42407\n",
            "124/124 [==============================] - 23s 189ms/step - loss: 1.0286 - accuracy: 0.6075 - balanced_acc: 0.6089 - val_loss: 0.8259 - val_accuracy: 0.7358 - val_balanced_acc: 0.4116 - lr: 0.0010\n",
            "Epoch 48/100\n",
            "124/124 [==============================] - ETA: 0s - loss: 1.0372 - accuracy: 0.6031 - balanced_acc: 0.6024\n",
            "Epoch 48: val_balanced_acc did not improve from 0.42407\n",
            "124/124 [==============================] - 23s 189ms/step - loss: 1.0372 - accuracy: 0.6031 - balanced_acc: 0.6024 - val_loss: 0.8387 - val_accuracy: 0.7409 - val_balanced_acc: 0.4151 - lr: 0.0010\n",
            "Epoch 49/100\n",
            "124/124 [==============================] - ETA: 0s - loss: 1.0293 - accuracy: 0.6094 - balanced_acc: 0.6126\n",
            "Epoch 49: val_balanced_acc did not improve from 0.42407\n",
            "124/124 [==============================] - 23s 189ms/step - loss: 1.0293 - accuracy: 0.6094 - balanced_acc: 0.6126 - val_loss: 0.7969 - val_accuracy: 0.7513 - val_balanced_acc: 0.4168 - lr: 0.0010\n",
            "Epoch 50/100\n",
            "124/124 [==============================] - ETA: 0s - loss: 1.0079 - accuracy: 0.6146 - balanced_acc: 0.6126\n",
            "Epoch 50: val_balanced_acc did not improve from 0.42407\n",
            "124/124 [==============================] - 23s 189ms/step - loss: 1.0079 - accuracy: 0.6146 - balanced_acc: 0.6126 - val_loss: 0.7873 - val_accuracy: 0.7513 - val_balanced_acc: 0.4168 - lr: 0.0010\n",
            "Epoch 51/100\n",
            "124/124 [==============================] - ETA: 0s - loss: 1.0314 - accuracy: 0.6152 - balanced_acc: 0.6159\n",
            "Epoch 51: val_balanced_acc did not improve from 0.42407\n",
            "124/124 [==============================] - 23s 189ms/step - loss: 1.0314 - accuracy: 0.6152 - balanced_acc: 0.6159 - val_loss: 0.8043 - val_accuracy: 0.7461 - val_balanced_acc: 0.4160 - lr: 0.0010\n",
            "Epoch 52/100\n",
            "124/124 [==============================] - ETA: 0s - loss: 1.0123 - accuracy: 0.6093 - balanced_acc: 0.6070\n",
            "Epoch 52: val_balanced_acc did not improve from 0.42407\n",
            "124/124 [==============================] - 23s 189ms/step - loss: 1.0123 - accuracy: 0.6093 - balanced_acc: 0.6070 - val_loss: 0.8143 - val_accuracy: 0.7461 - val_balanced_acc: 0.4160 - lr: 0.0010\n",
            "Epoch 53/100\n",
            "124/124 [==============================] - ETA: 0s - loss: 1.0165 - accuracy: 0.6151 - balanced_acc: 0.6155\n",
            "Epoch 53: val_balanced_acc did not improve from 0.42407\n",
            "124/124 [==============================] - 23s 189ms/step - loss: 1.0165 - accuracy: 0.6151 - balanced_acc: 0.6155 - val_loss: 0.7922 - val_accuracy: 0.7461 - val_balanced_acc: 0.4160 - lr: 0.0010\n",
            "Epoch 54/100\n",
            "124/124 [==============================] - ETA: 0s - loss: 1.0112 - accuracy: 0.6142 - balanced_acc: 0.6116\n",
            "Epoch 54: val_balanced_acc did not improve from 0.42407\n",
            "124/124 [==============================] - 24s 190ms/step - loss: 1.0112 - accuracy: 0.6142 - balanced_acc: 0.6116 - val_loss: 0.8090 - val_accuracy: 0.7461 - val_balanced_acc: 0.4160 - lr: 0.0010\n",
            "Epoch 55/100\n",
            "124/124 [==============================] - ETA: 0s - loss: 0.9958 - accuracy: 0.6234 - balanced_acc: 0.6218\n",
            "Epoch 55: val_balanced_acc did not improve from 0.42407\n",
            "124/124 [==============================] - 23s 189ms/step - loss: 0.9958 - accuracy: 0.6234 - balanced_acc: 0.6218 - val_loss: 0.8223 - val_accuracy: 0.7306 - val_balanced_acc: 0.4084 - lr: 0.0010\n",
            "Epoch 56/100\n",
            "124/124 [==============================] - ETA: 0s - loss: 1.0029 - accuracy: 0.6195 - balanced_acc: 0.6211\n",
            "Epoch 56: val_balanced_acc did not improve from 0.42407\n",
            "124/124 [==============================] - 23s 189ms/step - loss: 1.0029 - accuracy: 0.6195 - balanced_acc: 0.6211 - val_loss: 0.8230 - val_accuracy: 0.7358 - val_balanced_acc: 0.4092 - lr: 0.0010\n",
            "Epoch 57/100\n",
            "124/124 [==============================] - ETA: 0s - loss: 1.0008 - accuracy: 0.6253 - balanced_acc: 0.6284\n",
            "Epoch 57: val_balanced_acc did not improve from 0.42407\n",
            "124/124 [==============================] - 23s 189ms/step - loss: 1.0008 - accuracy: 0.6253 - balanced_acc: 0.6284 - val_loss: 0.7999 - val_accuracy: 0.7461 - val_balanced_acc: 0.4145 - lr: 0.0010\n",
            "Epoch 58/100\n",
            "124/124 [==============================] - ETA: 0s - loss: 0.9822 - accuracy: 0.6324 - balanced_acc: 0.6341\n",
            "Epoch 58: val_balanced_acc did not improve from 0.42407\n",
            "124/124 [==============================] - 23s 188ms/step - loss: 0.9822 - accuracy: 0.6324 - balanced_acc: 0.6341 - val_loss: 0.7909 - val_accuracy: 0.7461 - val_balanced_acc: 0.4160 - lr: 0.0010\n",
            "Epoch 59/100\n",
            "124/124 [==============================] - ETA: 0s - loss: 0.9994 - accuracy: 0.6217 - balanced_acc: 0.6210\n",
            "Epoch 59: ReduceLROnPlateau reducing learning rate to 0.0005000000237487257.\n",
            "\n",
            "Epoch 59: val_balanced_acc did not improve from 0.42407\n",
            "124/124 [==============================] - 23s 189ms/step - loss: 0.9994 - accuracy: 0.6217 - balanced_acc: 0.6210 - val_loss: 0.7946 - val_accuracy: 0.7461 - val_balanced_acc: 0.4160 - lr: 0.0010\n",
            "Epoch 60/100\n",
            "124/124 [==============================] - ETA: 0s - loss: 0.9849 - accuracy: 0.6306 - balanced_acc: 0.6325\n",
            "Epoch 60: val_balanced_acc did not improve from 0.42407\n",
            "124/124 [==============================] - 23s 189ms/step - loss: 0.9849 - accuracy: 0.6306 - balanced_acc: 0.6325 - val_loss: 0.7956 - val_accuracy: 0.7513 - val_balanced_acc: 0.4168 - lr: 5.0000e-04\n",
            "Epoch 61/100\n",
            "124/124 [==============================] - ETA: 0s - loss: 0.9750 - accuracy: 0.6387 - balanced_acc: 0.6372\n",
            "Epoch 61: val_balanced_acc did not improve from 0.42407\n",
            "124/124 [==============================] - 23s 189ms/step - loss: 0.9750 - accuracy: 0.6387 - balanced_acc: 0.6372 - val_loss: 0.7882 - val_accuracy: 0.7461 - val_balanced_acc: 0.4160 - lr: 5.0000e-04\n",
            "Epoch 62/100\n",
            "124/124 [==============================] - ETA: 0s - loss: 0.9823 - accuracy: 0.6333 - balanced_acc: 0.6351\n",
            "Epoch 62: val_balanced_acc did not improve from 0.42407\n",
            "124/124 [==============================] - 23s 189ms/step - loss: 0.9823 - accuracy: 0.6333 - balanced_acc: 0.6351 - val_loss: 0.7749 - val_accuracy: 0.7513 - val_balanced_acc: 0.4168 - lr: 5.0000e-04\n",
            "Epoch 63/100\n",
            "124/124 [==============================] - ETA: 0s - loss: 0.9673 - accuracy: 0.6393 - balanced_acc: 0.6344\n",
            "Epoch 63: val_balanced_acc did not improve from 0.42407\n",
            "124/124 [==============================] - 24s 190ms/step - loss: 0.9673 - accuracy: 0.6393 - balanced_acc: 0.6344 - val_loss: 0.7827 - val_accuracy: 0.7513 - val_balanced_acc: 0.4168 - lr: 5.0000e-04\n",
            "Epoch 64/100\n",
            "124/124 [==============================] - ETA: 0s - loss: 0.9623 - accuracy: 0.6421 - balanced_acc: 0.6434\n",
            "Epoch 64: val_balanced_acc did not improve from 0.42407\n",
            "124/124 [==============================] - 23s 189ms/step - loss: 0.9623 - accuracy: 0.6421 - balanced_acc: 0.6434 - val_loss: 0.7916 - val_accuracy: 0.7409 - val_balanced_acc: 0.4151 - lr: 5.0000e-04\n",
            "Epoch 65/100\n",
            "124/124 [==============================] - ETA: 0s - loss: 0.9801 - accuracy: 0.6337 - balanced_acc: 0.6371\n",
            "Epoch 65: val_balanced_acc did not improve from 0.42407\n",
            "124/124 [==============================] - 23s 189ms/step - loss: 0.9801 - accuracy: 0.6337 - balanced_acc: 0.6371 - val_loss: 0.8009 - val_accuracy: 0.7409 - val_balanced_acc: 0.4151 - lr: 5.0000e-04\n",
            "Epoch 66/100\n",
            "124/124 [==============================] - ETA: 0s - loss: 0.9658 - accuracy: 0.6414 - balanced_acc: 0.6379\n",
            "Epoch 66: val_balanced_acc did not improve from 0.42407\n",
            "124/124 [==============================] - 23s 189ms/step - loss: 0.9658 - accuracy: 0.6414 - balanced_acc: 0.6379 - val_loss: 0.7911 - val_accuracy: 0.7409 - val_balanced_acc: 0.4151 - lr: 5.0000e-04\n",
            "Epoch 67/100\n",
            "124/124 [==============================] - ETA: 0s - loss: 0.9658 - accuracy: 0.6409 - balanced_acc: 0.6405\n",
            "Epoch 67: val_balanced_acc did not improve from 0.42407\n",
            "124/124 [==============================] - 24s 190ms/step - loss: 0.9658 - accuracy: 0.6409 - balanced_acc: 0.6405 - val_loss: 0.7797 - val_accuracy: 0.7461 - val_balanced_acc: 0.4160 - lr: 5.0000e-04\n",
            "Epoch 68/100\n",
            "124/124 [==============================] - ETA: 0s - loss: 0.9734 - accuracy: 0.6355 - balanced_acc: 0.6330\n",
            "Epoch 68: val_balanced_acc did not improve from 0.42407\n",
            "124/124 [==============================] - 24s 190ms/step - loss: 0.9734 - accuracy: 0.6355 - balanced_acc: 0.6330 - val_loss: 0.7956 - val_accuracy: 0.7409 - val_balanced_acc: 0.4151 - lr: 5.0000e-04\n",
            "Epoch 69/100\n",
            "124/124 [==============================] - ETA: 0s - loss: 0.9523 - accuracy: 0.6492 - balanced_acc: 0.6488\n",
            "Epoch 69: val_balanced_acc did not improve from 0.42407\n",
            "124/124 [==============================] - 24s 190ms/step - loss: 0.9523 - accuracy: 0.6492 - balanced_acc: 0.6488 - val_loss: 0.7757 - val_accuracy: 0.7513 - val_balanced_acc: 0.4168 - lr: 5.0000e-04\n"
          ]
        },
        {
          "output_type": "display_data",
          "data": {
            "text/plain": [
              "<Figure size 432x288 with 2 Axes>"
            ],
            "image/png": "[encoded data removed]"
          },
          "metadata": {
            "needs_background": "light"
          }
        }
      ],
      "source": [
        "# define model\n",
        "model = define_base_model('resnet50')\n",
        "#model.summary()\n",
        "hst = model.fit(X_train, y_train, epochs=EPOCHS, batch_size=BATCH_SIZE, validation_data=(X_val, y_val), verbose=1,\n",
        "                    steps_per_epoch=X_train.shape[0] // BATCH_SIZE, \n",
        "                    callbacks=[learning_rate_reduction,early_stopping_monitor, mc])\n",
        "# learning curves\n",
        "summarize_diagnostics(hst)"
      ]
    },
    {
      "cell_type": "code",
      "execution_count": 17,
      "metadata": {
        "id": "vXnW3lmCgln3",
        "colab": {
          "base_uri": "https://localhost:8080/",
          "height": 295
        },
        "outputId": "5a316c52-6839-4029-879f-e7907544d34d"
      },
      "outputs": [
        {
          "output_type": "display_data",
          "data": {
            "text/plain": [
              "<Figure size 432x288 with 1 Axes>"
            ],
            "image/png": "[encoded data removed]"
          },
          "metadata": {
            "needs_background": "light"
          }
        }
      ],
      "source": [
        "# summarize history for accuracy\n",
        "plt.plot(hst.history['accuracy'])\n",
        "plt.plot(hst.history['balanced_acc'])\n",
        "plt.plot(hst.history['val_accuracy'])\n",
        "plt.plot(hst.history['val_balanced_acc'])\n",
        "plt.title('Model accuracy')\n",
        "plt.ylabel('Performance')\n",
        "plt.xlabel('epoch')\n",
        "plt.legend(['train accuracy', 'train balanced acc.', 'val. accuracy', 'val. balanced acc.'], loc='lower right')\n",
        "plt.show()"
      ]
    },
    {
      "cell_type": "code",
      "execution_count": null,
      "metadata": {
        "id": "rwwLiXUSG0IZ"
      },
      "outputs": [],
      "source": [
        "#Training\n",
        "#hst = model.fit(train_data_batches,\n",
        "#                    epochs = EPOCHS, validation_data = valid_data_batches,      \n",
        "                    #steps_per_epoch=X_train.shape[0] // BATCH_SIZE, \n",
        "#                    callbacks=[learning_rate_reduction,early_stopping_monitor, mc])\n"
      ]
    },
    {
      "cell_type": "markdown",
      "metadata": {
        "id": "icgjmi-4UIT-"
      },
      "source": [
        "#Evaluate"
      ]
    },
    {
      "cell_type": "code",
      "execution_count": 18,
      "metadata": {
        "id": "SPz8NH1Oylv9"
      },
      "outputs": [],
      "source": [
        "#save last model\n",
        "model.save(last_model_fpath)"
      ]
    },
    {
      "cell_type": "code",
      "execution_count": 6,
      "metadata": {
        "colab": {
          "base_uri": "https://localhost:8080/"
        },
        "id": "lS3ewyxO_anU",
        "outputId": "641c3cb7-aa9d-4864-c691-2256026aa75a"
      },
      "outputs": [
        {
          "output_type": "stream",
          "name": "stdout",
          "text": [
            "accuracy on training 0.7258426966292135\n",
            "balanced accuracy on training 0.6398066726690882\n",
            "accuracy on validation 0.5647668393782384\n",
            "balanced accuracy on validation 0.3473022912047302\n",
            "Score on val data:  (0.39235323759133284, 0.3473022912047302, 0.30107163768569833, None)\n"
          ]
        },
        {
          "output_type": "stream",
          "name": "stderr",
          "text": [
            "/usr/local/lib/python3.7/dist-packages/sklearn/metrics/_classification.py:1318: UndefinedMetricWarning: Precision and F-score are ill-defined and being set to 0.0 in labels with no predicted samples. Use `zero_division` parameter to control this behavior.\n",
            "  _warn_prf(average, modifier, msg_start, len(result))\n"
          ]
        }
      ],
      "source": [
        "last_model = load_model(last_model_fpath, custom_objects={'balanced_acc' : balanced_acc})\n",
        "y_train_pred = last_model.predict(X_train)\n",
        "y_val_pred = last_model.predict(X_val)\n",
        "\n",
        "#print('accuracy on training',accuracy_score(np.argmax(y_train, axis=1), np.argmax(y_train_pred, axis=1)))\n",
        "print('accuracy on training',accuracy_score(np.argmax(y_train, axis=1), np.argmax(y_train_pred, axis=1)))\n",
        "print('balanced accuracy on training',balanced_accuracy_score(np.argmax(y_train, axis=1), np.argmax(y_train_pred, axis=1)))\n",
        "print('accuracy on validation',accuracy_score(np.argmax(y_val, axis=1), np.argmax(y_val_pred, axis=1)))\n",
        "print('balanced accuracy on validation',balanced_accuracy_score(np.argmax(y_val, axis=1), np.argmax(y_val_pred, axis=1)))\n",
        "print('Score on val data: ',precision_recall_fscore_support(np.argmax(y_val, axis=1), np.argmax(y_val_pred, axis=1), average='macro'))"
      ]
    },
    {
      "cell_type": "code",
      "execution_count": 7,
      "metadata": {
        "id": "W3IyWjdGG4Xq",
        "colab": {
          "base_uri": "https://localhost:8080/"
        },
        "outputId": "ed5c3cb2-0929-4f26-fdf1-0b98bdb32c52"
      },
      "outputs": [
        {
          "output_type": "stream",
          "name": "stdout",
          "text": [
            "accuracy on training 0.6748314606741573\n",
            "balanced accuracy on training 0.5729992138934736\n",
            "accuracy on validation 0.5803108808290155\n",
            "balanced accuracy on validation 0.30966107063668036\n",
            "Score on val data:  (0.36991090305043794, 0.30966107063668036, 0.28223469745981594, None)\n"
          ]
        },
        {
          "output_type": "stream",
          "name": "stderr",
          "text": [
            "/usr/local/lib/python3.7/dist-packages/sklearn/metrics/_classification.py:1318: UndefinedMetricWarning: Precision and F-score are ill-defined and being set to 0.0 in labels with no predicted samples. Use `zero_division` parameter to control this behavior.\n",
            "  _warn_prf(average, modifier, msg_start, len(result))\n"
          ]
        }
      ],
      "source": [
        "best_model = load_model(best_model_fpath, custom_objects={'balanced_acc' : balanced_acc})\n",
        "y_train_pred = best_model.predict(X_train)\n",
        "y_val_pred = best_model.predict(X_val)\n",
        "\n",
        "print('accuracy on training',accuracy_score(np.argmax(y_train, axis=1), np.argmax(y_train_pred, axis=1)))\n",
        "print('balanced accuracy on training',balanced_accuracy_score(np.argmax(y_train, axis=1), np.argmax(y_train_pred, axis=1)))\n",
        "print('accuracy on validation',accuracy_score(np.argmax(y_val, axis=1), np.argmax(y_val_pred, axis=1)))\n",
        "print('balanced accuracy on validation',balanced_accuracy_score(np.argmax(y_val, axis=1), np.argmax(y_val_pred, axis=1)))\n",
        "print('Score on val data: ',precision_recall_fscore_support(np.argmax(y_val, axis=1), np.argmax(y_val_pred, axis=1), average='macro'))"
      ]
    },
    {
      "cell_type": "markdown",
      "metadata": {
        "id": "iDRWiTnO0MGh"
      },
      "source": [
        "#Cut-off"
      ]
    },
    {
      "cell_type": "code",
      "execution_count": null,
      "metadata": {
        "id": "tGnCoIdLyDHS"
      },
      "outputs": [],
      "source": [
        "df_val_pred = pd.DataFrame(y_val_pred, columns = ['AKIEC', 'BCC', 'BKL', 'DF', 'MEL', 'NV', 'VASC'])"
      ]
    },
    {
      "cell_type": "code",
      "execution_count": null,
      "metadata": {
        "id": "QdyCbloQyWTC"
      },
      "outputs": [],
      "source": [
        "numbers = [float(x)/40 for x in range(11)]\n",
        "for i in numbers:\n",
        "    df_val_pred[i]= df_val_pred.MEL.map(lambda x: 1 if x > i else 0)\n",
        "df_val_pred.head()"
      ]
    },
    {
      "cell_type": "code",
      "execution_count": null,
      "metadata": {
        "id": "G4SQsRx73kgk"
      },
      "outputs": [],
      "source": [
        "y_val_true= [1 if x == 4 else 0 for x in np.argmax(y_val, axis=1)]"
      ]
    },
    {
      "cell_type": "code",
      "execution_count": null,
      "metadata": {
        "id": "QcUISWFi0J05"
      },
      "outputs": [],
      "source": [
        "#num = [0.0,0.05,0.1,0.15,0.2,0.25,0.3,0.35,0.4,0.45,0.5]\n",
        "cutoff_df = pd.DataFrame( columns = ['Probability','Accuracy','Sensitivity','Specificity'])\n",
        "for i in numbers:\n",
        "    cm1 = confusion_matrix(y_val_true, df_val_pred[i])\n",
        "    total1=sum(sum(cm1))\n",
        "    Accuracy = (cm1[0,0]+cm1[1,1])/total1\n",
        "    Specificity = cm1[0,0]/(cm1[0,0]+cm1[0,1])\n",
        "    Sensitivity = cm1[1,1]/(cm1[1,0]+cm1[1,1])\n",
        "    cutoff_df.loc[i] =[ i ,Accuracy,Sensitivity,Specificity]"
      ]
    },
    {
      "cell_type": "code",
      "execution_count": null,
      "metadata": {
        "id": "W31LSzov1tCt"
      },
      "outputs": [],
      "source": [
        "cutoff_df[['Accuracy','Sensitivity','Specificity']].plot()\n",
        "\n",
        "plt.show()"
      ]
    },
    {
      "cell_type": "code",
      "execution_count": null,
      "metadata": {
        "id": "P6CIKT94Jqye"
      },
      "outputs": [],
      "source": [
        "i = 0.025\n",
        "cm1 = confusion_matrix(y_val_true, df_val_pred[i])\n",
        "total1=sum(sum(cm1))\n",
        "Accuracy = (cm1[0,0]+cm1[1,1])/total1\n",
        "Specificity = cm1[0,0]/(cm1[0,0]+cm1[0,1])\n",
        "Sensitivity = cm1[1,1]/(cm1[1,0]+cm1[1,1])"
      ]
    },
    {
      "cell_type": "code",
      "execution_count": null,
      "metadata": {
        "id": "3U2tkFebL_VC"
      },
      "outputs": [],
      "source": [
        "print('Accuracy: ', Accuracy)\n",
        "print('Sensitivity: ', Sensitivity)\n",
        "print('Specificity: ', Specificity)"
      ]
    },
    {
      "cell_type": "markdown",
      "metadata": {
        "id": "eaK4zbtoaAaC"
      },
      "source": [
        "#Confusion Metric on Validation Set"
      ]
    },
    {
      "cell_type": "code",
      "execution_count": null,
      "metadata": {
        "id": "YkPOFLehOmFg"
      },
      "outputs": [],
      "source": [
        "#change melanoma flag back to 4\n",
        "df_val_pred[df_val_pred[i] == 1] = 4\n",
        "#decode one-hot y_val_pred while use cut-off melanoma data\n",
        "condition = df_val_pred[i] == 4\n",
        "y_val_pred2 = np.where(condition, df_val_pred[i], np.argmax(y_val_pred, axis=1))"
      ]
    },
    {
      "cell_type": "code",
      "execution_count": null,
      "metadata": {
        "id": "LOVl6dWlTDLo"
      },
      "outputs": [],
      "source": [
        "print('Accuracy: ',accuracy_score(np.argmax(y_val, axis=1), y_val_pred2))\n",
        "print('Balanced accuracy: ',balanced_accuracy_score(np.argmax(y_val, axis=1), y_val_pred2))"
      ]
    },
    {
      "cell_type": "code",
      "execution_count": null,
      "metadata": {
        "id": "mqvYutTKRhR_"
      },
      "outputs": [],
      "source": [
        "#Get the confusion matrix\n",
        "cf_matrix = confusion_matrix(np.argmax(y_val, axis=1), y_val_pred2)\n",
        "print(cf_matrix)"
      ]
    },
    {
      "cell_type": "code",
      "execution_count": null,
      "metadata": {
        "id": "gVtvW3YeaLlC"
      },
      "outputs": [],
      "source": [
        "ax = sns.heatmap(cf_matrix / cf_matrix.sum(axis=1, keepdims=True), annot=True, \n",
        "            cmap='Blues')\n",
        "\n",
        "ax.set_title('Confusion Matrix \\n');\n",
        "ax.set_xlabel('\\nPredicted')\n",
        "ax.set_ylabel('Actual ');\n",
        "\n",
        "## Ticket labels - List must be in alphabetical order\n",
        "ax.xaxis.set_ticklabels(['AKIEC', 'BCC', 'BKL', 'DF', 'MEL', 'NV', 'VASC'])\n",
        "ax.yaxis.set_ticklabels(['AKIEC', 'BCC', 'BKL', 'DF', 'MEL', 'NV', 'VASC'])\n",
        "\n",
        "plt.rcParams[\"figure.figsize\"] = (15,3)\n",
        "\n",
        "## Display the visualization of the Confusion Matrix.\n",
        "plt.xticks(rotation=45, ha='right')\n",
        "plt.yticks(rotation=0, ha='right')\n",
        "plt.show()"
      ]
    },
    {
      "cell_type": "code",
      "execution_count": null,
      "metadata": {
        "id": "Ey-1yjWGeKs7"
      },
      "outputs": [],
      "source": [
        "# ordered count of rows per unique label\n",
        "#labels_count = df_val['Labels'].value_counts().sort_index()\n",
        "\n",
        "#f = plt.figure(figsize=(15, 6))\n",
        "#s = sns.barplot(x=labels_count.index,y=labels_count.values)\n",
        "#s.set_xticklabels(s.get_xticklabels(), rotation = 30)"
      ]
    },
    {
      "cell_type": "markdown",
      "metadata": {
        "id": "3K908bbiYwbS"
      },
      "source": [
        "#Testing"
      ]
    },
    {
      "cell_type": "code",
      "source": [
        "df_test = pd.read_pickle(path+\"isic2018_test.pkl\")\n",
        "X_train = df_test.loc[:, df_test.columns != 'y_train'].to_numpy()\n",
        "X_train = X_train.reshape(-1,224,224,3)"
      ],
      "metadata": {
        "id": "cN98sOWPyT3P"
      },
      "execution_count": null,
      "outputs": []
    },
    {
      "cell_type": "code",
      "execution_count": null,
      "metadata": {
        "id": "NeMY2yvMYxsC"
      },
      "outputs": [],
      "source": [
        "#dir_test = '/content/drive/MyDrive/PHD/Datasets/isic2018/ISIC2018_Task3_Test_Input/'\n",
        "#filepaths = sorted( filter( lambda x: (os.path.isfile(os.path.join(dir_test, x))) and (x.endswith('.jpg')),\n",
        "#                        os.listdir(dir_test) ) )"
      ]
    },
    {
      "cell_type": "code",
      "execution_count": null,
      "metadata": {
        "id": "6ic95mefkpG3"
      },
      "outputs": [],
      "source": [
        "#df_test = pd.DataFrame(filepaths, columns =['image'])\n",
        "#df_test['FilePaths'] = dir_test + df_test['image']\n",
        "#df_test"
      ]
    },
    {
      "cell_type": "code",
      "execution_count": null,
      "metadata": {
        "id": "NBa1TxPuY8ni"
      },
      "outputs": [],
      "source": [
        "#df_test['image_px'] = df_test['FilePaths'].map(lambda x: np.asarray(Image.open(x).resize(IMG_SIZE)))"
      ]
    },
    {
      "cell_type": "code",
      "execution_count": null,
      "metadata": {
        "id": "60LYAT7VsNOZ",
        "colab": {
          "base_uri": "https://localhost:8080/"
        },
        "outputId": "33bd32fe-fac9-4d07-87a9-2cce7336b6dd"
      },
      "outputs": [
        {
          "output_type": "stream",
          "name": "stdout",
          "text": [
            "(1512, 224, 224, 3)\n"
          ]
        }
      ],
      "source": [
        "#X_test = np.asarray(df_test['image_px'].tolist())\n",
        "#print(np.array(X_test).shape)"
      ]
    },
    {
      "cell_type": "code",
      "source": [
        "#df3 = pd.DataFrame(X_test.reshape(X_test.shape[0],-1))\n",
        "#df3.to_pickle(path+\"isic2018_test.pkl\")"
      ],
      "metadata": {
        "id": "JC17MArBxhSW"
      },
      "execution_count": null,
      "outputs": []
    },
    {
      "cell_type": "code",
      "execution_count": null,
      "metadata": {
        "id": "cXnnIIwC4cHE"
      },
      "outputs": [],
      "source": [
        "#preprocess\n",
        "#X_test = preprocess_image_input(X_test)"
      ]
    },
    {
      "cell_type": "markdown",
      "metadata": {
        "id": "FF7ml90JZ8FK"
      },
      "source": [
        "Calculate y_pred from training and testing for analysis"
      ]
    },
    {
      "cell_type": "code",
      "execution_count": null,
      "metadata": {
        "id": "KeDTXdaMLmyU",
        "colab": {
          "base_uri": "https://localhost:8080/"
        },
        "outputId": "a6ea64da-79f0-424f-f913-5b0bd6c66170"
      },
      "outputs": [
        {
          "output_type": "execute_result",
          "data": {
            "text/plain": [
              "(1512, 2048)"
            ]
          },
          "metadata": {},
          "execution_count": 34
        }
      ],
      "source": [
        "X_test = model1.predict(X_test)\n",
        "X_test.shape"
      ]
    },
    {
      "cell_type": "code",
      "execution_count": null,
      "metadata": {
        "id": "dIX0AmEFNv3Y",
        "colab": {
          "base_uri": "https://localhost:8080/"
        },
        "outputId": "3b58601a-b55c-4ef2-b817-f788416ed73c"
      },
      "outputs": [
        {
          "output_type": "stream",
          "name": "stdout",
          "text": [
            "Y_pred2 (1512, 7)\n"
          ]
        }
      ],
      "source": [
        "# predicting\n",
        "#CHANGE THE MODEL IF NECESSARY\n",
        "Y_test2 = model.predict(X_test)\n",
        "#Y_pred2 = model2.predict(X_test)\n",
        "print(\"Y_pred2\", Y_pred2.shape)"
      ]
    },
    {
      "cell_type": "code",
      "execution_count": null,
      "metadata": {
        "id": "7oeArO5CtxGb"
      },
      "outputs": [],
      "source": [
        "df_pred = pd.DataFrame(Y_pred2, columns = ['AKIEC', 'BCC', 'BKL', 'DF', 'MEL', 'NV', 'VASC'])\n",
        "df_pred['image'] = df_test['FilePaths'].map(lambda x: x.replace(dir_test, '').replace('.jpg', ''))\n",
        "df_pred = df_pred[['image', 'MEL', 'NV', 'BCC', 'AKIEC', 'BKL', 'DF', 'VASC']]\n",
        "df_pred.set_index(\"image\", inplace = True)"
      ]
    },
    {
      "cell_type": "code",
      "execution_count": null,
      "metadata": {
        "id": "9ynyd8PjT589"
      },
      "outputs": [],
      "source": [
        "#update MEL data using cut-off value\n",
        "df_pred.MEL[df_pred.MEL > i] = 1"
      ]
    },
    {
      "cell_type": "code",
      "execution_count": null,
      "metadata": {
        "id": "fjRdONoQVMq0"
      },
      "outputs": [],
      "source": [
        "df_pred.loc[df_pred.MEL > i, ['NV', 'BCC', 'AKIEC', 'BKL', 'DF', 'VASC']] = 0"
      ]
    },
    {
      "cell_type": "code",
      "source": [
        "df_pred.head(5)"
      ],
      "metadata": {
        "colab": {
          "base_uri": "https://localhost:8080/",
          "height": 238
        },
        "id": "K4Iv_3s4z0R9",
        "outputId": "a7dca29b-4c36-4693-d619-9bd440e6a18f"
      },
      "execution_count": null,
      "outputs": [
        {
          "output_type": "execute_result",
          "data": {
            "text/plain": [
              "                   MEL        NV       BCC     AKIEC       BKL        DF  \\\n",
              "image                                                                      \n",
              "ISIC_0034524  0.002193  0.930769  0.003427  0.000460  0.036592  0.004333   \n",
              "ISIC_0034525  0.122186  0.828252  0.002661  0.010148  0.009148  0.021819   \n",
              "ISIC_0034526  0.020197  0.003637  0.000938  0.028031  0.947131  0.000066   \n",
              "ISIC_0034527  0.131679  0.808747  0.000006  0.000279  0.059272  0.000017   \n",
              "ISIC_0034528  0.005777  0.840918  0.000002  0.000037  0.151937  0.001316   \n",
              "\n",
              "                      VASC  \n",
              "image                       \n",
              "ISIC_0034524  2.222793e-02  \n",
              "ISIC_0034525  5.786379e-03  \n",
              "ISIC_0034526  1.199605e-08  \n",
              "ISIC_0034527  6.856867e-08  \n",
              "ISIC_0034528  1.348875e-05  "
            ],
            "text/html": [
              "\n",
              "  <div id=\"df-5268f553-0d89-461e-9c87-fc1271d7e6d5\">\n",
              "    <div class=\"colab-df-container\">\n",
              "      <div>\n",
              "<style scoped>\n",
              "    .dataframe tbody tr th:only-of-type {\n",
              "        vertical-align: middle;\n",
              "    }\n",
              "\n",
              "    .dataframe tbody tr th {\n",
              "        vertical-align: top;\n",
              "    }\n",
              "\n",
              "    .dataframe thead th {\n",
              "        text-align: right;\n",
              "    }\n",
              "</style>\n",
              "<table border=\"1\" class=\"dataframe\">\n",
              "  <thead>\n",
              "    <tr style=\"text-align: right;\">\n",
              "      <th></th>\n",
              "      <th>MEL</th>\n",
              "      <th>NV</th>\n",
              "      <th>BCC</th>\n",
              "      <th>AKIEC</th>\n",
              "      <th>BKL</th>\n",
              "      <th>DF</th>\n",
              "      <th>VASC</th>\n",
              "    </tr>\n",
              "    <tr>\n",
              "      <th>image</th>\n",
              "      <th></th>\n",
              "      <th></th>\n",
              "      <th></th>\n",
              "      <th></th>\n",
              "      <th></th>\n",
              "      <th></th>\n",
              "      <th></th>\n",
              "    </tr>\n",
              "  </thead>\n",
              "  <tbody>\n",
              "    <tr>\n",
              "      <th>ISIC_0034524</th>\n",
              "      <td>0.002193</td>\n",
              "      <td>0.930769</td>\n",
              "      <td>0.003427</td>\n",
              "      <td>0.000460</td>\n",
              "      <td>0.036592</td>\n",
              "      <td>0.004333</td>\n",
              "      <td>2.222793e-02</td>\n",
              "    </tr>\n",
              "    <tr>\n",
              "      <th>ISIC_0034525</th>\n",
              "      <td>0.122186</td>\n",
              "      <td>0.828252</td>\n",
              "      <td>0.002661</td>\n",
              "      <td>0.010148</td>\n",
              "      <td>0.009148</td>\n",
              "      <td>0.021819</td>\n",
              "      <td>5.786379e-03</td>\n",
              "    </tr>\n",
              "    <tr>\n",
              "      <th>ISIC_0034526</th>\n",
              "      <td>0.020197</td>\n",
              "      <td>0.003637</td>\n",
              "      <td>0.000938</td>\n",
              "      <td>0.028031</td>\n",
              "      <td>0.947131</td>\n",
              "      <td>0.000066</td>\n",
              "      <td>1.199605e-08</td>\n",
              "    </tr>\n",
              "    <tr>\n",
              "      <th>ISIC_0034527</th>\n",
              "      <td>0.131679</td>\n",
              "      <td>0.808747</td>\n",
              "      <td>0.000006</td>\n",
              "      <td>0.000279</td>\n",
              "      <td>0.059272</td>\n",
              "      <td>0.000017</td>\n",
              "      <td>6.856867e-08</td>\n",
              "    </tr>\n",
              "    <tr>\n",
              "      <th>ISIC_0034528</th>\n",
              "      <td>0.005777</td>\n",
              "      <td>0.840918</td>\n",
              "      <td>0.000002</td>\n",
              "      <td>0.000037</td>\n",
              "      <td>0.151937</td>\n",
              "      <td>0.001316</td>\n",
              "      <td>1.348875e-05</td>\n",
              "    </tr>\n",
              "  </tbody>\n",
              "</table>\n",
              "</div>\n",
              "      <button class=\"colab-df-convert\" onclick=\"convertToInteractive('df-5268f553-0d89-461e-9c87-fc1271d7e6d5')\"\n",
              "              title=\"Convert this dataframe to an interactive table.\"\n",
              "              style=\"display:none;\">\n",
              "        \n",
              "  <svg xmlns=\"http://www.w3.org/2000/svg\" height=\"24px\"viewBox=\"0 0 24 24\"\n",
              "       width=\"24px\">\n",
              "    <path d=\"M0 0h24v24H0V0z\" fill=\"none\"/>\n",
              "    <path d=\"M18.56 5.44l.94 2.06.94-2.06 2.06-.94-2.06-.94-.94-2.06-.94 2.06-2.06.94zm-11 1L8.5 8.5l.94-2.06 2.06-.94-2.06-.94L8.5 2.5l-.94 2.06-2.06.94zm10 10l.94 2.06.94-2.06 2.06-.94-2.06-.94-.94-2.06-.94 2.06-2.06.94z\"/><path d=\"M17.41 7.96l-1.37-1.37c-.4-.4-.92-.59-1.43-.59-.52 0-1.04.2-1.43.59L10.3 9.45l-7.72 7.72c-.78.78-.78 2.05 0 2.83L4 21.41c.39.39.9.59 1.41.59.51 0 1.02-.2 1.41-.59l7.78-7.78 2.81-2.81c.8-.78.8-2.07 0-2.86zM5.41 20L4 18.59l7.72-7.72 1.47 1.35L5.41 20z\"/>\n",
              "  </svg>\n",
              "      </button>\n",
              "      \n",
              "  <style>\n",
              "    .colab-df-container {\n",
              "      display:flex;\n",
              "      flex-wrap:wrap;\n",
              "      gap: 12px;\n",
              "    }\n",
              "\n",
              "    .colab-df-convert {\n",
              "      background-color: #E8F0FE;\n",
              "      border: none;\n",
              "      border-radius: 50%;\n",
              "      cursor: pointer;\n",
              "      display: none;\n",
              "      fill: #1967D2;\n",
              "      height: 32px;\n",
              "      padding: 0 0 0 0;\n",
              "      width: 32px;\n",
              "    }\n",
              "\n",
              "    .colab-df-convert:hover {\n",
              "      background-color: #E2EBFA;\n",
              "      box-shadow: 0px 1px 2px rgba(60, 64, 67, 0.3), 0px 1px 3px 1px rgba(60, 64, 67, 0.15);\n",
              "      fill: #174EA6;\n",
              "    }\n",
              "\n",
              "    [theme=dark] .colab-df-convert {\n",
              "      background-color: #3B4455;\n",
              "      fill: #D2E3FC;\n",
              "    }\n",
              "\n",
              "    [theme=dark] .colab-df-convert:hover {\n",
              "      background-color: #434B5C;\n",
              "      box-shadow: 0px 1px 3px 1px rgba(0, 0, 0, 0.15);\n",
              "      filter: drop-shadow(0px 1px 2px rgba(0, 0, 0, 0.3));\n",
              "      fill: #FFFFFF;\n",
              "    }\n",
              "  </style>\n",
              "\n",
              "      <script>\n",
              "        const buttonEl =\n",
              "          document.querySelector('#df-5268f553-0d89-461e-9c87-fc1271d7e6d5 button.colab-df-convert');\n",
              "        buttonEl.style.display =\n",
              "          google.colab.kernel.accessAllowed ? 'block' : 'none';\n",
              "\n",
              "        async function convertToInteractive(key) {\n",
              "          const element = document.querySelector('#df-5268f553-0d89-461e-9c87-fc1271d7e6d5');\n",
              "          const dataTable =\n",
              "            await google.colab.kernel.invokeFunction('convertToInteractive',\n",
              "                                                     [key], {});\n",
              "          if (!dataTable) return;\n",
              "\n",
              "          const docLinkHtml = 'Like what you see? Visit the ' +\n",
              "            '<a target=\"_blank\" href=https://colab.research.google.com/notebooks/data_table.ipynb>data table notebook</a>'\n",
              "            + ' to learn more about interactive tables.';\n",
              "          element.innerHTML = '';\n",
              "          dataTable['output_type'] = 'display_data';\n",
              "          await google.colab.output.renderOutput(dataTable, element);\n",
              "          const docLink = document.createElement('div');\n",
              "          docLink.innerHTML = docLinkHtml;\n",
              "          element.appendChild(docLink);\n",
              "        }\n",
              "      </script>\n",
              "    </div>\n",
              "  </div>\n",
              "  "
            ]
          },
          "metadata": {},
          "execution_count": 37
        }
      ]
    },
    {
      "cell_type": "code",
      "execution_count": null,
      "metadata": {
        "id": "sOnjc3RJ0e4T"
      },
      "outputs": [],
      "source": [
        "df_pred.to_csv('/content/drive/MyDrive/PHD/Datasets/isic2018/response_Borderline-SMOTE.csv')"
      ]
    },
    {
      "cell_type": "markdown",
      "metadata": {
        "id": "P0MghVs0tsGw"
      },
      "source": [
        "result: 0.656"
      ]
    },
    {
      "cell_type": "markdown",
      "metadata": {
        "id": "UswA0co2y1wl"
      },
      "source": [
        "#Exp"
      ]
    },
    {
      "cell_type": "code",
      "execution_count": null,
      "metadata": {
        "id": "dnqJYIONy34l"
      },
      "outputs": [],
      "source": [
        "input_tensor = Input(shape=(IMAGE_H, IMAGE_W, 3))\n",
        "base_model = ResNet50(input_shape=(224,224,3), weights='imagenet', include_top=False)\n",
        "x = base_model(input_tensor, training=False)\n",
        "x = Attention(2048,2048,7,8)(x)\n",
        "x = GlobalAveragePooling2D()(x)\n",
        "res50 = Model(inputs=input_tensor, outputs=x)"
      ]
    },
    {
      "cell_type": "code",
      "execution_count": null,
      "metadata": {
        "id": "Kcn8hQg3J8yP"
      },
      "outputs": [],
      "source": [
        "#Train i-last layer\n",
        "# summarize feature map shapes\n",
        "for i in range(len(model.layers)):\n",
        "    layer = model.layers[i]\n",
        "    # summarize output shape\n",
        "    print(i, layer.name, layer.output.shape)"
      ]
    },
    {
      "cell_type": "code",
      "execution_count": null,
      "metadata": {
        "id": "UA7Af2Y73FUv"
      },
      "outputs": [],
      "source": [
        "X_train = res50.predict(X_train)\n",
        "X_val = res50.predict(X_val)\n",
        "print(X_train.shape)\n",
        "print(y_train.shape)\n",
        "print(X_val.shape)\n",
        "print(y_val.shape)\n",
        "print('Counter train data: ', Counter(np.argmax(y_train, axis=1)))\n",
        "print('Counter val data: ', Counter(np.argmax(y_val, axis=1)))"
      ]
    },
    {
      "cell_type": "code",
      "execution_count": null,
      "metadata": {
        "id": "krJiAb1m3QNf"
      },
      "outputs": [],
      "source": [
        "X_train, y_train = SMOTE_Data2(X_train, y_train, True)\n",
        "print(X_train.shape)\n",
        "print(y_train.shape)\n",
        "print(X_val.shape)\n",
        "print(y_val.shape)\n",
        "print('Counter train data: ', Counter(np.argmax(y_train, axis=1)))\n",
        "print('Counter val data: ', Counter(np.argmax(y_val, axis=1)))"
      ]
    },
    {
      "cell_type": "markdown",
      "metadata": {
        "id": "LfcFpsBwM0d4"
      },
      "source": [
        "#Attention"
      ]
    },
    {
      "cell_type": "code",
      "execution_count": null,
      "metadata": {
        "id": "C_s6OIGKM26a",
        "colab": {
          "base_uri": "https://localhost:8080/",
          "height": 398
        },
        "outputId": "371bd24a-4bf9-491a-e0ec-78b7eb06e6d9"
      },
      "outputs": [
        {
          "output_type": "error",
          "ename": "AttributeError",
          "evalue": "ignored",
          "traceback": [
            "\u001b[0;31m---------------------------------------------------------------------------\u001b[0m",
            "\u001b[0;31mAttributeError\u001b[0m                            Traceback (most recent call last)",
            "\u001b[0;32m<ipython-input-3-ff488085aaa5>\u001b[0m in \u001b[0;36m<module>\u001b[0;34m\u001b[0m\n\u001b[0;32m----> 1\u001b[0;31m \u001b[0;32mimport\u001b[0m \u001b[0mtensorflow\u001b[0m \u001b[0;32mas\u001b[0m \u001b[0mtf\u001b[0m\u001b[0;34m\u001b[0m\u001b[0;34m\u001b[0m\u001b[0m\n\u001b[0m\u001b[1;32m      2\u001b[0m \u001b[0;32mimport\u001b[0m \u001b[0mtensorflow\u001b[0m\u001b[0;34m.\u001b[0m\u001b[0mkeras\u001b[0m \u001b[0;32mas\u001b[0m \u001b[0mtk\u001b[0m\u001b[0;34m\u001b[0m\u001b[0;34m\u001b[0m\u001b[0m\n\u001b[1;32m      3\u001b[0m \u001b[0;32mfrom\u001b[0m \u001b[0mtensorflow\u001b[0m\u001b[0;34m.\u001b[0m\u001b[0mkeras\u001b[0m\u001b[0;34m.\u001b[0m\u001b[0mlayers\u001b[0m \u001b[0;32mimport\u001b[0m \u001b[0mConv2D\u001b[0m\u001b[0;34m,\u001b[0m\u001b[0mMaxPooling2D\u001b[0m\u001b[0;34m,\u001b[0m\u001b[0mAveragePooling2D\u001b[0m\u001b[0;34m,\u001b[0m\u001b[0mBatchNormalization\u001b[0m\u001b[0;34m,\u001b[0m\u001b[0mAdd\u001b[0m\u001b[0;34m,\u001b[0m\u001b[0mZeroPadding2D\u001b[0m\u001b[0;34m,\u001b[0m\u001b[0mFlatten\u001b[0m\u001b[0;34m,\u001b[0m\u001b[0mDense\u001b[0m\u001b[0;34m,\u001b[0m\u001b[0mInput\u001b[0m\u001b[0;34m,\u001b[0m\u001b[0mLeakyReLU\u001b[0m\u001b[0;34m,\u001b[0m\u001b[0mSoftmax\u001b[0m\u001b[0;34m,\u001b[0m\u001b[0mReLU\u001b[0m\u001b[0;34m\u001b[0m\u001b[0;34m\u001b[0m\u001b[0m\n\u001b[1;32m      4\u001b[0m \u001b[0;32mfrom\u001b[0m \u001b[0mtensorflow\u001b[0m\u001b[0;34m.\u001b[0m\u001b[0mkeras\u001b[0m\u001b[0;34m.\u001b[0m\u001b[0moptimizers\u001b[0m \u001b[0;32mimport\u001b[0m \u001b[0mAdam\u001b[0m\u001b[0;34m\u001b[0m\u001b[0;34m\u001b[0m\u001b[0m\n\u001b[1;32m      5\u001b[0m \u001b[0;32mfrom\u001b[0m \u001b[0mtensorflow\u001b[0m\u001b[0;34m.\u001b[0m\u001b[0mkeras\u001b[0m\u001b[0;34m.\u001b[0m\u001b[0mmodels\u001b[0m \u001b[0;32mimport\u001b[0m \u001b[0mModel\u001b[0m\u001b[0;34m\u001b[0m\u001b[0;34m\u001b[0m\u001b[0m\n",
            "\u001b[0;32m/usr/local/lib/python3.7/dist-packages/tensorflow/__init__.py\u001b[0m in \u001b[0;36m<module>\u001b[0;34m\u001b[0m\n\u001b[1;32m    471\u001b[0m \u001b[0;32mif\u001b[0m \u001b[0mhasattr\u001b[0m\u001b[0;34m(\u001b[0m\u001b[0m_current_module\u001b[0m\u001b[0;34m,\u001b[0m \u001b[0;34m\"keras\"\u001b[0m\u001b[0;34m)\u001b[0m\u001b[0;34m:\u001b[0m\u001b[0;34m\u001b[0m\u001b[0;34m\u001b[0m\u001b[0m\n\u001b[1;32m    472\u001b[0m   \u001b[0;32mtry\u001b[0m\u001b[0;34m:\u001b[0m\u001b[0;34m\u001b[0m\u001b[0;34m\u001b[0m\u001b[0m\n\u001b[0;32m--> 473\u001b[0;31m     \u001b[0mkeras\u001b[0m\u001b[0;34m.\u001b[0m\u001b[0m_load\u001b[0m\u001b[0;34m(\u001b[0m\u001b[0;34m)\u001b[0m\u001b[0;34m\u001b[0m\u001b[0;34m\u001b[0m\u001b[0m\n\u001b[0m\u001b[1;32m    474\u001b[0m   \u001b[0;32mexcept\u001b[0m \u001b[0mImportError\u001b[0m\u001b[0;34m:\u001b[0m\u001b[0;34m\u001b[0m\u001b[0;34m\u001b[0m\u001b[0m\n\u001b[1;32m    475\u001b[0m     \u001b[0;32mpass\u001b[0m\u001b[0;34m\u001b[0m\u001b[0;34m\u001b[0m\u001b[0m\n",
            "\u001b[0;32m/usr/local/lib/python3.7/dist-packages/tensorflow/python/util/lazy_loader.py\u001b[0m in \u001b[0;36m_load\u001b[0;34m(self)\u001b[0m\n\u001b[1;32m     39\u001b[0m     \u001b[0;34m\"\"\"Load the module and insert it into the parent's globals.\"\"\"\u001b[0m\u001b[0;34m\u001b[0m\u001b[0;34m\u001b[0m\u001b[0m\n\u001b[1;32m     40\u001b[0m     \u001b[0;31m# Import the target module and insert it into the parent's namespace\u001b[0m\u001b[0;34m\u001b[0m\u001b[0;34m\u001b[0m\u001b[0;34m\u001b[0m\u001b[0m\n\u001b[0;32m---> 41\u001b[0;31m     \u001b[0mmodule\u001b[0m \u001b[0;34m=\u001b[0m \u001b[0mimportlib\u001b[0m\u001b[0;34m.\u001b[0m\u001b[0mimport_module\u001b[0m\u001b[0;34m(\u001b[0m\u001b[0mself\u001b[0m\u001b[0;34m.\u001b[0m\u001b[0m__name__\u001b[0m\u001b[0;34m)\u001b[0m\u001b[0;34m\u001b[0m\u001b[0;34m\u001b[0m\u001b[0m\n\u001b[0m\u001b[1;32m     42\u001b[0m     \u001b[0mself\u001b[0m\u001b[0;34m.\u001b[0m\u001b[0m_parent_module_globals\u001b[0m\u001b[0;34m[\u001b[0m\u001b[0mself\u001b[0m\u001b[0;34m.\u001b[0m\u001b[0m_local_name\u001b[0m\u001b[0;34m]\u001b[0m \u001b[0;34m=\u001b[0m \u001b[0mmodule\u001b[0m\u001b[0;34m\u001b[0m\u001b[0;34m\u001b[0m\u001b[0m\n\u001b[1;32m     43\u001b[0m \u001b[0;34m\u001b[0m\u001b[0m\n",
            "\u001b[0;32m/usr/lib/python3.7/importlib/__init__.py\u001b[0m in \u001b[0;36mimport_module\u001b[0;34m(name, package)\u001b[0m\n\u001b[1;32m    125\u001b[0m                 \u001b[0;32mbreak\u001b[0m\u001b[0;34m\u001b[0m\u001b[0;34m\u001b[0m\u001b[0m\n\u001b[1;32m    126\u001b[0m             \u001b[0mlevel\u001b[0m \u001b[0;34m+=\u001b[0m \u001b[0;36m1\u001b[0m\u001b[0;34m\u001b[0m\u001b[0;34m\u001b[0m\u001b[0m\n\u001b[0;32m--> 127\u001b[0;31m     \u001b[0;32mreturn\u001b[0m \u001b[0m_bootstrap\u001b[0m\u001b[0;34m.\u001b[0m\u001b[0m_gcd_import\u001b[0m\u001b[0;34m(\u001b[0m\u001b[0mname\u001b[0m\u001b[0;34m[\u001b[0m\u001b[0mlevel\u001b[0m\u001b[0;34m:\u001b[0m\u001b[0;34m]\u001b[0m\u001b[0;34m,\u001b[0m \u001b[0mpackage\u001b[0m\u001b[0;34m,\u001b[0m \u001b[0mlevel\u001b[0m\u001b[0;34m)\u001b[0m\u001b[0;34m\u001b[0m\u001b[0;34m\u001b[0m\u001b[0m\n\u001b[0m\u001b[1;32m    128\u001b[0m \u001b[0;34m\u001b[0m\u001b[0m\n\u001b[1;32m    129\u001b[0m \u001b[0;34m\u001b[0m\u001b[0m\n",
            "\u001b[0;32m/usr/local/lib/python3.7/dist-packages/keras/__init__.py\u001b[0m in \u001b[0;36m<module>\u001b[0;34m\u001b[0m\n\u001b[1;32m     23\u001b[0m \u001b[0;34m\u001b[0m\u001b[0m\n\u001b[1;32m     24\u001b[0m \u001b[0;31m# See b/110718070#comment18 for more details about this import.\u001b[0m\u001b[0;34m\u001b[0m\u001b[0;34m\u001b[0m\u001b[0;34m\u001b[0m\u001b[0m\n\u001b[0;32m---> 25\u001b[0;31m \u001b[0;32mfrom\u001b[0m \u001b[0mkeras\u001b[0m \u001b[0;32mimport\u001b[0m \u001b[0mmodels\u001b[0m\u001b[0;34m\u001b[0m\u001b[0;34m\u001b[0m\u001b[0m\n\u001b[0m\u001b[1;32m     26\u001b[0m \u001b[0;34m\u001b[0m\u001b[0m\n\u001b[1;32m     27\u001b[0m \u001b[0;32mfrom\u001b[0m \u001b[0mkeras\u001b[0m\u001b[0;34m.\u001b[0m\u001b[0mengine\u001b[0m\u001b[0;34m.\u001b[0m\u001b[0minput_layer\u001b[0m \u001b[0;32mimport\u001b[0m \u001b[0mInput\u001b[0m\u001b[0;34m\u001b[0m\u001b[0;34m\u001b[0m\u001b[0m\n",
            "\u001b[0;32m/usr/local/lib/python3.7/dist-packages/keras/models.py\u001b[0m in \u001b[0;36m<module>\u001b[0;34m\u001b[0m\n\u001b[1;32m     18\u001b[0m \u001b[0;32mimport\u001b[0m \u001b[0mtensorflow\u001b[0m\u001b[0;34m.\u001b[0m\u001b[0mcompat\u001b[0m\u001b[0;34m.\u001b[0m\u001b[0mv2\u001b[0m \u001b[0;32mas\u001b[0m \u001b[0mtf\u001b[0m\u001b[0;34m\u001b[0m\u001b[0;34m\u001b[0m\u001b[0m\n\u001b[1;32m     19\u001b[0m \u001b[0;32mfrom\u001b[0m \u001b[0mkeras\u001b[0m \u001b[0;32mimport\u001b[0m \u001b[0mbackend\u001b[0m\u001b[0;34m\u001b[0m\u001b[0;34m\u001b[0m\u001b[0m\n\u001b[0;32m---> 20\u001b[0;31m \u001b[0;32mfrom\u001b[0m \u001b[0mkeras\u001b[0m \u001b[0;32mimport\u001b[0m \u001b[0mmetrics\u001b[0m \u001b[0;32mas\u001b[0m \u001b[0mmetrics_module\u001b[0m\u001b[0;34m\u001b[0m\u001b[0;34m\u001b[0m\u001b[0m\n\u001b[0m\u001b[1;32m     21\u001b[0m \u001b[0;32mfrom\u001b[0m \u001b[0mkeras\u001b[0m \u001b[0;32mimport\u001b[0m \u001b[0moptimizer_v1\u001b[0m\u001b[0;34m\u001b[0m\u001b[0;34m\u001b[0m\u001b[0m\n\u001b[1;32m     22\u001b[0m \u001b[0;32mfrom\u001b[0m \u001b[0mkeras\u001b[0m\u001b[0;34m.\u001b[0m\u001b[0mengine\u001b[0m \u001b[0;32mimport\u001b[0m \u001b[0mfunctional\u001b[0m\u001b[0;34m\u001b[0m\u001b[0;34m\u001b[0m\u001b[0m\n",
            "\u001b[0;32m/usr/local/lib/python3.7/dist-packages/keras/metrics.py\u001b[0m in \u001b[0;36m<module>\u001b[0;34m\u001b[0m\n\u001b[1;32m     22\u001b[0m \u001b[0;32mimport\u001b[0m \u001b[0mwarnings\u001b[0m\u001b[0;34m\u001b[0m\u001b[0;34m\u001b[0m\u001b[0m\n\u001b[1;32m     23\u001b[0m \u001b[0;34m\u001b[0m\u001b[0m\n\u001b[0;32m---> 24\u001b[0;31m \u001b[0;32mfrom\u001b[0m \u001b[0mkeras\u001b[0m \u001b[0;32mimport\u001b[0m \u001b[0mactivations\u001b[0m\u001b[0;34m\u001b[0m\u001b[0;34m\u001b[0m\u001b[0m\n\u001b[0m\u001b[1;32m     25\u001b[0m \u001b[0;32mfrom\u001b[0m \u001b[0mkeras\u001b[0m \u001b[0;32mimport\u001b[0m \u001b[0mbackend\u001b[0m\u001b[0;34m\u001b[0m\u001b[0;34m\u001b[0m\u001b[0m\n\u001b[1;32m     26\u001b[0m \u001b[0;32mfrom\u001b[0m \u001b[0mkeras\u001b[0m\u001b[0;34m.\u001b[0m\u001b[0mengine\u001b[0m \u001b[0;32mimport\u001b[0m \u001b[0mbase_layer\u001b[0m\u001b[0;34m\u001b[0m\u001b[0;34m\u001b[0m\u001b[0m\n",
            "\u001b[0;32m/usr/local/lib/python3.7/dist-packages/keras/activations.py\u001b[0m in \u001b[0;36m<module>\u001b[0;34m\u001b[0m\n\u001b[1;32m     18\u001b[0m \u001b[0;34m\u001b[0m\u001b[0m\n\u001b[1;32m     19\u001b[0m \u001b[0;32mfrom\u001b[0m \u001b[0mkeras\u001b[0m \u001b[0;32mimport\u001b[0m \u001b[0mbackend\u001b[0m\u001b[0;34m\u001b[0m\u001b[0;34m\u001b[0m\u001b[0m\n\u001b[0;32m---> 20\u001b[0;31m \u001b[0;32mfrom\u001b[0m \u001b[0mkeras\u001b[0m\u001b[0;34m.\u001b[0m\u001b[0mlayers\u001b[0m \u001b[0;32mimport\u001b[0m \u001b[0madvanced_activations\u001b[0m\u001b[0;34m\u001b[0m\u001b[0;34m\u001b[0m\u001b[0m\n\u001b[0m\u001b[1;32m     21\u001b[0m \u001b[0;32mfrom\u001b[0m \u001b[0mkeras\u001b[0m\u001b[0;34m.\u001b[0m\u001b[0mutils\u001b[0m\u001b[0;34m.\u001b[0m\u001b[0mgeneric_utils\u001b[0m \u001b[0;32mimport\u001b[0m \u001b[0mdeserialize_keras_object\u001b[0m\u001b[0;34m\u001b[0m\u001b[0;34m\u001b[0m\u001b[0m\n\u001b[1;32m     22\u001b[0m \u001b[0;32mfrom\u001b[0m \u001b[0mkeras\u001b[0m\u001b[0;34m.\u001b[0m\u001b[0mutils\u001b[0m\u001b[0;34m.\u001b[0m\u001b[0mgeneric_utils\u001b[0m \u001b[0;32mimport\u001b[0m \u001b[0mserialize_keras_object\u001b[0m\u001b[0;34m\u001b[0m\u001b[0;34m\u001b[0m\u001b[0m\n",
            "\u001b[0;32m/usr/local/lib/python3.7/dist-packages/keras/layers/__init__.py\u001b[0m in \u001b[0;36m<module>\u001b[0;34m\u001b[0m\n\u001b[1;32m     25\u001b[0m \u001b[0;32mfrom\u001b[0m \u001b[0mkeras\u001b[0m\u001b[0;34m.\u001b[0m\u001b[0mengine\u001b[0m\u001b[0;34m.\u001b[0m\u001b[0minput_spec\u001b[0m \u001b[0;32mimport\u001b[0m \u001b[0mInputSpec\u001b[0m\u001b[0;34m\u001b[0m\u001b[0;34m\u001b[0m\u001b[0m\n\u001b[1;32m     26\u001b[0m \u001b[0;32mfrom\u001b[0m \u001b[0mkeras\u001b[0m\u001b[0;34m.\u001b[0m\u001b[0mengine\u001b[0m\u001b[0;34m.\u001b[0m\u001b[0mbase_layer\u001b[0m \u001b[0;32mimport\u001b[0m \u001b[0mLayer\u001b[0m\u001b[0;34m\u001b[0m\u001b[0;34m\u001b[0m\u001b[0m\n\u001b[0;32m---> 27\u001b[0;31m \u001b[0;32mfrom\u001b[0m \u001b[0mkeras\u001b[0m\u001b[0;34m.\u001b[0m\u001b[0mengine\u001b[0m\u001b[0;34m.\u001b[0m\u001b[0mbase_preprocessing_layer\u001b[0m \u001b[0;32mimport\u001b[0m \u001b[0mPreprocessingLayer\u001b[0m\u001b[0;34m\u001b[0m\u001b[0;34m\u001b[0m\u001b[0m\n\u001b[0m\u001b[1;32m     28\u001b[0m \u001b[0;34m\u001b[0m\u001b[0m\n\u001b[1;32m     29\u001b[0m \u001b[0;31m# Image preprocessing layers.\u001b[0m\u001b[0;34m\u001b[0m\u001b[0;34m\u001b[0m\u001b[0;34m\u001b[0m\u001b[0m\n",
            "\u001b[0;32m/usr/local/lib/python3.7/dist-packages/keras/engine/base_preprocessing_layer.py\u001b[0m in \u001b[0;36m<module>\u001b[0;34m\u001b[0m\n\u001b[1;32m     17\u001b[0m \u001b[0;32mimport\u001b[0m \u001b[0mabc\u001b[0m\u001b[0;34m\u001b[0m\u001b[0;34m\u001b[0m\u001b[0m\n\u001b[1;32m     18\u001b[0m \u001b[0;34m\u001b[0m\u001b[0m\n\u001b[0;32m---> 19\u001b[0;31m \u001b[0;32mfrom\u001b[0m \u001b[0mkeras\u001b[0m\u001b[0;34m.\u001b[0m\u001b[0mengine\u001b[0m \u001b[0;32mimport\u001b[0m \u001b[0mdata_adapter\u001b[0m\u001b[0;34m\u001b[0m\u001b[0;34m\u001b[0m\u001b[0m\n\u001b[0m\u001b[1;32m     20\u001b[0m \u001b[0;32mfrom\u001b[0m \u001b[0mkeras\u001b[0m\u001b[0;34m.\u001b[0m\u001b[0mengine\u001b[0m\u001b[0;34m.\u001b[0m\u001b[0mbase_layer\u001b[0m \u001b[0;32mimport\u001b[0m \u001b[0mLayer\u001b[0m\u001b[0;34m\u001b[0m\u001b[0;34m\u001b[0m\u001b[0m\n\u001b[1;32m     21\u001b[0m \u001b[0;32mfrom\u001b[0m \u001b[0mkeras\u001b[0m\u001b[0;34m.\u001b[0m\u001b[0mutils\u001b[0m \u001b[0;32mimport\u001b[0m \u001b[0mversion_utils\u001b[0m\u001b[0;34m\u001b[0m\u001b[0;34m\u001b[0m\u001b[0m\n",
            "\u001b[0;32m/usr/local/lib/python3.7/dist-packages/keras/engine/data_adapter.py\u001b[0m in \u001b[0;36m<module>\u001b[0;34m\u001b[0m\n\u001b[1;32m     36\u001b[0m \u001b[0;34m\u001b[0m\u001b[0m\n\u001b[1;32m     37\u001b[0m \u001b[0;32mtry\u001b[0m\u001b[0;34m:\u001b[0m\u001b[0;34m\u001b[0m\u001b[0;34m\u001b[0m\u001b[0m\n\u001b[0;32m---> 38\u001b[0;31m   \u001b[0;32mimport\u001b[0m \u001b[0mpandas\u001b[0m \u001b[0;32mas\u001b[0m \u001b[0mpd\u001b[0m  \u001b[0;31m# pylint: disable=g-import-not-at-top\u001b[0m\u001b[0;34m\u001b[0m\u001b[0;34m\u001b[0m\u001b[0m\n\u001b[0m\u001b[1;32m     39\u001b[0m \u001b[0;32mexcept\u001b[0m \u001b[0mImportError\u001b[0m\u001b[0;34m:\u001b[0m\u001b[0;34m\u001b[0m\u001b[0;34m\u001b[0m\u001b[0m\n\u001b[1;32m     40\u001b[0m   \u001b[0mpd\u001b[0m \u001b[0;34m=\u001b[0m \u001b[0;32mNone\u001b[0m\u001b[0;34m\u001b[0m\u001b[0;34m\u001b[0m\u001b[0m\n",
            "\u001b[0;32m/usr/local/lib/python3.7/dist-packages/pandas/__init__.py\u001b[0m in \u001b[0;36m<module>\u001b[0;34m\u001b[0m\n\u001b[1;32m    177\u001b[0m \u001b[0;34m\u001b[0m\u001b[0m\n\u001b[1;32m    178\u001b[0m \u001b[0;32mfrom\u001b[0m \u001b[0mpandas\u001b[0m\u001b[0;34m.\u001b[0m\u001b[0mutil\u001b[0m\u001b[0;34m.\u001b[0m\u001b[0m_tester\u001b[0m \u001b[0;32mimport\u001b[0m \u001b[0mtest\u001b[0m\u001b[0;34m\u001b[0m\u001b[0;34m\u001b[0m\u001b[0m\n\u001b[0;32m--> 179\u001b[0;31m \u001b[0;32mimport\u001b[0m \u001b[0mpandas\u001b[0m\u001b[0;34m.\u001b[0m\u001b[0mtesting\u001b[0m\u001b[0;34m\u001b[0m\u001b[0;34m\u001b[0m\u001b[0m\n\u001b[0m\u001b[1;32m    180\u001b[0m \u001b[0;32mimport\u001b[0m \u001b[0mpandas\u001b[0m\u001b[0;34m.\u001b[0m\u001b[0marrays\u001b[0m\u001b[0;34m\u001b[0m\u001b[0;34m\u001b[0m\u001b[0m\n\u001b[1;32m    181\u001b[0m \u001b[0;34m\u001b[0m\u001b[0m\n",
            "\u001b[0;32m/usr/local/lib/python3.7/dist-packages/pandas/testing.py\u001b[0m in \u001b[0;36m<module>\u001b[0;34m\u001b[0m\n\u001b[1;32m      4\u001b[0m \u001b[0;34m\u001b[0m\u001b[0m\n\u001b[1;32m      5\u001b[0m \u001b[0;34m\u001b[0m\u001b[0m\n\u001b[0;32m----> 6\u001b[0;31m from pandas._testing import (\n\u001b[0m\u001b[1;32m      7\u001b[0m     \u001b[0massert_extension_array_equal\u001b[0m\u001b[0;34m,\u001b[0m\u001b[0;34m\u001b[0m\u001b[0;34m\u001b[0m\u001b[0m\n\u001b[1;32m      8\u001b[0m     \u001b[0massert_frame_equal\u001b[0m\u001b[0;34m,\u001b[0m\u001b[0;34m\u001b[0m\u001b[0;34m\u001b[0m\u001b[0m\n",
            "\u001b[0;32m/usr/local/lib/python3.7/dist-packages/pandas/_testing/__init__.py\u001b[0m in \u001b[0;36m<module>\u001b[0;34m\u001b[0m\n\u001b[1;32m    946\u001b[0m \u001b[0;34m\u001b[0m\u001b[0m\n\u001b[1;32m    947\u001b[0m \u001b[0;34m\u001b[0m\u001b[0m\n\u001b[0;32m--> 948\u001b[0;31m \u001b[0mcython_table\u001b[0m \u001b[0;34m=\u001b[0m \u001b[0mpd\u001b[0m\u001b[0;34m.\u001b[0m\u001b[0mcore\u001b[0m\u001b[0;34m.\u001b[0m\u001b[0mcommon\u001b[0m\u001b[0;34m.\u001b[0m\u001b[0m_cython_table\u001b[0m\u001b[0;34m.\u001b[0m\u001b[0mitems\u001b[0m\u001b[0;34m(\u001b[0m\u001b[0;34m)\u001b[0m\u001b[0;34m\u001b[0m\u001b[0;34m\u001b[0m\u001b[0m\n\u001b[0m\u001b[1;32m    949\u001b[0m \u001b[0;34m\u001b[0m\u001b[0m\n\u001b[1;32m    950\u001b[0m \u001b[0;34m\u001b[0m\u001b[0m\n",
            "\u001b[0;31mAttributeError\u001b[0m: module 'pandas' has no attribute 'core'"
          ]
        }
      ],
      "source": [
        "import tensorflow as tf\n",
        "import tensorflow.keras as tk\n",
        "from tensorflow.keras.layers import Conv2D,MaxPooling2D,AveragePooling2D,BatchNormalization,Add,ZeroPadding2D,Flatten,Dense,Input,LeakyReLU,Softmax,ReLU\n",
        "from tensorflow.keras.optimizers import Adam\n",
        "from tensorflow.keras.models import Model\n",
        "import numpy as np\n",
        "import pickle\n",
        "import numpy as np\n",
        "from PIL import Image\n",
        "\n",
        "class Attention(tk.layers.Layer):\n",
        "    \n",
        "    def __init__(self,input_channels,output_channel,kernel_size,groups):\n",
        "        super().__init__()\n",
        "        self.input_channels = input_channels\n",
        "        self.output_channel = output_channel    \n",
        "        self.kernel_size = kernel_size\n",
        "        self.stride = 1\n",
        "        self.groups = groups\n",
        "\n",
        "        assert output_channel % groups == 0\n",
        "        \n",
        "        self.rel_h = tk.backend.variable(lambda : tk.backend.truncated_normal((1,1,kernel_size,1,output_channel//2),stddev = 0.1)) \n",
        "        #output_channels//2 is the number of channels on which the relative position will be considered,1 denotes the number of those filters and the one after that too and (kernel_size,1) denotes the size of that filter\n",
        "        self.rel_w = tk.backend.variable(lambda : tk.backend.truncated_normal((1,1,1,kernel_size,output_channel//2),stddev = 0.1)) \n",
        "\n",
        "        self.key_weights = Conv2D(self.output_channel,kernel_size = 1,strides = self.stride)\n",
        "        self.query_weights = Conv2D(self.output_channel,kernel_size = 1,strides = self.stride)\n",
        "        self.value_weights = Conv2D(self.output_channel,kernel_size = 1,strides = self.stride)\n",
        "\n",
        "    def call(self,x):\n",
        "        \n",
        "        batch,height,width,channels = x.shape\n",
        "        x_padded = ZeroPadding2D(padding=(self.kernel_size//2,self.kernel_size//2))(x)\n",
        "        query = self.query_weights(x)\n",
        "        value = self.value_weights(x_padded)\n",
        "        key = self.key_weights(x_padded)\n",
        "        #key,query and value will have the shape of (batch,height,width,depth)\n",
        "        keys = tf.image.extract_patches(images = key,sizes = [1,self.kernel_size,self.kernel_size,1],strides = [1,self.stride,self.stride,1],rates = [1,1,1,1], padding = \"VALID\")\n",
        "        value = tf.image.extract_patches(images = value,sizes = [1,self.kernel_size,self.kernel_size,1],strides = [1,self.stride,self.stride,1],rates = [1,1,1,1], padding = \"VALID\")\n",
        "        no_of_kernels = key.shape[-2] - self.kernel_size + 1\n",
        "        keys = tf.reshape(keys,shape = (-1,no_of_kernels, no_of_kernels,self.kernel_size,self.kernel_size,self.output_channel))\n",
        "        key_split_h,key_split_w = tf.split(keys,num_or_size_splits = 2,axis = -1)\n",
        "        key_with_rel = tk.layers.concatenate([key_split_h + self.rel_h,key_split_w + self.rel_w],axis = -1) \n",
        "        \n",
        "        #reshaping the query and key\n",
        "        key_with_rel = tf.reshape(key_with_rel,(-1,self.groups,no_of_kernels,no_of_kernels,self.kernel_size*self.kernel_size,self.output_channel//self.groups))\n",
        "        query  = tf.reshape(query,(-1,self.groups,no_of_kernels,no_of_kernels,1,self.output_channel//self.groups))        \n",
        "        value = tf.reshape(value,(-1,self.groups,no_of_kernels,no_of_kernels,self.kernel_size*self.kernel_size,self.output_channel//self.groups))\n",
        "        \n",
        "        #multiplication  of key and query\n",
        "        #assert key_with_rel.shape == query.shape        \n",
        "        key_prod_query = query*key_with_rel\n",
        "        \n",
        "        # Now the function is passed through the softmax and is multiplied with the values\n",
        "        s = Softmax(axis = -2)(key_prod_query)\n",
        "        y = tf.einsum('bnchwk,bnchwk->bnchk',s,value)\n",
        "        y = tf.reshape(y,(-1,height,width,self.output_channel))\n",
        "        return y\n",
        "\n",
        "    def get_config(self):\n",
        "        config = super().get_config().copy()\n",
        "        config.update({\n",
        "            \"input_channels\": self.input_channels, \n",
        "            \"output_channel\": self.output_channel, \n",
        "            \"kernel_size\": self.kernel_size, \n",
        "            \"stride\": self.stride, \n",
        "            \"groups\": self.groups, \n",
        "            \"rel_h\": self.rel_h, \n",
        "            \"rel_w\": self.rel_w, \n",
        "            \"key_weights\": self.key_weights, \n",
        "            \"query_weights\": self.query_weights, \n",
        "            \"value_weights\": self.value_weights\n",
        "        })\n",
        "        return config\n"
      ]
    },
    {
      "cell_type": "markdown",
      "metadata": {
        "id": "kE8Ziq-BlEP4"
      },
      "source": [
        "#Oversampling on feature map level"
      ]
    },
    {
      "cell_type": "code",
      "execution_count": 6,
      "metadata": {
        "id": "Lm05Zet_B5am",
        "colab": {
          "base_uri": "https://localhost:8080/"
        },
        "outputId": "75eed14b-4b95-42ee-de5a-2d467d83cd14"
      },
      "outputs": [
        {
          "output_type": "stream",
          "name": "stdout",
          "text": [
            "0 input_1 [(None, 224, 224, 3)] False\n",
            "1 conv1_pad (None, 230, 230, 3) False\n",
            "2 conv1_conv (None, 112, 112, 64) False\n",
            "3 conv1_bn (None, 112, 112, 64) False\n",
            "4 conv1_relu (None, 112, 112, 64) False\n",
            "5 pool1_pad (None, 114, 114, 64) False\n",
            "6 pool1_pool (None, 56, 56, 64) False\n",
            "7 conv2_block1_1_conv (None, 56, 56, 64) False\n",
            "8 conv2_block1_1_bn (None, 56, 56, 64) False\n",
            "9 conv2_block1_1_relu (None, 56, 56, 64) False\n",
            "10 conv2_block1_2_conv (None, 56, 56, 64) False\n",
            "11 conv2_block1_2_bn (None, 56, 56, 64) False\n",
            "12 conv2_block1_2_relu (None, 56, 56, 64) False\n",
            "13 conv2_block1_0_conv (None, 56, 56, 256) False\n",
            "14 conv2_block1_3_conv (None, 56, 56, 256) False\n",
            "15 conv2_block1_0_bn (None, 56, 56, 256) False\n",
            "16 conv2_block1_3_bn (None, 56, 56, 256) False\n",
            "17 conv2_block1_add (None, 56, 56, 256) False\n",
            "18 conv2_block1_out (None, 56, 56, 256) False\n",
            "19 conv2_block2_1_conv (None, 56, 56, 64) False\n",
            "20 conv2_block2_1_bn (None, 56, 56, 64) False\n",
            "21 conv2_block2_1_relu (None, 56, 56, 64) False\n",
            "22 conv2_block2_2_conv (None, 56, 56, 64) False\n",
            "23 conv2_block2_2_bn (None, 56, 56, 64) False\n",
            "24 conv2_block2_2_relu (None, 56, 56, 64) False\n",
            "25 conv2_block2_3_conv (None, 56, 56, 256) False\n",
            "26 conv2_block2_3_bn (None, 56, 56, 256) False\n",
            "27 conv2_block2_add (None, 56, 56, 256) False\n",
            "28 conv2_block2_out (None, 56, 56, 256) False\n",
            "29 conv2_block3_1_conv (None, 56, 56, 64) False\n",
            "30 conv2_block3_1_bn (None, 56, 56, 64) False\n",
            "31 conv2_block3_1_relu (None, 56, 56, 64) False\n",
            "32 conv2_block3_2_conv (None, 56, 56, 64) False\n",
            "33 conv2_block3_2_bn (None, 56, 56, 64) False\n",
            "34 conv2_block3_2_relu (None, 56, 56, 64) False\n",
            "35 conv2_block3_3_conv (None, 56, 56, 256) False\n",
            "36 conv2_block3_3_bn (None, 56, 56, 256) False\n",
            "37 conv2_block3_add (None, 56, 56, 256) False\n",
            "38 conv2_block3_out (None, 56, 56, 256) False\n",
            "39 conv3_block1_1_conv (None, 28, 28, 128) False\n",
            "40 conv3_block1_1_bn (None, 28, 28, 128) False\n",
            "41 conv3_block1_1_relu (None, 28, 28, 128) False\n",
            "42 conv3_block1_2_conv (None, 28, 28, 128) False\n",
            "43 conv3_block1_2_bn (None, 28, 28, 128) False\n",
            "44 conv3_block1_2_relu (None, 28, 28, 128) False\n",
            "45 conv3_block1_0_conv (None, 28, 28, 512) False\n",
            "46 conv3_block1_3_conv (None, 28, 28, 512) False\n",
            "47 conv3_block1_0_bn (None, 28, 28, 512) False\n",
            "48 conv3_block1_3_bn (None, 28, 28, 512) False\n",
            "49 conv3_block1_add (None, 28, 28, 512) False\n",
            "50 conv3_block1_out (None, 28, 28, 512) False\n",
            "51 conv3_block2_1_conv (None, 28, 28, 128) False\n",
            "52 conv3_block2_1_bn (None, 28, 28, 128) False\n",
            "53 conv3_block2_1_relu (None, 28, 28, 128) False\n",
            "54 conv3_block2_2_conv (None, 28, 28, 128) False\n",
            "55 conv3_block2_2_bn (None, 28, 28, 128) False\n",
            "56 conv3_block2_2_relu (None, 28, 28, 128) False\n",
            "57 conv3_block2_3_conv (None, 28, 28, 512) False\n",
            "58 conv3_block2_3_bn (None, 28, 28, 512) False\n",
            "59 conv3_block2_add (None, 28, 28, 512) False\n",
            "60 conv3_block2_out (None, 28, 28, 512) False\n",
            "61 conv3_block3_1_conv (None, 28, 28, 128) False\n",
            "62 conv3_block3_1_bn (None, 28, 28, 128) False\n",
            "63 conv3_block3_1_relu (None, 28, 28, 128) False\n",
            "64 conv3_block3_2_conv (None, 28, 28, 128) False\n",
            "65 conv3_block3_2_bn (None, 28, 28, 128) False\n",
            "66 conv3_block3_2_relu (None, 28, 28, 128) False\n",
            "67 conv3_block3_3_conv (None, 28, 28, 512) False\n",
            "68 conv3_block3_3_bn (None, 28, 28, 512) False\n",
            "69 conv3_block3_add (None, 28, 28, 512) False\n",
            "70 conv3_block3_out (None, 28, 28, 512) False\n",
            "71 conv3_block4_1_conv (None, 28, 28, 128) False\n",
            "72 conv3_block4_1_bn (None, 28, 28, 128) False\n",
            "73 conv3_block4_1_relu (None, 28, 28, 128) False\n",
            "74 conv3_block4_2_conv (None, 28, 28, 128) False\n",
            "75 conv3_block4_2_bn (None, 28, 28, 128) False\n",
            "76 conv3_block4_2_relu (None, 28, 28, 128) False\n",
            "77 conv3_block4_3_conv (None, 28, 28, 512) False\n",
            "78 conv3_block4_3_bn (None, 28, 28, 512) False\n",
            "79 conv3_block4_add (None, 28, 28, 512) False\n",
            "80 conv3_block4_out (None, 28, 28, 512) False\n",
            "81 conv4_block1_1_conv (None, 14, 14, 256) False\n",
            "82 conv4_block1_1_bn (None, 14, 14, 256) False\n",
            "83 conv4_block1_1_relu (None, 14, 14, 256) False\n",
            "84 conv4_block1_2_conv (None, 14, 14, 256) False\n",
            "85 conv4_block1_2_bn (None, 14, 14, 256) False\n",
            "86 conv4_block1_2_relu (None, 14, 14, 256) False\n",
            "87 conv4_block1_0_conv (None, 14, 14, 1024) False\n",
            "88 conv4_block1_3_conv (None, 14, 14, 1024) False\n",
            "89 conv4_block1_0_bn (None, 14, 14, 1024) False\n",
            "90 conv4_block1_3_bn (None, 14, 14, 1024) False\n",
            "91 conv4_block1_add (None, 14, 14, 1024) False\n",
            "92 conv4_block1_out (None, 14, 14, 1024) False\n",
            "93 conv4_block2_1_conv (None, 14, 14, 256) False\n",
            "94 conv4_block2_1_bn (None, 14, 14, 256) False\n",
            "95 conv4_block2_1_relu (None, 14, 14, 256) False\n",
            "96 conv4_block2_2_conv (None, 14, 14, 256) False\n",
            "97 conv4_block2_2_bn (None, 14, 14, 256) False\n",
            "98 conv4_block2_2_relu (None, 14, 14, 256) False\n",
            "99 conv4_block2_3_conv (None, 14, 14, 1024) False\n",
            "100 conv4_block2_3_bn (None, 14, 14, 1024) False\n",
            "101 conv4_block2_add (None, 14, 14, 1024) False\n",
            "102 conv4_block2_out (None, 14, 14, 1024) False\n",
            "103 conv4_block3_1_conv (None, 14, 14, 256) False\n",
            "104 conv4_block3_1_bn (None, 14, 14, 256) False\n",
            "105 conv4_block3_1_relu (None, 14, 14, 256) False\n",
            "106 conv4_block3_2_conv (None, 14, 14, 256) False\n",
            "107 conv4_block3_2_bn (None, 14, 14, 256) False\n",
            "108 conv4_block3_2_relu (None, 14, 14, 256) False\n",
            "109 conv4_block3_3_conv (None, 14, 14, 1024) False\n",
            "110 conv4_block3_3_bn (None, 14, 14, 1024) False\n",
            "111 conv4_block3_add (None, 14, 14, 1024) False\n",
            "112 conv4_block3_out (None, 14, 14, 1024) False\n",
            "113 conv4_block4_1_conv (None, 14, 14, 256) False\n",
            "114 conv4_block4_1_bn (None, 14, 14, 256) False\n",
            "115 conv4_block4_1_relu (None, 14, 14, 256) False\n",
            "116 conv4_block4_2_conv (None, 14, 14, 256) False\n",
            "117 conv4_block4_2_bn (None, 14, 14, 256) False\n",
            "118 conv4_block4_2_relu (None, 14, 14, 256) False\n",
            "119 conv4_block4_3_conv (None, 14, 14, 1024) False\n",
            "120 conv4_block4_3_bn (None, 14, 14, 1024) False\n",
            "121 conv4_block4_add (None, 14, 14, 1024) False\n",
            "122 conv4_block4_out (None, 14, 14, 1024) False\n",
            "123 conv4_block5_1_conv (None, 14, 14, 256) False\n",
            "124 conv4_block5_1_bn (None, 14, 14, 256) False\n",
            "125 conv4_block5_1_relu (None, 14, 14, 256) False\n",
            "126 conv4_block5_2_conv (None, 14, 14, 256) False\n",
            "127 conv4_block5_2_bn (None, 14, 14, 256) False\n",
            "128 conv4_block5_2_relu (None, 14, 14, 256) False\n",
            "129 conv4_block5_3_conv (None, 14, 14, 1024) False\n",
            "130 conv4_block5_3_bn (None, 14, 14, 1024) False\n",
            "131 conv4_block5_add (None, 14, 14, 1024) False\n",
            "132 conv4_block5_out (None, 14, 14, 1024) False\n",
            "133 conv4_block6_1_conv (None, 14, 14, 256) False\n",
            "134 conv4_block6_1_bn (None, 14, 14, 256) False\n",
            "135 conv4_block6_1_relu (None, 14, 14, 256) False\n",
            "136 conv4_block6_2_conv (None, 14, 14, 256) False\n",
            "137 conv4_block6_2_bn (None, 14, 14, 256) False\n",
            "138 conv4_block6_2_relu (None, 14, 14, 256) False\n",
            "139 conv4_block6_3_conv (None, 14, 14, 1024) False\n",
            "140 conv4_block6_3_bn (None, 14, 14, 1024) False\n",
            "141 conv4_block6_add (None, 14, 14, 1024) False\n",
            "142 conv4_block6_out (None, 14, 14, 1024) False\n",
            "143 conv5_block1_1_conv (None, 7, 7, 512) False\n",
            "144 conv5_block1_1_bn (None, 7, 7, 512) False\n",
            "145 conv5_block1_1_relu (None, 7, 7, 512) False\n",
            "146 conv5_block1_2_conv (None, 7, 7, 512) False\n",
            "147 conv5_block1_2_bn (None, 7, 7, 512) False\n",
            "148 conv5_block1_2_relu (None, 7, 7, 512) False\n",
            "149 conv5_block1_0_conv (None, 7, 7, 2048) False\n",
            "150 conv5_block1_3_conv (None, 7, 7, 2048) False\n",
            "151 conv5_block1_0_bn (None, 7, 7, 2048) False\n",
            "152 conv5_block1_3_bn (None, 7, 7, 2048) False\n",
            "153 conv5_block1_add (None, 7, 7, 2048) False\n",
            "154 conv5_block1_out (None, 7, 7, 2048) False\n",
            "155 conv5_block2_1_conv (None, 7, 7, 512) False\n",
            "156 conv5_block2_1_bn (None, 7, 7, 512) False\n",
            "157 conv5_block2_1_relu (None, 7, 7, 512) False\n",
            "158 conv5_block2_2_conv (None, 7, 7, 512) False\n",
            "159 conv5_block2_2_bn (None, 7, 7, 512) False\n",
            "160 conv5_block2_2_relu (None, 7, 7, 512) False\n",
            "161 conv5_block2_3_conv (None, 7, 7, 2048) False\n",
            "162 conv5_block2_3_bn (None, 7, 7, 2048) False\n",
            "163 conv5_block2_add (None, 7, 7, 2048) False\n",
            "164 conv5_block2_out (None, 7, 7, 2048) False\n",
            "165 conv5_block3_1_conv (None, 7, 7, 512) False\n",
            "166 conv5_block3_1_bn (None, 7, 7, 512) False\n",
            "167 conv5_block3_1_relu (None, 7, 7, 512) False\n",
            "168 conv5_block3_2_conv (None, 7, 7, 512) False\n",
            "169 conv5_block3_2_bn (None, 7, 7, 512) False\n",
            "170 conv5_block3_2_relu (None, 7, 7, 512) False\n",
            "171 conv5_block3_3_conv (None, 7, 7, 2048) False\n",
            "172 conv5_block3_3_bn (None, 7, 7, 2048) False\n",
            "173 conv5_block3_add (None, 7, 7, 2048) False\n",
            "174 conv5_block3_out (None, 7, 7, 2048) False\n",
            "175 global_average_pooling2d (None, 2048) True\n",
            "176 dense (None, 1024) True\n",
            "177 dense_1 (None, 512) True\n",
            "178 dense_2 (None, 7) True\n"
          ]
        }
      ],
      "source": [
        "for i in range(len(model.layers)):\n",
        "  layer = model.layers[i]\n",
        "  print(i, layer.name, layer.output_shape, layer.trainable)"
      ]
    },
    {
      "cell_type": "code",
      "execution_count": 25,
      "metadata": {
        "id": "KqeSic6NmLsR"
      },
      "outputs": [],
      "source": [
        "# redefine model to output right after the first hidden layer\n",
        "end = 175\n",
        "model1 = Model(inputs=model.inputs, outputs=model.layers[end].output)"
      ]
    },
    {
      "cell_type": "code",
      "execution_count": 26,
      "metadata": {
        "id": "ZVHYG9Rwm28i"
      },
      "outputs": [],
      "source": [
        "# get feature map for first hidden layer\n",
        "X_train_fm = model1.predict(X_train)\n",
        "X_val_fm = model1.predict(X_val)"
      ]
    },
    {
      "cell_type": "code",
      "execution_count": 27,
      "metadata": {
        "id": "19hK7aQNeAQo",
        "colab": {
          "base_uri": "https://localhost:8080/"
        },
        "outputId": "33fedc37-e71b-4f98-bfeb-86062722efbe"
      },
      "outputs": [
        {
          "output_type": "stream",
          "name": "stdout",
          "text": [
            "(14077, 2048)\n",
            "(14077, 7)\n",
            "(193, 2048)\n",
            "(193, 7)\n",
            "Counter train data:  Counter({5: 2011, 4: 2011, 2: 2011, 3: 2011, 0: 2011, 1: 2011, 6: 2011})\n",
            "Counter val data:  Counter({5: 123, 2: 22, 4: 21, 1: 15, 0: 8, 6: 3, 3: 1})\n"
          ]
        }
      ],
      "source": [
        "X_train_fm_ov, y_train_ov = SMOTE_Data2(X_train_fm, y_train, True, 5)\n",
        "print(X_train_fm_ov.shape)\n",
        "print(y_train_ov.shape)\n",
        "print(X_val_fm.shape)\n",
        "print(y_val.shape)\n",
        "print('Counter train data: ', Counter(np.argmax(y_train_ov, axis=1)))\n",
        "print('Counter val data: ', Counter(np.argmax(y_val, axis=1)))"
      ]
    },
    {
      "cell_type": "code",
      "execution_count": 28,
      "metadata": {
        "id": "5qP4iyYcnAYa"
      },
      "outputs": [],
      "source": [
        "model2 = Model(inputs=model.layers[end+1].input, outputs=model.layers[len(model.layers)-1].output)"
      ]
    },
    {
      "cell_type": "code",
      "execution_count": 29,
      "metadata": {
        "id": "Pzdjs0WbvDB0",
        "colab": {
          "base_uri": "https://localhost:8080/"
        },
        "outputId": "56efbf52-7ec8-46d8-f3b1-64dc0d7c35db"
      },
      "outputs": [
        {
          "output_type": "stream",
          "name": "stdout",
          "text": [
            "Epoch 1/100\n",
            "207/219 [===========================>..] - ETA: 0s - loss: 0.6973 - accuracy: 0.7847 - balanced_acc: 0.7836\n",
            "Epoch 1: val_balanced_acc improved from -inf to 0.37572, saving model to /content/drive/MyDrive/PHD/Model/Feature-Map-Ov/best_model_no.h5\n",
            "219/219 [==============================] - 1s 5ms/step - loss: 0.6959 - accuracy: 0.7850 - balanced_acc: 0.7842 - val_loss: 0.8254 - val_accuracy: 0.7047 - val_balanced_acc: 0.3757 - lr: 0.0010\n",
            "Epoch 2/100\n",
            "219/219 [==============================] - ETA: 0s - loss: 0.6496 - accuracy: 0.7956 - balanced_acc: 0.7942\n",
            "Epoch 2: val_balanced_acc improved from 0.37572 to 0.38198, saving model to /content/drive/MyDrive/PHD/Model/Feature-Map-Ov/best_model_no.h5\n",
            "219/219 [==============================] - 1s 5ms/step - loss: 0.6496 - accuracy: 0.7956 - balanced_acc: 0.7942 - val_loss: 0.7612 - val_accuracy: 0.7254 - val_balanced_acc: 0.3820 - lr: 0.0010\n",
            "Epoch 3/100\n",
            "212/219 [============================>.] - ETA: 0s - loss: 0.6218 - accuracy: 0.8041 - balanced_acc: 0.8042\n",
            "Epoch 3: val_balanced_acc improved from 0.38198 to 0.41372, saving model to /content/drive/MyDrive/PHD/Model/Feature-Map-Ov/best_model_no.h5\n",
            "219/219 [==============================] - 1s 4ms/step - loss: 0.6198 - accuracy: 0.8053 - balanced_acc: 0.8052 - val_loss: 0.7932 - val_accuracy: 0.7150 - val_balanced_acc: 0.4137 - lr: 0.0010\n",
            "Epoch 4/100\n",
            "215/219 [============================>.] - ETA: 0s - loss: 0.5914 - accuracy: 0.8144 - balanced_acc: 0.8142\n",
            "Epoch 4: val_balanced_acc did not improve from 0.41372\n",
            "219/219 [==============================] - 1s 4ms/step - loss: 0.5913 - accuracy: 0.8145 - balanced_acc: 0.8144 - val_loss: 0.8079 - val_accuracy: 0.7098 - val_balanced_acc: 0.3867 - lr: 0.0010\n",
            "Epoch 5/100\n",
            "212/219 [============================>.] - ETA: 0s - loss: 0.5685 - accuracy: 0.8212 - balanced_acc: 0.8195\n",
            "Epoch 5: val_balanced_acc did not improve from 0.41372\n",
            "219/219 [==============================] - 1s 4ms/step - loss: 0.5692 - accuracy: 0.8206 - balanced_acc: 0.8199 - val_loss: 0.7986 - val_accuracy: 0.7047 - val_balanced_acc: 0.4116 - lr: 0.0010\n",
            "Epoch 6/100\n",
            "208/219 [===========================>..] - ETA: 0s - loss: 0.5512 - accuracy: 0.8264 - balanced_acc: 0.8265\n",
            "Epoch 6: val_balanced_acc did not improve from 0.41372\n",
            "219/219 [==============================] - 1s 4ms/step - loss: 0.5500 - accuracy: 0.8260 - balanced_acc: 0.8260 - val_loss: 0.7969 - val_accuracy: 0.7047 - val_balanced_acc: 0.4072 - lr: 0.0010\n",
            "Epoch 7/100\n",
            "214/219 [============================>.] - ETA: 0s - loss: 0.5341 - accuracy: 0.8313 - balanced_acc: 0.8321\n",
            "Epoch 7: val_balanced_acc did not improve from 0.41372\n",
            "219/219 [==============================] - 1s 4ms/step - loss: 0.5329 - accuracy: 0.8319 - balanced_acc: 0.8325 - val_loss: 0.7780 - val_accuracy: 0.7254 - val_balanced_acc: 0.3876 - lr: 0.0010\n",
            "Epoch 8/100\n",
            "210/219 [===========================>..] - ETA: 0s - loss: 0.5172 - accuracy: 0.8382 - balanced_acc: 0.8368\n",
            "Epoch 8: val_balanced_acc improved from 0.41372 to 0.42867, saving model to /content/drive/MyDrive/PHD/Model/Feature-Map-Ov/best_model_no.h5\n",
            "219/219 [==============================] - 1s 4ms/step - loss: 0.5155 - accuracy: 0.8386 - balanced_acc: 0.8373 - val_loss: 0.7827 - val_accuracy: 0.7306 - val_balanced_acc: 0.4287 - lr: 0.0010\n",
            "Epoch 9/100\n",
            "212/219 [============================>.] - ETA: 0s - loss: 0.5029 - accuracy: 0.8437 - balanced_acc: 0.8444\n",
            "Epoch 9: val_balanced_acc improved from 0.42867 to 0.44567, saving model to /content/drive/MyDrive/PHD/Model/Feature-Map-Ov/best_model_no.h5\n",
            "219/219 [==============================] - 1s 4ms/step - loss: 0.5023 - accuracy: 0.8440 - balanced_acc: 0.8449 - val_loss: 0.7690 - val_accuracy: 0.7254 - val_balanced_acc: 0.4457 - lr: 0.0010\n",
            "Epoch 10/100\n",
            "210/219 [===========================>..] - ETA: 0s - loss: 0.4912 - accuracy: 0.8455 - balanced_acc: 0.8451\n",
            "Epoch 10: val_balanced_acc did not improve from 0.44567\n",
            "219/219 [==============================] - 1s 4ms/step - loss: 0.4894 - accuracy: 0.8466 - balanced_acc: 0.8464 - val_loss: 0.7818 - val_accuracy: 0.7098 - val_balanced_acc: 0.4036 - lr: 0.0010\n",
            "Epoch 11/100\n",
            "209/219 [===========================>..] - ETA: 0s - loss: 0.4762 - accuracy: 0.8518 - balanced_acc: 0.8519\n",
            "Epoch 11: val_balanced_acc did not improve from 0.44567\n",
            "219/219 [==============================] - 1s 4ms/step - loss: 0.4761 - accuracy: 0.8514 - balanced_acc: 0.8515 - val_loss: 0.7326 - val_accuracy: 0.7409 - val_balanced_acc: 0.4188 - lr: 0.0010\n",
            "Epoch 12/100\n",
            "209/219 [===========================>..] - ETA: 0s - loss: 0.4648 - accuracy: 0.8564 - balanced_acc: 0.8559\n",
            "Epoch 12: val_balanced_acc did not improve from 0.44567\n",
            "219/219 [==============================] - 1s 4ms/step - loss: 0.4651 - accuracy: 0.8561 - balanced_acc: 0.8554 - val_loss: 0.7470 - val_accuracy: 0.7202 - val_balanced_acc: 0.4400 - lr: 0.0010\n",
            "Epoch 13/100\n",
            "209/219 [===========================>..] - ETA: 0s - loss: 0.4527 - accuracy: 0.8623 - balanced_acc: 0.8639\n",
            "Epoch 13: val_balanced_acc did not improve from 0.44567\n",
            "219/219 [==============================] - 1s 4ms/step - loss: 0.4530 - accuracy: 0.8618 - balanced_acc: 0.8633 - val_loss: 0.7834 - val_accuracy: 0.7047 - val_balanced_acc: 0.4376 - lr: 0.0010\n",
            "Epoch 14/100\n",
            "213/219 [============================>.] - ETA: 0s - loss: 0.4437 - accuracy: 0.8629 - balanced_acc: 0.8610\n",
            "Epoch 14: val_balanced_acc did not improve from 0.44567\n",
            "219/219 [==============================] - 1s 4ms/step - loss: 0.4440 - accuracy: 0.8627 - balanced_acc: 0.8610 - val_loss: 0.7693 - val_accuracy: 0.7306 - val_balanced_acc: 0.4243 - lr: 0.0010\n",
            "Epoch 15/100\n",
            "210/219 [===========================>..] - ETA: 0s - loss: 0.4343 - accuracy: 0.8681 - balanced_acc: 0.8681\n",
            "Epoch 15: val_balanced_acc did not improve from 0.44567\n",
            "219/219 [==============================] - 1s 4ms/step - loss: 0.4325 - accuracy: 0.8693 - balanced_acc: 0.8690 - val_loss: 0.7468 - val_accuracy: 0.7254 - val_balanced_acc: 0.4144 - lr: 0.0010\n",
            "Epoch 16/100\n",
            "211/219 [===========================>..] - ETA: 0s - loss: 0.4201 - accuracy: 0.8713 - balanced_acc: 0.8701\n",
            "Epoch 16: val_balanced_acc improved from 0.44567 to 0.44867, saving model to /content/drive/MyDrive/PHD/Model/Feature-Map-Ov/best_model_no.h5\n",
            "219/219 [==============================] - 1s 4ms/step - loss: 0.4205 - accuracy: 0.8713 - balanced_acc: 0.8704 - val_loss: 0.7388 - val_accuracy: 0.7306 - val_balanced_acc: 0.4487 - lr: 0.0010\n",
            "Epoch 17/100\n",
            "208/219 [===========================>..] - ETA: 0s - loss: 0.4144 - accuracy: 0.8747 - balanced_acc: 0.8751\n",
            "Epoch 17: val_balanced_acc did not improve from 0.44867\n",
            "219/219 [==============================] - 1s 4ms/step - loss: 0.4150 - accuracy: 0.8745 - balanced_acc: 0.8743 - val_loss: 0.7454 - val_accuracy: 0.7047 - val_balanced_acc: 0.4345 - lr: 0.0010\n",
            "Epoch 18/100\n",
            "211/219 [===========================>..] - ETA: 0s - loss: 0.4060 - accuracy: 0.8757 - balanced_acc: 0.8760\n",
            "Epoch 18: val_balanced_acc did not improve from 0.44867\n",
            "219/219 [==============================] - 1s 4ms/step - loss: 0.4066 - accuracy: 0.8753 - balanced_acc: 0.8759 - val_loss: 0.7257 - val_accuracy: 0.7306 - val_balanced_acc: 0.4438 - lr: 0.0010\n",
            "Epoch 19/100\n",
            "206/219 [===========================>..] - ETA: 0s - loss: 0.3968 - accuracy: 0.8801 - balanced_acc: 0.8786\n",
            "Epoch 19: val_balanced_acc improved from 0.44867 to 0.46028, saving model to /content/drive/MyDrive/PHD/Model/Feature-Map-Ov/best_model_no.h5\n",
            "219/219 [==============================] - 1s 4ms/step - loss: 0.3969 - accuracy: 0.8805 - balanced_acc: 0.8791 - val_loss: 0.7586 - val_accuracy: 0.7358 - val_balanced_acc: 0.4603 - lr: 0.0010\n",
            "Epoch 20/100\n",
            "210/219 [===========================>..] - ETA: 0s - loss: 0.3943 - accuracy: 0.8791 - balanced_acc: 0.8772\n",
            "Epoch 20: val_balanced_acc did not improve from 0.46028\n",
            "219/219 [==============================] - 1s 4ms/step - loss: 0.3927 - accuracy: 0.8798 - balanced_acc: 0.8775 - val_loss: 0.7332 - val_accuracy: 0.7306 - val_balanced_acc: 0.4200 - lr: 0.0010\n",
            "Epoch 21/100\n",
            "210/219 [===========================>..] - ETA: 0s - loss: 0.3807 - accuracy: 0.8858 - balanced_acc: 0.8860\n",
            "Epoch 21: val_balanced_acc did not improve from 0.46028\n",
            "219/219 [==============================] - 1s 4ms/step - loss: 0.3794 - accuracy: 0.8865 - balanced_acc: 0.8867 - val_loss: 0.7196 - val_accuracy: 0.7202 - val_balanced_acc: 0.4352 - lr: 0.0010\n",
            "Epoch 22/100\n",
            "209/219 [===========================>..] - ETA: 0s - loss: 0.3749 - accuracy: 0.8881 - balanced_acc: 0.8868\n",
            "Epoch 22: val_balanced_acc did not improve from 0.46028\n",
            "219/219 [==============================] - 1s 4ms/step - loss: 0.3748 - accuracy: 0.8880 - balanced_acc: 0.8872 - val_loss: 0.7266 - val_accuracy: 0.7254 - val_balanced_acc: 0.4409 - lr: 0.0010\n",
            "Epoch 23/100\n",
            "205/219 [===========================>..] - ETA: 0s - loss: 0.3732 - accuracy: 0.8864 - balanced_acc: 0.8886\n",
            "Epoch 23: val_balanced_acc did not improve from 0.46028\n",
            "219/219 [==============================] - 1s 4ms/step - loss: 0.3711 - accuracy: 0.8882 - balanced_acc: 0.8902 - val_loss: 0.7075 - val_accuracy: 0.7202 - val_balanced_acc: 0.4256 - lr: 0.0010\n",
            "Epoch 24/100\n",
            "208/219 [===========================>..] - ETA: 0s - loss: 0.3581 - accuracy: 0.8932 - balanced_acc: 0.8922\n",
            "Epoch 24: val_balanced_acc did not improve from 0.46028\n",
            "219/219 [==============================] - 1s 4ms/step - loss: 0.3578 - accuracy: 0.8935 - balanced_acc: 0.8924 - val_loss: 0.7143 - val_accuracy: 0.7358 - val_balanced_acc: 0.4196 - lr: 0.0010\n",
            "Epoch 25/100\n",
            "211/219 [===========================>..] - ETA: 0s - loss: 0.3554 - accuracy: 0.8933 - balanced_acc: 0.8942\n",
            "Epoch 25: val_balanced_acc did not improve from 0.46028\n",
            "219/219 [==============================] - 1s 4ms/step - loss: 0.3562 - accuracy: 0.8929 - balanced_acc: 0.8940 - val_loss: 0.7219 - val_accuracy: 0.7098 - val_balanced_acc: 0.4264 - lr: 0.0010\n",
            "Epoch 26/100\n",
            "217/219 [============================>.] - ETA: 0s - loss: 0.3468 - accuracy: 0.8965 - balanced_acc: 0.8970\n",
            "Epoch 26: val_balanced_acc did not improve from 0.46028\n",
            "219/219 [==============================] - 1s 4ms/step - loss: 0.3467 - accuracy: 0.8966 - balanced_acc: 0.8970 - val_loss: 0.7223 - val_accuracy: 0.7358 - val_balanced_acc: 0.4189 - lr: 0.0010\n",
            "Epoch 27/100\n",
            "214/219 [============================>.] - ETA: 0s - loss: 0.3433 - accuracy: 0.8972 - balanced_acc: 0.8979\n",
            "Epoch 27: val_balanced_acc did not improve from 0.46028\n",
            "219/219 [==============================] - 1s 4ms/step - loss: 0.3427 - accuracy: 0.8972 - balanced_acc: 0.8978 - val_loss: 0.7190 - val_accuracy: 0.7306 - val_balanced_acc: 0.4153 - lr: 0.0010\n",
            "Epoch 28/100\n",
            "210/219 [===========================>..] - ETA: 0s - loss: 0.3359 - accuracy: 0.9039 - balanced_acc: 0.9048\n",
            "Epoch 28: val_balanced_acc did not improve from 0.46028\n",
            "219/219 [==============================] - 1s 4ms/step - loss: 0.3355 - accuracy: 0.9037 - balanced_acc: 0.9049 - val_loss: 0.7158 - val_accuracy: 0.7409 - val_balanced_acc: 0.4198 - lr: 0.0010\n",
            "Epoch 29/100\n",
            "210/219 [===========================>..] - ETA: 0s - loss: 0.3289 - accuracy: 0.9045 - balanced_acc: 0.9045\n",
            "Epoch 29: val_balanced_acc did not improve from 0.46028\n",
            "219/219 [==============================] - 1s 4ms/step - loss: 0.3298 - accuracy: 0.9042 - balanced_acc: 0.9045 - val_loss: 0.7206 - val_accuracy: 0.7409 - val_balanced_acc: 0.4578 - lr: 0.0010\n",
            "Epoch 30/100\n",
            "211/219 [===========================>..] - ETA: 0s - loss: 0.3255 - accuracy: 0.9061 - balanced_acc: 0.9080\n",
            "Epoch 30: val_balanced_acc did not improve from 0.46028\n",
            "219/219 [==============================] - 1s 4ms/step - loss: 0.3263 - accuracy: 0.9057 - balanced_acc: 0.9072 - val_loss: 0.6625 - val_accuracy: 0.7565 - val_balanced_acc: 0.4107 - lr: 0.0010\n",
            "Epoch 31/100\n",
            "207/219 [===========================>..] - ETA: 0s - loss: 0.3210 - accuracy: 0.9074 - balanced_acc: 0.9092\n",
            "Epoch 31: val_balanced_acc did not improve from 0.46028\n",
            "219/219 [==============================] - 1s 4ms/step - loss: 0.3211 - accuracy: 0.9067 - balanced_acc: 0.9080 - val_loss: 0.6877 - val_accuracy: 0.7513 - val_balanced_acc: 0.4529 - lr: 0.0010\n",
            "Epoch 32/100\n",
            "212/219 [============================>.] - ETA: 0s - loss: 0.3134 - accuracy: 0.9098 - balanced_acc: 0.9115\n",
            "Epoch 32: val_balanced_acc did not improve from 0.46028\n",
            "219/219 [==============================] - 1s 4ms/step - loss: 0.3133 - accuracy: 0.9097 - balanced_acc: 0.9113 - val_loss: 0.6998 - val_accuracy: 0.7513 - val_balanced_acc: 0.4278 - lr: 0.0010\n",
            "Epoch 33/100\n",
            "206/219 [===========================>..] - ETA: 0s - loss: 0.3085 - accuracy: 0.9118 - balanced_acc: 0.9143\n",
            "Epoch 33: val_balanced_acc did not improve from 0.46028\n",
            "219/219 [==============================] - 1s 4ms/step - loss: 0.3083 - accuracy: 0.9117 - balanced_acc: 0.9138 - val_loss: 0.6809 - val_accuracy: 0.7565 - val_balanced_acc: 0.4222 - lr: 0.0010\n",
            "Epoch 34/100\n",
            "212/219 [============================>.] - ETA: 0s - loss: 0.3005 - accuracy: 0.9137 - balanced_acc: 0.9130\n",
            "Epoch 34: val_balanced_acc did not improve from 0.46028\n",
            "219/219 [==============================] - 1s 4ms/step - loss: 0.3009 - accuracy: 0.9139 - balanced_acc: 0.9132 - val_loss: 0.7228 - val_accuracy: 0.7513 - val_balanced_acc: 0.4278 - lr: 0.0010\n",
            "Epoch 35/100\n",
            "209/219 [===========================>..] - ETA: 0s - loss: 0.2998 - accuracy: 0.9152 - balanced_acc: 0.9171\n",
            "Epoch 35: val_balanced_acc did not improve from 0.46028\n",
            "219/219 [==============================] - 1s 4ms/step - loss: 0.2997 - accuracy: 0.9155 - balanced_acc: 0.9170 - val_loss: 0.7578 - val_accuracy: 0.7150 - val_balanced_acc: 0.4121 - lr: 0.0010\n",
            "Epoch 36/100\n",
            "206/219 [===========================>..] - ETA: 0s - loss: 0.2968 - accuracy: 0.9178 - balanced_acc: 0.9182\n",
            "Epoch 36: val_balanced_acc did not improve from 0.46028\n",
            "219/219 [==============================] - 1s 4ms/step - loss: 0.2966 - accuracy: 0.9176 - balanced_acc: 0.9177 - val_loss: 0.6938 - val_accuracy: 0.7461 - val_balanced_acc: 0.4535 - lr: 0.0010\n",
            "Epoch 37/100\n",
            "210/219 [===========================>..] - ETA: 0s - loss: 0.2889 - accuracy: 0.9194 - balanced_acc: 0.9195\n",
            "Epoch 37: val_balanced_acc did not improve from 0.46028\n",
            "219/219 [==============================] - 1s 4ms/step - loss: 0.2882 - accuracy: 0.9199 - balanced_acc: 0.9201 - val_loss: 0.6736 - val_accuracy: 0.7565 - val_balanced_acc: 0.4260 - lr: 0.0010\n",
            "Epoch 38/100\n",
            "207/219 [===========================>..] - ETA: 0s - loss: 0.2830 - accuracy: 0.9210 - balanced_acc: 0.9198\n",
            "Epoch 38: val_balanced_acc did not improve from 0.46028\n",
            "219/219 [==============================] - 1s 4ms/step - loss: 0.2819 - accuracy: 0.9210 - balanced_acc: 0.9199 - val_loss: 0.7180 - val_accuracy: 0.7202 - val_balanced_acc: 0.4409 - lr: 0.0010\n",
            "Epoch 39/100\n",
            "209/219 [===========================>..] - ETA: 0s - loss: 0.2814 - accuracy: 0.9209 - balanced_acc: 0.9211\n",
            "Epoch 39: ReduceLROnPlateau reducing learning rate to 0.0005000000237487257.\n",
            "\n",
            "Epoch 39: val_balanced_acc did not improve from 0.46028\n",
            "219/219 [==============================] - 1s 4ms/step - loss: 0.2817 - accuracy: 0.9206 - balanced_acc: 0.9208 - val_loss: 0.7305 - val_accuracy: 0.7254 - val_balanced_acc: 0.4499 - lr: 0.0010\n",
            "Epoch 40/100\n",
            "209/219 [===========================>..] - ETA: 0s - loss: 0.2763 - accuracy: 0.9234 - balanced_acc: 0.9236\n",
            "Epoch 40: val_balanced_acc did not improve from 0.46028\n",
            "219/219 [==============================] - 1s 4ms/step - loss: 0.2765 - accuracy: 0.9236 - balanced_acc: 0.9239 - val_loss: 0.7086 - val_accuracy: 0.7358 - val_balanced_acc: 0.4359 - lr: 5.0000e-04\n",
            "Epoch 41/100\n",
            "219/219 [==============================] - ETA: 0s - loss: 0.2765 - accuracy: 0.9251 - balanced_acc: 0.9252\n",
            "Epoch 41: val_balanced_acc did not improve from 0.46028\n",
            "219/219 [==============================] - 1s 4ms/step - loss: 0.2765 - accuracy: 0.9251 - balanced_acc: 0.9252 - val_loss: 0.7109 - val_accuracy: 0.7461 - val_balanced_acc: 0.4535 - lr: 5.0000e-04\n",
            "Epoch 42/100\n",
            "211/219 [===========================>..] - ETA: 0s - loss: 0.2667 - accuracy: 0.9267 - balanced_acc: 0.9263\n",
            "Epoch 42: val_balanced_acc did not improve from 0.46028\n",
            "219/219 [==============================] - 1s 4ms/step - loss: 0.2671 - accuracy: 0.9265 - balanced_acc: 0.9264 - val_loss: 0.6948 - val_accuracy: 0.7565 - val_balanced_acc: 0.4251 - lr: 5.0000e-04\n",
            "Epoch 43/100\n",
            "214/219 [============================>.] - ETA: 0s - loss: 0.2685 - accuracy: 0.9268 - balanced_acc: 0.9259\n",
            "Epoch 43: val_balanced_acc did not improve from 0.46028\n",
            "219/219 [==============================] - 1s 4ms/step - loss: 0.2687 - accuracy: 0.9267 - balanced_acc: 0.9260 - val_loss: 0.7209 - val_accuracy: 0.7202 - val_balanced_acc: 0.4428 - lr: 5.0000e-04\n",
            "Epoch 44/100\n",
            "207/219 [===========================>..] - ETA: 0s - loss: 0.2670 - accuracy: 0.9264 - balanced_acc: 0.9266\n",
            "Epoch 44: val_balanced_acc did not improve from 0.46028\n",
            "219/219 [==============================] - 1s 4ms/step - loss: 0.2656 - accuracy: 0.9269 - balanced_acc: 0.9267 - val_loss: 0.7128 - val_accuracy: 0.7513 - val_balanced_acc: 0.4216 - lr: 5.0000e-04\n",
            "Epoch 45/100\n",
            "209/219 [===========================>..] - ETA: 0s - loss: 0.2661 - accuracy: 0.9291 - balanced_acc: 0.9290\n",
            "Epoch 45: val_balanced_acc improved from 0.46028 to 0.46168, saving model to /content/drive/MyDrive/PHD/Model/Feature-Map-Ov/best_model_no.h5\n",
            "219/219 [==============================] - 2s 7ms/step - loss: 0.2658 - accuracy: 0.9291 - balanced_acc: 0.9290 - val_loss: 0.6787 - val_accuracy: 0.7668 - val_balanced_acc: 0.4617 - lr: 5.0000e-04\n",
            "Epoch 46/100\n",
            "212/219 [============================>.] - ETA: 0s - loss: 0.2601 - accuracy: 0.9281 - balanced_acc: 0.9289\n",
            "Epoch 46: val_balanced_acc did not improve from 0.46168\n",
            "219/219 [==============================] - 1s 4ms/step - loss: 0.2603 - accuracy: 0.9280 - balanced_acc: 0.9288 - val_loss: 0.6862 - val_accuracy: 0.7565 - val_balanced_acc: 0.4555 - lr: 5.0000e-04\n",
            "Epoch 47/100\n",
            "210/219 [===========================>..] - ETA: 0s - loss: 0.2619 - accuracy: 0.9296 - balanced_acc: 0.9306\n",
            "Epoch 47: val_balanced_acc did not improve from 0.46168\n",
            "219/219 [==============================] - 1s 4ms/step - loss: 0.2628 - accuracy: 0.9288 - balanced_acc: 0.9296 - val_loss: 0.7079 - val_accuracy: 0.7461 - val_balanced_acc: 0.4178 - lr: 5.0000e-04\n",
            "Epoch 48/100\n",
            "212/219 [============================>.] - ETA: 0s - loss: 0.2564 - accuracy: 0.9334 - balanced_acc: 0.9337\n",
            "Epoch 48: val_balanced_acc did not improve from 0.46168\n",
            "219/219 [==============================] - 1s 4ms/step - loss: 0.2566 - accuracy: 0.9331 - balanced_acc: 0.9334 - val_loss: 0.6959 - val_accuracy: 0.7565 - val_balanced_acc: 0.4555 - lr: 5.0000e-04\n",
            "Epoch 49/100\n",
            "207/219 [===========================>..] - ETA: 0s - loss: 0.2558 - accuracy: 0.9314 - balanced_acc: 0.9321\n",
            "Epoch 49: val_balanced_acc improved from 0.46168 to 0.46441, saving model to /content/drive/MyDrive/PHD/Model/Feature-Map-Ov/best_model_no.h5\n",
            "219/219 [==============================] - 1s 4ms/step - loss: 0.2573 - accuracy: 0.9310 - balanced_acc: 0.9314 - val_loss: 0.6931 - val_accuracy: 0.7617 - val_balanced_acc: 0.4644 - lr: 5.0000e-04\n",
            "Epoch 50/100\n",
            "208/219 [===========================>..] - ETA: 0s - loss: 0.2514 - accuracy: 0.9337 - balanced_acc: 0.9331\n",
            "Epoch 50: val_balanced_acc did not improve from 0.46441\n",
            "219/219 [==============================] - 1s 4ms/step - loss: 0.2515 - accuracy: 0.9338 - balanced_acc: 0.9332 - val_loss: 0.7147 - val_accuracy: 0.7409 - val_balanced_acc: 0.4161 - lr: 5.0000e-04\n",
            "Epoch 51/100\n",
            "212/219 [============================>.] - ETA: 0s - loss: 0.2553 - accuracy: 0.9318 - balanced_acc: 0.9317\n",
            "Epoch 51: val_balanced_acc did not improve from 0.46441\n",
            "219/219 [==============================] - 1s 4ms/step - loss: 0.2544 - accuracy: 0.9328 - balanced_acc: 0.9326 - val_loss: 0.7080 - val_accuracy: 0.7409 - val_balanced_acc: 0.4207 - lr: 5.0000e-04\n",
            "Epoch 52/100\n",
            "208/219 [===========================>..] - ETA: 0s - loss: 0.2541 - accuracy: 0.9297 - balanced_acc: 0.9306\n",
            "Epoch 52: val_balanced_acc did not improve from 0.46441\n",
            "219/219 [==============================] - 1s 4ms/step - loss: 0.2531 - accuracy: 0.9306 - balanced_acc: 0.9313 - val_loss: 0.7070 - val_accuracy: 0.7409 - val_balanced_acc: 0.4165 - lr: 5.0000e-04\n",
            "Epoch 53/100\n",
            "205/219 [===========================>..] - ETA: 0s - loss: 0.2505 - accuracy: 0.9323 - balanced_acc: 0.9322\n",
            "Epoch 53: val_balanced_acc did not improve from 0.46441\n",
            "219/219 [==============================] - 1s 4ms/step - loss: 0.2504 - accuracy: 0.9323 - balanced_acc: 0.9322 - val_loss: 0.6947 - val_accuracy: 0.7461 - val_balanced_acc: 0.4616 - lr: 5.0000e-04\n",
            "Epoch 54/100\n",
            "210/219 [===========================>..] - ETA: 0s - loss: 0.2427 - accuracy: 0.9380 - balanced_acc: 0.9389\n",
            "Epoch 54: val_balanced_acc did not improve from 0.46441\n",
            "219/219 [==============================] - 1s 4ms/step - loss: 0.2439 - accuracy: 0.9370 - balanced_acc: 0.9380 - val_loss: 0.7142 - val_accuracy: 0.7461 - val_balanced_acc: 0.4145 - lr: 5.0000e-04\n",
            "Epoch 55/100\n",
            "209/219 [===========================>..] - ETA: 0s - loss: 0.2473 - accuracy: 0.9326 - balanced_acc: 0.9327\n",
            "Epoch 55: val_balanced_acc did not improve from 0.46441\n",
            "219/219 [==============================] - 1s 4ms/step - loss: 0.2476 - accuracy: 0.9325 - balanced_acc: 0.9326 - val_loss: 0.6908 - val_accuracy: 0.7565 - val_balanced_acc: 0.4272 - lr: 5.0000e-04\n",
            "Epoch 56/100\n",
            "213/219 [============================>.] - ETA: 0s - loss: 0.2435 - accuracy: 0.9344 - balanced_acc: 0.9345\n",
            "Epoch 56: val_balanced_acc did not improve from 0.46441\n",
            "219/219 [==============================] - 1s 4ms/step - loss: 0.2430 - accuracy: 0.9350 - balanced_acc: 0.9346 - val_loss: 0.6959 - val_accuracy: 0.7565 - val_balanced_acc: 0.4281 - lr: 5.0000e-04\n",
            "Epoch 57/100\n",
            "211/219 [===========================>..] - ETA: 0s - loss: 0.2444 - accuracy: 0.9361 - balanced_acc: 0.9350\n",
            "Epoch 57: val_balanced_acc did not improve from 0.46441\n",
            "219/219 [==============================] - 1s 4ms/step - loss: 0.2444 - accuracy: 0.9358 - balanced_acc: 0.9345 - val_loss: 0.6871 - val_accuracy: 0.7617 - val_balanced_acc: 0.4243 - lr: 5.0000e-04\n",
            "Epoch 58/100\n",
            "205/219 [===========================>..] - ETA: 0s - loss: 0.2347 - accuracy: 0.9387 - balanced_acc: 0.9386\n",
            "Epoch 58: val_balanced_acc did not improve from 0.46441\n",
            "219/219 [==============================] - 1s 4ms/step - loss: 0.2371 - accuracy: 0.9375 - balanced_acc: 0.9369 - val_loss: 0.7027 - val_accuracy: 0.7461 - val_balanced_acc: 0.4130 - lr: 5.0000e-04\n",
            "Epoch 59/100\n",
            "209/219 [===========================>..] - ETA: 0s - loss: 0.2397 - accuracy: 0.9364 - balanced_acc: 0.9368\n",
            "Epoch 59: val_balanced_acc did not improve from 0.46441\n",
            "219/219 [==============================] - 1s 4ms/step - loss: 0.2392 - accuracy: 0.9370 - balanced_acc: 0.9374 - val_loss: 0.7020 - val_accuracy: 0.7668 - val_balanced_acc: 0.4617 - lr: 5.0000e-04\n",
            "Epoch 60/100\n",
            "210/219 [===========================>..] - ETA: 0s - loss: 0.2377 - accuracy: 0.9364 - balanced_acc: 0.9375\n",
            "Epoch 60: val_balanced_acc did not improve from 0.46441\n",
            "219/219 [==============================] - 1s 4ms/step - loss: 0.2369 - accuracy: 0.9368 - balanced_acc: 0.9378 - val_loss: 0.6657 - val_accuracy: 0.7565 - val_balanced_acc: 0.3924 - lr: 5.0000e-04\n",
            "Epoch 61/100\n",
            "214/219 [============================>.] - ETA: 0s - loss: 0.2350 - accuracy: 0.9398 - balanced_acc: 0.9404\n",
            "Epoch 61: val_balanced_acc did not improve from 0.46441\n",
            "219/219 [==============================] - 1s 4ms/step - loss: 0.2347 - accuracy: 0.9401 - balanced_acc: 0.9407 - val_loss: 0.7084 - val_accuracy: 0.7513 - val_balanced_acc: 0.4546 - lr: 5.0000e-04\n",
            "Epoch 62/100\n",
            "213/219 [============================>.] - ETA: 0s - loss: 0.2348 - accuracy: 0.9384 - balanced_acc: 0.9384\n",
            "Epoch 62: val_balanced_acc did not improve from 0.46441\n",
            "219/219 [==============================] - 1s 5ms/step - loss: 0.2345 - accuracy: 0.9385 - balanced_acc: 0.9385 - val_loss: 0.6856 - val_accuracy: 0.7617 - val_balanced_acc: 0.4566 - lr: 5.0000e-04\n",
            "Epoch 63/100\n",
            "214/219 [============================>.] - ETA: 0s - loss: 0.2350 - accuracy: 0.9379 - balanced_acc: 0.9374\n",
            "Epoch 63: val_balanced_acc did not improve from 0.46441\n",
            "219/219 [==============================] - 1s 5ms/step - loss: 0.2353 - accuracy: 0.9377 - balanced_acc: 0.9372 - val_loss: 0.7094 - val_accuracy: 0.7306 - val_balanced_acc: 0.4104 - lr: 5.0000e-04\n",
            "Epoch 64/100\n",
            "209/219 [===========================>..] - ETA: 0s - loss: 0.2264 - accuracy: 0.9424 - balanced_acc: 0.9424\n",
            "Epoch 64: val_balanced_acc did not improve from 0.46441\n",
            "219/219 [==============================] - 1s 5ms/step - loss: 0.2274 - accuracy: 0.9419 - balanced_acc: 0.9415 - val_loss: 0.6748 - val_accuracy: 0.7565 - val_balanced_acc: 0.4483 - lr: 5.0000e-04\n",
            "Epoch 65/100\n",
            "205/219 [===========================>..] - ETA: 0s - loss: 0.2307 - accuracy: 0.9395 - balanced_acc: 0.9391\n",
            "Epoch 65: val_balanced_acc did not improve from 0.46441\n",
            "219/219 [==============================] - 1s 4ms/step - loss: 0.2301 - accuracy: 0.9403 - balanced_acc: 0.9398 - val_loss: 0.6904 - val_accuracy: 0.7513 - val_balanced_acc: 0.4181 - lr: 5.0000e-04\n",
            "Epoch 66/100\n",
            "206/219 [===========================>..] - ETA: 0s - loss: 0.2269 - accuracy: 0.9398 - balanced_acc: 0.9404\n",
            "Epoch 66: val_balanced_acc did not improve from 0.46441\n",
            "219/219 [==============================] - 1s 4ms/step - loss: 0.2257 - accuracy: 0.9404 - balanced_acc: 0.9410 - val_loss: 0.6921 - val_accuracy: 0.7461 - val_balanced_acc: 0.4145 - lr: 5.0000e-04\n",
            "Epoch 67/100\n",
            "219/219 [==============================] - ETA: 0s - loss: 0.2274 - accuracy: 0.9427 - balanced_acc: 0.9431\n",
            "Epoch 67: val_balanced_acc did not improve from 0.46441\n",
            "219/219 [==============================] - 1s 4ms/step - loss: 0.2274 - accuracy: 0.9427 - balanced_acc: 0.9431 - val_loss: 0.6825 - val_accuracy: 0.7617 - val_balanced_acc: 0.4200 - lr: 5.0000e-04\n",
            "Epoch 68/100\n",
            "211/219 [===========================>..] - ETA: 0s - loss: 0.2211 - accuracy: 0.9443 - balanced_acc: 0.9440\n",
            "Epoch 68: val_balanced_acc did not improve from 0.46441\n",
            "219/219 [==============================] - 1s 4ms/step - loss: 0.2230 - accuracy: 0.9432 - balanced_acc: 0.9431 - val_loss: 0.6692 - val_accuracy: 0.7668 - val_balanced_acc: 0.4064 - lr: 5.0000e-04\n",
            "Epoch 69/100\n",
            "208/219 [===========================>..] - ETA: 0s - loss: 0.2200 - accuracy: 0.9436 - balanced_acc: 0.9415\n",
            "Epoch 69: ReduceLROnPlateau reducing learning rate to 0.0002500000118743628.\n",
            "\n",
            "Epoch 69: val_balanced_acc did not improve from 0.46441\n",
            "219/219 [==============================] - 1s 4ms/step - loss: 0.2199 - accuracy: 0.9438 - balanced_acc: 0.9418 - val_loss: 0.6815 - val_accuracy: 0.7565 - val_balanced_acc: 0.4192 - lr: 5.0000e-04\n",
            "Epoch 70/100\n",
            "206/219 [===========================>..] - ETA: 0s - loss: 0.2229 - accuracy: 0.9439 - balanced_acc: 0.9440\n",
            "Epoch 70: val_balanced_acc did not improve from 0.46441\n",
            "219/219 [==============================] - 1s 4ms/step - loss: 0.2223 - accuracy: 0.9441 - balanced_acc: 0.9443 - val_loss: 0.6910 - val_accuracy: 0.7565 - val_balanced_acc: 0.4192 - lr: 2.5000e-04\n",
            "Epoch 71/100\n",
            "209/219 [===========================>..] - ETA: 0s - loss: 0.2184 - accuracy: 0.9453 - balanced_acc: 0.9443\n",
            "Epoch 71: val_balanced_acc did not improve from 0.46441\n",
            "219/219 [==============================] - 1s 4ms/step - loss: 0.2181 - accuracy: 0.9451 - balanced_acc: 0.9443 - val_loss: 0.6803 - val_accuracy: 0.7565 - val_balanced_acc: 0.4192 - lr: 2.5000e-04\n",
            "Epoch 72/100\n",
            "207/219 [===========================>..] - ETA: 0s - loss: 0.2204 - accuracy: 0.9438 - balanced_acc: 0.9445\n",
            "Epoch 72: val_balanced_acc did not improve from 0.46441\n",
            "219/219 [==============================] - 1s 4ms/step - loss: 0.2203 - accuracy: 0.9438 - balanced_acc: 0.9445 - val_loss: 0.6958 - val_accuracy: 0.7565 - val_balanced_acc: 0.4230 - lr: 2.5000e-04\n",
            "Epoch 73/100\n",
            "204/219 [==========================>...] - ETA: 0s - loss: 0.2166 - accuracy: 0.9458 - balanced_acc: 0.9452\n",
            "Epoch 73: val_balanced_acc did not improve from 0.46441\n",
            "219/219 [==============================] - 1s 4ms/step - loss: 0.2160 - accuracy: 0.9466 - balanced_acc: 0.9458 - val_loss: 0.6828 - val_accuracy: 0.7565 - val_balanced_acc: 0.3967 - lr: 2.5000e-04\n",
            "Epoch 74/100\n",
            "212/219 [============================>.] - ETA: 0s - loss: 0.2175 - accuracy: 0.9438 - balanced_acc: 0.9453\n",
            "Epoch 74: val_balanced_acc did not improve from 0.46441\n",
            "219/219 [==============================] - 1s 4ms/step - loss: 0.2170 - accuracy: 0.9442 - balanced_acc: 0.9457 - val_loss: 0.6976 - val_accuracy: 0.7565 - val_balanced_acc: 0.3967 - lr: 2.5000e-04\n",
            "Epoch 75/100\n",
            "208/219 [===========================>..] - ETA: 0s - loss: 0.2138 - accuracy: 0.9460 - balanced_acc: 0.9454\n",
            "Epoch 75: val_balanced_acc improved from 0.46441 to 0.46467, saving model to /content/drive/MyDrive/PHD/Model/Feature-Map-Ov/best_model_no.h5\n",
            "219/219 [==============================] - 2s 8ms/step - loss: 0.2155 - accuracy: 0.9453 - balanced_acc: 0.9447 - val_loss: 0.6835 - val_accuracy: 0.7617 - val_balanced_acc: 0.4647 - lr: 2.5000e-04\n",
            "Epoch 76/100\n",
            "207/219 [===========================>..] - ETA: 0s - loss: 0.2155 - accuracy: 0.9463 - balanced_acc: 0.9460\n",
            "Epoch 76: val_balanced_acc did not improve from 0.46467\n",
            "219/219 [==============================] - 1s 4ms/step - loss: 0.2156 - accuracy: 0.9461 - balanced_acc: 0.9457 - val_loss: 0.6900 - val_accuracy: 0.7565 - val_balanced_acc: 0.4192 - lr: 2.5000e-04\n",
            "Epoch 77/100\n",
            "209/219 [===========================>..] - ETA: 0s - loss: 0.2186 - accuracy: 0.9457 - balanced_acc: 0.9460\n",
            "Epoch 77: val_balanced_acc did not improve from 0.46467\n",
            "219/219 [==============================] - 1s 4ms/step - loss: 0.2185 - accuracy: 0.9455 - balanced_acc: 0.9455 - val_loss: 0.6824 - val_accuracy: 0.7565 - val_balanced_acc: 0.3967 - lr: 2.5000e-04\n",
            "Epoch 78/100\n",
            "208/219 [===========================>..] - ETA: 0s - loss: 0.2103 - accuracy: 0.9479 - balanced_acc: 0.9477\n",
            "Epoch 78: val_balanced_acc did not improve from 0.46467\n",
            "219/219 [==============================] - 1s 4ms/step - loss: 0.2120 - accuracy: 0.9473 - balanced_acc: 0.9471 - val_loss: 0.6785 - val_accuracy: 0.7565 - val_balanced_acc: 0.3967 - lr: 2.5000e-04\n",
            "Epoch 79/100\n",
            "209/219 [===========================>..] - ETA: 0s - loss: 0.2143 - accuracy: 0.9458 - balanced_acc: 0.9470\n",
            "Epoch 79: val_balanced_acc did not improve from 0.46467\n",
            "219/219 [==============================] - 1s 4ms/step - loss: 0.2137 - accuracy: 0.9459 - balanced_acc: 0.9470 - val_loss: 0.7005 - val_accuracy: 0.7513 - val_balanced_acc: 0.4181 - lr: 2.5000e-04\n",
            "Epoch 80/100\n",
            "207/219 [===========================>..] - ETA: 0s - loss: 0.2130 - accuracy: 0.9464 - balanced_acc: 0.9470\n",
            "Epoch 80: val_balanced_acc did not improve from 0.46467\n",
            "219/219 [==============================] - 1s 4ms/step - loss: 0.2121 - accuracy: 0.9470 - balanced_acc: 0.9477 - val_loss: 0.6866 - val_accuracy: 0.7513 - val_balanced_acc: 0.4141 - lr: 2.5000e-04\n",
            "Epoch 81/100\n",
            "205/219 [===========================>..] - ETA: 0s - loss: 0.2113 - accuracy: 0.9477 - balanced_acc: 0.9494\n",
            "Epoch 81: val_balanced_acc did not improve from 0.46467\n",
            "219/219 [==============================] - 1s 4ms/step - loss: 0.2110 - accuracy: 0.9478 - balanced_acc: 0.9496 - val_loss: 0.7002 - val_accuracy: 0.7306 - val_balanced_acc: 0.4185 - lr: 2.5000e-04\n",
            "Epoch 82/100\n",
            "218/219 [============================>.] - ETA: 0s - loss: 0.2101 - accuracy: 0.9488 - balanced_acc: 0.9474\n",
            "Epoch 82: val_balanced_acc did not improve from 0.46467\n",
            "219/219 [==============================] - 1s 4ms/step - loss: 0.2104 - accuracy: 0.9486 - balanced_acc: 0.9473 - val_loss: 0.6897 - val_accuracy: 0.7513 - val_balanced_acc: 0.4141 - lr: 2.5000e-04\n",
            "Epoch 83/100\n",
            "209/219 [===========================>..] - ETA: 0s - loss: 0.2169 - accuracy: 0.9453 - balanced_acc: 0.9460\n",
            "Epoch 83: val_balanced_acc did not improve from 0.46467\n",
            "219/219 [==============================] - 1s 4ms/step - loss: 0.2164 - accuracy: 0.9453 - balanced_acc: 0.9463 - val_loss: 0.6915 - val_accuracy: 0.7565 - val_balanced_acc: 0.4192 - lr: 2.5000e-04\n",
            "Epoch 84/100\n",
            "209/219 [===========================>..] - ETA: 0s - loss: 0.2081 - accuracy: 0.9473 - balanced_acc: 0.9478\n",
            "Epoch 84: val_balanced_acc did not improve from 0.46467\n",
            "219/219 [==============================] - 1s 4ms/step - loss: 0.2085 - accuracy: 0.9471 - balanced_acc: 0.9479 - val_loss: 0.6960 - val_accuracy: 0.7513 - val_balanced_acc: 0.4141 - lr: 2.5000e-04\n",
            "Epoch 85/100\n",
            "218/219 [============================>.] - ETA: 0s - loss: 0.2060 - accuracy: 0.9485 - balanced_acc: 0.9485\n",
            "Epoch 85: val_balanced_acc did not improve from 0.46467\n",
            "219/219 [==============================] - 1s 4ms/step - loss: 0.2057 - accuracy: 0.9487 - balanced_acc: 0.9488 - val_loss: 0.7005 - val_accuracy: 0.7513 - val_balanced_acc: 0.4183 - lr: 2.5000e-04\n",
            "Epoch 86/100\n",
            "208/219 [===========================>..] - ETA: 0s - loss: 0.2109 - accuracy: 0.9474 - balanced_acc: 0.9486\n",
            "Epoch 86: val_balanced_acc did not improve from 0.46467\n",
            "219/219 [==============================] - 1s 4ms/step - loss: 0.2114 - accuracy: 0.9476 - balanced_acc: 0.9484 - val_loss: 0.6834 - val_accuracy: 0.7565 - val_balanced_acc: 0.4192 - lr: 2.5000e-04\n",
            "Epoch 87/100\n",
            "206/219 [===========================>..] - ETA: 0s - loss: 0.2065 - accuracy: 0.9495 - balanced_acc: 0.9499\n",
            "Epoch 87: val_balanced_acc did not improve from 0.46467\n",
            "219/219 [==============================] - 1s 4ms/step - loss: 0.2065 - accuracy: 0.9494 - balanced_acc: 0.9497 - val_loss: 0.6819 - val_accuracy: 0.7565 - val_balanced_acc: 0.4230 - lr: 2.5000e-04\n",
            "Epoch 88/100\n",
            "209/219 [===========================>..] - ETA: 0s - loss: 0.2062 - accuracy: 0.9475 - balanced_acc: 0.9478\n",
            "Epoch 88: val_balanced_acc did not improve from 0.46467\n",
            "219/219 [==============================] - 1s 4ms/step - loss: 0.2063 - accuracy: 0.9473 - balanced_acc: 0.9477 - val_loss: 0.6966 - val_accuracy: 0.7617 - val_balanced_acc: 0.4056 - lr: 2.5000e-04\n",
            "Epoch 89/100\n",
            "209/219 [===========================>..] - ETA: 0s - loss: 0.2040 - accuracy: 0.9481 - balanced_acc: 0.9494\n",
            "Epoch 89: val_balanced_acc did not improve from 0.46467\n",
            "219/219 [==============================] - 1s 4ms/step - loss: 0.2044 - accuracy: 0.9485 - balanced_acc: 0.9496 - val_loss: 0.7137 - val_accuracy: 0.7358 - val_balanced_acc: 0.4113 - lr: 2.5000e-04\n",
            "Epoch 90/100\n",
            "208/219 [===========================>..] - ETA: 0s - loss: 0.2070 - accuracy: 0.9489 - balanced_acc: 0.9481\n",
            "Epoch 90: val_balanced_acc did not improve from 0.46467\n",
            "219/219 [==============================] - 1s 4ms/step - loss: 0.2064 - accuracy: 0.9490 - balanced_acc: 0.9482 - val_loss: 0.6923 - val_accuracy: 0.7565 - val_balanced_acc: 0.4230 - lr: 2.5000e-04\n",
            "Epoch 91/100\n",
            "208/219 [===========================>..] - ETA: 0s - loss: 0.2059 - accuracy: 0.9495 - balanced_acc: 0.9488\n",
            "Epoch 91: val_balanced_acc did not improve from 0.46467\n",
            "219/219 [==============================] - 1s 4ms/step - loss: 0.2065 - accuracy: 0.9485 - balanced_acc: 0.9478 - val_loss: 0.6948 - val_accuracy: 0.7513 - val_balanced_acc: 0.4222 - lr: 2.5000e-04\n",
            "Epoch 92/100\n",
            "205/219 [===========================>..] - ETA: 0s - loss: 0.2023 - accuracy: 0.9490 - balanced_acc: 0.9480\n",
            "Epoch 92: val_balanced_acc did not improve from 0.46467\n",
            "219/219 [==============================] - 1s 4ms/step - loss: 0.2018 - accuracy: 0.9492 - balanced_acc: 0.9482 - val_loss: 0.6898 - val_accuracy: 0.7565 - val_balanced_acc: 0.4230 - lr: 2.5000e-04\n",
            "Epoch 93/100\n",
            "218/219 [============================>.] - ETA: 0s - loss: 0.2057 - accuracy: 0.9498 - balanced_acc: 0.9502\n",
            "Epoch 93: val_balanced_acc did not improve from 0.46467\n",
            "219/219 [==============================] - 1s 4ms/step - loss: 0.2056 - accuracy: 0.9499 - balanced_acc: 0.9503 - val_loss: 0.6894 - val_accuracy: 0.7513 - val_balanced_acc: 0.4222 - lr: 2.5000e-04\n",
            "Epoch 94/100\n",
            "208/219 [===========================>..] - ETA: 0s - loss: 0.1993 - accuracy: 0.9506 - balanced_acc: 0.9498\n",
            "Epoch 94: val_balanced_acc did not improve from 0.46467\n",
            "219/219 [==============================] - 1s 4ms/step - loss: 0.2000 - accuracy: 0.9501 - balanced_acc: 0.9494 - val_loss: 0.6972 - val_accuracy: 0.7461 - val_balanced_acc: 0.4213 - lr: 2.5000e-04\n",
            "Epoch 95/100\n",
            "210/219 [===========================>..] - ETA: 0s - loss: 0.2017 - accuracy: 0.9503 - balanced_acc: 0.9503\n",
            "Epoch 95: ReduceLROnPlateau reducing learning rate to 0.0001250000059371814.\n",
            "\n",
            "Epoch 95: val_balanced_acc did not improve from 0.46467\n",
            "219/219 [==============================] - 1s 4ms/step - loss: 0.2029 - accuracy: 0.9495 - balanced_acc: 0.9497 - val_loss: 0.6895 - val_accuracy: 0.7513 - val_balanced_acc: 0.4141 - lr: 2.5000e-04\n",
            "Epoch 96/100\n",
            "208/219 [===========================>..] - ETA: 0s - loss: 0.2028 - accuracy: 0.9496 - balanced_acc: 0.9494\n",
            "Epoch 96: val_balanced_acc did not improve from 0.46467\n",
            "219/219 [==============================] - 1s 4ms/step - loss: 0.2034 - accuracy: 0.9497 - balanced_acc: 0.9495 - val_loss: 0.6880 - val_accuracy: 0.7461 - val_balanced_acc: 0.4132 - lr: 1.2500e-04\n",
            "Epoch 97/100\n",
            "219/219 [==============================] - ETA: 0s - loss: 0.2015 - accuracy: 0.9500 - balanced_acc: 0.9502\n",
            "Epoch 97: val_balanced_acc did not improve from 0.46467\n",
            "219/219 [==============================] - 1s 4ms/step - loss: 0.2015 - accuracy: 0.9500 - balanced_acc: 0.9502 - val_loss: 0.6926 - val_accuracy: 0.7513 - val_balanced_acc: 0.4141 - lr: 1.2500e-04\n",
            "Epoch 98/100\n",
            "213/219 [============================>.] - ETA: 0s - loss: 0.1988 - accuracy: 0.9508 - balanced_acc: 0.9501\n",
            "Epoch 98: val_balanced_acc did not improve from 0.46467\n",
            "219/219 [==============================] - 1s 4ms/step - loss: 0.1992 - accuracy: 0.9503 - balanced_acc: 0.9497 - val_loss: 0.6875 - val_accuracy: 0.7513 - val_balanced_acc: 0.4141 - lr: 1.2500e-04\n",
            "Epoch 99/100\n",
            "211/219 [===========================>..] - ETA: 0s - loss: 0.1999 - accuracy: 0.9519 - balanced_acc: 0.9510\n",
            "Epoch 99: val_balanced_acc did not improve from 0.46467\n",
            "219/219 [==============================] - 1s 4ms/step - loss: 0.2000 - accuracy: 0.9516 - balanced_acc: 0.9507 - val_loss: 0.6830 - val_accuracy: 0.7513 - val_balanced_acc: 0.4141 - lr: 1.2500e-04\n",
            "Epoch 100/100\n",
            "205/219 [===========================>..] - ETA: 0s - loss: 0.1972 - accuracy: 0.9520 - balanced_acc: 0.9514\n",
            "Epoch 100: val_balanced_acc did not improve from 0.46467\n",
            "219/219 [==============================] - 1s 4ms/step - loss: 0.1967 - accuracy: 0.9520 - balanced_acc: 0.9518 - val_loss: 0.6793 - val_accuracy: 0.7513 - val_balanced_acc: 0.4141 - lr: 1.2500e-04\n"
          ]
        }
      ],
      "source": [
        "best_model_fpath = '/content/drive/MyDrive/PHD/Model/Feature-Map-Ov/best_model_no.h5'\n",
        "last_model_fpath = '/content/drive/MyDrive/PHD/Model/Feature-Map-Ov/last_model_no.h5'\n",
        "mc1 = ModelCheckpoint(best_model_fpath, monitor='val_balanced_acc', mode='max', verbose=1, save_best_only=True)\n",
        "model2.compile(optimizer = opt_SGD , loss = \"categorical_crossentropy\", metrics=['accuracy', balanced_acc])\n",
        "hst = model2.fit(X_train_fm_ov, y_train_ov, epochs=100, batch_size=BATCH_SIZE, validation_data=(X_val_fm, y_val), verbose=1,\n",
        "                    steps_per_epoch=X_train_fm_ov.shape[0] // BATCH_SIZE, \n",
        "                    callbacks=[learning_rate_reduction,early_stopping_monitor, mc1])"
      ]
    },
    {
      "cell_type": "code",
      "execution_count": 30,
      "metadata": {
        "id": "8XhlbWn--8Or",
        "colab": {
          "base_uri": "https://localhost:8080/",
          "height": 295
        },
        "outputId": "a5608582-6869-41e8-dc3e-f5fd03468aa8"
      },
      "outputs": [
        {
          "output_type": "display_data",
          "data": {
            "text/plain": [
              "<Figure size 432x288 with 1 Axes>"
            ],
            "image/png": "[encoded data removed]"
          },
          "metadata": {
            "needs_background": "light"
          }
        }
      ],
      "source": [
        "# summarize history for accuracy\n",
        "plt.plot(hst.history['accuracy'])\n",
        "plt.plot(hst.history['balanced_acc'])\n",
        "plt.plot(hst.history['val_accuracy'])\n",
        "plt.plot(hst.history['val_balanced_acc'])\n",
        "plt.title('Model accuracy')\n",
        "plt.ylabel('Performance')\n",
        "plt.xlabel('epoch')\n",
        "plt.legend(['train accuracy', 'train balanced acc.', 'val. accuracy', 'val. balanced acc.'], loc='lower right')\n",
        "plt.show()"
      ]
    },
    {
      "cell_type": "code",
      "source": [
        "#save last model\n",
        "model2.save(last_model_fpath)"
      ],
      "metadata": {
        "id": "u-x0SENPGmm9"
      },
      "execution_count": 31,
      "outputs": []
    },
    {
      "cell_type": "code",
      "source": [
        "last_model = load_model(last_model_fpath, custom_objects={'balanced_acc' : balanced_acc})\n",
        "y_train_pred = last_model.predict(X_train_fm_ov)\n",
        "y_val_pred = last_model.predict(X_val_fm)\n",
        "\n",
        "#print('accuracy on training',accuracy_score(np.argmax(y_train, axis=1), np.argmax(y_train_pred, axis=1)))\n",
        "print('accuracy on training',accuracy_score(np.argmax(y_train_ov, axis=1), np.argmax(y_train_pred, axis=1)))\n",
        "print('balanced accuracy on training',balanced_accuracy_score(np.argmax(y_train_ov, axis=1), np.argmax(y_train_pred, axis=1)))\n",
        "print('accuracy on validation',accuracy_score(np.argmax(y_val, axis=1), np.argmax(y_val_pred, axis=1)))\n",
        "print('balanced accuracy on validation',balanced_accuracy_score(np.argmax(y_val, axis=1), np.argmax(y_val_pred, axis=1)))\n",
        "print('Score on val data: ',precision_recall_fscore_support(np.argmax(y_val, axis=1), np.argmax(y_val_pred, axis=1), average='macro'))"
      ],
      "metadata": {
        "colab": {
          "base_uri": "https://localhost:8080/"
        },
        "id": "U-e3ZaeeG1Bf",
        "outputId": "2ee8596a-a3fc-4474-e7a0-b822204123b8"
      },
      "execution_count": 32,
      "outputs": [
        {
          "output_type": "stream",
          "name": "stdout",
          "text": [
            "accuracy on training 0.9514811394473254\n",
            "balanced accuracy on training 0.9514811394473254\n",
            "accuracy on validation 0.7512953367875648\n",
            "balanced accuracy on validation 0.539990120216601\n",
            "Score on val data:  (0.5163944851444852, 0.539990120216601, 0.5232838460980782, None)\n"
          ]
        }
      ]
    },
    {
      "cell_type": "code",
      "source": [
        "best_model = load_model(best_model_fpath, custom_objects={'balanced_acc' : balanced_acc})\n",
        "y_train_pred = best_model.predict(X_train_fm_ov)\n",
        "y_val_pred = best_model.predict(X_val_fm)\n",
        "\n",
        "print('accuracy on training',accuracy_score(np.argmax(y_train_ov, axis=1), np.argmax(y_train_pred, axis=1)))\n",
        "print('balanced accuracy on training',balanced_accuracy_score(np.argmax(y_train_ov, axis=1), np.argmax(y_train_pred, axis=1)))\n",
        "print('accuracy on validation',accuracy_score(np.argmax(y_val, axis=1), np.argmax(y_val_pred, axis=1)))\n",
        "print('balanced accuracy on validation',balanced_accuracy_score(np.argmax(y_val, axis=1), np.argmax(y_val_pred, axis=1)))\n",
        "print('Score on val data: ',precision_recall_fscore_support(np.argmax(y_val, axis=1), np.argmax(y_val_pred, axis=1), average='macro'))"
      ],
      "metadata": {
        "colab": {
          "base_uri": "https://localhost:8080/"
        },
        "id": "EQ3baQLsHLat",
        "outputId": "0bd3b56c-3648-4933-a260-9550706d526b"
      },
      "execution_count": 33,
      "outputs": [
        {
          "output_type": "stream",
          "name": "stdout",
          "text": [
            "accuracy on training 0.9451587696242097\n",
            "balanced accuracy on training 0.9451587696242097\n",
            "accuracy on validation 0.7616580310880829\n",
            "balanced accuracy on validation 0.6896499841621793\n",
            "Score on val data:  (0.5665220111032918, 0.6896499841621793, 0.6005201453622202, None)\n"
          ]
        }
      ]
    },
    {
      "cell_type": "markdown",
      "metadata": {
        "id": "RcRGeofw-8tK"
      },
      "source": [
        "#Load ISIC 2018 Challange Data"
      ]
    },
    {
      "cell_type": "code",
      "execution_count": 4,
      "metadata": {
        "id": "l3P7IjyLuZGY"
      },
      "outputs": [],
      "source": [
        "X_train, y_train, X_val, y_val = load_isic2018_dataset(train_under_frac = 0.83)"
      ]
    },
    {
      "cell_type": "code",
      "execution_count": null,
      "metadata": {
        "id": "2IncA-_o_n5w"
      },
      "outputs": [],
      "source": [
        "# ordered count of rows per unique label\n",
        "labels_count = y_train.value_counts(ascending=True)\n",
        "\n",
        "f = plt.figure(figsize=(15, 6))\n",
        "s = sns.barplot(x=labels_count.index,y=labels_count.values)\n",
        "s.set_xticklabels(s.get_xticklabels(), rotation = 30)"
      ]
    },
    {
      "cell_type": "markdown",
      "metadata": {
        "id": "AnKMKSb4Bkym"
      },
      "source": [
        "Plot 3 images per label"
      ]
    },
    {
      "cell_type": "code",
      "execution_count": null,
      "metadata": {
        "id": "jdnVuqbFBW3K"
      },
      "outputs": [],
      "source": [
        "def plot_images_per_label(df, label, cols: int, size: tuple):\n",
        "    fig, axs = plt.subplots(nrows=1, ncols=cols, figsize=size)\n",
        "\n",
        "    cntMax = cols\n",
        "    cntCur = 0\n",
        "    for index, row in df.iterrows():\n",
        "        if(y_train == label and cntCur < cntMax):\n",
        "            axs[cntCur].imshow(plt.imread(df.FilePaths[index]))\n",
        "            axs[cntCur].set_title(df.Labels[index])\n",
        "\n",
        "            cntCur += 1\n",
        "        else:\n",
        "            if(cntCur >= cntMax):\n",
        "                break\n",
        "    \n",
        "    plt.tight_layout()\n",
        "    plt.show()\n",
        "\n",
        "\n",
        "# unique labels\n",
        "labels = sorted(df1['y_train'].unique())\n",
        "for label in range(7):\n",
        "    plot_images_per_label(df1, label, 3, (12,9))"
      ]
    },
    {
      "cell_type": "code",
      "execution_count": null,
      "metadata": {
        "id": "asV1O58Lrq-R"
      },
      "outputs": [],
      "source": [
        "from PIL import Image\n",
        "img = Image.fromarray(X_train[0], 'RGB')\n",
        "display(img)"
      ]
    },
    {
      "cell_type": "markdown",
      "metadata": {
        "id": "qRKKrNacAZtl"
      },
      "source": [
        "Drop duplicate images"
      ]
    },
    {
      "cell_type": "code",
      "execution_count": null,
      "metadata": {
        "id": "ERwfyPDHP-zC"
      },
      "outputs": [],
      "source": [
        "#df_group = pd.read_csv('/content/drive/MyDrive/PHD/Datasets/isic2018/ISIC2018_Task3_Training_LesionGroupings.csv') \n",
        "#df_train = df_train.set_index('image').join(df_group.set_index('image'))\n",
        "#df_train = df_train.drop_duplicates(subset=['lesion_id'])"
      ]
    },
    {
      "cell_type": "markdown",
      "metadata": {
        "id": "cNBXx28B9yGu"
      },
      "source": [
        "#DeepSMOTE Oversampling"
      ]
    },
    {
      "cell_type": "code",
      "execution_count": null,
      "metadata": {
        "id": "YmX_Uqbmj-tN"
      },
      "outputs": [],
      "source": [
        "from numpy import moveaxis\n",
        "from sklearn.neighbors import NearestNeighbors\n",
        "import torch\n",
        "import torch.nn as nn\n",
        "\n",
        "max_el = np.inf\n",
        "\n",
        "args = {}\n",
        "args['dim_h'] = 64         # factor controlling size of hidden layers\n",
        "args['n_channel'] = 3#1    # number of channels in the input data \n",
        "args['n_z'] = 600 #300     # number of dimensions in latent space. \n",
        "args['sigma'] = 1.0        # variance in n_z\n",
        "args['lambda'] = 0.01      # hyper param for weight of discriminator loss\n",
        "args['lr'] = 0.0002        # learning rate for Adam optimizer .000\n",
        "args['epochs'] = 300       # how many epochs to run for\n",
        "args['batch_size'] = 100   # batch size for SGD\n",
        "args['save'] = True        # save weights at each epoch of training if True\n",
        "args['train'] = True       # train networks if True, else load networks from\n",
        "args['patience'] = 20"
      ]
    },
    {
      "cell_type": "code",
      "execution_count": null,
      "metadata": {
        "id": "NydOdPMajEfT"
      },
      "outputs": [],
      "source": [
        "class Encoder(nn.Module):\n",
        "    def __init__(self, args):\n",
        "        super(Encoder, self).__init__()\n",
        "\n",
        "        self.n_channel = args['n_channel']\n",
        "        self.dim_h = args['dim_h']\n",
        "        self.n_z = args['n_z']\n",
        "        \n",
        "        # convolutional filters, work excellent with image data\n",
        "        # [(W−K+2P)/S]+1\n",
        "        self.conv = nn.Sequential(\n",
        "            nn.AvgPool2d(7, stride=7),\n",
        "            nn.Conv2d(self.n_channel, self.dim_h, 4, 2, 1, bias=False),# 16\n",
        "            nn.LeakyReLU(0.2, inplace=True),\n",
        "            nn.Conv2d(self.dim_h, self.dim_h * 2, 4, 2, 1, bias=False), # 8\n",
        "            nn.BatchNorm2d(self.dim_h * 2),\n",
        "            nn.LeakyReLU(0.2, inplace=True),\n",
        "            nn.Conv2d(self.dim_h * 2, self.dim_h * 4, 4, 2, 1, bias=False),# 4\n",
        "            nn.BatchNorm2d(self.dim_h * 4),\n",
        "            nn.LeakyReLU(0.2, inplace=True),\n",
        "            nn.Conv2d(self.dim_h * 4, self.dim_h * 8, 4, 2, 0, bias=False),#14\n",
        "            nn.BatchNorm2d(self.dim_h * 8),\n",
        "            nn.LeakyReLU(0.2, inplace=True))\n",
        "        self.fc = nn.Linear(self.dim_h * (2 ** 3), self.n_z)\n",
        "\n",
        "    def forward(self, x):\n",
        "        x = self.conv(x)\n",
        "        \n",
        "        x = x.squeeze()\n",
        "        x = self.fc(x)\n",
        "        return x\n",
        "\n",
        "\n",
        "class Decoder(nn.Module):\n",
        "    def __init__(self, args):\n",
        "        super(Decoder, self).__init__()\n",
        "\n",
        "        self.n_channel = args['n_channel']\n",
        "        self.dim_h = args['dim_h']\n",
        "        self.n_z = args['n_z']\n",
        "\n",
        "        # first layer is fully connected\n",
        "        self.fc = nn.Sequential(\n",
        "            nn.Linear(self.n_z, self.dim_h * 2**3 * 7 * 7),\n",
        "            nn.ReLU())\n",
        "\n",
        "        # deconvolutional filters, essentially inverse of convolutional filters\n",
        "        # H_out ​= (H_in​−1)*stride[0] − 2×padding[0] + dilation[0]×(kernel_size[0]−1) + output_padding[0] + 1\n",
        "        self.deconv = nn.Sequential(\n",
        "            nn.ConvTranspose2d(self.dim_h * 8, self.dim_h * 4, 4), #10\n",
        "            nn.BatchNorm2d(self.dim_h * 4),\n",
        "            nn.ReLU(True),\n",
        "            nn.ConvTranspose2d(self.dim_h * 4, self.dim_h * 2, 4), #13\n",
        "            nn.BatchNorm2d(self.dim_h * 2),\n",
        "            nn.ReLU(True),\n",
        "            nn.ConvTranspose2d(self.dim_h * 2, self.dim_h, 4),# 16\n",
        "            nn.BatchNorm2d(self.dim_h),\n",
        "            nn.ReLU(True),\n",
        "            nn.ConvTranspose2d(self.dim_h, 3, 4, 2, 1),# 32\n",
        "            nn.UpsamplingBilinear2d(scale_factor=7),\n",
        "            nn.Tanh())\n",
        "\n",
        "    def forward(self, x):\n",
        "        x = self.fc(x)\n",
        "        x = x.view(-1, self.dim_h * 2**3, 7, 7)\n",
        "        x = self.deconv(x)\n",
        "        return x\n",
        "\n",
        "##############################################################################\n",
        "\"\"\"set models, loss functions\"\"\"\n",
        "# control which parameters are frozen / free for optimization\n",
        "def free_params(module: nn.Module):\n",
        "    for p in module.parameters():\n",
        "        p.requires_grad = True\n",
        "\n",
        "def frozen_params(module: nn.Module):\n",
        "    for p in module.parameters():\n",
        "        p.requires_grad = False\n",
        "\n",
        "def biased_get_class(X, y, c):\n",
        "    \n",
        "    xbeg = X[y == c]\n",
        "    ybeg = y[y == c]\n",
        "    \n",
        "    return xbeg, ybeg\n",
        "    #return xclass, yclass\n",
        "\n",
        "def G_SM(X, y,n_to_sample,cl):\n",
        "    n_neigh = 5\n",
        "    nn = NearestNeighbors(n_neighbors=n_neigh, n_jobs=1)\n",
        "    nn.fit(X)\n",
        "    dist, ind = nn.kneighbors(X)\n",
        "\n",
        "    # generating samples\n",
        "    base_indices = np.random.choice(list(range(len(X))),n_to_sample)\n",
        "    neighbor_indices = np.random.choice(list(range(1, n_neigh)),n_to_sample)\n",
        "\n",
        "    X_base = X[base_indices]\n",
        "    X_neighbor = X[ind[base_indices, neighbor_indices]]\n",
        "\n",
        "    samples = X_base + np.multiply(np.random.rand(n_to_sample,1),\n",
        "            X_neighbor - X_base)\n",
        "\n",
        "    #use 10 as label because 0 to 9 real classes and 1 fake/smoted = 10\n",
        "    return samples, [cl]*n_to_sample\n",
        "\n",
        "def DeepSMOTE_train(X_train, y_train, one_hot = False):\n",
        "  from torch.utils.data import TensorDataset\n",
        "  import os\n",
        "\n",
        "  max_el = np.max(X_train)\n",
        "  X_train = X_train / max_el\n",
        "  X_train = moveaxis(X_train, 3, 1)\n",
        "  if one_hot:\n",
        "    y_train = np.argmax(y_train, axis=1)\n",
        "  #X_train = X_train.astype('float32') / 255.\n",
        "  \n",
        "  batch_size = args['batch_size']\n",
        "  patience = args['patience']\n",
        "  encoder = Encoder(args)\n",
        "  decoder = Decoder(args)\n",
        "\n",
        "  device = 'cuda' if torch.cuda.is_available() else 'cpu'\n",
        "  print(device)\n",
        "  decoder = decoder.to(device)\n",
        "  encoder = encoder.to(device)\n",
        "\n",
        "  train_on_gpu = torch.cuda.is_available()\n",
        "\n",
        "  #decoder loss function\n",
        "  criterion = nn.MSELoss()\n",
        "  criterion = criterion.to(device)\n",
        "\n",
        "  num_workers = 0\n",
        "\n",
        "  #torch.Tensor returns float so if want long then use torch.tensor\n",
        "  tensor_x = torch.from_numpy(X_train.copy())#torch.Tensor(X_train)\n",
        "  tensor_y = torch.tensor(y_train,dtype=torch.long)\n",
        "  mnist_bal = TensorDataset(tensor_x,tensor_y) \n",
        "  train_loader = torch.utils.data.DataLoader(mnist_bal, \n",
        "      batch_size=batch_size,shuffle=True,num_workers=num_workers)\n",
        "\n",
        "  best_loss = np.inf\n",
        "\n",
        "  enc_optim = torch.optim.Adam(encoder.parameters(), lr = args['lr'])\n",
        "  dec_optim = torch.optim.Adam(decoder.parameters(), lr = args['lr'])\n",
        "\n",
        "  for epoch in range(args['epochs']):\n",
        "      train_loss = 0.0\n",
        "      tmse_loss = 0.0\n",
        "      tdiscr_loss = 0.0\n",
        "      # train for one epoch -- set nets to train mode\n",
        "      encoder.train()\n",
        "      decoder.train()\n",
        "  \n",
        "      for images,labs in train_loader:\n",
        "      \n",
        "          # zero gradients for each batch\n",
        "          encoder.zero_grad()\n",
        "          decoder.zero_grad()\n",
        "          images, labs = images.to(device), labs.to(device)\n",
        "          labsn = labs.detach().cpu().numpy()\n",
        "#            print('images shape', images.shape)\n",
        "          # run images\n",
        "          z_hat = encoder(images)\n",
        "#            print('images shape after encoding', z_hat.shape)\n",
        "      \n",
        "          x_hat = decoder(z_hat) #decoder outputs tanh\n",
        "#            print('images shape after decoding', x_hat.shape)\n",
        "          mse = criterion(x_hat,images)\n",
        "                  \n",
        "          resx = []\n",
        "          resy = []\n",
        "      \n",
        "          tc = np.random.choice(num_classes,1)\n",
        "          #tc = 9\n",
        "          xbeg = X_train[y_train == tc]\n",
        "          ybeg = y_train[y_train == tc] \n",
        "          xlen = len(xbeg)\n",
        "          nsamp = min(xlen, 100)\n",
        "          ind = np.random.choice(list(range(len(xbeg))),nsamp,replace=False)\n",
        "          xclass = xbeg[ind]\n",
        "          yclass = ybeg[ind]\n",
        "      \n",
        "          xclen = len(xclass)\n",
        "          xcminus = np.arange(1,xclen)\n",
        "          \n",
        "          xcplus = np.append(xcminus,0)\n",
        "          xcnew = (xclass[[xcplus],:])\n",
        "          xcnew = xcnew.reshape(xcnew.shape[1],xcnew.shape[2],xcnew.shape[3],xcnew.shape[4])\n",
        "      \n",
        "          xcnew = torch.Tensor(xcnew)\n",
        "          xcnew = xcnew.to(device)\n",
        "      \n",
        "          #encode xclass to feature space\n",
        "          xclass = torch.Tensor(xclass)\n",
        "          xclass = xclass.to(device)\n",
        "          xclass = encoder(xclass)\n",
        "      \n",
        "          xclass = xclass.detach().cpu().numpy()\n",
        "      \n",
        "          xc_enc = (xclass[[xcplus],:])\n",
        "          xc_enc = np.squeeze(xc_enc)\n",
        "      \n",
        "          xc_enc = torch.Tensor(xc_enc)\n",
        "          xc_enc = xc_enc.to(device)\n",
        "          \n",
        "          ximg = decoder(xc_enc)\n",
        "          \n",
        "          mse2 = criterion(ximg,xcnew)\n",
        "      \n",
        "          comb_loss = mse2 + mse\n",
        "          comb_loss.backward()\n",
        "      \n",
        "          enc_optim.step()\n",
        "          dec_optim.step()\n",
        "      \n",
        "          train_loss += comb_loss.item()*images.size(0)\n",
        "          tmse_loss += mse.item()*images.size(0)\n",
        "          tdiscr_loss += mse2.item()*images.size(0)\n",
        "\n",
        "      train_loss = train_loss/len(train_loader)\n",
        "      tmse_loss = tmse_loss/len(train_loader)\n",
        "      tdiscr_loss = tdiscr_loss/len(train_loader)\n",
        "      print('Epoch: {} \\tTrain Loss: {:.6f} \\tmse loss: {:.6f} \\tmse2 loss: {:.6f}'.format(epoch,\n",
        "              train_loss,tmse_loss,tdiscr_loss))\n",
        "      \n",
        "  \n",
        "  \n",
        "      #store the best encoder and decoder models\n",
        "      #here, /crs5 is a reference to 5 way cross validation, but is not\n",
        "      #necessary for illustration purposes\n",
        "      if train_loss < best_loss:\n",
        "          print('Saving..')\n",
        "          patience = args['patience']\n",
        "          path_enc = '/content/drive/MyDrive/PHD/Model/DeepSMOTE/32/bst_enc.pth'\n",
        "          path_dec = '/content/drive/MyDrive/PHD/Model/DeepSMOTE/32/bst_dec.pth'\n",
        "        \n",
        "          torch.save(encoder.state_dict(), path_enc)\n",
        "          torch.save(decoder.state_dict(), path_dec)\n",
        "  \n",
        "          best_loss = train_loss\n",
        "      else:\n",
        "          patience = patience - 1\n",
        "\n",
        "      if patience == 0:\n",
        "          print('Out of patience. \\n')\n",
        "          break\n",
        "\n",
        "def DeepSMOTE_Data(X_train, y_train, one_hot = False):\n",
        "  batch_size = args['batch_size']\n",
        "  max_el = np.max(X_train)\n",
        "  X_train = X_train / max_el\n",
        "  X_train = moveaxis(X_train, 3, 1)\n",
        "  if one_hot:\n",
        "    y_train = np.argmax(y_train, axis=1)\n",
        "  #Generate artificial images\n",
        "  import torch\n",
        "  np.printoptions(precision=5,suppress=True)\n",
        "\n",
        "  #path on the computer where the models are stored\n",
        "  modpth = '/content/drive/MyDrive/PHD/Model/DeepSMOTE/32/'\n",
        "\n",
        "  path_enc = modpth + '/bst_enc.pth'\n",
        "  path_dec = modpth + '/bst_dec.pth'\n",
        "  \n",
        "  train_on_gpu = torch.cuda.is_available()\n",
        "  device = 'cuda' if torch.cuda.is_available() else 'cpu'\n",
        "\n",
        "  encoder = Encoder(args)\n",
        "  encoder.load_state_dict(torch.load(path_enc), strict=False)\n",
        "  encoder = encoder.to(device)\n",
        "\n",
        "  decoder = Decoder(args)\n",
        "  decoder.load_state_dict(torch.load(path_dec), strict=False)\n",
        "  decoder = decoder.to(device)\n",
        "\n",
        "  encoder.eval()\n",
        "  decoder.eval()\n",
        "\n",
        "  resx = []\n",
        "  resy = []\n",
        "  \n",
        "  counter = Counter(y_train)\n",
        "  counter = sorted(counter.items())\n",
        "  counter = [value for _, value in counter]\n",
        "\n",
        "  for i in range(num_classes):\n",
        "      torch.cuda.empty_cache()\n",
        "\n",
        "      xclass, yclass = biased_get_class(X_train, y_train, i)\n",
        "      #encode xclass to feature space\n",
        "      xclass = torch.Tensor(xclass)\n",
        "      xclass = xclass.to(device)\n",
        "      xclass = encoder(xclass)\n",
        "          \n",
        "      xclass = xclass.detach().cpu().numpy()\n",
        "      n = np.max(counter) - counter[i]\n",
        "      if n == 0:\n",
        "        continue\n",
        "#        resx2 = []\n",
        "#        resy2 = []\n",
        "#        for j in range(batch_size, n+batch_size+1, batch_size):\n",
        "#          if j <= n:\n",
        "#            batch_size_max = batch_size\n",
        "#          elif n % batch_size != 0:\n",
        "#            batch_size_max = n%batch_size\n",
        "#          else:\n",
        "#            break\n",
        "#          xsamp, ysamp = G_SM(xclass,yclass,batch_size_max,i)\n",
        "      xsamp, ysamp = G_SM(xclass,yclass,n,i)\n",
        "      ysamp = np.array(ysamp)\n",
        "  \n",
        "      \"\"\"to generate samples for resnet\"\"\"   \n",
        "      xsamp = torch.Tensor(xsamp)\n",
        "      xsamp = xsamp.to(device)\n",
        "      ximg = decoder(xsamp)\n",
        "\n",
        "      ximn = ximg.detach().cpu().numpy()\n",
        "#        resx2.append(ximn)\n",
        "#        resy2.append(ysamp)\n",
        "#        \n",
        "#        resx2 = np.vstack(resx2)\n",
        "#        resy2 = np.hstack(resy2)\n",
        "      resx.append(ximn)\n",
        "      resy.append(ysamp)\n",
        "  \n",
        "  resx1 = np.vstack(resx)\n",
        "  resy1 = np.hstack(resy)\n",
        "  resx1 = resx1.reshape(resx1.shape[0],-1)\n",
        "  X_train = X_train.reshape(X_train.shape[0],-1)\n",
        "  X_train = np.vstack((resx1,X_train))\n",
        "  y_train = np.hstack((resy1,y_train))\n",
        "  y_train = to_categorical(y_train)\n",
        "  X_train = X_train.reshape(-1, 3, IMAGE_W, IMAGE_H)\n",
        "  X_train = moveaxis(X_train, 1, 3)\n",
        "  X_train = X_train * max_el\n",
        "  return X_train, y_train"
      ]
    },
    {
      "cell_type": "markdown",
      "metadata": {
        "id": "0jrJ33lUDkCM"
      },
      "source": [
        "#Split dataset to train and val"
      ]
    },
    {
      "cell_type": "code",
      "execution_count": null,
      "metadata": {
        "id": "e6qneWL_Bs2U"
      },
      "outputs": [],
      "source": [
        "# stratified train and rem (20%) datasets\n",
        "from sklearn.model_selection import train_test_split\n",
        "X_train, X_val, y_train, y_val = train_test_split(X_train, y_train, test_size=0.2, stratify=y_train, random_state=1)\n",
        "\n",
        "print('Train Data: ', X_train.shape)\n",
        "print('Remaining Data: ', X_val.shape)"
      ]
    },
    {
      "cell_type": "code",
      "execution_count": null,
      "metadata": {
        "id": "8Kef4r_zxjgk"
      },
      "outputs": [],
      "source": [
        "#Data Augmentation\n",
        "dataaugment = ImageDataGenerator(\n",
        "        rotation_range=90,  # randomly rotate images in the range (degrees, 0 to 180)\n",
        "        zoom_range = 0.1, # Randomly zoom image \n",
        "        width_shift_range=0.1,  # randomly shift images horizontally (fraction of total width)\n",
        "        height_shift_range=0.1,  # randomly shift images vertically (fraction of total height)\n",
        "        horizontal_flip=True,  # randomly flip images\n",
        "        vertical_flip=True,  # randomly flip images\n",
        "        shear_range = 10) \n",
        "\n",
        "dataaugment.fit(X_train)"
      ]
    },
    {
      "cell_type": "markdown",
      "metadata": {
        "id": "B2PgksTFkOAq"
      },
      "source": [
        "#Fine Tune"
      ]
    },
    {
      "cell_type": "code",
      "execution_count": null,
      "metadata": {
        "id": "Nr1jnSM7yzJc"
      },
      "outputs": [],
      "source": [
        "limit = 171\n",
        "for layer in model.layers[:limit]:\n",
        "   layer.trainable = False\n",
        "for layer in model.layers[limit:]:\n",
        "   layer.trainable = True\n",
        "\n",
        "optimizer_SGD = SGD(learning_rate=0.0001, momentum=0.9)\n",
        "model.compile(optimizer = optimizer_SGD , loss = \"categorical_crossentropy\", metrics=['accuracy', balanced_acc])\n",
        "hst2 = model.fit(train_data_batches,\n",
        "                    epochs = EPOCHS, validation_data = valid_data_batches,\n",
        "                    callbacks=[learning_rate_reduction,early_stopping_monitor, mc])\n"
      ]
    },
    {
      "cell_type": "code",
      "execution_count": null,
      "metadata": {
        "id": "vO1aAQBmiy0K"
      },
      "outputs": [],
      "source": [
        "# summarize history for accuracy\n",
        "plt.plot(hst2.history['balanced_acc'])\n",
        "plt.plot(hst2.history['val_balanced_acc'])\n",
        "plt.title('model balance_acc after tunning')\n",
        "plt.ylabel('accuracy')\n",
        "plt.xlabel('epoch')\n",
        "plt.legend(['train', 'val'], loc='upper left')\n",
        "plt.show()"
      ]
    }
  ],
  "metadata": {
    "accelerator": "GPU",
    "colab": {
      "collapsed_sections": [
        "E_x4c0_DTkaa",
        "iDRWiTnO0MGh",
        "eaK4zbtoaAaC",
        "3K908bbiYwbS",
        "UswA0co2y1wl",
        "LfcFpsBwM0d4",
        "kE8Ziq-BlEP4",
        "cNBXx28B9yGu",
        "0jrJ33lUDkCM",
        "B2PgksTFkOAq"
      ],
      "machine_shape": "hm",
      "provenance": [],
      "include_colab_link": true
    },
    "gpuClass": "standard",
    "kernelspec": {
      "display_name": "Python 3",
      "name": "python3"
    },
    "language_info": {
      "name": "python"
    }
  },
  "nbformat": 4,
  "nbformat_minor": 0
}