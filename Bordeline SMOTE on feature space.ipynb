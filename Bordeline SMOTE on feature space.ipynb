{
  "cells": [
    {
      "cell_type": "markdown",
      "metadata": {
        "id": "view-in-github",
        "colab_type": "text"
      },
      "source": [
        "<a href=\"https://colab.research.google.com/github/heroza/Inner-Borderline-SMOTE/blob/main/Bordeline%20SMOTE%20on%20feature%20space.ipynb\" target=\"_parent\"><img src=\"https://colab.research.google.com/assets/colab-badge.svg\" alt=\"Open In Colab\"/></a>"
      ]
    },
    {
      "cell_type": "code",
      "execution_count": 1,
      "metadata": {
        "colab": {
          "base_uri": "https://localhost:8080/"
        },
        "id": "Eus_4tUgfEk9",
        "outputId": "ba039295-524c-4945-b094-db538a46f329"
      },
      "outputs": [
        {
          "output_type": "stream",
          "name": "stdout",
          "text": [
            "Mounted at /content/drive\n"
          ]
        }
      ],
      "source": [
        "from google.colab import drive\n",
        "drive.mount('/content/drive')"
      ]
    },
    {
      "cell_type": "markdown",
      "metadata": {
        "id": "E_x4c0_DTkaa"
      },
      "source": [
        "#Library, atribut, and function"
      ]
    },
    {
      "cell_type": "code",
      "execution_count": 2,
      "metadata": {
        "id": "nR2MJBYq-oiB"
      },
      "outputs": [],
      "source": [
        "import pandas as pd\n",
        "import numpy as np\n",
        "import tensorflow as tf\n",
        "import matplotlib.pyplot as plt\n",
        "import seaborn as sns\n",
        "import os\n",
        "from collections import Counter\n",
        "from pathlib import Path\n",
        "from PIL import Image\n",
        "from sklearn import preprocessing\n",
        "from sklearn.metrics import precision_recall_fscore_support, balanced_accuracy_score, confusion_matrix, accuracy_score\n",
        "from keras.callbacks import ReduceLROnPlateau, EarlyStopping, ModelCheckpoint\n",
        "from keras.preprocessing.image import ImageDataGenerator\n",
        "from keras.models import Sequential\n",
        "from keras.layers import Conv2D, MaxPooling2D, UpSampling2D\n",
        "from tensorflow import keras\n",
        "from tensorflow.keras import layers\n",
        "from tensorflow.keras.optimizers import Adam, SGD\n",
        "from tensorflow.keras.preprocessing import image\n",
        "from tensorflow.keras.applications.resnet50 import ResNet50, preprocess_input, decode_predictions\n",
        "from tensorflow.keras.applications.inception_v3 import InceptionV3, preprocess_input\n",
        "from tensorflow.keras.layers import GlobalAveragePooling2D, Dense, Input, Dropout, Flatten\n",
        "from tensorflow.keras.models import Model, load_model\n",
        "from keras.utils.np_utils import to_categorical\n",
        "import imblearn\n",
        "from imblearn.over_sampling import SMOTE, BorderlineSMOTE, SVMSMOTE, ADASYN, KMeansSMOTE"
      ]
    },
    {
      "cell_type": "code",
      "execution_count": 3,
      "metadata": {
        "id": "9-c7Xghg4SB4"
      },
      "outputs": [],
      "source": [
        "# input image size\n",
        "IMAGE_W = 224\n",
        "IMAGE_H = 224\n",
        "IMG_SIZE = (IMAGE_W,IMAGE_H)\n",
        "num_classes = 7\n",
        "EPOCHS = 100\n",
        "BATCH_SIZE = 64\n",
        "opt_adam = Adam(learning_rate=0.001, beta_1=0.9, beta_2=0.999, epsilon=None, decay=0.0, amsgrad=False)\n",
        "opt_SGD = SGD(learning_rate=0.001)\n",
        "the_arch = 'resnet50'\n",
        "\n",
        "#Callbacks\n",
        "best_model_fpath = '/content/drive/MyDrive/PHD/Model/best_model_attention.h5'\n",
        "last_model_fpath = '/content/drive/MyDrive/PHD/Model/last_model_attention.h5'\n",
        "mc = ModelCheckpoint(best_model_fpath, monitor='val_balanced_acc', mode='max', verbose=1, save_best_only=True)\n",
        "learning_rate_reduction = ReduceLROnPlateau(monitor='val_balanced_acc', patience=20, verbose=1, factor=0.5, min_lr=0.00001)\n",
        "early_stopping_monitor = EarlyStopping(patience=30,monitor='val_balanced_acc')\n"
      ]
    },
    {
      "cell_type": "code",
      "execution_count": 16,
      "metadata": {
        "id": "JffFid9sOXeo"
      },
      "outputs": [],
      "source": [
        "# load train and test dataset\n",
        "def preprocess_image_input(input_images, arch = the_arch):\n",
        "  input_images = input_images.astype('float32')\n",
        "  if arch == 'inception_v3':\n",
        "    output_ims = tf.keras.applications.inception_v3.preprocess_input(input_images)\n",
        "  else:\n",
        "    output_ims = tf.keras.applications.resnet50.preprocess_input(input_images)\n",
        "  return output_ims\n",
        "\n",
        "def load_cifar10_dataset():\n",
        "  from keras.datasets import cifar10\n",
        "    # load dataset\n",
        "  (X_train, y_train), (X_val, y_val) = cifar10.load_data()\n",
        "    # one hot encode target values\n",
        "  y_train = to_categorical(y_train)\n",
        "  y_val = to_categorical(y_val)\n",
        "\n",
        "  return X_train, y_train, X_val, y_val\n",
        "\n",
        "def balanced_acc(y_true, y_pred):\n",
        "    from keras import backend as K\n",
        "\n",
        "    tensor1 = tf.math.argmax(y_true, axis=1)\n",
        "    tensor2 = tf.math.argmax(y_pred, axis=1)\n",
        "\n",
        "    cm = tf.math.confusion_matrix(tensor1, tensor2)\n",
        "    \n",
        "    diag = tf.linalg.tensor_diag_part (cm)\n",
        "    tpfn = tf.cast(K.sum(cm, axis = 1), tf.float32) + K.epsilon()\n",
        "    recall = tf.divide(tf.cast(diag, tf.float32),tpfn)\n",
        "    balanced_acc = K.mean(recall)\n",
        "    return balanced_acc\n",
        "\n",
        "def define_base_model(arch = the_arch, start_trainable_layer = 9999, attention=False):\n",
        "  #x = data_augmentation(input_tensor)\n",
        "  #x = layers.Rescaling(1.0 / 255)(input_tensor)  # Rescale inputs\n",
        "  if arch != 'dense':\n",
        "    input_tensor = Input(shape=(IMAGE_H, IMAGE_W, 3))\n",
        "    #if IMAGE_H == 32:\n",
        "      #x = UpSampling2D(size=(7,7))(input_tensor)\n",
        "    if arch == 'resnet50':\n",
        "      base_model = ResNet50(input_tensor=input_tensor, weights='imagenet', include_top=False)\n",
        "    elif arch == 'inception_v3':\n",
        "      base_model = InceptionV3(input_tensor=input_tensor, weights='imagenet', include_top=False)\n",
        "    elif arch == 'ResNet':\n",
        "      base_model = ResNet(classes ,image_shape)(input_tensor)\n",
        "    x = base_model.output\n",
        "    if attention:\n",
        "      x = Attention(1024,1024,7,8)(x)\n",
        "    x = GlobalAveragePooling2D()(x)\n",
        "    for layer in base_model.layers:\n",
        "      layer.trainable = False\n",
        "    if start_trainable_layer != 9999:\n",
        "      for layer in base_model.layers[start_trainable_layer:]:\n",
        "        layer.trainable = True\n",
        "  else:\n",
        "    input_tensor = Input(shape=(2048))\n",
        "    x = input_tensor\n",
        "  #x = Flatten()(x)\n",
        "  x = Dense(1024, activation='relu')(x)\n",
        "  #x = Dropout(0.2)(x)\n",
        "  x = Dense(512, activation='relu')(x)\n",
        "  predictions = Dense(num_classes, activation='softmax')(x)\n",
        "  model = Model(inputs=input_tensor, outputs=predictions)\n",
        "  model.compile(optimizer = opt_SGD , loss = \"categorical_crossentropy\", metrics=['accuracy', balanced_acc])\n",
        "  return model\n",
        "\n",
        "# plot diagnostic learning curves\n",
        "def summarize_diagnostics(history):\n",
        "    # plot loss\n",
        "    plt.subplot(211)\n",
        "    plt.title('Cross Entropy Loss')\n",
        "    plt.plot(history.history['loss'], color='blue', label='train')\n",
        "    plt.plot(history.history['val_loss'], color='orange', label='test')\n",
        "    # plot accuracy\n",
        "    plt.subplot(212)\n",
        "    plt.title('Classification Accuracy')\n",
        "    plt.plot(history.history['accuracy'], color='blue', label='train')\n",
        "    plt.plot(history.history['val_accuracy'], color='orange', label='test')\n",
        " \n",
        "# scale pixels\n",
        "def norm_pixels(train, test):\n",
        "    # convert from integers to floats\n",
        "    train_norm = train.astype('float32')\n",
        "    test_norm = test.astype('float32')\n",
        "    # normalize to range 0-1\n",
        "    train_norm = train_norm / 255.0\n",
        "    test_norm = test_norm / 255.0\n",
        "    # return normalized images\n",
        "    return train_norm, test_norm\n",
        "\n",
        "def load_isic2018_dataset(train_under_frac = 0):\n",
        "  df_train = pd.read_csv('/content/drive/MyDrive/PHD/Datasets/isic2018/ISIC2018_Task3_Training_GroundTruth/ISIC2018_Task3_Training_GroundTruth.csv') \n",
        "  df_val = pd.read_csv('/content/drive/MyDrive/PHD/Datasets/isic2018/ISIC2018_Task3_Validation_GroundTruth/ISIC2018_Task3_Validation_GroundTruth.csv') \n",
        "\n",
        "  #decode one hot label\n",
        "  df_train[\"Labels\"] = (df_train.iloc[:, 1:]).idxmax(axis=1)\n",
        "  df_val[\"Labels\"] = (df_val.iloc[:, 1:]).idxmax(axis=1)\n",
        "\n",
        "  #random undersampling for training dataset\n",
        "  if train_under_frac !=0:\n",
        "    df_train = df_train.drop(df_train[df_train['Labels'] == 'NV'].sample(frac=train_under_frac).index)\n",
        "\n",
        "  #drop one-hot column\n",
        "  df_train = df_train.drop(columns=['MEL', 'NV', 'BCC', 'AKIEC', 'BKL', 'DF', 'VASC'])\n",
        "  df_val = df_val.drop(columns=['MEL', 'NV', 'BCC', 'AKIEC', 'BKL', 'DF', 'VASC'])\n",
        "\n",
        "  #make filepaths of the image\n",
        "  dir_train = '/content/drive/MyDrive/PHD/Datasets/isic2018/ISIC2018_Task3_Training_Input/'\n",
        "  dir_val = '/content/drive/MyDrive/PHD/Datasets/isic2018/ISIC2018_Task3_Validation_Input/'\n",
        "  df_train['FilePaths'] = dir_train + df_train['image'] + '.jpg'\n",
        "  df_val['FilePaths'] = dir_val + df_val['image'] + '.jpg'\n",
        "  \n",
        "  #load image pixels to dataframe\n",
        "  df_train['image_px'] = df_train['FilePaths'].map(lambda x: np.asarray(Image.open(x).resize(IMG_SIZE)))\n",
        "  df_val['image_px'] = df_val['FilePaths'].map(lambda x: np.asarray(Image.open(x).resize(IMG_SIZE)))\n",
        "\n",
        "  X_train = np.asarray(df_train['image_px'].tolist())\n",
        "  X_val = np.asarray(df_val['image_px'].tolist())\n",
        "  y_train = np.array(df_train['Labels'].values)\n",
        "  y_val = np.array(df_val['Labels'].values)\n",
        "\n",
        "  label_encoder = preprocessing.LabelEncoder()\n",
        "  y_train = label_encoder.fit_transform(y_train)\n",
        "  y_val = label_encoder.fit_transform(y_val)\n",
        "  \n",
        "  y_train = to_categorical(y_train, num_classes = num_classes)\n",
        "  y_val = to_categorical(y_val, num_classes = num_classes)\n",
        "\n",
        "  return X_train, y_train, X_val, y_val\n",
        "\n",
        "def reset_dataset(df_train, df_val):\n",
        "  X_train = np.asarray(df_train['image_px'].tolist())\n",
        "  X_val = np.asarray(df_val['image_px'].tolist())\n",
        "  y_train = np.array(df_train['Labels'].values)\n",
        "  y_val = np.array(df_val['Labels'].values)\n",
        "\n",
        "  X_train = preprocess_image_input(X_train, the_arch)\n",
        "  X_val = preprocess_image_input(X_val, the_arch)\n",
        "\n",
        "  label_encoder = preprocessing.LabelEncoder()\n",
        "  y_train = label_encoder.fit_transform(y_train)\n",
        "  y_val = label_encoder.fit_transform(y_val)\n",
        "  \n",
        "  y_train = to_categorical(y_train, num_classes = num_classes)\n",
        "  y_val = to_categorical(y_val, num_classes = num_classes)\n",
        "  return X_train, y_train, X_val, y_val\n",
        "\n",
        "def SMOTE_Data(X, y, one_hot = False, k = 5, width = IMAGE_W, height = IMAGE_H, c = 3, type = 'smote'):\n",
        "  if one_hot:\n",
        "    y = np.argmax(y, axis=1)\n",
        "  if type == 'borderline':\n",
        "    sm = BorderlineSMOTE(random_state=42, k_neighbors=k)\n",
        "  elif type == 'svm':\n",
        "    sm = SVMSMOTE()\n",
        "  elif type == 'adasyn':\n",
        "    sm = ADASYN(random_state=42, n_neighbors=k)\n",
        "  elif type == 'kmeans':\n",
        "    sm = KMeansSMOTE(k_neighbors=k, kmeans_estimator=10)\n",
        "  else:\n",
        "    sm = SMOTE(random_state=42, k_neighbors=k)\n",
        "  X_resampled, y_resampled = sm.fit_resample(X.reshape((-1, width * height * c)), y)\n",
        "  X_resampled = X_resampled.reshape(-1, width, height, c)\n",
        "  if one_hot:\n",
        "    y_resampled = to_categorical(y_resampled, num_classes = num_classes)\n",
        "  else:\n",
        "    y_resampled = y_resampled.reshape(-1,1)\n",
        "  return X_resampled, y_resampled\n",
        "\n",
        "def SMOTE_Data2(X, y, one_hot = False, k = 5):\n",
        "  if one_hot:\n",
        "    y = np.argmax(y, axis=1)\n",
        "  sm = BorderlineSMOTE(random_state=42, k_neighbors=k)\n",
        "  X_resampled, y_resampled = sm.fit_resample(X, y)\n",
        "  if one_hot:\n",
        "    y_resampled = to_categorical(y_resampled, num_classes = num_classes)\n",
        "  else:\n",
        "    y_resampled = y_resampled.reshape(-1,1)\n",
        "  return X_resampled, y_resampled\n",
        "\n",
        "def Borderline_SMOTE(X, y):\n",
        "  #G_SM(X, y,n_to_sample,cl):\n",
        "  n_neigh = 5\n",
        "  nn = NearestNeighbors(n_neighbors=n_neigh, n_jobs=1)\n",
        "  nn.fit(X)\n",
        "  dist, ind = nn.kneighbors(X)\n",
        "\n",
        "  # generating samples\n",
        "  base_indices = np.random.choice(list(range(len(X))),n_to_sample)\n",
        "  neighbor_indices = np.random.choice(list(range(1, n_neigh)),n_to_sample)\n",
        "\n",
        "  X_base = X[base_indices]\n",
        "  X_neighbor = X[ind[base_indices, neighbor_indices]]\n",
        "\n",
        "  samples = X_base + np.multiply(np.random.rand(n_to_sample,1),\n",
        "          X_neighbor - X_base)\n",
        "\n",
        "  #use 10 as label because 0 to 9 real classes and 1 fake/smoted = 10\n",
        "  return samples, [cl]*n_to_sample"
      ]
    },
    {
      "cell_type": "markdown",
      "metadata": {
        "id": "5v7sLC2svMuJ"
      },
      "source": [
        "# Main"
      ]
    },
    {
      "cell_type": "code",
      "execution_count": 5,
      "metadata": {
        "colab": {
          "base_uri": "https://localhost:8080/"
        },
        "id": "qge6cnxQPnH6",
        "outputId": "bbf8fa00-17fd-43c9-c9d5-a93bd2edcd64"
      },
      "outputs": [
        {
          "output_type": "stream",
          "name": "stdout",
          "text": [
            "(5321, 224, 224, 3)\n",
            "(5321, 7)\n",
            "(193, 224, 224, 3)\n",
            "(193, 7)\n",
            "Counter train data:  Counter({5: 2011, 4: 1113, 2: 1099, 1: 514, 0: 327, 6: 142, 3: 115})\n",
            "Counter val data:  Counter({5: 123, 2: 22, 4: 21, 1: 15, 0: 8, 6: 3, 3: 1})\n"
          ]
        }
      ],
      "source": [
        "path = '/content/drive/MyDrive/PHD/Datasets/isic2018/'\n",
        "df1 = pd.read_pickle(path+\"isic2018_train.pkl\")\n",
        "X_train = df1.loc[:, df1.columns != 'y_train'].to_numpy()\n",
        "X_train = X_train.reshape(-1,224,224,3)\n",
        "y_train = df1.loc[:, df1.columns == 'y_train'].to_numpy()\n",
        "y_train = to_categorical(y_train)\n",
        "\n",
        "df1 = pd.read_pickle(path+\"isic2018_val.pkl\")\n",
        "X_val = df1.loc[:, df1.columns != 'y_val'].to_numpy()\n",
        "X_val = X_val.reshape(-1,224,224,3)\n",
        "y_val = df1.loc[:, df1.columns == 'y_val'].to_numpy()\n",
        "y_val = to_categorical(y_val)\n",
        "\n",
        "print(X_train.shape)\n",
        "print(y_train.shape)\n",
        "print(X_val.shape)\n",
        "print(y_val.shape)\n",
        "print('Counter train data: ', Counter(np.argmax(y_train, axis=1)))\n",
        "print('Counter val data: ', Counter(np.argmax(y_val, axis=1)))"
      ]
    },
    {
      "cell_type": "code",
      "execution_count": 10,
      "metadata": {
        "colab": {
          "base_uri": "https://localhost:8080/"
        },
        "id": "xArGWuciBt_-",
        "outputId": "a2a8c7f4-f5a1-4af5-9a64-b272685ea624"
      },
      "outputs": [
        {
          "output_type": "stream",
          "name": "stdout",
          "text": [
            "(14077, 32, 32, 3)\n",
            "(14077, 7)\n",
            "(193, 32, 32, 3)\n",
            "(193, 7)\n",
            "Counter train data:  Counter({5: 2011, 4: 2011, 2: 2011, 3: 2011, 0: 2011, 1: 2011, 6: 2011})\n",
            "Counter val data:  Counter({5: 123, 2: 22, 4: 21, 1: 15, 0: 8, 6: 3, 3: 1})\n"
          ]
        }
      ],
      "source": [
        "#X_train, y_train = SMOTE_Data(X_train, y_train, True)\n",
        "X_train, y_train = Borderline_SMOTE(X_train, y_train)\n",
        "print(X_train.shape)\n",
        "print(y_train.shape)\n",
        "print(X_val.shape)\n",
        "print(y_val.shape)\n",
        "print('Counter train data: ', Counter(np.argmax(y_train, axis=1)))\n",
        "print('Counter val data: ', Counter(np.argmax(y_val, axis=1)))"
      ]
    },
    {
      "cell_type": "code",
      "execution_count": 9,
      "metadata": {
        "id": "V7Z_nccu6QjB"
      },
      "outputs": [],
      "source": [
        "#path = '/content/drive/MyDrive/PHD/Datasets/isic2018/'\n",
        "#df1 = pd.DataFrame(X_train.reshape(X_train.shape[0],-1))\n",
        "#df1['y_train'] = np.argmax(y_train, axis=1).tolist()\n",
        "#df2 = pd.DataFrame(X_val.reshape(X_val.shape[0],-1))\n",
        "#df2['y_val'] = np.argmax(y_val, axis=1).tolist()\n",
        "#df1.to_pickle(path+\"isic2018_train_32.pkl\")\n",
        "#df2.to_pickle(path+\"isic2018_val_32.pkl\")"
      ]
    },
    {
      "cell_type": "code",
      "execution_count": 8,
      "metadata": {
        "id": "nAMBgWqIsAAB",
        "colab": {
          "base_uri": "https://localhost:8080/"
        },
        "outputId": "aae3bd98-457d-41fb-a6d5-4cd90f9c5bbc"
      },
      "outputs": [
        {
          "output_type": "stream",
          "name": "stdout",
          "text": [
            "(5321, 32, 32, 3)\n",
            "(5321, 7)\n",
            "(193, 32, 32, 3)\n",
            "(193, 7)\n",
            "Counter train data:  Counter({5: 2011, 4: 1113, 2: 1099, 1: 514, 0: 327, 6: 142, 3: 115})\n",
            "Counter val data:  Counter({5: 123, 2: 22, 4: 21, 1: 15, 0: 8, 6: 3, 3: 1})\n"
          ]
        }
      ],
      "source": [
        "print(X_train.shape)\n",
        "print(y_train.shape)\n",
        "print(X_val.shape)\n",
        "print(y_val.shape)\n",
        "print('Counter train data: ', Counter(np.argmax(y_train, axis=1)))\n",
        "print('Counter val data: ', Counter(np.argmax(y_val, axis=1)))"
      ]
    },
    {
      "cell_type": "code",
      "execution_count": 8,
      "metadata": {
        "colab": {
          "base_uri": "https://localhost:8080/",
          "height": 1000
        },
        "id": "vIygrW81Ln4z",
        "outputId": "952789f9-e874-4403-d721-bcc3b849a496"
      },
      "outputs": [
        {
          "output_type": "stream",
          "name": "stdout",
          "text": [
            "Epoch 1/100\n",
            "83/83 [==============================] - ETA: 0s - loss: 1.5232 - accuracy: 0.4226 - balanced_acc: 0.2066\n",
            "Epoch 1: val_balanced_acc improved from -inf to 0.21106, saving model to /content/drive/MyDrive/PHD/Model/best_model_attention.h5\n",
            "83/83 [==============================] - 34s 237ms/step - loss: 1.5232 - accuracy: 0.4226 - balanced_acc: 0.2066 - val_loss: 1.0507 - val_accuracy: 0.6684 - val_balanced_acc: 0.2111 - lr: 0.0010\n",
            "Epoch 2/100\n",
            "83/83 [==============================] - ETA: 0s - loss: 1.2565 - accuracy: 0.5100 - balanced_acc: 0.2778\n",
            "Epoch 2: val_balanced_acc improved from 0.21106 to 0.26719, saving model to /content/drive/MyDrive/PHD/Model/best_model_attention.h5\n",
            "83/83 [==============================] - 19s 221ms/step - loss: 1.2565 - accuracy: 0.5100 - balanced_acc: 0.2778 - val_loss: 0.9418 - val_accuracy: 0.6995 - val_balanced_acc: 0.2672 - lr: 0.0010\n",
            "Epoch 3/100\n",
            "83/83 [==============================] - ETA: 0s - loss: 1.1672 - accuracy: 0.5484 - balanced_acc: 0.3194\n",
            "Epoch 3: val_balanced_acc did not improve from 0.26719\n",
            "83/83 [==============================] - 17s 201ms/step - loss: 1.1672 - accuracy: 0.5484 - balanced_acc: 0.3194 - val_loss: 0.8990 - val_accuracy: 0.6839 - val_balanced_acc: 0.2412 - lr: 0.0010\n",
            "Epoch 4/100\n",
            "83/83 [==============================] - ETA: 0s - loss: 1.1050 - accuracy: 0.5758 - balanced_acc: 0.3474\n",
            "Epoch 4: val_balanced_acc did not improve from 0.26719\n",
            "83/83 [==============================] - 17s 210ms/step - loss: 1.1050 - accuracy: 0.5758 - balanced_acc: 0.3474 - val_loss: 0.8691 - val_accuracy: 0.6995 - val_balanced_acc: 0.2618 - lr: 0.0010\n",
            "Epoch 5/100\n",
            "83/83 [==============================] - ETA: 0s - loss: 1.0674 - accuracy: 0.5950 - balanced_acc: 0.3807\n",
            "Epoch 5: val_balanced_acc improved from 0.26719 to 0.27812, saving model to /content/drive/MyDrive/PHD/Model/best_model_attention.h5\n",
            "83/83 [==============================] - 19s 231ms/step - loss: 1.0674 - accuracy: 0.5950 - balanced_acc: 0.3807 - val_loss: 0.8321 - val_accuracy: 0.7150 - val_balanced_acc: 0.2781 - lr: 0.0010\n",
            "Epoch 6/100\n",
            "83/83 [==============================] - ETA: 0s - loss: 1.0303 - accuracy: 0.6041 - balanced_acc: 0.3932\n",
            "Epoch 6: val_balanced_acc improved from 0.27812 to 0.29385, saving model to /content/drive/MyDrive/PHD/Model/best_model_attention.h5\n",
            "83/83 [==============================] - 19s 226ms/step - loss: 1.0303 - accuracy: 0.6041 - balanced_acc: 0.3932 - val_loss: 0.8022 - val_accuracy: 0.7306 - val_balanced_acc: 0.2939 - lr: 0.0010\n",
            "Epoch 7/100\n",
            "83/83 [==============================] - ETA: 0s - loss: 1.0042 - accuracy: 0.6182 - balanced_acc: 0.4127\n",
            "Epoch 7: val_balanced_acc did not improve from 0.29385\n",
            "83/83 [==============================] - 17s 204ms/step - loss: 1.0042 - accuracy: 0.6182 - balanced_acc: 0.4127 - val_loss: 0.7979 - val_accuracy: 0.7202 - val_balanced_acc: 0.2919 - lr: 0.0010\n",
            "Epoch 8/100\n",
            "83/83 [==============================] - ETA: 0s - loss: 0.9816 - accuracy: 0.6302 - balanced_acc: 0.4217\n",
            "Epoch 8: val_balanced_acc improved from 0.29385 to 0.44139, saving model to /content/drive/MyDrive/PHD/Model/best_model_attention.h5\n",
            "83/83 [==============================] - 19s 228ms/step - loss: 0.9816 - accuracy: 0.6302 - balanced_acc: 0.4217 - val_loss: 0.7618 - val_accuracy: 0.7513 - val_balanced_acc: 0.4414 - lr: 0.0010\n",
            "Epoch 9/100\n",
            "83/83 [==============================] - ETA: 0s - loss: 0.9595 - accuracy: 0.6443 - balanced_acc: 0.4426\n",
            "Epoch 9: val_balanced_acc did not improve from 0.44139\n",
            "83/83 [==============================] - 17s 209ms/step - loss: 0.9595 - accuracy: 0.6443 - balanced_acc: 0.4426 - val_loss: 0.7556 - val_accuracy: 0.7617 - val_balanced_acc: 0.3064 - lr: 0.0010\n",
            "Epoch 10/100\n",
            "83/83 [==============================] - ETA: 0s - loss: 0.9328 - accuracy: 0.6494 - balanced_acc: 0.4612\n",
            "Epoch 10: val_balanced_acc did not improve from 0.44139\n",
            "83/83 [==============================] - 17s 209ms/step - loss: 0.9328 - accuracy: 0.6494 - balanced_acc: 0.4612 - val_loss: 0.7790 - val_accuracy: 0.7202 - val_balanced_acc: 0.4353 - lr: 0.0010\n",
            "Epoch 11/100\n",
            "83/83 [==============================] - ETA: 0s - loss: 0.9183 - accuracy: 0.6572 - balanced_acc: 0.4743\n",
            "Epoch 11: val_balanced_acc did not improve from 0.44139\n",
            "83/83 [==============================] - 17s 207ms/step - loss: 0.9183 - accuracy: 0.6572 - balanced_acc: 0.4743 - val_loss: 0.7385 - val_accuracy: 0.7358 - val_balanced_acc: 0.2947 - lr: 0.0010\n",
            "Epoch 12/100\n",
            "83/83 [==============================] - ETA: 0s - loss: 0.9060 - accuracy: 0.6627 - balanced_acc: 0.4848\n",
            "Epoch 12: val_balanced_acc did not improve from 0.44139\n",
            "83/83 [==============================] - 17s 207ms/step - loss: 0.9060 - accuracy: 0.6627 - balanced_acc: 0.4848 - val_loss: 0.7513 - val_accuracy: 0.7306 - val_balanced_acc: 0.3263 - lr: 0.0010\n",
            "Epoch 13/100\n",
            "83/83 [==============================] - ETA: 0s - loss: 0.8861 - accuracy: 0.6688 - balanced_acc: 0.4920\n",
            "Epoch 13: val_balanced_acc did not improve from 0.44139\n",
            "83/83 [==============================] - 17s 207ms/step - loss: 0.8861 - accuracy: 0.6688 - balanced_acc: 0.4920 - val_loss: 0.7091 - val_accuracy: 0.7668 - val_balanced_acc: 0.3240 - lr: 0.0010\n",
            "Epoch 14/100\n",
            "83/83 [==============================] - ETA: 0s - loss: 0.8854 - accuracy: 0.6692 - balanced_acc: 0.4940\n",
            "Epoch 14: val_balanced_acc did not improve from 0.44139\n",
            "83/83 [==============================] - 17s 207ms/step - loss: 0.8854 - accuracy: 0.6692 - balanced_acc: 0.4940 - val_loss: 0.7253 - val_accuracy: 0.7202 - val_balanced_acc: 0.3254 - lr: 0.0010\n",
            "Epoch 15/100\n",
            "83/83 [==============================] - ETA: 0s - loss: 0.8628 - accuracy: 0.6778 - balanced_acc: 0.4983\n",
            "Epoch 15: val_balanced_acc did not improve from 0.44139\n",
            "83/83 [==============================] - 17s 208ms/step - loss: 0.8628 - accuracy: 0.6778 - balanced_acc: 0.4983 - val_loss: 0.7131 - val_accuracy: 0.7409 - val_balanced_acc: 0.3202 - lr: 0.0010\n",
            "Epoch 16/100\n",
            "83/83 [==============================] - ETA: 0s - loss: 0.8478 - accuracy: 0.6797 - balanced_acc: 0.5047\n",
            "Epoch 16: val_balanced_acc did not improve from 0.44139\n",
            "83/83 [==============================] - 17s 208ms/step - loss: 0.8478 - accuracy: 0.6797 - balanced_acc: 0.5047 - val_loss: 0.6919 - val_accuracy: 0.7668 - val_balanced_acc: 0.3401 - lr: 0.0010\n",
            "Epoch 17/100\n",
            "83/83 [==============================] - ETA: 0s - loss: 0.8433 - accuracy: 0.6829 - balanced_acc: 0.5087\n",
            "Epoch 17: val_balanced_acc did not improve from 0.44139\n",
            "83/83 [==============================] - 17s 208ms/step - loss: 0.8433 - accuracy: 0.6829 - balanced_acc: 0.5087 - val_loss: 0.6717 - val_accuracy: 0.7720 - val_balanced_acc: 0.3797 - lr: 0.0010\n",
            "Epoch 18/100\n",
            "83/83 [==============================] - ETA: 0s - loss: 0.8270 - accuracy: 0.6916 - balanced_acc: 0.5175\n",
            "Epoch 18: val_balanced_acc did not improve from 0.44139\n",
            "83/83 [==============================] - 17s 207ms/step - loss: 0.8270 - accuracy: 0.6916 - balanced_acc: 0.5175 - val_loss: 0.6856 - val_accuracy: 0.7668 - val_balanced_acc: 0.3628 - lr: 0.0010\n",
            "Epoch 19/100\n",
            "83/83 [==============================] - ETA: 0s - loss: 0.8284 - accuracy: 0.6888 - balanced_acc: 0.5247\n",
            "Epoch 19: val_balanced_acc did not improve from 0.44139\n",
            "83/83 [==============================] - 17s 206ms/step - loss: 0.8284 - accuracy: 0.6888 - balanced_acc: 0.5247 - val_loss: 0.7016 - val_accuracy: 0.7358 - val_balanced_acc: 0.3767 - lr: 0.0010\n",
            "Epoch 20/100\n",
            "83/83 [==============================] - ETA: 0s - loss: 0.8060 - accuracy: 0.7105 - balanced_acc: 0.5531\n",
            "Epoch 20: val_balanced_acc did not improve from 0.44139\n",
            "83/83 [==============================] - 17s 207ms/step - loss: 0.8060 - accuracy: 0.7105 - balanced_acc: 0.5531 - val_loss: 0.6909 - val_accuracy: 0.7617 - val_balanced_acc: 0.3908 - lr: 0.0010\n",
            "Epoch 21/100\n",
            "83/83 [==============================] - ETA: 0s - loss: 0.8093 - accuracy: 0.6972 - balanced_acc: 0.5305\n",
            "Epoch 21: val_balanced_acc did not improve from 0.44139\n",
            "83/83 [==============================] - 17s 207ms/step - loss: 0.8093 - accuracy: 0.6972 - balanced_acc: 0.5305 - val_loss: 0.6792 - val_accuracy: 0.7668 - val_balanced_acc: 0.3246 - lr: 0.0010\n",
            "Epoch 22/100\n",
            "83/83 [==============================] - ETA: 0s - loss: 0.7997 - accuracy: 0.7042 - balanced_acc: 0.5490\n",
            "Epoch 22: val_balanced_acc did not improve from 0.44139\n",
            "83/83 [==============================] - 17s 207ms/step - loss: 0.7997 - accuracy: 0.7042 - balanced_acc: 0.5490 - val_loss: 0.6767 - val_accuracy: 0.7668 - val_balanced_acc: 0.3887 - lr: 0.0010\n",
            "Epoch 23/100\n",
            "83/83 [==============================] - ETA: 0s - loss: 0.7829 - accuracy: 0.7088 - balanced_acc: 0.5587\n",
            "Epoch 23: val_balanced_acc did not improve from 0.44139\n",
            "83/83 [==============================] - 17s 207ms/step - loss: 0.7829 - accuracy: 0.7088 - balanced_acc: 0.5587 - val_loss: 0.6697 - val_accuracy: 0.7720 - val_balanced_acc: 0.3870 - lr: 0.0010\n",
            "Epoch 24/100\n",
            "83/83 [==============================] - ETA: 0s - loss: 0.7711 - accuracy: 0.7139 - balanced_acc: 0.5458\n",
            "Epoch 24: val_balanced_acc did not improve from 0.44139\n",
            "83/83 [==============================] - 17s 207ms/step - loss: 0.7711 - accuracy: 0.7139 - balanced_acc: 0.5458 - val_loss: 0.6696 - val_accuracy: 0.7668 - val_balanced_acc: 0.3264 - lr: 0.0010\n",
            "Epoch 25/100\n",
            "83/83 [==============================] - ETA: 0s - loss: 0.7604 - accuracy: 0.7223 - balanced_acc: 0.5777\n",
            "Epoch 25: val_balanced_acc did not improve from 0.44139\n",
            "83/83 [==============================] - 17s 207ms/step - loss: 0.7604 - accuracy: 0.7223 - balanced_acc: 0.5777 - val_loss: 0.6685 - val_accuracy: 0.7772 - val_balanced_acc: 0.3920 - lr: 0.0010\n",
            "Epoch 26/100\n",
            "83/83 [==============================] - ETA: 0s - loss: 0.7694 - accuracy: 0.7179 - balanced_acc: 0.5651\n",
            "Epoch 26: val_balanced_acc did not improve from 0.44139\n",
            "83/83 [==============================] - 17s 207ms/step - loss: 0.7694 - accuracy: 0.7179 - balanced_acc: 0.5651 - val_loss: 0.6386 - val_accuracy: 0.7824 - val_balanced_acc: 0.3870 - lr: 0.0010\n",
            "Epoch 27/100\n",
            "83/83 [==============================] - ETA: 0s - loss: 0.7589 - accuracy: 0.7242 - balanced_acc: 0.5881\n",
            "Epoch 27: val_balanced_acc did not improve from 0.44139\n",
            "83/83 [==============================] - 17s 207ms/step - loss: 0.7589 - accuracy: 0.7242 - balanced_acc: 0.5881 - val_loss: 0.6706 - val_accuracy: 0.7565 - val_balanced_acc: 0.3911 - lr: 0.0010\n",
            "Epoch 28/100\n",
            "83/83 [==============================] - ETA: 0s - loss: 0.7485 - accuracy: 0.7276 - balanced_acc: 0.5906\n",
            "Epoch 28: ReduceLROnPlateau reducing learning rate to 0.0005000000237487257.\n",
            "\n",
            "Epoch 28: val_balanced_acc did not improve from 0.44139\n",
            "83/83 [==============================] - 17s 207ms/step - loss: 0.7485 - accuracy: 0.7276 - balanced_acc: 0.5906 - val_loss: 0.6509 - val_accuracy: 0.7720 - val_balanced_acc: 0.4051 - lr: 0.0010\n",
            "Epoch 29/100\n",
            "83/83 [==============================] - ETA: 0s - loss: 0.7346 - accuracy: 0.7365 - balanced_acc: 0.5858\n",
            "Epoch 29: val_balanced_acc did not improve from 0.44139\n",
            "83/83 [==============================] - 17s 208ms/step - loss: 0.7346 - accuracy: 0.7365 - balanced_acc: 0.5858 - val_loss: 0.6501 - val_accuracy: 0.7772 - val_balanced_acc: 0.3859 - lr: 5.0000e-04\n",
            "Epoch 30/100\n",
            "83/83 [==============================] - ETA: 0s - loss: 0.7448 - accuracy: 0.7249 - balanced_acc: 0.5902\n",
            "Epoch 30: val_balanced_acc did not improve from 0.44139\n",
            "83/83 [==============================] - 17s 208ms/step - loss: 0.7448 - accuracy: 0.7249 - balanced_acc: 0.5902 - val_loss: 0.6447 - val_accuracy: 0.7824 - val_balanced_acc: 0.3870 - lr: 5.0000e-04\n",
            "Epoch 31/100\n",
            "83/83 [==============================] - ETA: 0s - loss: 0.7338 - accuracy: 0.7354 - balanced_acc: 0.5929\n",
            "Epoch 31: val_balanced_acc did not improve from 0.44139\n",
            "83/83 [==============================] - 17s 208ms/step - loss: 0.7338 - accuracy: 0.7354 - balanced_acc: 0.5929 - val_loss: 0.6416 - val_accuracy: 0.7720 - val_balanced_acc: 0.3900 - lr: 5.0000e-04\n",
            "Epoch 32/100\n",
            "83/83 [==============================] - ETA: 0s - loss: 0.7159 - accuracy: 0.7453 - balanced_acc: 0.5998\n",
            "Epoch 32: val_balanced_acc did not improve from 0.44139\n",
            "83/83 [==============================] - 17s 208ms/step - loss: 0.7159 - accuracy: 0.7453 - balanced_acc: 0.5998 - val_loss: 0.6535 - val_accuracy: 0.7720 - val_balanced_acc: 0.3873 - lr: 5.0000e-04\n",
            "Epoch 33/100\n",
            "83/83 [==============================] - ETA: 0s - loss: 0.7319 - accuracy: 0.7318 - balanced_acc: 0.5965\n",
            "Epoch 33: val_balanced_acc did not improve from 0.44139\n",
            "83/83 [==============================] - 17s 207ms/step - loss: 0.7319 - accuracy: 0.7318 - balanced_acc: 0.5965 - val_loss: 0.6384 - val_accuracy: 0.7772 - val_balanced_acc: 0.3859 - lr: 5.0000e-04\n",
            "Epoch 34/100\n",
            "83/83 [==============================] - ETA: 0s - loss: 0.7273 - accuracy: 0.7362 - balanced_acc: 0.6015\n",
            "Epoch 34: val_balanced_acc did not improve from 0.44139\n",
            "83/83 [==============================] - 17s 208ms/step - loss: 0.7273 - accuracy: 0.7362 - balanced_acc: 0.6015 - val_loss: 0.6541 - val_accuracy: 0.7668 - val_balanced_acc: 0.3837 - lr: 5.0000e-04\n",
            "Epoch 35/100\n",
            "83/83 [==============================] - ETA: 0s - loss: 0.7082 - accuracy: 0.7438 - balanced_acc: 0.6210\n",
            "Epoch 35: val_balanced_acc did not improve from 0.44139\n",
            "83/83 [==============================] - 17s 207ms/step - loss: 0.7082 - accuracy: 0.7438 - balanced_acc: 0.6210 - val_loss: 0.6356 - val_accuracy: 0.7668 - val_balanced_acc: 0.3777 - lr: 5.0000e-04\n",
            "Epoch 36/100\n",
            "83/83 [==============================] - ETA: 0s - loss: 0.7142 - accuracy: 0.7405 - balanced_acc: 0.5929\n",
            "Epoch 36: val_balanced_acc did not improve from 0.44139\n",
            "83/83 [==============================] - 17s 207ms/step - loss: 0.7142 - accuracy: 0.7405 - balanced_acc: 0.5929 - val_loss: 0.6473 - val_accuracy: 0.7772 - val_balanced_acc: 0.3920 - lr: 5.0000e-04\n",
            "Epoch 37/100\n",
            "83/83 [==============================] - ETA: 0s - loss: 0.7225 - accuracy: 0.7388 - balanced_acc: 0.6181\n",
            "Epoch 37: val_balanced_acc did not improve from 0.44139\n",
            "83/83 [==============================] - 17s 207ms/step - loss: 0.7225 - accuracy: 0.7388 - balanced_acc: 0.6181 - val_loss: 0.6621 - val_accuracy: 0.7513 - val_balanced_acc: 0.3837 - lr: 5.0000e-04\n",
            "Epoch 38/100\n",
            "83/83 [==============================] - ETA: 0s - loss: 0.6994 - accuracy: 0.7466 - balanced_acc: 0.6158\n",
            "Epoch 38: val_balanced_acc did not improve from 0.44139\n",
            "83/83 [==============================] - 17s 207ms/step - loss: 0.6994 - accuracy: 0.7466 - balanced_acc: 0.6158 - val_loss: 0.6397 - val_accuracy: 0.7772 - val_balanced_acc: 0.3920 - lr: 5.0000e-04\n"
          ]
        },
        {
          "output_type": "display_data",
          "data": {
            "text/plain": [
              "<Figure size 432x288 with 2 Axes>"
            ],
            "image/png": "[encoded data removed]"
          },
          "metadata": {
            "needs_background": "light"
          }
        }
      ],
      "source": [
        "# define model\n",
        "model = define_base_model('resnet50')\n",
        "#model.summary()\n",
        "hst = model.fit(X_train, y_train, epochs=EPOCHS, batch_size=BATCH_SIZE, validation_data=(X_val, y_val), verbose=1,\n",
        "                    steps_per_epoch=X_train.shape[0] // BATCH_SIZE, \n",
        "                    callbacks=[learning_rate_reduction,early_stopping_monitor, mc])\n",
        "# learning curves\n",
        "summarize_diagnostics(hst)"
      ]
    },
    {
      "cell_type": "code",
      "execution_count": 9,
      "metadata": {
        "id": "vXnW3lmCgln3",
        "colab": {
          "base_uri": "https://localhost:8080/",
          "height": 295
        },
        "outputId": "dcc24fbb-6a0a-4a65-cb3c-848a28b4daaf"
      },
      "outputs": [
        {
          "output_type": "display_data",
          "data": {
            "text/plain": [
              "<Figure size 432x288 with 1 Axes>"
            ],
            "image/png": "[encoded data removed]"
          },
          "metadata": {
            "needs_background": "light"
          }
        }
      ],
      "source": [
        "# summarize history for accuracy\n",
        "plt.plot(hst.history['accuracy'])\n",
        "plt.plot(hst.history['balanced_acc'])\n",
        "plt.plot(hst.history['val_accuracy'])\n",
        "plt.plot(hst.history['val_balanced_acc'])\n",
        "plt.title('Model accuracy')\n",
        "plt.ylabel('Performance')\n",
        "plt.xlabel('epoch')\n",
        "plt.legend(['train accuracy', 'train balanced acc.', 'val. accuracy', 'val. balanced acc.'], loc='lower right')\n",
        "plt.show()"
      ]
    },
    {
      "cell_type": "code",
      "execution_count": null,
      "metadata": {
        "id": "rwwLiXUSG0IZ"
      },
      "outputs": [],
      "source": [
        "#Training\n",
        "#hst = model.fit(train_data_batches,\n",
        "#                    epochs = EPOCHS, validation_data = valid_data_batches,      \n",
        "                    #steps_per_epoch=X_train.shape[0] // BATCH_SIZE, \n",
        "#                    callbacks=[learning_rate_reduction,early_stopping_monitor, mc])\n"
      ]
    },
    {
      "cell_type": "markdown",
      "metadata": {
        "id": "icgjmi-4UIT-"
      },
      "source": [
        "#Evaluate"
      ]
    },
    {
      "cell_type": "code",
      "execution_count": 14,
      "metadata": {
        "id": "SPz8NH1Oylv9"
      },
      "outputs": [],
      "source": [
        "#save last model\n",
        "model.save(last_model_fpath)"
      ]
    },
    {
      "cell_type": "code",
      "execution_count": 15,
      "metadata": {
        "colab": {
          "base_uri": "https://localhost:8080/",
          "height": 398
        },
        "id": "lS3ewyxO_anU",
        "outputId": "6b64472d-366a-486a-8d10-6ef73380bb4a"
      },
      "outputs": [
        {
          "output_type": "error",
          "ename": "InternalError",
          "evalue": "ignored",
          "traceback": [
            "\u001b[0;31m---------------------------------------------------------------------------\u001b[0m",
            "\u001b[0;31mInternalError\u001b[0m                             Traceback (most recent call last)",
            "\u001b[0;32m<ipython-input-15-f3831cbf62ab>\u001b[0m in \u001b[0;36m<module>\u001b[0;34m\u001b[0m\n\u001b[1;32m      1\u001b[0m \u001b[0mlast_model\u001b[0m \u001b[0;34m=\u001b[0m \u001b[0mload_model\u001b[0m\u001b[0;34m(\u001b[0m\u001b[0mlast_model_fpath\u001b[0m\u001b[0;34m,\u001b[0m \u001b[0mcustom_objects\u001b[0m\u001b[0;34m=\u001b[0m\u001b[0;34m{\u001b[0m\u001b[0;34m'balanced_acc'\u001b[0m \u001b[0;34m:\u001b[0m \u001b[0mbalanced_acc\u001b[0m\u001b[0;34m}\u001b[0m\u001b[0;34m)\u001b[0m\u001b[0;34m\u001b[0m\u001b[0;34m\u001b[0m\u001b[0m\n\u001b[0;32m----> 2\u001b[0;31m \u001b[0my_train_pred\u001b[0m \u001b[0;34m=\u001b[0m \u001b[0mlast_model\u001b[0m\u001b[0;34m.\u001b[0m\u001b[0mpredict\u001b[0m\u001b[0;34m(\u001b[0m\u001b[0mX_train\u001b[0m\u001b[0;34m)\u001b[0m\u001b[0;34m\u001b[0m\u001b[0;34m\u001b[0m\u001b[0m\n\u001b[0m\u001b[1;32m      3\u001b[0m \u001b[0my_val_pred\u001b[0m \u001b[0;34m=\u001b[0m \u001b[0mlast_model\u001b[0m\u001b[0;34m.\u001b[0m\u001b[0mpredict\u001b[0m\u001b[0;34m(\u001b[0m\u001b[0mX_val\u001b[0m\u001b[0;34m)\u001b[0m\u001b[0;34m\u001b[0m\u001b[0;34m\u001b[0m\u001b[0m\n\u001b[1;32m      4\u001b[0m \u001b[0;34m\u001b[0m\u001b[0m\n\u001b[1;32m      5\u001b[0m \u001b[0;31m#print('accuracy on training',accuracy_score(np.argmax(y_train, axis=1), np.argmax(y_train_pred, axis=1)))\u001b[0m\u001b[0;34m\u001b[0m\u001b[0;34m\u001b[0m\u001b[0;34m\u001b[0m\u001b[0m\n",
            "\u001b[0;32m/usr/local/lib/python3.7/dist-packages/keras/utils/traceback_utils.py\u001b[0m in \u001b[0;36merror_handler\u001b[0;34m(*args, **kwargs)\u001b[0m\n\u001b[1;32m     65\u001b[0m     \u001b[0;32mexcept\u001b[0m \u001b[0mException\u001b[0m \u001b[0;32mas\u001b[0m \u001b[0me\u001b[0m\u001b[0;34m:\u001b[0m  \u001b[0;31m# pylint: disable=broad-except\u001b[0m\u001b[0;34m\u001b[0m\u001b[0;34m\u001b[0m\u001b[0m\n\u001b[1;32m     66\u001b[0m       \u001b[0mfiltered_tb\u001b[0m \u001b[0;34m=\u001b[0m \u001b[0m_process_traceback_frames\u001b[0m\u001b[0;34m(\u001b[0m\u001b[0me\u001b[0m\u001b[0;34m.\u001b[0m\u001b[0m__traceback__\u001b[0m\u001b[0;34m)\u001b[0m\u001b[0;34m\u001b[0m\u001b[0;34m\u001b[0m\u001b[0m\n\u001b[0;32m---> 67\u001b[0;31m       \u001b[0;32mraise\u001b[0m \u001b[0me\u001b[0m\u001b[0;34m.\u001b[0m\u001b[0mwith_traceback\u001b[0m\u001b[0;34m(\u001b[0m\u001b[0mfiltered_tb\u001b[0m\u001b[0;34m)\u001b[0m \u001b[0;32mfrom\u001b[0m \u001b[0;32mNone\u001b[0m\u001b[0;34m\u001b[0m\u001b[0;34m\u001b[0m\u001b[0m\n\u001b[0m\u001b[1;32m     68\u001b[0m     \u001b[0;32mfinally\u001b[0m\u001b[0;34m:\u001b[0m\u001b[0;34m\u001b[0m\u001b[0;34m\u001b[0m\u001b[0m\n\u001b[1;32m     69\u001b[0m       \u001b[0;32mdel\u001b[0m \u001b[0mfiltered_tb\u001b[0m\u001b[0;34m\u001b[0m\u001b[0;34m\u001b[0m\u001b[0m\n",
            "\u001b[0;32m/usr/local/lib/python3.7/dist-packages/tensorflow/python/framework/constant_op.py\u001b[0m in \u001b[0;36mconvert_to_eager_tensor\u001b[0;34m(value, ctx, dtype)\u001b[0m\n\u001b[1;32m    100\u001b[0m       \u001b[0mdtype\u001b[0m \u001b[0;34m=\u001b[0m \u001b[0mdtypes\u001b[0m\u001b[0;34m.\u001b[0m\u001b[0mas_dtype\u001b[0m\u001b[0;34m(\u001b[0m\u001b[0mdtype\u001b[0m\u001b[0;34m)\u001b[0m\u001b[0;34m.\u001b[0m\u001b[0mas_datatype_enum\u001b[0m\u001b[0;34m\u001b[0m\u001b[0;34m\u001b[0m\u001b[0m\n\u001b[1;32m    101\u001b[0m   \u001b[0mctx\u001b[0m\u001b[0;34m.\u001b[0m\u001b[0mensure_initialized\u001b[0m\u001b[0;34m(\u001b[0m\u001b[0;34m)\u001b[0m\u001b[0;34m\u001b[0m\u001b[0;34m\u001b[0m\u001b[0m\n\u001b[0;32m--> 102\u001b[0;31m   \u001b[0;32mreturn\u001b[0m \u001b[0mops\u001b[0m\u001b[0;34m.\u001b[0m\u001b[0mEagerTensor\u001b[0m\u001b[0;34m(\u001b[0m\u001b[0mvalue\u001b[0m\u001b[0;34m,\u001b[0m \u001b[0mctx\u001b[0m\u001b[0;34m.\u001b[0m\u001b[0mdevice_name\u001b[0m\u001b[0;34m,\u001b[0m \u001b[0mdtype\u001b[0m\u001b[0;34m)\u001b[0m\u001b[0;34m\u001b[0m\u001b[0;34m\u001b[0m\u001b[0m\n\u001b[0m\u001b[1;32m    103\u001b[0m \u001b[0;34m\u001b[0m\u001b[0m\n\u001b[1;32m    104\u001b[0m \u001b[0;34m\u001b[0m\u001b[0m\n",
            "\u001b[0;31mInternalError\u001b[0m: Failed copying input tensor from /job:localhost/replica:0/task:0/device:CPU:0 to /job:localhost/replica:0/task:0/device:GPU:0 in order to run _EagerConst: Dst tensor is not initialized."
          ]
        }
      ],
      "source": [
        "last_model = load_model(last_model_fpath, custom_objects={'balanced_acc' : balanced_acc})\n",
        "y_train_pred = last_model.predict(X_train)\n",
        "y_val_pred = last_model.predict(X_val)\n",
        "\n",
        "#print('accuracy on training',accuracy_score(np.argmax(y_train, axis=1), np.argmax(y_train_pred, axis=1)))\n",
        "print('accuracy on training',accuracy_score(np.argmax(y_train, axis=1), np.argmax(y_train_pred, axis=1)))\n",
        "print('balanced accuracy on training',balanced_accuracy_score(np.argmax(y_train, axis=1), np.argmax(y_train_pred, axis=1)))\n",
        "print('accuracy on validation',accuracy_score(np.argmax(y_val, axis=1), np.argmax(y_val_pred, axis=1)))\n",
        "print('balanced accuracy on validation',balanced_accuracy_score(np.argmax(y_val, axis=1), np.argmax(y_val_pred, axis=1)))\n",
        "print('Score on val data: ',precision_recall_fscore_support(np.argmax(y_val, axis=1), np.argmax(y_val_pred, axis=1), average='macro'))"
      ]
    },
    {
      "cell_type": "code",
      "execution_count": null,
      "metadata": {
        "id": "W3IyWjdGG4Xq"
      },
      "outputs": [],
      "source": [
        "best_model = load_model(best_model_fpath, custom_objects={'balanced_acc' : balanced_acc})\n",
        "y_train_pred = best_model.predict(X_train)\n",
        "y_val_pred = best_model.predict(X_val)\n",
        "\n",
        "print('accuracy on training',accuracy_score(np.argmax(y_train, axis=1), np.argmax(y_train_pred, axis=1)))\n",
        "print('balanced accuracy on training',balanced_accuracy_score(np.argmax(y_train, axis=1), np.argmax(y_train_pred, axis=1)))\n",
        "print('accuracy on validation',accuracy_score(np.argmax(y_val, axis=1), np.argmax(y_val_pred, axis=1)))\n",
        "print('balanced accuracy on validation',balanced_accuracy_score(np.argmax(y_val, axis=1), np.argmax(y_val_pred, axis=1)))\n",
        "print('Score on val data: ',precision_recall_fscore_support(np.argmax(y_val, axis=1), np.argmax(y_val_pred, axis=1), average='macro'))"
      ]
    },
    {
      "cell_type": "markdown",
      "metadata": {
        "id": "iDRWiTnO0MGh"
      },
      "source": [
        "#Cut-off"
      ]
    },
    {
      "cell_type": "code",
      "execution_count": null,
      "metadata": {
        "id": "tGnCoIdLyDHS"
      },
      "outputs": [],
      "source": [
        "df_val_pred = pd.DataFrame(y_val_pred, columns = ['AKIEC', 'BCC', 'BKL', 'DF', 'MEL', 'NV', 'VASC'])"
      ]
    },
    {
      "cell_type": "code",
      "execution_count": null,
      "metadata": {
        "id": "QdyCbloQyWTC"
      },
      "outputs": [],
      "source": [
        "numbers = [float(x)/40 for x in range(11)]\n",
        "for i in numbers:\n",
        "    df_val_pred[i]= df_val_pred.MEL.map(lambda x: 1 if x > i else 0)\n",
        "df_val_pred.head()"
      ]
    },
    {
      "cell_type": "code",
      "execution_count": null,
      "metadata": {
        "id": "G4SQsRx73kgk"
      },
      "outputs": [],
      "source": [
        "y_val_true= [1 if x == 4 else 0 for x in np.argmax(y_val, axis=1)]"
      ]
    },
    {
      "cell_type": "code",
      "execution_count": null,
      "metadata": {
        "id": "QcUISWFi0J05"
      },
      "outputs": [],
      "source": [
        "#num = [0.0,0.05,0.1,0.15,0.2,0.25,0.3,0.35,0.4,0.45,0.5]\n",
        "cutoff_df = pd.DataFrame( columns = ['Probability','Accuracy','Sensitivity','Specificity'])\n",
        "for i in numbers:\n",
        "    cm1 = confusion_matrix(y_val_true, df_val_pred[i])\n",
        "    total1=sum(sum(cm1))\n",
        "    Accuracy = (cm1[0,0]+cm1[1,1])/total1\n",
        "    Specificity = cm1[0,0]/(cm1[0,0]+cm1[0,1])\n",
        "    Sensitivity = cm1[1,1]/(cm1[1,0]+cm1[1,1])\n",
        "    cutoff_df.loc[i] =[ i ,Accuracy,Sensitivity,Specificity]"
      ]
    },
    {
      "cell_type": "code",
      "execution_count": null,
      "metadata": {
        "id": "W31LSzov1tCt"
      },
      "outputs": [],
      "source": [
        "cutoff_df[['Accuracy','Sensitivity','Specificity']].plot()\n",
        "\n",
        "plt.show()"
      ]
    },
    {
      "cell_type": "code",
      "execution_count": null,
      "metadata": {
        "id": "P6CIKT94Jqye"
      },
      "outputs": [],
      "source": [
        "i = 0.025\n",
        "cm1 = confusion_matrix(y_val_true, df_val_pred[i])\n",
        "total1=sum(sum(cm1))\n",
        "Accuracy = (cm1[0,0]+cm1[1,1])/total1\n",
        "Specificity = cm1[0,0]/(cm1[0,0]+cm1[0,1])\n",
        "Sensitivity = cm1[1,1]/(cm1[1,0]+cm1[1,1])"
      ]
    },
    {
      "cell_type": "code",
      "execution_count": null,
      "metadata": {
        "id": "3U2tkFebL_VC"
      },
      "outputs": [],
      "source": [
        "print('Accuracy: ', Accuracy)\n",
        "print('Sensitivity: ', Sensitivity)\n",
        "print('Specificity: ', Specificity)"
      ]
    },
    {
      "cell_type": "markdown",
      "metadata": {
        "id": "eaK4zbtoaAaC"
      },
      "source": [
        "#Confusion Metric on Validation Set"
      ]
    },
    {
      "cell_type": "code",
      "execution_count": null,
      "metadata": {
        "id": "YkPOFLehOmFg"
      },
      "outputs": [],
      "source": [
        "#change melanoma flag back to 4\n",
        "df_val_pred[df_val_pred[i] == 1] = 4\n",
        "#decode one-hot y_val_pred while use cut-off melanoma data\n",
        "condition = df_val_pred[i] == 4\n",
        "y_val_pred2 = np.where(condition, df_val_pred[i], np.argmax(y_val_pred, axis=1))"
      ]
    },
    {
      "cell_type": "code",
      "execution_count": null,
      "metadata": {
        "id": "LOVl6dWlTDLo"
      },
      "outputs": [],
      "source": [
        "print('Accuracy: ',accuracy_score(np.argmax(y_val, axis=1), y_val_pred2))\n",
        "print('Balanced accuracy: ',balanced_accuracy_score(np.argmax(y_val, axis=1), y_val_pred2))"
      ]
    },
    {
      "cell_type": "code",
      "execution_count": null,
      "metadata": {
        "id": "mqvYutTKRhR_"
      },
      "outputs": [],
      "source": [
        "#Get the confusion matrix\n",
        "cf_matrix = confusion_matrix(np.argmax(y_val, axis=1), y_val_pred2)\n",
        "print(cf_matrix)"
      ]
    },
    {
      "cell_type": "code",
      "execution_count": null,
      "metadata": {
        "id": "gVtvW3YeaLlC"
      },
      "outputs": [],
      "source": [
        "ax = sns.heatmap(cf_matrix / cf_matrix.sum(axis=1, keepdims=True), annot=True, \n",
        "            cmap='Blues')\n",
        "\n",
        "ax.set_title('Confusion Matrix \\n');\n",
        "ax.set_xlabel('\\nPredicted')\n",
        "ax.set_ylabel('Actual ');\n",
        "\n",
        "## Ticket labels - List must be in alphabetical order\n",
        "ax.xaxis.set_ticklabels(['AKIEC', 'BCC', 'BKL', 'DF', 'MEL', 'NV', 'VASC'])\n",
        "ax.yaxis.set_ticklabels(['AKIEC', 'BCC', 'BKL', 'DF', 'MEL', 'NV', 'VASC'])\n",
        "\n",
        "plt.rcParams[\"figure.figsize\"] = (15,3)\n",
        "\n",
        "## Display the visualization of the Confusion Matrix.\n",
        "plt.xticks(rotation=45, ha='right')\n",
        "plt.yticks(rotation=0, ha='right')\n",
        "plt.show()"
      ]
    },
    {
      "cell_type": "code",
      "execution_count": null,
      "metadata": {
        "id": "Ey-1yjWGeKs7"
      },
      "outputs": [],
      "source": [
        "# ordered count of rows per unique label\n",
        "#labels_count = df_val['Labels'].value_counts().sort_index()\n",
        "\n",
        "#f = plt.figure(figsize=(15, 6))\n",
        "#s = sns.barplot(x=labels_count.index,y=labels_count.values)\n",
        "#s.set_xticklabels(s.get_xticklabels(), rotation = 30)"
      ]
    },
    {
      "cell_type": "markdown",
      "metadata": {
        "id": "3K908bbiYwbS"
      },
      "source": [
        "#Testing"
      ]
    },
    {
      "cell_type": "code",
      "source": [
        "df_test = pd.read_pickle(path+\"isic2018_test.pkl\")\n",
        "X_train = df_test.loc[:, df_test.columns != 'y_train'].to_numpy()\n",
        "X_train = X_train.reshape(-1,224,224,3)"
      ],
      "metadata": {
        "id": "cN98sOWPyT3P"
      },
      "execution_count": null,
      "outputs": []
    },
    {
      "cell_type": "code",
      "execution_count": 26,
      "metadata": {
        "id": "NeMY2yvMYxsC"
      },
      "outputs": [],
      "source": [
        "#dir_test = '/content/drive/MyDrive/PHD/Datasets/isic2018/ISIC2018_Task3_Test_Input/'\n",
        "#filepaths = sorted( filter( lambda x: (os.path.isfile(os.path.join(dir_test, x))) and (x.endswith('.jpg')),\n",
        "#                        os.listdir(dir_test) ) )"
      ]
    },
    {
      "cell_type": "code",
      "execution_count": 27,
      "metadata": {
        "id": "6ic95mefkpG3"
      },
      "outputs": [],
      "source": [
        "#df_test = pd.DataFrame(filepaths, columns =['image'])\n",
        "#df_test['FilePaths'] = dir_test + df_test['image']\n",
        "#df_test"
      ]
    },
    {
      "cell_type": "code",
      "execution_count": 28,
      "metadata": {
        "id": "NBa1TxPuY8ni"
      },
      "outputs": [],
      "source": [
        "#df_test['image_px'] = df_test['FilePaths'].map(lambda x: np.asarray(Image.open(x).resize(IMG_SIZE)))"
      ]
    },
    {
      "cell_type": "code",
      "execution_count": 29,
      "metadata": {
        "id": "60LYAT7VsNOZ",
        "colab": {
          "base_uri": "https://localhost:8080/"
        },
        "outputId": "33bd32fe-fac9-4d07-87a9-2cce7336b6dd"
      },
      "outputs": [
        {
          "output_type": "stream",
          "name": "stdout",
          "text": [
            "(1512, 224, 224, 3)\n"
          ]
        }
      ],
      "source": [
        "#X_test = np.asarray(df_test['image_px'].tolist())\n",
        "#print(np.array(X_test).shape)"
      ]
    },
    {
      "cell_type": "code",
      "source": [
        "#df3 = pd.DataFrame(X_test.reshape(X_test.shape[0],-1))\n",
        "#df3.to_pickle(path+\"isic2018_test.pkl\")"
      ],
      "metadata": {
        "id": "JC17MArBxhSW"
      },
      "execution_count": 32,
      "outputs": []
    },
    {
      "cell_type": "code",
      "execution_count": 31,
      "metadata": {
        "id": "cXnnIIwC4cHE"
      },
      "outputs": [],
      "source": [
        "#preprocess\n",
        "#X_test = preprocess_image_input(X_test)"
      ]
    },
    {
      "cell_type": "markdown",
      "metadata": {
        "id": "FF7ml90JZ8FK"
      },
      "source": [
        "Calculate y_pred from training and testing for analysis"
      ]
    },
    {
      "cell_type": "code",
      "execution_count": 34,
      "metadata": {
        "id": "KeDTXdaMLmyU",
        "colab": {
          "base_uri": "https://localhost:8080/"
        },
        "outputId": "a6ea64da-79f0-424f-f913-5b0bd6c66170"
      },
      "outputs": [
        {
          "output_type": "execute_result",
          "data": {
            "text/plain": [
              "(1512, 2048)"
            ]
          },
          "metadata": {},
          "execution_count": 34
        }
      ],
      "source": [
        "X_test = model1.predict(X_test)\n",
        "X_test.shape"
      ]
    },
    {
      "cell_type": "code",
      "execution_count": 35,
      "metadata": {
        "id": "dIX0AmEFNv3Y",
        "colab": {
          "base_uri": "https://localhost:8080/"
        },
        "outputId": "3b58601a-b55c-4ef2-b817-f788416ed73c"
      },
      "outputs": [
        {
          "output_type": "stream",
          "name": "stdout",
          "text": [
            "Y_pred2 (1512, 7)\n"
          ]
        }
      ],
      "source": [
        "# predicting\n",
        "#CHANGE THE MODEL IF NECESSARY\n",
        "Y_test2 = model.predict(X_test)\n",
        "#Y_pred2 = model2.predict(X_test)\n",
        "print(\"Y_pred2\", Y_pred2.shape)"
      ]
    },
    {
      "cell_type": "code",
      "execution_count": 36,
      "metadata": {
        "id": "7oeArO5CtxGb"
      },
      "outputs": [],
      "source": [
        "df_pred = pd.DataFrame(Y_pred2, columns = ['AKIEC', 'BCC', 'BKL', 'DF', 'MEL', 'NV', 'VASC'])\n",
        "df_pred['image'] = df_test['FilePaths'].map(lambda x: x.replace(dir_test, '').replace('.jpg', ''))\n",
        "df_pred = df_pred[['image', 'MEL', 'NV', 'BCC', 'AKIEC', 'BKL', 'DF', 'VASC']]\n",
        "df_pred.set_index(\"image\", inplace = True)"
      ]
    },
    {
      "cell_type": "code",
      "execution_count": null,
      "metadata": {
        "id": "9ynyd8PjT589"
      },
      "outputs": [],
      "source": [
        "#update MEL data using cut-off value\n",
        "df_pred.MEL[df_pred.MEL > i] = 1"
      ]
    },
    {
      "cell_type": "code",
      "execution_count": null,
      "metadata": {
        "id": "fjRdONoQVMq0"
      },
      "outputs": [],
      "source": [
        "df_pred.loc[df_pred.MEL > i, ['NV', 'BCC', 'AKIEC', 'BKL', 'DF', 'VASC']] = 0"
      ]
    },
    {
      "cell_type": "code",
      "source": [
        "df_pred.head(5)"
      ],
      "metadata": {
        "colab": {
          "base_uri": "https://localhost:8080/",
          "height": 238
        },
        "id": "K4Iv_3s4z0R9",
        "outputId": "a7dca29b-4c36-4693-d619-9bd440e6a18f"
      },
      "execution_count": 37,
      "outputs": [
        {
          "output_type": "execute_result",
          "data": {
            "text/plain": [
              "                   MEL        NV       BCC     AKIEC       BKL        DF  \\\n",
              "image                                                                      \n",
              "ISIC_0034524  0.002193  0.930769  0.003427  0.000460  0.036592  0.004333   \n",
              "ISIC_0034525  0.122186  0.828252  0.002661  0.010148  0.009148  0.021819   \n",
              "ISIC_0034526  0.020197  0.003637  0.000938  0.028031  0.947131  0.000066   \n",
              "ISIC_0034527  0.131679  0.808747  0.000006  0.000279  0.059272  0.000017   \n",
              "ISIC_0034528  0.005777  0.840918  0.000002  0.000037  0.151937  0.001316   \n",
              "\n",
              "                      VASC  \n",
              "image                       \n",
              "ISIC_0034524  2.222793e-02  \n",
              "ISIC_0034525  5.786379e-03  \n",
              "ISIC_0034526  1.199605e-08  \n",
              "ISIC_0034527  6.856867e-08  \n",
              "ISIC_0034528  1.348875e-05  "
            ],
            "text/html": [
              "\n",
              "  <div id=\"df-5268f553-0d89-461e-9c87-fc1271d7e6d5\">\n",
              "    <div class=\"colab-df-container\">\n",
              "      <div>\n",
              "<style scoped>\n",
              "    .dataframe tbody tr th:only-of-type {\n",
              "        vertical-align: middle;\n",
              "    }\n",
              "\n",
              "    .dataframe tbody tr th {\n",
              "        vertical-align: top;\n",
              "    }\n",
              "\n",
              "    .dataframe thead th {\n",
              "        text-align: right;\n",
              "    }\n",
              "</style>\n",
              "<table border=\"1\" class=\"dataframe\">\n",
              "  <thead>\n",
              "    <tr style=\"text-align: right;\">\n",
              "      <th></th>\n",
              "      <th>MEL</th>\n",
              "      <th>NV</th>\n",
              "      <th>BCC</th>\n",
              "      <th>AKIEC</th>\n",
              "      <th>BKL</th>\n",
              "      <th>DF</th>\n",
              "      <th>VASC</th>\n",
              "    </tr>\n",
              "    <tr>\n",
              "      <th>image</th>\n",
              "      <th></th>\n",
              "      <th></th>\n",
              "      <th></th>\n",
              "      <th></th>\n",
              "      <th></th>\n",
              "      <th></th>\n",
              "      <th></th>\n",
              "    </tr>\n",
              "  </thead>\n",
              "  <tbody>\n",
              "    <tr>\n",
              "      <th>ISIC_0034524</th>\n",
              "      <td>0.002193</td>\n",
              "      <td>0.930769</td>\n",
              "      <td>0.003427</td>\n",
              "      <td>0.000460</td>\n",
              "      <td>0.036592</td>\n",
              "      <td>0.004333</td>\n",
              "      <td>2.222793e-02</td>\n",
              "    </tr>\n",
              "    <tr>\n",
              "      <th>ISIC_0034525</th>\n",
              "      <td>0.122186</td>\n",
              "      <td>0.828252</td>\n",
              "      <td>0.002661</td>\n",
              "      <td>0.010148</td>\n",
              "      <td>0.009148</td>\n",
              "      <td>0.021819</td>\n",
              "      <td>5.786379e-03</td>\n",
              "    </tr>\n",
              "    <tr>\n",
              "      <th>ISIC_0034526</th>\n",
              "      <td>0.020197</td>\n",
              "      <td>0.003637</td>\n",
              "      <td>0.000938</td>\n",
              "      <td>0.028031</td>\n",
              "      <td>0.947131</td>\n",
              "      <td>0.000066</td>\n",
              "      <td>1.199605e-08</td>\n",
              "    </tr>\n",
              "    <tr>\n",
              "      <th>ISIC_0034527</th>\n",
              "      <td>0.131679</td>\n",
              "      <td>0.808747</td>\n",
              "      <td>0.000006</td>\n",
              "      <td>0.000279</td>\n",
              "      <td>0.059272</td>\n",
              "      <td>0.000017</td>\n",
              "      <td>6.856867e-08</td>\n",
              "    </tr>\n",
              "    <tr>\n",
              "      <th>ISIC_0034528</th>\n",
              "      <td>0.005777</td>\n",
              "      <td>0.840918</td>\n",
              "      <td>0.000002</td>\n",
              "      <td>0.000037</td>\n",
              "      <td>0.151937</td>\n",
              "      <td>0.001316</td>\n",
              "      <td>1.348875e-05</td>\n",
              "    </tr>\n",
              "  </tbody>\n",
              "</table>\n",
              "</div>\n",
              "      <button class=\"colab-df-convert\" onclick=\"convertToInteractive('df-5268f553-0d89-461e-9c87-fc1271d7e6d5')\"\n",
              "              title=\"Convert this dataframe to an interactive table.\"\n",
              "              style=\"display:none;\">\n",
              "        \n",
              "  <svg xmlns=\"http://www.w3.org/2000/svg\" height=\"24px\"viewBox=\"0 0 24 24\"\n",
              "       width=\"24px\">\n",
              "    <path d=\"M0 0h24v24H0V0z\" fill=\"none\"/>\n",
              "    <path d=\"M18.56 5.44l.94 2.06.94-2.06 2.06-.94-2.06-.94-.94-2.06-.94 2.06-2.06.94zm-11 1L8.5 8.5l.94-2.06 2.06-.94-2.06-.94L8.5 2.5l-.94 2.06-2.06.94zm10 10l.94 2.06.94-2.06 2.06-.94-2.06-.94-.94-2.06-.94 2.06-2.06.94z\"/><path d=\"M17.41 7.96l-1.37-1.37c-.4-.4-.92-.59-1.43-.59-.52 0-1.04.2-1.43.59L10.3 9.45l-7.72 7.72c-.78.78-.78 2.05 0 2.83L4 21.41c.39.39.9.59 1.41.59.51 0 1.02-.2 1.41-.59l7.78-7.78 2.81-2.81c.8-.78.8-2.07 0-2.86zM5.41 20L4 18.59l7.72-7.72 1.47 1.35L5.41 20z\"/>\n",
              "  </svg>\n",
              "      </button>\n",
              "      \n",
              "  <style>\n",
              "    .colab-df-container {\n",
              "      display:flex;\n",
              "      flex-wrap:wrap;\n",
              "      gap: 12px;\n",
              "    }\n",
              "\n",
              "    .colab-df-convert {\n",
              "      background-color: #E8F0FE;\n",
              "      border: none;\n",
              "      border-radius: 50%;\n",
              "      cursor: pointer;\n",
              "      display: none;\n",
              "      fill: #1967D2;\n",
              "      height: 32px;\n",
              "      padding: 0 0 0 0;\n",
              "      width: 32px;\n",
              "    }\n",
              "\n",
              "    .colab-df-convert:hover {\n",
              "      background-color: #E2EBFA;\n",
              "      box-shadow: 0px 1px 2px rgba(60, 64, 67, 0.3), 0px 1px 3px 1px rgba(60, 64, 67, 0.15);\n",
              "      fill: #174EA6;\n",
              "    }\n",
              "\n",
              "    [theme=dark] .colab-df-convert {\n",
              "      background-color: #3B4455;\n",
              "      fill: #D2E3FC;\n",
              "    }\n",
              "\n",
              "    [theme=dark] .colab-df-convert:hover {\n",
              "      background-color: #434B5C;\n",
              "      box-shadow: 0px 1px 3px 1px rgba(0, 0, 0, 0.15);\n",
              "      filter: drop-shadow(0px 1px 2px rgba(0, 0, 0, 0.3));\n",
              "      fill: #FFFFFF;\n",
              "    }\n",
              "  </style>\n",
              "\n",
              "      <script>\n",
              "        const buttonEl =\n",
              "          document.querySelector('#df-5268f553-0d89-461e-9c87-fc1271d7e6d5 button.colab-df-convert');\n",
              "        buttonEl.style.display =\n",
              "          google.colab.kernel.accessAllowed ? 'block' : 'none';\n",
              "\n",
              "        async function convertToInteractive(key) {\n",
              "          const element = document.querySelector('#df-5268f553-0d89-461e-9c87-fc1271d7e6d5');\n",
              "          const dataTable =\n",
              "            await google.colab.kernel.invokeFunction('convertToInteractive',\n",
              "                                                     [key], {});\n",
              "          if (!dataTable) return;\n",
              "\n",
              "          const docLinkHtml = 'Like what you see? Visit the ' +\n",
              "            '<a target=\"_blank\" href=https://colab.research.google.com/notebooks/data_table.ipynb>data table notebook</a>'\n",
              "            + ' to learn more about interactive tables.';\n",
              "          element.innerHTML = '';\n",
              "          dataTable['output_type'] = 'display_data';\n",
              "          await google.colab.output.renderOutput(dataTable, element);\n",
              "          const docLink = document.createElement('div');\n",
              "          docLink.innerHTML = docLinkHtml;\n",
              "          element.appendChild(docLink);\n",
              "        }\n",
              "      </script>\n",
              "    </div>\n",
              "  </div>\n",
              "  "
            ]
          },
          "metadata": {},
          "execution_count": 37
        }
      ]
    },
    {
      "cell_type": "code",
      "execution_count": 38,
      "metadata": {
        "id": "sOnjc3RJ0e4T"
      },
      "outputs": [],
      "source": [
        "df_pred.to_csv('/content/drive/MyDrive/PHD/Datasets/isic2018/response_Borderline-SMOTE.csv')"
      ]
    },
    {
      "cell_type": "markdown",
      "metadata": {
        "id": "P0MghVs0tsGw"
      },
      "source": [
        "result: 0.656"
      ]
    },
    {
      "cell_type": "markdown",
      "metadata": {
        "id": "UswA0co2y1wl"
      },
      "source": [
        "#Exp"
      ]
    },
    {
      "cell_type": "code",
      "execution_count": null,
      "metadata": {
        "id": "dnqJYIONy34l"
      },
      "outputs": [],
      "source": [
        "input_tensor = Input(shape=(IMAGE_H, IMAGE_W, 3))\n",
        "base_model = ResNet50(input_shape=(224,224,3), weights='imagenet', include_top=False)\n",
        "x = base_model(input_tensor, training=False)\n",
        "x = Attention(2048,2048,7,8)(x)\n",
        "x = GlobalAveragePooling2D()(x)\n",
        "res50 = Model(inputs=input_tensor, outputs=x)"
      ]
    },
    {
      "cell_type": "code",
      "execution_count": null,
      "metadata": {
        "id": "Kcn8hQg3J8yP"
      },
      "outputs": [],
      "source": [
        "#Train i-last layer\n",
        "# summarize feature map shapes\n",
        "for i in range(len(model.layers)):\n",
        "    layer = model.layers[i]\n",
        "    # summarize output shape\n",
        "    print(i, layer.name, layer.output.shape)"
      ]
    },
    {
      "cell_type": "code",
      "execution_count": null,
      "metadata": {
        "id": "UA7Af2Y73FUv"
      },
      "outputs": [],
      "source": [
        "X_train = res50.predict(X_train)\n",
        "X_val = res50.predict(X_val)\n",
        "print(X_train.shape)\n",
        "print(y_train.shape)\n",
        "print(X_val.shape)\n",
        "print(y_val.shape)\n",
        "print('Counter train data: ', Counter(np.argmax(y_train, axis=1)))\n",
        "print('Counter val data: ', Counter(np.argmax(y_val, axis=1)))"
      ]
    },
    {
      "cell_type": "code",
      "execution_count": null,
      "metadata": {
        "id": "krJiAb1m3QNf"
      },
      "outputs": [],
      "source": [
        "X_train, y_train = SMOTE_Data2(X_train, y_train, True)\n",
        "print(X_train.shape)\n",
        "print(y_train.shape)\n",
        "print(X_val.shape)\n",
        "print(y_val.shape)\n",
        "print('Counter train data: ', Counter(np.argmax(y_train, axis=1)))\n",
        "print('Counter val data: ', Counter(np.argmax(y_val, axis=1)))"
      ]
    },
    {
      "cell_type": "markdown",
      "metadata": {
        "id": "LfcFpsBwM0d4"
      },
      "source": [
        "#Attention"
      ]
    },
    {
      "cell_type": "code",
      "execution_count": null,
      "metadata": {
        "id": "C_s6OIGKM26a",
        "colab": {
          "base_uri": "https://localhost:8080/",
          "height": 398
        },
        "outputId": "371bd24a-4bf9-491a-e0ec-78b7eb06e6d9"
      },
      "outputs": [
        {
          "output_type": "error",
          "ename": "AttributeError",
          "evalue": "ignored",
          "traceback": [
            "\u001b[0;31m---------------------------------------------------------------------------\u001b[0m",
            "\u001b[0;31mAttributeError\u001b[0m                            Traceback (most recent call last)",
            "\u001b[0;32m<ipython-input-3-ff488085aaa5>\u001b[0m in \u001b[0;36m<module>\u001b[0;34m\u001b[0m\n\u001b[0;32m----> 1\u001b[0;31m \u001b[0;32mimport\u001b[0m \u001b[0mtensorflow\u001b[0m \u001b[0;32mas\u001b[0m \u001b[0mtf\u001b[0m\u001b[0;34m\u001b[0m\u001b[0;34m\u001b[0m\u001b[0m\n\u001b[0m\u001b[1;32m      2\u001b[0m \u001b[0;32mimport\u001b[0m \u001b[0mtensorflow\u001b[0m\u001b[0;34m.\u001b[0m\u001b[0mkeras\u001b[0m \u001b[0;32mas\u001b[0m \u001b[0mtk\u001b[0m\u001b[0;34m\u001b[0m\u001b[0;34m\u001b[0m\u001b[0m\n\u001b[1;32m      3\u001b[0m \u001b[0;32mfrom\u001b[0m \u001b[0mtensorflow\u001b[0m\u001b[0;34m.\u001b[0m\u001b[0mkeras\u001b[0m\u001b[0;34m.\u001b[0m\u001b[0mlayers\u001b[0m \u001b[0;32mimport\u001b[0m \u001b[0mConv2D\u001b[0m\u001b[0;34m,\u001b[0m\u001b[0mMaxPooling2D\u001b[0m\u001b[0;34m,\u001b[0m\u001b[0mAveragePooling2D\u001b[0m\u001b[0;34m,\u001b[0m\u001b[0mBatchNormalization\u001b[0m\u001b[0;34m,\u001b[0m\u001b[0mAdd\u001b[0m\u001b[0;34m,\u001b[0m\u001b[0mZeroPadding2D\u001b[0m\u001b[0;34m,\u001b[0m\u001b[0mFlatten\u001b[0m\u001b[0;34m,\u001b[0m\u001b[0mDense\u001b[0m\u001b[0;34m,\u001b[0m\u001b[0mInput\u001b[0m\u001b[0;34m,\u001b[0m\u001b[0mLeakyReLU\u001b[0m\u001b[0;34m,\u001b[0m\u001b[0mSoftmax\u001b[0m\u001b[0;34m,\u001b[0m\u001b[0mReLU\u001b[0m\u001b[0;34m\u001b[0m\u001b[0;34m\u001b[0m\u001b[0m\n\u001b[1;32m      4\u001b[0m \u001b[0;32mfrom\u001b[0m \u001b[0mtensorflow\u001b[0m\u001b[0;34m.\u001b[0m\u001b[0mkeras\u001b[0m\u001b[0;34m.\u001b[0m\u001b[0moptimizers\u001b[0m \u001b[0;32mimport\u001b[0m \u001b[0mAdam\u001b[0m\u001b[0;34m\u001b[0m\u001b[0;34m\u001b[0m\u001b[0m\n\u001b[1;32m      5\u001b[0m \u001b[0;32mfrom\u001b[0m \u001b[0mtensorflow\u001b[0m\u001b[0;34m.\u001b[0m\u001b[0mkeras\u001b[0m\u001b[0;34m.\u001b[0m\u001b[0mmodels\u001b[0m \u001b[0;32mimport\u001b[0m \u001b[0mModel\u001b[0m\u001b[0;34m\u001b[0m\u001b[0;34m\u001b[0m\u001b[0m\n",
            "\u001b[0;32m/usr/local/lib/python3.7/dist-packages/tensorflow/__init__.py\u001b[0m in \u001b[0;36m<module>\u001b[0;34m\u001b[0m\n\u001b[1;32m    471\u001b[0m \u001b[0;32mif\u001b[0m \u001b[0mhasattr\u001b[0m\u001b[0;34m(\u001b[0m\u001b[0m_current_module\u001b[0m\u001b[0;34m,\u001b[0m \u001b[0;34m\"keras\"\u001b[0m\u001b[0;34m)\u001b[0m\u001b[0;34m:\u001b[0m\u001b[0;34m\u001b[0m\u001b[0;34m\u001b[0m\u001b[0m\n\u001b[1;32m    472\u001b[0m   \u001b[0;32mtry\u001b[0m\u001b[0;34m:\u001b[0m\u001b[0;34m\u001b[0m\u001b[0;34m\u001b[0m\u001b[0m\n\u001b[0;32m--> 473\u001b[0;31m     \u001b[0mkeras\u001b[0m\u001b[0;34m.\u001b[0m\u001b[0m_load\u001b[0m\u001b[0;34m(\u001b[0m\u001b[0;34m)\u001b[0m\u001b[0;34m\u001b[0m\u001b[0;34m\u001b[0m\u001b[0m\n\u001b[0m\u001b[1;32m    474\u001b[0m   \u001b[0;32mexcept\u001b[0m \u001b[0mImportError\u001b[0m\u001b[0;34m:\u001b[0m\u001b[0;34m\u001b[0m\u001b[0;34m\u001b[0m\u001b[0m\n\u001b[1;32m    475\u001b[0m     \u001b[0;32mpass\u001b[0m\u001b[0;34m\u001b[0m\u001b[0;34m\u001b[0m\u001b[0m\n",
            "\u001b[0;32m/usr/local/lib/python3.7/dist-packages/tensorflow/python/util/lazy_loader.py\u001b[0m in \u001b[0;36m_load\u001b[0;34m(self)\u001b[0m\n\u001b[1;32m     39\u001b[0m     \u001b[0;34m\"\"\"Load the module and insert it into the parent's globals.\"\"\"\u001b[0m\u001b[0;34m\u001b[0m\u001b[0;34m\u001b[0m\u001b[0m\n\u001b[1;32m     40\u001b[0m     \u001b[0;31m# Import the target module and insert it into the parent's namespace\u001b[0m\u001b[0;34m\u001b[0m\u001b[0;34m\u001b[0m\u001b[0;34m\u001b[0m\u001b[0m\n\u001b[0;32m---> 41\u001b[0;31m     \u001b[0mmodule\u001b[0m \u001b[0;34m=\u001b[0m \u001b[0mimportlib\u001b[0m\u001b[0;34m.\u001b[0m\u001b[0mimport_module\u001b[0m\u001b[0;34m(\u001b[0m\u001b[0mself\u001b[0m\u001b[0;34m.\u001b[0m\u001b[0m__name__\u001b[0m\u001b[0;34m)\u001b[0m\u001b[0;34m\u001b[0m\u001b[0;34m\u001b[0m\u001b[0m\n\u001b[0m\u001b[1;32m     42\u001b[0m     \u001b[0mself\u001b[0m\u001b[0;34m.\u001b[0m\u001b[0m_parent_module_globals\u001b[0m\u001b[0;34m[\u001b[0m\u001b[0mself\u001b[0m\u001b[0;34m.\u001b[0m\u001b[0m_local_name\u001b[0m\u001b[0;34m]\u001b[0m \u001b[0;34m=\u001b[0m \u001b[0mmodule\u001b[0m\u001b[0;34m\u001b[0m\u001b[0;34m\u001b[0m\u001b[0m\n\u001b[1;32m     43\u001b[0m \u001b[0;34m\u001b[0m\u001b[0m\n",
            "\u001b[0;32m/usr/lib/python3.7/importlib/__init__.py\u001b[0m in \u001b[0;36mimport_module\u001b[0;34m(name, package)\u001b[0m\n\u001b[1;32m    125\u001b[0m                 \u001b[0;32mbreak\u001b[0m\u001b[0;34m\u001b[0m\u001b[0;34m\u001b[0m\u001b[0m\n\u001b[1;32m    126\u001b[0m             \u001b[0mlevel\u001b[0m \u001b[0;34m+=\u001b[0m \u001b[0;36m1\u001b[0m\u001b[0;34m\u001b[0m\u001b[0;34m\u001b[0m\u001b[0m\n\u001b[0;32m--> 127\u001b[0;31m     \u001b[0;32mreturn\u001b[0m \u001b[0m_bootstrap\u001b[0m\u001b[0;34m.\u001b[0m\u001b[0m_gcd_import\u001b[0m\u001b[0;34m(\u001b[0m\u001b[0mname\u001b[0m\u001b[0;34m[\u001b[0m\u001b[0mlevel\u001b[0m\u001b[0;34m:\u001b[0m\u001b[0;34m]\u001b[0m\u001b[0;34m,\u001b[0m \u001b[0mpackage\u001b[0m\u001b[0;34m,\u001b[0m \u001b[0mlevel\u001b[0m\u001b[0;34m)\u001b[0m\u001b[0;34m\u001b[0m\u001b[0;34m\u001b[0m\u001b[0m\n\u001b[0m\u001b[1;32m    128\u001b[0m \u001b[0;34m\u001b[0m\u001b[0m\n\u001b[1;32m    129\u001b[0m \u001b[0;34m\u001b[0m\u001b[0m\n",
            "\u001b[0;32m/usr/local/lib/python3.7/dist-packages/keras/__init__.py\u001b[0m in \u001b[0;36m<module>\u001b[0;34m\u001b[0m\n\u001b[1;32m     23\u001b[0m \u001b[0;34m\u001b[0m\u001b[0m\n\u001b[1;32m     24\u001b[0m \u001b[0;31m# See b/110718070#comment18 for more details about this import.\u001b[0m\u001b[0;34m\u001b[0m\u001b[0;34m\u001b[0m\u001b[0;34m\u001b[0m\u001b[0m\n\u001b[0;32m---> 25\u001b[0;31m \u001b[0;32mfrom\u001b[0m \u001b[0mkeras\u001b[0m \u001b[0;32mimport\u001b[0m \u001b[0mmodels\u001b[0m\u001b[0;34m\u001b[0m\u001b[0;34m\u001b[0m\u001b[0m\n\u001b[0m\u001b[1;32m     26\u001b[0m \u001b[0;34m\u001b[0m\u001b[0m\n\u001b[1;32m     27\u001b[0m \u001b[0;32mfrom\u001b[0m \u001b[0mkeras\u001b[0m\u001b[0;34m.\u001b[0m\u001b[0mengine\u001b[0m\u001b[0;34m.\u001b[0m\u001b[0minput_layer\u001b[0m \u001b[0;32mimport\u001b[0m \u001b[0mInput\u001b[0m\u001b[0;34m\u001b[0m\u001b[0;34m\u001b[0m\u001b[0m\n",
            "\u001b[0;32m/usr/local/lib/python3.7/dist-packages/keras/models.py\u001b[0m in \u001b[0;36m<module>\u001b[0;34m\u001b[0m\n\u001b[1;32m     18\u001b[0m \u001b[0;32mimport\u001b[0m \u001b[0mtensorflow\u001b[0m\u001b[0;34m.\u001b[0m\u001b[0mcompat\u001b[0m\u001b[0;34m.\u001b[0m\u001b[0mv2\u001b[0m \u001b[0;32mas\u001b[0m \u001b[0mtf\u001b[0m\u001b[0;34m\u001b[0m\u001b[0;34m\u001b[0m\u001b[0m\n\u001b[1;32m     19\u001b[0m \u001b[0;32mfrom\u001b[0m \u001b[0mkeras\u001b[0m \u001b[0;32mimport\u001b[0m \u001b[0mbackend\u001b[0m\u001b[0;34m\u001b[0m\u001b[0;34m\u001b[0m\u001b[0m\n\u001b[0;32m---> 20\u001b[0;31m \u001b[0;32mfrom\u001b[0m \u001b[0mkeras\u001b[0m \u001b[0;32mimport\u001b[0m \u001b[0mmetrics\u001b[0m \u001b[0;32mas\u001b[0m \u001b[0mmetrics_module\u001b[0m\u001b[0;34m\u001b[0m\u001b[0;34m\u001b[0m\u001b[0m\n\u001b[0m\u001b[1;32m     21\u001b[0m \u001b[0;32mfrom\u001b[0m \u001b[0mkeras\u001b[0m \u001b[0;32mimport\u001b[0m \u001b[0moptimizer_v1\u001b[0m\u001b[0;34m\u001b[0m\u001b[0;34m\u001b[0m\u001b[0m\n\u001b[1;32m     22\u001b[0m \u001b[0;32mfrom\u001b[0m \u001b[0mkeras\u001b[0m\u001b[0;34m.\u001b[0m\u001b[0mengine\u001b[0m \u001b[0;32mimport\u001b[0m \u001b[0mfunctional\u001b[0m\u001b[0;34m\u001b[0m\u001b[0;34m\u001b[0m\u001b[0m\n",
            "\u001b[0;32m/usr/local/lib/python3.7/dist-packages/keras/metrics.py\u001b[0m in \u001b[0;36m<module>\u001b[0;34m\u001b[0m\n\u001b[1;32m     22\u001b[0m \u001b[0;32mimport\u001b[0m \u001b[0mwarnings\u001b[0m\u001b[0;34m\u001b[0m\u001b[0;34m\u001b[0m\u001b[0m\n\u001b[1;32m     23\u001b[0m \u001b[0;34m\u001b[0m\u001b[0m\n\u001b[0;32m---> 24\u001b[0;31m \u001b[0;32mfrom\u001b[0m \u001b[0mkeras\u001b[0m \u001b[0;32mimport\u001b[0m \u001b[0mactivations\u001b[0m\u001b[0;34m\u001b[0m\u001b[0;34m\u001b[0m\u001b[0m\n\u001b[0m\u001b[1;32m     25\u001b[0m \u001b[0;32mfrom\u001b[0m \u001b[0mkeras\u001b[0m \u001b[0;32mimport\u001b[0m \u001b[0mbackend\u001b[0m\u001b[0;34m\u001b[0m\u001b[0;34m\u001b[0m\u001b[0m\n\u001b[1;32m     26\u001b[0m \u001b[0;32mfrom\u001b[0m \u001b[0mkeras\u001b[0m\u001b[0;34m.\u001b[0m\u001b[0mengine\u001b[0m \u001b[0;32mimport\u001b[0m \u001b[0mbase_layer\u001b[0m\u001b[0;34m\u001b[0m\u001b[0;34m\u001b[0m\u001b[0m\n",
            "\u001b[0;32m/usr/local/lib/python3.7/dist-packages/keras/activations.py\u001b[0m in \u001b[0;36m<module>\u001b[0;34m\u001b[0m\n\u001b[1;32m     18\u001b[0m \u001b[0;34m\u001b[0m\u001b[0m\n\u001b[1;32m     19\u001b[0m \u001b[0;32mfrom\u001b[0m \u001b[0mkeras\u001b[0m \u001b[0;32mimport\u001b[0m \u001b[0mbackend\u001b[0m\u001b[0;34m\u001b[0m\u001b[0;34m\u001b[0m\u001b[0m\n\u001b[0;32m---> 20\u001b[0;31m \u001b[0;32mfrom\u001b[0m \u001b[0mkeras\u001b[0m\u001b[0;34m.\u001b[0m\u001b[0mlayers\u001b[0m \u001b[0;32mimport\u001b[0m \u001b[0madvanced_activations\u001b[0m\u001b[0;34m\u001b[0m\u001b[0;34m\u001b[0m\u001b[0m\n\u001b[0m\u001b[1;32m     21\u001b[0m \u001b[0;32mfrom\u001b[0m \u001b[0mkeras\u001b[0m\u001b[0;34m.\u001b[0m\u001b[0mutils\u001b[0m\u001b[0;34m.\u001b[0m\u001b[0mgeneric_utils\u001b[0m \u001b[0;32mimport\u001b[0m \u001b[0mdeserialize_keras_object\u001b[0m\u001b[0;34m\u001b[0m\u001b[0;34m\u001b[0m\u001b[0m\n\u001b[1;32m     22\u001b[0m \u001b[0;32mfrom\u001b[0m \u001b[0mkeras\u001b[0m\u001b[0;34m.\u001b[0m\u001b[0mutils\u001b[0m\u001b[0;34m.\u001b[0m\u001b[0mgeneric_utils\u001b[0m \u001b[0;32mimport\u001b[0m \u001b[0mserialize_keras_object\u001b[0m\u001b[0;34m\u001b[0m\u001b[0;34m\u001b[0m\u001b[0m\n",
            "\u001b[0;32m/usr/local/lib/python3.7/dist-packages/keras/layers/__init__.py\u001b[0m in \u001b[0;36m<module>\u001b[0;34m\u001b[0m\n\u001b[1;32m     25\u001b[0m \u001b[0;32mfrom\u001b[0m \u001b[0mkeras\u001b[0m\u001b[0;34m.\u001b[0m\u001b[0mengine\u001b[0m\u001b[0;34m.\u001b[0m\u001b[0minput_spec\u001b[0m \u001b[0;32mimport\u001b[0m \u001b[0mInputSpec\u001b[0m\u001b[0;34m\u001b[0m\u001b[0;34m\u001b[0m\u001b[0m\n\u001b[1;32m     26\u001b[0m \u001b[0;32mfrom\u001b[0m \u001b[0mkeras\u001b[0m\u001b[0;34m.\u001b[0m\u001b[0mengine\u001b[0m\u001b[0;34m.\u001b[0m\u001b[0mbase_layer\u001b[0m \u001b[0;32mimport\u001b[0m \u001b[0mLayer\u001b[0m\u001b[0;34m\u001b[0m\u001b[0;34m\u001b[0m\u001b[0m\n\u001b[0;32m---> 27\u001b[0;31m \u001b[0;32mfrom\u001b[0m \u001b[0mkeras\u001b[0m\u001b[0;34m.\u001b[0m\u001b[0mengine\u001b[0m\u001b[0;34m.\u001b[0m\u001b[0mbase_preprocessing_layer\u001b[0m \u001b[0;32mimport\u001b[0m \u001b[0mPreprocessingLayer\u001b[0m\u001b[0;34m\u001b[0m\u001b[0;34m\u001b[0m\u001b[0m\n\u001b[0m\u001b[1;32m     28\u001b[0m \u001b[0;34m\u001b[0m\u001b[0m\n\u001b[1;32m     29\u001b[0m \u001b[0;31m# Image preprocessing layers.\u001b[0m\u001b[0;34m\u001b[0m\u001b[0;34m\u001b[0m\u001b[0;34m\u001b[0m\u001b[0m\n",
            "\u001b[0;32m/usr/local/lib/python3.7/dist-packages/keras/engine/base_preprocessing_layer.py\u001b[0m in \u001b[0;36m<module>\u001b[0;34m\u001b[0m\n\u001b[1;32m     17\u001b[0m \u001b[0;32mimport\u001b[0m \u001b[0mabc\u001b[0m\u001b[0;34m\u001b[0m\u001b[0;34m\u001b[0m\u001b[0m\n\u001b[1;32m     18\u001b[0m \u001b[0;34m\u001b[0m\u001b[0m\n\u001b[0;32m---> 19\u001b[0;31m \u001b[0;32mfrom\u001b[0m \u001b[0mkeras\u001b[0m\u001b[0;34m.\u001b[0m\u001b[0mengine\u001b[0m \u001b[0;32mimport\u001b[0m \u001b[0mdata_adapter\u001b[0m\u001b[0;34m\u001b[0m\u001b[0;34m\u001b[0m\u001b[0m\n\u001b[0m\u001b[1;32m     20\u001b[0m \u001b[0;32mfrom\u001b[0m \u001b[0mkeras\u001b[0m\u001b[0;34m.\u001b[0m\u001b[0mengine\u001b[0m\u001b[0;34m.\u001b[0m\u001b[0mbase_layer\u001b[0m \u001b[0;32mimport\u001b[0m \u001b[0mLayer\u001b[0m\u001b[0;34m\u001b[0m\u001b[0;34m\u001b[0m\u001b[0m\n\u001b[1;32m     21\u001b[0m \u001b[0;32mfrom\u001b[0m \u001b[0mkeras\u001b[0m\u001b[0;34m.\u001b[0m\u001b[0mutils\u001b[0m \u001b[0;32mimport\u001b[0m \u001b[0mversion_utils\u001b[0m\u001b[0;34m\u001b[0m\u001b[0;34m\u001b[0m\u001b[0m\n",
            "\u001b[0;32m/usr/local/lib/python3.7/dist-packages/keras/engine/data_adapter.py\u001b[0m in \u001b[0;36m<module>\u001b[0;34m\u001b[0m\n\u001b[1;32m     36\u001b[0m \u001b[0;34m\u001b[0m\u001b[0m\n\u001b[1;32m     37\u001b[0m \u001b[0;32mtry\u001b[0m\u001b[0;34m:\u001b[0m\u001b[0;34m\u001b[0m\u001b[0;34m\u001b[0m\u001b[0m\n\u001b[0;32m---> 38\u001b[0;31m   \u001b[0;32mimport\u001b[0m \u001b[0mpandas\u001b[0m \u001b[0;32mas\u001b[0m \u001b[0mpd\u001b[0m  \u001b[0;31m# pylint: disable=g-import-not-at-top\u001b[0m\u001b[0;34m\u001b[0m\u001b[0;34m\u001b[0m\u001b[0m\n\u001b[0m\u001b[1;32m     39\u001b[0m \u001b[0;32mexcept\u001b[0m \u001b[0mImportError\u001b[0m\u001b[0;34m:\u001b[0m\u001b[0;34m\u001b[0m\u001b[0;34m\u001b[0m\u001b[0m\n\u001b[1;32m     40\u001b[0m   \u001b[0mpd\u001b[0m \u001b[0;34m=\u001b[0m \u001b[0;32mNone\u001b[0m\u001b[0;34m\u001b[0m\u001b[0;34m\u001b[0m\u001b[0m\n",
            "\u001b[0;32m/usr/local/lib/python3.7/dist-packages/pandas/__init__.py\u001b[0m in \u001b[0;36m<module>\u001b[0;34m\u001b[0m\n\u001b[1;32m    177\u001b[0m \u001b[0;34m\u001b[0m\u001b[0m\n\u001b[1;32m    178\u001b[0m \u001b[0;32mfrom\u001b[0m \u001b[0mpandas\u001b[0m\u001b[0;34m.\u001b[0m\u001b[0mutil\u001b[0m\u001b[0;34m.\u001b[0m\u001b[0m_tester\u001b[0m \u001b[0;32mimport\u001b[0m \u001b[0mtest\u001b[0m\u001b[0;34m\u001b[0m\u001b[0;34m\u001b[0m\u001b[0m\n\u001b[0;32m--> 179\u001b[0;31m \u001b[0;32mimport\u001b[0m \u001b[0mpandas\u001b[0m\u001b[0;34m.\u001b[0m\u001b[0mtesting\u001b[0m\u001b[0;34m\u001b[0m\u001b[0;34m\u001b[0m\u001b[0m\n\u001b[0m\u001b[1;32m    180\u001b[0m \u001b[0;32mimport\u001b[0m \u001b[0mpandas\u001b[0m\u001b[0;34m.\u001b[0m\u001b[0marrays\u001b[0m\u001b[0;34m\u001b[0m\u001b[0;34m\u001b[0m\u001b[0m\n\u001b[1;32m    181\u001b[0m \u001b[0;34m\u001b[0m\u001b[0m\n",
            "\u001b[0;32m/usr/local/lib/python3.7/dist-packages/pandas/testing.py\u001b[0m in \u001b[0;36m<module>\u001b[0;34m\u001b[0m\n\u001b[1;32m      4\u001b[0m \u001b[0;34m\u001b[0m\u001b[0m\n\u001b[1;32m      5\u001b[0m \u001b[0;34m\u001b[0m\u001b[0m\n\u001b[0;32m----> 6\u001b[0;31m from pandas._testing import (\n\u001b[0m\u001b[1;32m      7\u001b[0m     \u001b[0massert_extension_array_equal\u001b[0m\u001b[0;34m,\u001b[0m\u001b[0;34m\u001b[0m\u001b[0;34m\u001b[0m\u001b[0m\n\u001b[1;32m      8\u001b[0m     \u001b[0massert_frame_equal\u001b[0m\u001b[0;34m,\u001b[0m\u001b[0;34m\u001b[0m\u001b[0;34m\u001b[0m\u001b[0m\n",
            "\u001b[0;32m/usr/local/lib/python3.7/dist-packages/pandas/_testing/__init__.py\u001b[0m in \u001b[0;36m<module>\u001b[0;34m\u001b[0m\n\u001b[1;32m    946\u001b[0m \u001b[0;34m\u001b[0m\u001b[0m\n\u001b[1;32m    947\u001b[0m \u001b[0;34m\u001b[0m\u001b[0m\n\u001b[0;32m--> 948\u001b[0;31m \u001b[0mcython_table\u001b[0m \u001b[0;34m=\u001b[0m \u001b[0mpd\u001b[0m\u001b[0;34m.\u001b[0m\u001b[0mcore\u001b[0m\u001b[0;34m.\u001b[0m\u001b[0mcommon\u001b[0m\u001b[0;34m.\u001b[0m\u001b[0m_cython_table\u001b[0m\u001b[0;34m.\u001b[0m\u001b[0mitems\u001b[0m\u001b[0;34m(\u001b[0m\u001b[0;34m)\u001b[0m\u001b[0;34m\u001b[0m\u001b[0;34m\u001b[0m\u001b[0m\n\u001b[0m\u001b[1;32m    949\u001b[0m \u001b[0;34m\u001b[0m\u001b[0m\n\u001b[1;32m    950\u001b[0m \u001b[0;34m\u001b[0m\u001b[0m\n",
            "\u001b[0;31mAttributeError\u001b[0m: module 'pandas' has no attribute 'core'"
          ]
        }
      ],
      "source": [
        "import tensorflow as tf\n",
        "import tensorflow.keras as tk\n",
        "from tensorflow.keras.layers import Conv2D,MaxPooling2D,AveragePooling2D,BatchNormalization,Add,ZeroPadding2D,Flatten,Dense,Input,LeakyReLU,Softmax,ReLU\n",
        "from tensorflow.keras.optimizers import Adam\n",
        "from tensorflow.keras.models import Model\n",
        "import numpy as np\n",
        "import pickle\n",
        "import numpy as np\n",
        "from PIL import Image\n",
        "\n",
        "class Attention(tk.layers.Layer):\n",
        "    \n",
        "    def __init__(self,input_channels,output_channel,kernel_size,groups):\n",
        "        super().__init__()\n",
        "        self.input_channels = input_channels\n",
        "        self.output_channel = output_channel    \n",
        "        self.kernel_size = kernel_size\n",
        "        self.stride = 1\n",
        "        self.groups = groups\n",
        "\n",
        "        assert output_channel % groups == 0\n",
        "        \n",
        "        self.rel_h = tk.backend.variable(lambda : tk.backend.truncated_normal((1,1,kernel_size,1,output_channel//2),stddev = 0.1)) \n",
        "        #output_channels//2 is the number of channels on which the relative position will be considered,1 denotes the number of those filters and the one after that too and (kernel_size,1) denotes the size of that filter\n",
        "        self.rel_w = tk.backend.variable(lambda : tk.backend.truncated_normal((1,1,1,kernel_size,output_channel//2),stddev = 0.1)) \n",
        "\n",
        "        self.key_weights = Conv2D(self.output_channel,kernel_size = 1,strides = self.stride)\n",
        "        self.query_weights = Conv2D(self.output_channel,kernel_size = 1,strides = self.stride)\n",
        "        self.value_weights = Conv2D(self.output_channel,kernel_size = 1,strides = self.stride)\n",
        "\n",
        "    def call(self,x):\n",
        "        \n",
        "        batch,height,width,channels = x.shape\n",
        "        x_padded = ZeroPadding2D(padding=(self.kernel_size//2,self.kernel_size//2))(x)\n",
        "        query = self.query_weights(x)\n",
        "        value = self.value_weights(x_padded)\n",
        "        key = self.key_weights(x_padded)\n",
        "        #key,query and value will have the shape of (batch,height,width,depth)\n",
        "        keys = tf.image.extract_patches(images = key,sizes = [1,self.kernel_size,self.kernel_size,1],strides = [1,self.stride,self.stride,1],rates = [1,1,1,1], padding = \"VALID\")\n",
        "        value = tf.image.extract_patches(images = value,sizes = [1,self.kernel_size,self.kernel_size,1],strides = [1,self.stride,self.stride,1],rates = [1,1,1,1], padding = \"VALID\")\n",
        "        no_of_kernels = key.shape[-2] - self.kernel_size + 1\n",
        "        keys = tf.reshape(keys,shape = (-1,no_of_kernels, no_of_kernels,self.kernel_size,self.kernel_size,self.output_channel))\n",
        "        key_split_h,key_split_w = tf.split(keys,num_or_size_splits = 2,axis = -1)\n",
        "        key_with_rel = tk.layers.concatenate([key_split_h + self.rel_h,key_split_w + self.rel_w],axis = -1) \n",
        "        \n",
        "        #reshaping the query and key\n",
        "        key_with_rel = tf.reshape(key_with_rel,(-1,self.groups,no_of_kernels,no_of_kernels,self.kernel_size*self.kernel_size,self.output_channel//self.groups))\n",
        "        query  = tf.reshape(query,(-1,self.groups,no_of_kernels,no_of_kernels,1,self.output_channel//self.groups))        \n",
        "        value = tf.reshape(value,(-1,self.groups,no_of_kernels,no_of_kernels,self.kernel_size*self.kernel_size,self.output_channel//self.groups))\n",
        "        \n",
        "        #multiplication  of key and query\n",
        "        #assert key_with_rel.shape == query.shape        \n",
        "        key_prod_query = query*key_with_rel\n",
        "        \n",
        "        # Now the function is passed through the softmax and is multiplied with the values\n",
        "        s = Softmax(axis = -2)(key_prod_query)\n",
        "        y = tf.einsum('bnchwk,bnchwk->bnchk',s,value)\n",
        "        y = tf.reshape(y,(-1,height,width,self.output_channel))\n",
        "        return y\n",
        "\n",
        "    def get_config(self):\n",
        "        config = super().get_config().copy()\n",
        "        config.update({\n",
        "            \"input_channels\": self.input_channels, \n",
        "            \"output_channel\": self.output_channel, \n",
        "            \"kernel_size\": self.kernel_size, \n",
        "            \"stride\": self.stride, \n",
        "            \"groups\": self.groups, \n",
        "            \"rel_h\": self.rel_h, \n",
        "            \"rel_w\": self.rel_w, \n",
        "            \"key_weights\": self.key_weights, \n",
        "            \"query_weights\": self.query_weights, \n",
        "            \"value_weights\": self.value_weights\n",
        "        })\n",
        "        return config\n"
      ]
    },
    {
      "cell_type": "markdown",
      "metadata": {
        "id": "kE8Ziq-BlEP4"
      },
      "source": [
        "#Oversampling on feature map level"
      ]
    },
    {
      "cell_type": "code",
      "execution_count": 10,
      "metadata": {
        "id": "Lm05Zet_B5am",
        "colab": {
          "base_uri": "https://localhost:8080/"
        },
        "outputId": "81b00112-bfdc-41d4-aa2f-da035d40a9d8"
      },
      "outputs": [
        {
          "output_type": "stream",
          "name": "stdout",
          "text": [
            "0 input_2 [(None, 224, 224, 3)] False\n",
            "1 conv1_pad (None, 230, 230, 3) False\n",
            "2 conv1_conv (None, 112, 112, 64) False\n",
            "3 conv1_bn (None, 112, 112, 64) False\n",
            "4 conv1_relu (None, 112, 112, 64) False\n",
            "5 pool1_pad (None, 114, 114, 64) False\n",
            "6 pool1_pool (None, 56, 56, 64) False\n",
            "7 conv2_block1_1_conv (None, 56, 56, 64) False\n",
            "8 conv2_block1_1_bn (None, 56, 56, 64) False\n",
            "9 conv2_block1_1_relu (None, 56, 56, 64) False\n",
            "10 conv2_block1_2_conv (None, 56, 56, 64) False\n",
            "11 conv2_block1_2_bn (None, 56, 56, 64) False\n",
            "12 conv2_block1_2_relu (None, 56, 56, 64) False\n",
            "13 conv2_block1_0_conv (None, 56, 56, 256) False\n",
            "14 conv2_block1_3_conv (None, 56, 56, 256) False\n",
            "15 conv2_block1_0_bn (None, 56, 56, 256) False\n",
            "16 conv2_block1_3_bn (None, 56, 56, 256) False\n",
            "17 conv2_block1_add (None, 56, 56, 256) False\n",
            "18 conv2_block1_out (None, 56, 56, 256) False\n",
            "19 conv2_block2_1_conv (None, 56, 56, 64) False\n",
            "20 conv2_block2_1_bn (None, 56, 56, 64) False\n",
            "21 conv2_block2_1_relu (None, 56, 56, 64) False\n",
            "22 conv2_block2_2_conv (None, 56, 56, 64) False\n",
            "23 conv2_block2_2_bn (None, 56, 56, 64) False\n",
            "24 conv2_block2_2_relu (None, 56, 56, 64) False\n",
            "25 conv2_block2_3_conv (None, 56, 56, 256) False\n",
            "26 conv2_block2_3_bn (None, 56, 56, 256) False\n",
            "27 conv2_block2_add (None, 56, 56, 256) False\n",
            "28 conv2_block2_out (None, 56, 56, 256) False\n",
            "29 conv2_block3_1_conv (None, 56, 56, 64) False\n",
            "30 conv2_block3_1_bn (None, 56, 56, 64) False\n",
            "31 conv2_block3_1_relu (None, 56, 56, 64) False\n",
            "32 conv2_block3_2_conv (None, 56, 56, 64) False\n",
            "33 conv2_block3_2_bn (None, 56, 56, 64) False\n",
            "34 conv2_block3_2_relu (None, 56, 56, 64) False\n",
            "35 conv2_block3_3_conv (None, 56, 56, 256) False\n",
            "36 conv2_block3_3_bn (None, 56, 56, 256) False\n",
            "37 conv2_block3_add (None, 56, 56, 256) False\n",
            "38 conv2_block3_out (None, 56, 56, 256) False\n",
            "39 conv3_block1_1_conv (None, 28, 28, 128) False\n",
            "40 conv3_block1_1_bn (None, 28, 28, 128) False\n",
            "41 conv3_block1_1_relu (None, 28, 28, 128) False\n",
            "42 conv3_block1_2_conv (None, 28, 28, 128) False\n",
            "43 conv3_block1_2_bn (None, 28, 28, 128) False\n",
            "44 conv3_block1_2_relu (None, 28, 28, 128) False\n",
            "45 conv3_block1_0_conv (None, 28, 28, 512) False\n",
            "46 conv3_block1_3_conv (None, 28, 28, 512) False\n",
            "47 conv3_block1_0_bn (None, 28, 28, 512) False\n",
            "48 conv3_block1_3_bn (None, 28, 28, 512) False\n",
            "49 conv3_block1_add (None, 28, 28, 512) False\n",
            "50 conv3_block1_out (None, 28, 28, 512) False\n",
            "51 conv3_block2_1_conv (None, 28, 28, 128) False\n",
            "52 conv3_block2_1_bn (None, 28, 28, 128) False\n",
            "53 conv3_block2_1_relu (None, 28, 28, 128) False\n",
            "54 conv3_block2_2_conv (None, 28, 28, 128) False\n",
            "55 conv3_block2_2_bn (None, 28, 28, 128) False\n",
            "56 conv3_block2_2_relu (None, 28, 28, 128) False\n",
            "57 conv3_block2_3_conv (None, 28, 28, 512) False\n",
            "58 conv3_block2_3_bn (None, 28, 28, 512) False\n",
            "59 conv3_block2_add (None, 28, 28, 512) False\n",
            "60 conv3_block2_out (None, 28, 28, 512) False\n",
            "61 conv3_block3_1_conv (None, 28, 28, 128) False\n",
            "62 conv3_block3_1_bn (None, 28, 28, 128) False\n",
            "63 conv3_block3_1_relu (None, 28, 28, 128) False\n",
            "64 conv3_block3_2_conv (None, 28, 28, 128) False\n",
            "65 conv3_block3_2_bn (None, 28, 28, 128) False\n",
            "66 conv3_block3_2_relu (None, 28, 28, 128) False\n",
            "67 conv3_block3_3_conv (None, 28, 28, 512) False\n",
            "68 conv3_block3_3_bn (None, 28, 28, 512) False\n",
            "69 conv3_block3_add (None, 28, 28, 512) False\n",
            "70 conv3_block3_out (None, 28, 28, 512) False\n",
            "71 conv3_block4_1_conv (None, 28, 28, 128) False\n",
            "72 conv3_block4_1_bn (None, 28, 28, 128) False\n",
            "73 conv3_block4_1_relu (None, 28, 28, 128) False\n",
            "74 conv3_block4_2_conv (None, 28, 28, 128) False\n",
            "75 conv3_block4_2_bn (None, 28, 28, 128) False\n",
            "76 conv3_block4_2_relu (None, 28, 28, 128) False\n",
            "77 conv3_block4_3_conv (None, 28, 28, 512) False\n",
            "78 conv3_block4_3_bn (None, 28, 28, 512) False\n",
            "79 conv3_block4_add (None, 28, 28, 512) False\n",
            "80 conv3_block4_out (None, 28, 28, 512) False\n",
            "81 conv4_block1_1_conv (None, 14, 14, 256) False\n",
            "82 conv4_block1_1_bn (None, 14, 14, 256) False\n",
            "83 conv4_block1_1_relu (None, 14, 14, 256) False\n",
            "84 conv4_block1_2_conv (None, 14, 14, 256) False\n",
            "85 conv4_block1_2_bn (None, 14, 14, 256) False\n",
            "86 conv4_block1_2_relu (None, 14, 14, 256) False\n",
            "87 conv4_block1_0_conv (None, 14, 14, 1024) False\n",
            "88 conv4_block1_3_conv (None, 14, 14, 1024) False\n",
            "89 conv4_block1_0_bn (None, 14, 14, 1024) False\n",
            "90 conv4_block1_3_bn (None, 14, 14, 1024) False\n",
            "91 conv4_block1_add (None, 14, 14, 1024) False\n",
            "92 conv4_block1_out (None, 14, 14, 1024) False\n",
            "93 conv4_block2_1_conv (None, 14, 14, 256) False\n",
            "94 conv4_block2_1_bn (None, 14, 14, 256) False\n",
            "95 conv4_block2_1_relu (None, 14, 14, 256) False\n",
            "96 conv4_block2_2_conv (None, 14, 14, 256) False\n",
            "97 conv4_block2_2_bn (None, 14, 14, 256) False\n",
            "98 conv4_block2_2_relu (None, 14, 14, 256) False\n",
            "99 conv4_block2_3_conv (None, 14, 14, 1024) False\n",
            "100 conv4_block2_3_bn (None, 14, 14, 1024) False\n",
            "101 conv4_block2_add (None, 14, 14, 1024) False\n",
            "102 conv4_block2_out (None, 14, 14, 1024) False\n",
            "103 conv4_block3_1_conv (None, 14, 14, 256) False\n",
            "104 conv4_block3_1_bn (None, 14, 14, 256) False\n",
            "105 conv4_block3_1_relu (None, 14, 14, 256) False\n",
            "106 conv4_block3_2_conv (None, 14, 14, 256) False\n",
            "107 conv4_block3_2_bn (None, 14, 14, 256) False\n",
            "108 conv4_block3_2_relu (None, 14, 14, 256) False\n",
            "109 conv4_block3_3_conv (None, 14, 14, 1024) False\n",
            "110 conv4_block3_3_bn (None, 14, 14, 1024) False\n",
            "111 conv4_block3_add (None, 14, 14, 1024) False\n",
            "112 conv4_block3_out (None, 14, 14, 1024) False\n",
            "113 conv4_block4_1_conv (None, 14, 14, 256) False\n",
            "114 conv4_block4_1_bn (None, 14, 14, 256) False\n",
            "115 conv4_block4_1_relu (None, 14, 14, 256) False\n",
            "116 conv4_block4_2_conv (None, 14, 14, 256) False\n",
            "117 conv4_block4_2_bn (None, 14, 14, 256) False\n",
            "118 conv4_block4_2_relu (None, 14, 14, 256) False\n",
            "119 conv4_block4_3_conv (None, 14, 14, 1024) False\n",
            "120 conv4_block4_3_bn (None, 14, 14, 1024) False\n",
            "121 conv4_block4_add (None, 14, 14, 1024) False\n",
            "122 conv4_block4_out (None, 14, 14, 1024) False\n",
            "123 conv4_block5_1_conv (None, 14, 14, 256) False\n",
            "124 conv4_block5_1_bn (None, 14, 14, 256) False\n",
            "125 conv4_block5_1_relu (None, 14, 14, 256) False\n",
            "126 conv4_block5_2_conv (None, 14, 14, 256) False\n",
            "127 conv4_block5_2_bn (None, 14, 14, 256) False\n",
            "128 conv4_block5_2_relu (None, 14, 14, 256) False\n",
            "129 conv4_block5_3_conv (None, 14, 14, 1024) False\n",
            "130 conv4_block5_3_bn (None, 14, 14, 1024) False\n",
            "131 conv4_block5_add (None, 14, 14, 1024) False\n",
            "132 conv4_block5_out (None, 14, 14, 1024) False\n",
            "133 conv4_block6_1_conv (None, 14, 14, 256) False\n",
            "134 conv4_block6_1_bn (None, 14, 14, 256) False\n",
            "135 conv4_block6_1_relu (None, 14, 14, 256) False\n",
            "136 conv4_block6_2_conv (None, 14, 14, 256) False\n",
            "137 conv4_block6_2_bn (None, 14, 14, 256) False\n",
            "138 conv4_block6_2_relu (None, 14, 14, 256) False\n",
            "139 conv4_block6_3_conv (None, 14, 14, 1024) False\n",
            "140 conv4_block6_3_bn (None, 14, 14, 1024) False\n",
            "141 conv4_block6_add (None, 14, 14, 1024) False\n",
            "142 conv4_block6_out (None, 14, 14, 1024) False\n",
            "143 conv5_block1_1_conv (None, 7, 7, 512) False\n",
            "144 conv5_block1_1_bn (None, 7, 7, 512) False\n",
            "145 conv5_block1_1_relu (None, 7, 7, 512) False\n",
            "146 conv5_block1_2_conv (None, 7, 7, 512) False\n",
            "147 conv5_block1_2_bn (None, 7, 7, 512) False\n",
            "148 conv5_block1_2_relu (None, 7, 7, 512) False\n",
            "149 conv5_block1_0_conv (None, 7, 7, 2048) False\n",
            "150 conv5_block1_3_conv (None, 7, 7, 2048) False\n",
            "151 conv5_block1_0_bn (None, 7, 7, 2048) False\n",
            "152 conv5_block1_3_bn (None, 7, 7, 2048) False\n",
            "153 conv5_block1_add (None, 7, 7, 2048) False\n",
            "154 conv5_block1_out (None, 7, 7, 2048) False\n",
            "155 conv5_block2_1_conv (None, 7, 7, 512) False\n",
            "156 conv5_block2_1_bn (None, 7, 7, 512) False\n",
            "157 conv5_block2_1_relu (None, 7, 7, 512) False\n",
            "158 conv5_block2_2_conv (None, 7, 7, 512) False\n",
            "159 conv5_block2_2_bn (None, 7, 7, 512) False\n",
            "160 conv5_block2_2_relu (None, 7, 7, 512) False\n",
            "161 conv5_block2_3_conv (None, 7, 7, 2048) False\n",
            "162 conv5_block2_3_bn (None, 7, 7, 2048) False\n",
            "163 conv5_block2_add (None, 7, 7, 2048) False\n",
            "164 conv5_block2_out (None, 7, 7, 2048) False\n",
            "165 conv5_block3_1_conv (None, 7, 7, 512) False\n",
            "166 conv5_block3_1_bn (None, 7, 7, 512) False\n",
            "167 conv5_block3_1_relu (None, 7, 7, 512) False\n",
            "168 conv5_block3_2_conv (None, 7, 7, 512) False\n",
            "169 conv5_block3_2_bn (None, 7, 7, 512) False\n",
            "170 conv5_block3_2_relu (None, 7, 7, 512) False\n",
            "171 conv5_block3_3_conv (None, 7, 7, 2048) False\n",
            "172 conv5_block3_3_bn (None, 7, 7, 2048) False\n",
            "173 conv5_block3_add (None, 7, 7, 2048) False\n",
            "174 conv5_block3_out (None, 7, 7, 2048) False\n",
            "175 global_average_pooling2d_1 (None, 2048) True\n",
            "176 dense_3 (None, 1024) True\n",
            "177 dense_4 (None, 512) True\n",
            "178 dense_5 (None, 7) True\n"
          ]
        }
      ],
      "source": [
        "for i in range(len(model.layers)):\n",
        "  layer = model.layers[i]\n",
        "  print(i, layer.name, layer.output_shape, layer.trainable)"
      ]
    },
    {
      "cell_type": "code",
      "execution_count": 11,
      "metadata": {
        "id": "KqeSic6NmLsR"
      },
      "outputs": [],
      "source": [
        "# redefine model to output right after the first hidden layer\n",
        "end = 175\n",
        "model1 = Model(inputs=model.inputs, outputs=model.layers[end].output)"
      ]
    },
    {
      "cell_type": "code",
      "execution_count": 12,
      "metadata": {
        "id": "ZVHYG9Rwm28i"
      },
      "outputs": [],
      "source": [
        "# get feature map for first hidden layer\n",
        "X_train_fm = model1.predict(X_train)\n",
        "X_val_fm = model1.predict(X_val)"
      ]
    },
    {
      "cell_type": "code",
      "execution_count": 19,
      "metadata": {
        "id": "VNozN8-wDUNL",
        "colab": {
          "base_uri": "https://localhost:8080/"
        },
        "outputId": "54bb793f-cdc5-49df-d893-a4882d26670a"
      },
      "outputs": [
        {
          "output_type": "stream",
          "name": "stdout",
          "text": [
            "(193, 2048)\n"
          ]
        }
      ],
      "source": [
        "print(X_val_fm.shape)"
      ]
    },
    {
      "cell_type": "code",
      "execution_count": 18,
      "metadata": {
        "id": "19hK7aQNeAQo",
        "colab": {
          "base_uri": "https://localhost:8080/"
        },
        "outputId": "913b6cac-b79b-4e38-b094-7ac5b4ce6fb1"
      },
      "outputs": [
        {
          "output_type": "stream",
          "name": "stdout",
          "text": [
            "(14077, 2048)\n",
            "(14077, 7)\n",
            "(193, 224, 224, 3)\n",
            "(193, 7)\n",
            "Counter train data:  Counter({5: 2011, 4: 2011, 2: 2011, 3: 2011, 0: 2011, 1: 2011, 6: 2011})\n",
            "Counter val data:  Counter({5: 123, 2: 22, 4: 21, 1: 15, 0: 8, 6: 3, 3: 1})\n"
          ]
        }
      ],
      "source": [
        "X_train_fm_ov, y_train_ov = SMOTE_Data2(X_train_fm, y_train, True, 5)\n",
        "print(X_train_fm_ov.shape)\n",
        "print(y_train_ov.shape)\n",
        "print(X_val_fm.shape)\n",
        "print(y_val.shape)\n",
        "print('Counter train data: ', Counter(np.argmax(y_train_ov, axis=1)))\n",
        "print('Counter val data: ', Counter(np.argmax(y_val, axis=1)))"
      ]
    },
    {
      "cell_type": "code",
      "execution_count": 21,
      "metadata": {
        "id": "5qP4iyYcnAYa"
      },
      "outputs": [],
      "source": [
        "model2 = Model(inputs=model.layers[end+1].input, outputs=model.layers[len(model.layers)-1].output)"
      ]
    },
    {
      "cell_type": "code",
      "execution_count": 22,
      "metadata": {
        "id": "Pzdjs0WbvDB0",
        "colab": {
          "base_uri": "https://localhost:8080/"
        },
        "outputId": "b2dc9a2f-35cd-4c8b-9a69-0e3103876a5e"
      },
      "outputs": [
        {
          "output_type": "stream",
          "name": "stdout",
          "text": [
            "Epoch 1/100\n",
            "217/219 [============================>.] - ETA: 0s - loss: 0.7611 - accuracy: 0.7544 - balanced_acc: 0.7542\n",
            "Epoch 1: val_balanced_acc did not improve from 0.44139\n",
            "219/219 [==============================] - 2s 4ms/step - loss: 0.7608 - accuracy: 0.7548 - balanced_acc: 0.7544 - val_loss: 0.7893 - val_accuracy: 0.7202 - val_balanced_acc: 0.3897 - lr: 5.0000e-04\n",
            "Epoch 2/100\n",
            "218/219 [============================>.] - ETA: 0s - loss: 0.7207 - accuracy: 0.7688 - balanced_acc: 0.7687\n",
            "Epoch 2: val_balanced_acc did not improve from 0.44139\n",
            "219/219 [==============================] - 1s 4ms/step - loss: 0.7210 - accuracy: 0.7689 - balanced_acc: 0.7688 - val_loss: 0.8056 - val_accuracy: 0.7202 - val_balanced_acc: 0.4013 - lr: 5.0000e-04\n",
            "Epoch 3/100\n",
            "218/219 [============================>.] - ETA: 0s - loss: 0.6956 - accuracy: 0.7750 - balanced_acc: 0.7741\n",
            "Epoch 3: val_balanced_acc did not improve from 0.44139\n",
            "219/219 [==============================] - 1s 3ms/step - loss: 0.6954 - accuracy: 0.7749 - balanced_acc: 0.7741 - val_loss: 0.8024 - val_accuracy: 0.7150 - val_balanced_acc: 0.3888 - lr: 5.0000e-04\n",
            "Epoch 4/100\n",
            "218/219 [============================>.] - ETA: 0s - loss: 0.6748 - accuracy: 0.7836 - balanced_acc: 0.7847\n",
            "Epoch 4: val_balanced_acc did not improve from 0.44139\n",
            "219/219 [==============================] - 1s 3ms/step - loss: 0.6747 - accuracy: 0.7836 - balanced_acc: 0.7848 - val_loss: 0.7801 - val_accuracy: 0.7150 - val_balanced_acc: 0.3951 - lr: 5.0000e-04\n",
            "Epoch 5/100\n",
            "219/219 [==============================] - ETA: 0s - loss: 0.6547 - accuracy: 0.7923 - balanced_acc: 0.7924\n",
            "Epoch 5: val_balanced_acc did not improve from 0.44139\n",
            "219/219 [==============================] - 1s 3ms/step - loss: 0.6547 - accuracy: 0.7923 - balanced_acc: 0.7924 - val_loss: 0.8027 - val_accuracy: 0.7047 - val_balanced_acc: 0.3892 - lr: 5.0000e-04\n",
            "Epoch 6/100\n",
            "218/219 [============================>.] - ETA: 0s - loss: 0.6403 - accuracy: 0.7975 - balanced_acc: 0.7968\n",
            "Epoch 6: val_balanced_acc did not improve from 0.44139\n",
            "219/219 [==============================] - 1s 3ms/step - loss: 0.6402 - accuracy: 0.7973 - balanced_acc: 0.7967 - val_loss: 0.7869 - val_accuracy: 0.7098 - val_balanced_acc: 0.3838 - lr: 5.0000e-04\n",
            "Epoch 7/100\n",
            "210/219 [===========================>..] - ETA: 0s - loss: 0.6250 - accuracy: 0.8024 - balanced_acc: 0.8032\n",
            "Epoch 7: val_balanced_acc did not improve from 0.44139\n",
            "219/219 [==============================] - 1s 4ms/step - loss: 0.6252 - accuracy: 0.8025 - balanced_acc: 0.8030 - val_loss: 0.8063 - val_accuracy: 0.7047 - val_balanced_acc: 0.3892 - lr: 5.0000e-04\n",
            "Epoch 8/100\n",
            "219/219 [==============================] - ETA: 0s - loss: 0.6120 - accuracy: 0.8075 - balanced_acc: 0.8076\n",
            "Epoch 8: val_balanced_acc did not improve from 0.44139\n",
            "219/219 [==============================] - 1s 3ms/step - loss: 0.6120 - accuracy: 0.8075 - balanced_acc: 0.8076 - val_loss: 0.7607 - val_accuracy: 0.7254 - val_balanced_acc: 0.3927 - lr: 5.0000e-04\n",
            "Epoch 9/100\n",
            "218/219 [============================>.] - ETA: 0s - loss: 0.5990 - accuracy: 0.8125 - balanced_acc: 0.8114\n",
            "Epoch 9: val_balanced_acc did not improve from 0.44139\n",
            "219/219 [==============================] - 1s 3ms/step - loss: 0.5989 - accuracy: 0.8125 - balanced_acc: 0.8114 - val_loss: 0.7482 - val_accuracy: 0.7358 - val_balanced_acc: 0.3908 - lr: 5.0000e-04\n",
            "Epoch 10/100\n",
            "210/219 [===========================>..] - ETA: 0s - loss: 0.5875 - accuracy: 0.8177 - balanced_acc: 0.8174\n",
            "Epoch 10: val_balanced_acc did not improve from 0.44139\n",
            "219/219 [==============================] - 1s 4ms/step - loss: 0.5881 - accuracy: 0.8175 - balanced_acc: 0.8174 - val_loss: 0.7348 - val_accuracy: 0.7461 - val_balanced_acc: 0.3961 - lr: 5.0000e-04\n",
            "Epoch 11/100\n",
            "212/219 [============================>.] - ETA: 0s - loss: 0.5722 - accuracy: 0.8213 - balanced_acc: 0.8211\n",
            "Epoch 11: val_balanced_acc did not improve from 0.44139\n",
            "219/219 [==============================] - 1s 4ms/step - loss: 0.5734 - accuracy: 0.8210 - balanced_acc: 0.8209 - val_loss: 0.7276 - val_accuracy: 0.7461 - val_balanced_acc: 0.3884 - lr: 5.0000e-04\n",
            "Epoch 12/100\n",
            "214/219 [============================>.] - ETA: 0s - loss: 0.5693 - accuracy: 0.8222 - balanced_acc: 0.8220\n",
            "Epoch 12: val_balanced_acc did not improve from 0.44139\n",
            "219/219 [==============================] - 1s 4ms/step - loss: 0.5697 - accuracy: 0.8219 - balanced_acc: 0.8213 - val_loss: 0.7368 - val_accuracy: 0.7306 - val_balanced_acc: 0.3899 - lr: 5.0000e-04\n",
            "Epoch 13/100\n",
            "216/219 [============================>.] - ETA: 0s - loss: 0.5545 - accuracy: 0.8268 - balanced_acc: 0.8273\n",
            "Epoch 13: val_balanced_acc did not improve from 0.44139\n",
            "219/219 [==============================] - 1s 3ms/step - loss: 0.5549 - accuracy: 0.8264 - balanced_acc: 0.8270 - val_loss: 0.7274 - val_accuracy: 0.7565 - val_balanced_acc: 0.3979 - lr: 5.0000e-04\n",
            "Epoch 14/100\n",
            "213/219 [============================>.] - ETA: 0s - loss: 0.5468 - accuracy: 0.8305 - balanced_acc: 0.8315\n",
            "Epoch 14: val_balanced_acc did not improve from 0.44139\n",
            "219/219 [==============================] - 1s 4ms/step - loss: 0.5477 - accuracy: 0.8301 - balanced_acc: 0.8308 - val_loss: 0.7584 - val_accuracy: 0.7098 - val_balanced_acc: 0.4181 - lr: 5.0000e-04\n",
            "Epoch 15/100\n",
            "205/219 [===========================>..] - ETA: 0s - loss: 0.5403 - accuracy: 0.8311 - balanced_acc: 0.8291\n",
            "Epoch 15: val_balanced_acc did not improve from 0.44139\n",
            "219/219 [==============================] - 1s 3ms/step - loss: 0.5383 - accuracy: 0.8319 - balanced_acc: 0.8301 - val_loss: 0.7276 - val_accuracy: 0.7306 - val_balanced_acc: 0.4190 - lr: 5.0000e-04\n",
            "Epoch 16/100\n",
            "216/219 [============================>.] - ETA: 0s - loss: 0.5278 - accuracy: 0.8380 - balanced_acc: 0.8376\n",
            "Epoch 16: val_balanced_acc did not improve from 0.44139\n",
            "219/219 [==============================] - 1s 4ms/step - loss: 0.5277 - accuracy: 0.8377 - balanced_acc: 0.8371 - val_loss: 0.7613 - val_accuracy: 0.6995 - val_balanced_acc: 0.4111 - lr: 5.0000e-04\n",
            "Epoch 17/100\n",
            "218/219 [============================>.] - ETA: 0s - loss: 0.5253 - accuracy: 0.8367 - balanced_acc: 0.8374\n",
            "Epoch 17: val_balanced_acc did not improve from 0.44139\n",
            "219/219 [==============================] - 1s 3ms/step - loss: 0.5258 - accuracy: 0.8362 - balanced_acc: 0.8369 - val_loss: 0.7530 - val_accuracy: 0.7150 - val_balanced_acc: 0.4221 - lr: 5.0000e-04\n",
            "Epoch 18/100\n",
            "218/219 [============================>.] - ETA: 0s - loss: 0.5143 - accuracy: 0.8408 - balanced_acc: 0.8417\n",
            "Epoch 18: val_balanced_acc did not improve from 0.44139\n",
            "219/219 [==============================] - 1s 3ms/step - loss: 0.5138 - accuracy: 0.8410 - balanced_acc: 0.8419 - val_loss: 0.7256 - val_accuracy: 0.7513 - val_balanced_acc: 0.4242 - lr: 5.0000e-04\n",
            "Epoch 19/100\n",
            "219/219 [==============================] - ETA: 0s - loss: 0.5082 - accuracy: 0.8443 - balanced_acc: 0.8436\n",
            "Epoch 19: val_balanced_acc improved from 0.44139 to 0.45244, saving model to /content/drive/MyDrive/PHD/Model/best_model_attention.h5\n",
            "219/219 [==============================] - 2s 8ms/step - loss: 0.5082 - accuracy: 0.8443 - balanced_acc: 0.8436 - val_loss: 0.7413 - val_accuracy: 0.7202 - val_balanced_acc: 0.4524 - lr: 5.0000e-04\n",
            "Epoch 20/100\n",
            "216/219 [============================>.] - ETA: 0s - loss: 0.5010 - accuracy: 0.8469 - balanced_acc: 0.8487\n",
            "Epoch 20: val_balanced_acc did not improve from 0.45244\n",
            "219/219 [==============================] - 1s 3ms/step - loss: 0.5011 - accuracy: 0.8470 - balanced_acc: 0.8489 - val_loss: 0.7558 - val_accuracy: 0.7202 - val_balanced_acc: 0.4519 - lr: 5.0000e-04\n",
            "Epoch 21/100\n",
            "217/219 [============================>.] - ETA: 0s - loss: 0.4910 - accuracy: 0.8516 - balanced_acc: 0.8528\n",
            "Epoch 21: val_balanced_acc did not improve from 0.45244\n",
            "219/219 [==============================] - 1s 3ms/step - loss: 0.4908 - accuracy: 0.8518 - balanced_acc: 0.8530 - val_loss: 0.7313 - val_accuracy: 0.7461 - val_balanced_acc: 0.4275 - lr: 5.0000e-04\n",
            "Epoch 22/100\n",
            "213/219 [============================>.] - ETA: 0s - loss: 0.4873 - accuracy: 0.8519 - balanced_acc: 0.8511\n",
            "Epoch 22: val_balanced_acc did not improve from 0.45244\n",
            "219/219 [==============================] - 1s 4ms/step - loss: 0.4878 - accuracy: 0.8516 - balanced_acc: 0.8510 - val_loss: 0.7409 - val_accuracy: 0.7150 - val_balanced_acc: 0.4516 - lr: 5.0000e-04\n",
            "Epoch 23/100\n",
            "216/219 [============================>.] - ETA: 0s - loss: 0.4786 - accuracy: 0.8562 - balanced_acc: 0.8562\n",
            "Epoch 23: val_balanced_acc did not improve from 0.45244\n",
            "219/219 [==============================] - 1s 3ms/step - loss: 0.4781 - accuracy: 0.8562 - balanced_acc: 0.8563 - val_loss: 0.7368 - val_accuracy: 0.7202 - val_balanced_acc: 0.4504 - lr: 5.0000e-04\n",
            "Epoch 24/100\n",
            "215/219 [============================>.] - ETA: 0s - loss: 0.4743 - accuracy: 0.8579 - balanced_acc: 0.8546\n",
            "Epoch 24: val_balanced_acc improved from 0.45244 to 0.45973, saving model to /content/drive/MyDrive/PHD/Model/best_model_attention.h5\n",
            "219/219 [==============================] - 1s 4ms/step - loss: 0.4753 - accuracy: 0.8575 - balanced_acc: 0.8545 - val_loss: 0.7293 - val_accuracy: 0.7358 - val_balanced_acc: 0.4597 - lr: 5.0000e-04\n",
            "Epoch 25/100\n",
            "214/219 [============================>.] - ETA: 0s - loss: 0.4721 - accuracy: 0.8580 - balanced_acc: 0.8571\n",
            "Epoch 25: val_balanced_acc did not improve from 0.45973\n",
            "219/219 [==============================] - 1s 4ms/step - loss: 0.4713 - accuracy: 0.8581 - balanced_acc: 0.8570 - val_loss: 0.7299 - val_accuracy: 0.7461 - val_balanced_acc: 0.4551 - lr: 5.0000e-04\n",
            "Epoch 26/100\n",
            "214/219 [============================>.] - ETA: 0s - loss: 0.4622 - accuracy: 0.8627 - balanced_acc: 0.8626\n",
            "Epoch 26: val_balanced_acc did not improve from 0.45973\n",
            "219/219 [==============================] - 1s 3ms/step - loss: 0.4615 - accuracy: 0.8630 - balanced_acc: 0.8627 - val_loss: 0.7382 - val_accuracy: 0.7254 - val_balanced_acc: 0.4557 - lr: 5.0000e-04\n",
            "Epoch 27/100\n",
            "217/219 [============================>.] - ETA: 0s - loss: 0.4552 - accuracy: 0.8666 - balanced_acc: 0.8666\n",
            "Epoch 27: val_balanced_acc did not improve from 0.45973\n",
            "219/219 [==============================] - 1s 4ms/step - loss: 0.4560 - accuracy: 0.8663 - balanced_acc: 0.8661 - val_loss: 0.7232 - val_accuracy: 0.7409 - val_balanced_acc: 0.4518 - lr: 5.0000e-04\n",
            "Epoch 28/100\n",
            "210/219 [===========================>..] - ETA: 0s - loss: 0.4531 - accuracy: 0.8645 - balanced_acc: 0.8640\n",
            "Epoch 28: val_balanced_acc did not improve from 0.45973\n",
            "219/219 [==============================] - 1s 4ms/step - loss: 0.4516 - accuracy: 0.8648 - balanced_acc: 0.8641 - val_loss: 0.7336 - val_accuracy: 0.7461 - val_balanced_acc: 0.4590 - lr: 5.0000e-04\n",
            "Epoch 29/100\n",
            "212/219 [============================>.] - ETA: 0s - loss: 0.4471 - accuracy: 0.8673 - balanced_acc: 0.8659\n",
            "Epoch 29: val_balanced_acc did not improve from 0.45973\n",
            "219/219 [==============================] - 1s 4ms/step - loss: 0.4467 - accuracy: 0.8669 - balanced_acc: 0.8656 - val_loss: 0.7095 - val_accuracy: 0.7513 - val_balanced_acc: 0.4578 - lr: 5.0000e-04\n",
            "Epoch 30/100\n",
            "213/219 [============================>.] - ETA: 0s - loss: 0.4420 - accuracy: 0.8712 - balanced_acc: 0.8728\n",
            "Epoch 30: val_balanced_acc did not improve from 0.45973\n",
            "219/219 [==============================] - 1s 4ms/step - loss: 0.4419 - accuracy: 0.8710 - balanced_acc: 0.8723 - val_loss: 0.7241 - val_accuracy: 0.7254 - val_balanced_acc: 0.4578 - lr: 5.0000e-04\n",
            "Epoch 31/100\n",
            "218/219 [============================>.] - ETA: 0s - loss: 0.4378 - accuracy: 0.8715 - balanced_acc: 0.8722\n",
            "Epoch 31: val_balanced_acc did not improve from 0.45973\n",
            "219/219 [==============================] - 1s 3ms/step - loss: 0.4378 - accuracy: 0.8715 - balanced_acc: 0.8724 - val_loss: 0.7181 - val_accuracy: 0.7461 - val_balanced_acc: 0.4565 - lr: 5.0000e-04\n",
            "Epoch 32/100\n",
            "212/219 [============================>.] - ETA: 0s - loss: 0.4325 - accuracy: 0.8738 - balanced_acc: 0.8723\n",
            "Epoch 32: val_balanced_acc did not improve from 0.45973\n",
            "219/219 [==============================] - 1s 4ms/step - loss: 0.4316 - accuracy: 0.8740 - balanced_acc: 0.8723 - val_loss: 0.7410 - val_accuracy: 0.7150 - val_balanced_acc: 0.4516 - lr: 5.0000e-04\n",
            "Epoch 33/100\n",
            "216/219 [============================>.] - ETA: 0s - loss: 0.4263 - accuracy: 0.8740 - balanced_acc: 0.8737\n",
            "Epoch 33: val_balanced_acc did not improve from 0.45973\n",
            "219/219 [==============================] - 1s 3ms/step - loss: 0.4266 - accuracy: 0.8740 - balanced_acc: 0.8736 - val_loss: 0.7264 - val_accuracy: 0.7254 - val_balanced_acc: 0.4557 - lr: 5.0000e-04\n",
            "Epoch 34/100\n",
            "218/219 [============================>.] - ETA: 0s - loss: 0.4199 - accuracy: 0.8793 - balanced_acc: 0.8787\n",
            "Epoch 34: val_balanced_acc did not improve from 0.45973\n",
            "219/219 [==============================] - 1s 3ms/step - loss: 0.4191 - accuracy: 0.8796 - balanced_acc: 0.8789 - val_loss: 0.7544 - val_accuracy: 0.7150 - val_balanced_acc: 0.4538 - lr: 5.0000e-04\n",
            "Epoch 35/100\n",
            "215/219 [============================>.] - ETA: 0s - loss: 0.4178 - accuracy: 0.8780 - balanced_acc: 0.8778\n",
            "Epoch 35: val_balanced_acc did not improve from 0.45973\n",
            "219/219 [==============================] - 1s 4ms/step - loss: 0.4174 - accuracy: 0.8784 - balanced_acc: 0.8781 - val_loss: 0.7436 - val_accuracy: 0.7254 - val_balanced_acc: 0.4557 - lr: 5.0000e-04\n",
            "Epoch 36/100\n",
            "213/219 [============================>.] - ETA: 0s - loss: 0.4155 - accuracy: 0.8795 - balanced_acc: 0.8804\n",
            "Epoch 36: val_balanced_acc did not improve from 0.45973\n",
            "219/219 [==============================] - 1s 4ms/step - loss: 0.4158 - accuracy: 0.8791 - balanced_acc: 0.8797 - val_loss: 0.7196 - val_accuracy: 0.7358 - val_balanced_acc: 0.4528 - lr: 5.0000e-04\n",
            "Epoch 37/100\n",
            "214/219 [============================>.] - ETA: 0s - loss: 0.4117 - accuracy: 0.8787 - balanced_acc: 0.8786\n",
            "Epoch 37: val_balanced_acc did not improve from 0.45973\n",
            "219/219 [==============================] - 1s 4ms/step - loss: 0.4113 - accuracy: 0.8790 - balanced_acc: 0.8792 - val_loss: 0.7267 - val_accuracy: 0.7358 - val_balanced_acc: 0.4503 - lr: 5.0000e-04\n",
            "Epoch 38/100\n",
            "217/219 [============================>.] - ETA: 0s - loss: 0.4012 - accuracy: 0.8854 - balanced_acc: 0.8854\n",
            "Epoch 38: val_balanced_acc did not improve from 0.45973\n",
            "219/219 [==============================] - 1s 3ms/step - loss: 0.4010 - accuracy: 0.8855 - balanced_acc: 0.8854 - val_loss: 0.7066 - val_accuracy: 0.7513 - val_balanced_acc: 0.4573 - lr: 5.0000e-04\n",
            "Epoch 39/100\n",
            "218/219 [============================>.] - ETA: 0s - loss: 0.3998 - accuracy: 0.8828 - balanced_acc: 0.8837\n",
            "Epoch 39: val_balanced_acc improved from 0.45973 to 0.46289, saving model to /content/drive/MyDrive/PHD/Model/best_model_attention.h5\n",
            "219/219 [==============================] - 2s 7ms/step - loss: 0.4006 - accuracy: 0.8824 - balanced_acc: 0.8834 - val_loss: 0.7339 - val_accuracy: 0.7306 - val_balanced_acc: 0.4629 - lr: 5.0000e-04\n",
            "Epoch 40/100\n",
            "214/219 [============================>.] - ETA: 0s - loss: 0.3946 - accuracy: 0.8869 - balanced_acc: 0.8871\n",
            "Epoch 40: val_balanced_acc improved from 0.46289 to 0.46484, saving model to /content/drive/MyDrive/PHD/Model/best_model_attention.h5\n",
            "219/219 [==============================] - 1s 4ms/step - loss: 0.3944 - accuracy: 0.8869 - balanced_acc: 0.8868 - val_loss: 0.7275 - val_accuracy: 0.7409 - val_balanced_acc: 0.4648 - lr: 5.0000e-04\n",
            "Epoch 41/100\n",
            "207/219 [===========================>..] - ETA: 0s - loss: 0.3931 - accuracy: 0.8898 - balanced_acc: 0.8907\n",
            "Epoch 41: val_balanced_acc did not improve from 0.46484\n",
            "219/219 [==============================] - 1s 4ms/step - loss: 0.3919 - accuracy: 0.8902 - balanced_acc: 0.8910 - val_loss: 0.7216 - val_accuracy: 0.7358 - val_balanced_acc: 0.4577 - lr: 5.0000e-04\n",
            "Epoch 42/100\n",
            "214/219 [============================>.] - ETA: 0s - loss: 0.3915 - accuracy: 0.8875 - balanced_acc: 0.8881\n",
            "Epoch 42: val_balanced_acc did not improve from 0.46484\n",
            "219/219 [==============================] - 1s 4ms/step - loss: 0.3922 - accuracy: 0.8874 - balanced_acc: 0.8883 - val_loss: 0.7028 - val_accuracy: 0.7565 - val_balanced_acc: 0.4624 - lr: 5.0000e-04\n",
            "Epoch 43/100\n",
            "218/219 [============================>.] - ETA: 0s - loss: 0.3827 - accuracy: 0.8920 - balanced_acc: 0.8925\n",
            "Epoch 43: val_balanced_acc did not improve from 0.46484\n",
            "219/219 [==============================] - 1s 3ms/step - loss: 0.3822 - accuracy: 0.8921 - balanced_acc: 0.8926 - val_loss: 0.7282 - val_accuracy: 0.7409 - val_balanced_acc: 0.4608 - lr: 5.0000e-04\n",
            "Epoch 44/100\n",
            "214/219 [============================>.] - ETA: 0s - loss: 0.3832 - accuracy: 0.8923 - balanced_acc: 0.8921\n",
            "Epoch 44: val_balanced_acc did not improve from 0.46484\n",
            "219/219 [==============================] - 1s 4ms/step - loss: 0.3833 - accuracy: 0.8924 - balanced_acc: 0.8924 - val_loss: 0.7037 - val_accuracy: 0.7358 - val_balanced_acc: 0.4530 - lr: 5.0000e-04\n",
            "Epoch 45/100\n",
            "218/219 [============================>.] - ETA: 0s - loss: 0.3790 - accuracy: 0.8938 - balanced_acc: 0.8943\n",
            "Epoch 45: val_balanced_acc did not improve from 0.46484\n",
            "219/219 [==============================] - 1s 3ms/step - loss: 0.3790 - accuracy: 0.8939 - balanced_acc: 0.8944 - val_loss: 0.7065 - val_accuracy: 0.7409 - val_balanced_acc: 0.4581 - lr: 5.0000e-04\n",
            "Epoch 46/100\n",
            "215/219 [============================>.] - ETA: 0s - loss: 0.3708 - accuracy: 0.8954 - balanced_acc: 0.8965\n",
            "Epoch 46: val_balanced_acc did not improve from 0.46484\n",
            "219/219 [==============================] - 1s 4ms/step - loss: 0.3711 - accuracy: 0.8954 - balanced_acc: 0.8967 - val_loss: 0.7274 - val_accuracy: 0.7358 - val_balanced_acc: 0.4613 - lr: 5.0000e-04\n",
            "Epoch 47/100\n",
            "213/219 [============================>.] - ETA: 0s - loss: 0.3682 - accuracy: 0.8979 - balanced_acc: 0.8974\n",
            "Epoch 47: val_balanced_acc did not improve from 0.46484\n",
            "219/219 [==============================] - 1s 4ms/step - loss: 0.3704 - accuracy: 0.8970 - balanced_acc: 0.8970 - val_loss: 0.7095 - val_accuracy: 0.7409 - val_balanced_acc: 0.4648 - lr: 5.0000e-04\n",
            "Epoch 48/100\n",
            "216/219 [============================>.] - ETA: 0s - loss: 0.3655 - accuracy: 0.8987 - balanced_acc: 0.8986\n",
            "Epoch 48: val_balanced_acc did not improve from 0.46484\n",
            "219/219 [==============================] - 1s 4ms/step - loss: 0.3657 - accuracy: 0.8987 - balanced_acc: 0.8986 - val_loss: 0.7118 - val_accuracy: 0.7409 - val_balanced_acc: 0.4539 - lr: 5.0000e-04\n",
            "Epoch 49/100\n",
            "207/219 [===========================>..] - ETA: 0s - loss: 0.3675 - accuracy: 0.8988 - balanced_acc: 0.8971\n",
            "Epoch 49: val_balanced_acc did not improve from 0.46484\n",
            "219/219 [==============================] - 1s 4ms/step - loss: 0.3675 - accuracy: 0.8988 - balanced_acc: 0.8977 - val_loss: 0.6959 - val_accuracy: 0.7461 - val_balanced_acc: 0.4590 - lr: 5.0000e-04\n",
            "Epoch 50/100\n",
            "211/219 [===========================>..] - ETA: 0s - loss: 0.3553 - accuracy: 0.9010 - balanced_acc: 0.9030\n",
            "Epoch 50: val_balanced_acc did not improve from 0.46484\n",
            "219/219 [==============================] - 1s 4ms/step - loss: 0.3569 - accuracy: 0.9002 - balanced_acc: 0.9017 - val_loss: 0.7085 - val_accuracy: 0.7409 - val_balanced_acc: 0.4608 - lr: 5.0000e-04\n",
            "Epoch 51/100\n",
            "217/219 [============================>.] - ETA: 0s - loss: 0.3575 - accuracy: 0.9017 - balanced_acc: 0.9020\n",
            "Epoch 51: val_balanced_acc did not improve from 0.46484\n",
            "219/219 [==============================] - 1s 4ms/step - loss: 0.3575 - accuracy: 0.9017 - balanced_acc: 0.9021 - val_loss: 0.7068 - val_accuracy: 0.7461 - val_balanced_acc: 0.4632 - lr: 5.0000e-04\n",
            "Epoch 52/100\n",
            "210/219 [===========================>..] - ETA: 0s - loss: 0.3531 - accuracy: 0.9025 - balanced_acc: 0.9024\n",
            "Epoch 52: val_balanced_acc improved from 0.46484 to 0.46491, saving model to /content/drive/MyDrive/PHD/Model/best_model_attention.h5\n",
            "219/219 [==============================] - 1s 4ms/step - loss: 0.3545 - accuracy: 0.9014 - balanced_acc: 0.9012 - val_loss: 0.6835 - val_accuracy: 0.7565 - val_balanced_acc: 0.4649 - lr: 5.0000e-04\n",
            "Epoch 53/100\n",
            "210/219 [===========================>..] - ETA: 0s - loss: 0.3497 - accuracy: 0.9038 - balanced_acc: 0.9042\n",
            "Epoch 53: val_balanced_acc did not improve from 0.46491\n",
            "219/219 [==============================] - 1s 4ms/step - loss: 0.3514 - accuracy: 0.9029 - balanced_acc: 0.9034 - val_loss: 0.6702 - val_accuracy: 0.7565 - val_balanced_acc: 0.4582 - lr: 5.0000e-04\n",
            "Epoch 54/100\n",
            "216/219 [============================>.] - ETA: 0s - loss: 0.3491 - accuracy: 0.9049 - balanced_acc: 0.9053\n",
            "Epoch 54: val_balanced_acc did not improve from 0.46491\n",
            "219/219 [==============================] - 1s 3ms/step - loss: 0.3490 - accuracy: 0.9046 - balanced_acc: 0.9049 - val_loss: 0.7076 - val_accuracy: 0.7358 - val_balanced_acc: 0.4579 - lr: 5.0000e-04\n",
            "Epoch 55/100\n",
            "214/219 [============================>.] - ETA: 0s - loss: 0.3434 - accuracy: 0.9059 - balanced_acc: 0.9067\n",
            "Epoch 55: val_balanced_acc did not improve from 0.46491\n",
            "219/219 [==============================] - 1s 4ms/step - loss: 0.3443 - accuracy: 0.9054 - balanced_acc: 0.9061 - val_loss: 0.7172 - val_accuracy: 0.7409 - val_balanced_acc: 0.4648 - lr: 5.0000e-04\n",
            "Epoch 56/100\n",
            "217/219 [============================>.] - ETA: 0s - loss: 0.3413 - accuracy: 0.9077 - balanced_acc: 0.9067\n",
            "Epoch 56: val_balanced_acc improved from 0.46491 to 0.46576, saving model to /content/drive/MyDrive/PHD/Model/best_model_attention.h5\n",
            "219/219 [==============================] - 1s 4ms/step - loss: 0.3414 - accuracy: 0.9076 - balanced_acc: 0.9067 - val_loss: 0.6852 - val_accuracy: 0.7617 - val_balanced_acc: 0.4658 - lr: 5.0000e-04\n",
            "Epoch 57/100\n",
            "219/219 [==============================] - ETA: 0s - loss: 0.3398 - accuracy: 0.9069 - balanced_acc: 0.9059\n",
            "Epoch 57: val_balanced_acc did not improve from 0.46576\n",
            "219/219 [==============================] - 1s 3ms/step - loss: 0.3398 - accuracy: 0.9069 - balanced_acc: 0.9059 - val_loss: 0.6840 - val_accuracy: 0.7617 - val_balanced_acc: 0.4658 - lr: 5.0000e-04\n",
            "Epoch 58/100\n",
            "218/219 [============================>.] - ETA: 0s - loss: 0.3344 - accuracy: 0.9096 - balanced_acc: 0.9091\n",
            "Epoch 58: val_balanced_acc did not improve from 0.46576\n",
            "219/219 [==============================] - 1s 3ms/step - loss: 0.3343 - accuracy: 0.9097 - balanced_acc: 0.9091 - val_loss: 0.7152 - val_accuracy: 0.7461 - val_balanced_acc: 0.4632 - lr: 5.0000e-04\n",
            "Epoch 59/100\n",
            "204/219 [==========================>...] - ETA: 0s - loss: 0.3325 - accuracy: 0.9099 - balanced_acc: 0.9101\n",
            "Epoch 59: val_balanced_acc improved from 0.46576 to 0.46593, saving model to /content/drive/MyDrive/PHD/Model/best_model_attention.h5\n",
            "219/219 [==============================] - 1s 4ms/step - loss: 0.3346 - accuracy: 0.9089 - balanced_acc: 0.9087 - val_loss: 0.7102 - val_accuracy: 0.7461 - val_balanced_acc: 0.4659 - lr: 5.0000e-04\n",
            "Epoch 60/100\n",
            "216/219 [============================>.] - ETA: 0s - loss: 0.3318 - accuracy: 0.9088 - balanced_acc: 0.9082\n",
            "Epoch 60: val_balanced_acc did not improve from 0.46593\n",
            "219/219 [==============================] - 1s 3ms/step - loss: 0.3318 - accuracy: 0.9088 - balanced_acc: 0.9083 - val_loss: 0.7138 - val_accuracy: 0.7254 - val_balanced_acc: 0.4560 - lr: 5.0000e-04\n",
            "Epoch 61/100\n",
            "214/219 [============================>.] - ETA: 0s - loss: 0.3257 - accuracy: 0.9140 - balanced_acc: 0.9138\n",
            "Epoch 61: val_balanced_acc did not improve from 0.46593\n",
            "219/219 [==============================] - 1s 4ms/step - loss: 0.3252 - accuracy: 0.9140 - balanced_acc: 0.9137 - val_loss: 0.7153 - val_accuracy: 0.7409 - val_balanced_acc: 0.4648 - lr: 5.0000e-04\n",
            "Epoch 62/100\n",
            "208/219 [===========================>..] - ETA: 0s - loss: 0.3248 - accuracy: 0.9107 - balanced_acc: 0.9101\n",
            "Epoch 62: val_balanced_acc did not improve from 0.46593\n",
            "219/219 [==============================] - 1s 4ms/step - loss: 0.3254 - accuracy: 0.9095 - balanced_acc: 0.9089 - val_loss: 0.6975 - val_accuracy: 0.7461 - val_balanced_acc: 0.4590 - lr: 5.0000e-04\n",
            "Epoch 63/100\n",
            "210/219 [===========================>..] - ETA: 0s - loss: 0.3242 - accuracy: 0.9124 - balanced_acc: 0.9137\n",
            "Epoch 63: val_balanced_acc improved from 0.46593 to 0.47274, saving model to /content/drive/MyDrive/PHD/Model/best_model_attention.h5\n",
            "219/219 [==============================] - 1s 4ms/step - loss: 0.3223 - accuracy: 0.9134 - balanced_acc: 0.9145 - val_loss: 0.6916 - val_accuracy: 0.7565 - val_balanced_acc: 0.4727 - lr: 5.0000e-04\n",
            "Epoch 64/100\n",
            "212/219 [============================>.] - ETA: 0s - loss: 0.3161 - accuracy: 0.9163 - balanced_acc: 0.9168\n",
            "Epoch 64: val_balanced_acc did not improve from 0.47274\n",
            "219/219 [==============================] - 1s 4ms/step - loss: 0.3158 - accuracy: 0.9170 - balanced_acc: 0.9175 - val_loss: 0.7060 - val_accuracy: 0.7409 - val_balanced_acc: 0.4651 - lr: 5.0000e-04\n",
            "Epoch 65/100\n",
            "214/219 [============================>.] - ETA: 0s - loss: 0.3190 - accuracy: 0.9127 - balanced_acc: 0.9124\n",
            "Epoch 65: val_balanced_acc did not improve from 0.47274\n",
            "219/219 [==============================] - 1s 4ms/step - loss: 0.3188 - accuracy: 0.9132 - balanced_acc: 0.9127 - val_loss: 0.7074 - val_accuracy: 0.7461 - val_balanced_acc: 0.4659 - lr: 5.0000e-04\n",
            "Epoch 66/100\n",
            "212/219 [============================>.] - ETA: 0s - loss: 0.3138 - accuracy: 0.9153 - balanced_acc: 0.9146\n",
            "Epoch 66: val_balanced_acc did not improve from 0.47274\n",
            "219/219 [==============================] - 1s 4ms/step - loss: 0.3143 - accuracy: 0.9151 - balanced_acc: 0.9144 - val_loss: 0.7076 - val_accuracy: 0.7358 - val_balanced_acc: 0.4579 - lr: 5.0000e-04\n",
            "Epoch 67/100\n",
            "214/219 [============================>.] - ETA: 0s - loss: 0.3122 - accuracy: 0.9165 - balanced_acc: 0.9161\n",
            "Epoch 67: val_balanced_acc did not improve from 0.47274\n",
            "219/219 [==============================] - 1s 4ms/step - loss: 0.3134 - accuracy: 0.9162 - balanced_acc: 0.9161 - val_loss: 0.7015 - val_accuracy: 0.7461 - val_balanced_acc: 0.4632 - lr: 5.0000e-04\n",
            "Epoch 68/100\n",
            "215/219 [============================>.] - ETA: 0s - loss: 0.3101 - accuracy: 0.9175 - balanced_acc: 0.9172\n",
            "Epoch 68: val_balanced_acc did not improve from 0.47274\n",
            "219/219 [==============================] - 1s 4ms/step - loss: 0.3112 - accuracy: 0.9166 - balanced_acc: 0.9160 - val_loss: 0.6830 - val_accuracy: 0.7565 - val_balanced_acc: 0.4586 - lr: 5.0000e-04\n",
            "Epoch 69/100\n",
            "212/219 [============================>.] - ETA: 0s - loss: 0.3041 - accuracy: 0.9197 - balanced_acc: 0.9200\n",
            "Epoch 69: val_balanced_acc did not improve from 0.47274\n",
            "219/219 [==============================] - 1s 4ms/step - loss: 0.3043 - accuracy: 0.9192 - balanced_acc: 0.9195 - val_loss: 0.6770 - val_accuracy: 0.7617 - val_balanced_acc: 0.4658 - lr: 5.0000e-04\n",
            "Epoch 70/100\n",
            "206/219 [===========================>..] - ETA: 0s - loss: 0.3030 - accuracy: 0.9198 - balanced_acc: 0.9213\n",
            "Epoch 70: val_balanced_acc did not improve from 0.47274\n",
            "219/219 [==============================] - 1s 4ms/step - loss: 0.3021 - accuracy: 0.9200 - balanced_acc: 0.9212 - val_loss: 0.6834 - val_accuracy: 0.7565 - val_balanced_acc: 0.4622 - lr: 5.0000e-04\n",
            "Epoch 71/100\n",
            "214/219 [============================>.] - ETA: 0s - loss: 0.3005 - accuracy: 0.9202 - balanced_acc: 0.9202\n",
            "Epoch 71: val_balanced_acc did not improve from 0.47274\n",
            "219/219 [==============================] - 1s 4ms/step - loss: 0.3009 - accuracy: 0.9199 - balanced_acc: 0.9200 - val_loss: 0.6959 - val_accuracy: 0.7617 - val_balanced_acc: 0.4700 - lr: 5.0000e-04\n",
            "Epoch 72/100\n",
            "216/219 [============================>.] - ETA: 0s - loss: 0.3049 - accuracy: 0.9175 - balanced_acc: 0.9175\n",
            "Epoch 72: val_balanced_acc did not improve from 0.47274\n",
            "219/219 [==============================] - 1s 4ms/step - loss: 0.3044 - accuracy: 0.9178 - balanced_acc: 0.9178 - val_loss: 0.6702 - val_accuracy: 0.7617 - val_balanced_acc: 0.4646 - lr: 5.0000e-04\n",
            "Epoch 73/100\n",
            "215/219 [============================>.] - ETA: 0s - loss: 0.2950 - accuracy: 0.9224 - balanced_acc: 0.9219\n",
            "Epoch 73: val_balanced_acc did not improve from 0.47274\n",
            "219/219 [==============================] - 1s 4ms/step - loss: 0.2954 - accuracy: 0.9220 - balanced_acc: 0.9217 - val_loss: 0.6965 - val_accuracy: 0.7409 - val_balanced_acc: 0.4624 - lr: 5.0000e-04\n",
            "Epoch 74/100\n",
            "213/219 [============================>.] - ETA: 0s - loss: 0.2940 - accuracy: 0.9233 - balanced_acc: 0.9224\n",
            "Epoch 74: val_balanced_acc did not improve from 0.47274\n",
            "219/219 [==============================] - 1s 4ms/step - loss: 0.2941 - accuracy: 0.9234 - balanced_acc: 0.9225 - val_loss: 0.6882 - val_accuracy: 0.7461 - val_balanced_acc: 0.4605 - lr: 5.0000e-04\n",
            "Epoch 75/100\n",
            "214/219 [============================>.] - ETA: 0s - loss: 0.2929 - accuracy: 0.9210 - balanced_acc: 0.9199\n",
            "Epoch 75: val_balanced_acc did not improve from 0.47274\n",
            "219/219 [==============================] - 1s 4ms/step - loss: 0.2924 - accuracy: 0.9211 - balanced_acc: 0.9201 - val_loss: 0.6878 - val_accuracy: 0.7565 - val_balanced_acc: 0.4649 - lr: 5.0000e-04\n",
            "Epoch 76/100\n",
            "212/219 [============================>.] - ETA: 0s - loss: 0.2904 - accuracy: 0.9243 - balanced_acc: 0.9258\n",
            "Epoch 76: val_balanced_acc did not improve from 0.47274\n",
            "219/219 [==============================] - 1s 4ms/step - loss: 0.2902 - accuracy: 0.9239 - balanced_acc: 0.9253 - val_loss: 0.6962 - val_accuracy: 0.7409 - val_balanced_acc: 0.4588 - lr: 5.0000e-04\n",
            "Epoch 77/100\n",
            "209/219 [===========================>..] - ETA: 0s - loss: 0.2919 - accuracy: 0.9219 - balanced_acc: 0.9213\n",
            "Epoch 77: val_balanced_acc did not improve from 0.47274\n",
            "219/219 [==============================] - 1s 4ms/step - loss: 0.2912 - accuracy: 0.9221 - balanced_acc: 0.9213 - val_loss: 0.6975 - val_accuracy: 0.7461 - val_balanced_acc: 0.4605 - lr: 5.0000e-04\n",
            "Epoch 78/100\n",
            "207/219 [===========================>..] - ETA: 0s - loss: 0.2791 - accuracy: 0.9274 - balanced_acc: 0.9280\n",
            "Epoch 78: val_balanced_acc did not improve from 0.47274\n",
            "219/219 [==============================] - 1s 4ms/step - loss: 0.2793 - accuracy: 0.9272 - balanced_acc: 0.9277 - val_loss: 0.6786 - val_accuracy: 0.7513 - val_balanced_acc: 0.4605 - lr: 5.0000e-04\n",
            "Epoch 79/100\n",
            "206/219 [===========================>..] - ETA: 0s - loss: 0.2913 - accuracy: 0.9215 - balanced_acc: 0.9199\n",
            "Epoch 79: val_balanced_acc did not improve from 0.47274\n",
            "219/219 [==============================] - 1s 4ms/step - loss: 0.2902 - accuracy: 0.9224 - balanced_acc: 0.9211 - val_loss: 0.6853 - val_accuracy: 0.7461 - val_balanced_acc: 0.4542 - lr: 5.0000e-04\n",
            "Epoch 80/100\n",
            "206/219 [===========================>..] - ETA: 0s - loss: 0.2793 - accuracy: 0.9257 - balanced_acc: 0.9252\n",
            "Epoch 80: val_balanced_acc did not improve from 0.47274\n",
            "219/219 [==============================] - 1s 4ms/step - loss: 0.2810 - accuracy: 0.9250 - balanced_acc: 0.9249 - val_loss: 0.6997 - val_accuracy: 0.7358 - val_balanced_acc: 0.4579 - lr: 5.0000e-04\n",
            "Epoch 81/100\n",
            "206/219 [===========================>..] - ETA: 0s - loss: 0.2818 - accuracy: 0.9263 - balanced_acc: 0.9276\n",
            "Epoch 81: val_balanced_acc did not improve from 0.47274\n",
            "219/219 [==============================] - 1s 4ms/step - loss: 0.2815 - accuracy: 0.9264 - balanced_acc: 0.9280 - val_loss: 0.6753 - val_accuracy: 0.7617 - val_balanced_acc: 0.4673 - lr: 5.0000e-04\n",
            "Epoch 82/100\n",
            "208/219 [===========================>..] - ETA: 0s - loss: 0.2754 - accuracy: 0.9261 - balanced_acc: 0.9251\n",
            "Epoch 82: val_balanced_acc did not improve from 0.47274\n",
            "219/219 [==============================] - 1s 4ms/step - loss: 0.2750 - accuracy: 0.9264 - balanced_acc: 0.9253 - val_loss: 0.6990 - val_accuracy: 0.7461 - val_balanced_acc: 0.4639 - lr: 5.0000e-04\n",
            "Epoch 83/100\n",
            "210/219 [===========================>..] - ETA: 0s - loss: 0.2744 - accuracy: 0.9296 - balanced_acc: 0.9293\n",
            "Epoch 83: ReduceLROnPlateau reducing learning rate to 0.0002500000118743628.\n",
            "\n",
            "Epoch 83: val_balanced_acc did not improve from 0.47274\n",
            "219/219 [==============================] - 1s 4ms/step - loss: 0.2737 - accuracy: 0.9298 - balanced_acc: 0.9294 - val_loss: 0.6966 - val_accuracy: 0.7461 - val_balanced_acc: 0.4632 - lr: 5.0000e-04\n",
            "Epoch 84/100\n",
            "207/219 [===========================>..] - ETA: 0s - loss: 0.2749 - accuracy: 0.9282 - balanced_acc: 0.9277\n",
            "Epoch 84: val_balanced_acc did not improve from 0.47274\n",
            "219/219 [==============================] - 1s 4ms/step - loss: 0.2739 - accuracy: 0.9292 - balanced_acc: 0.9289 - val_loss: 0.6815 - val_accuracy: 0.7513 - val_balanced_acc: 0.4620 - lr: 2.5000e-04\n",
            "Epoch 85/100\n",
            "209/219 [===========================>..] - ETA: 0s - loss: 0.2742 - accuracy: 0.9276 - balanced_acc: 0.9272\n",
            "Epoch 85: val_balanced_acc did not improve from 0.47274\n",
            "219/219 [==============================] - 1s 4ms/step - loss: 0.2739 - accuracy: 0.9277 - balanced_acc: 0.9269 - val_loss: 0.6936 - val_accuracy: 0.7461 - val_balanced_acc: 0.4596 - lr: 2.5000e-04\n",
            "Epoch 86/100\n",
            "207/219 [===========================>..] - ETA: 0s - loss: 0.2679 - accuracy: 0.9312 - balanced_acc: 0.9301\n",
            "Epoch 86: val_balanced_acc did not improve from 0.47274\n",
            "219/219 [==============================] - 1s 4ms/step - loss: 0.2675 - accuracy: 0.9315 - balanced_acc: 0.9299 - val_loss: 0.6855 - val_accuracy: 0.7461 - val_balanced_acc: 0.4569 - lr: 2.5000e-04\n",
            "Epoch 87/100\n",
            "209/219 [===========================>..] - ETA: 0s - loss: 0.2659 - accuracy: 0.9314 - balanced_acc: 0.9318\n",
            "Epoch 87: val_balanced_acc did not improve from 0.47274\n",
            "219/219 [==============================] - 1s 4ms/step - loss: 0.2678 - accuracy: 0.9306 - balanced_acc: 0.9310 - val_loss: 0.6833 - val_accuracy: 0.7513 - val_balanced_acc: 0.4613 - lr: 2.5000e-04\n",
            "Epoch 88/100\n",
            "209/219 [===========================>..] - ETA: 0s - loss: 0.2687 - accuracy: 0.9314 - balanced_acc: 0.9318\n",
            "Epoch 88: val_balanced_acc did not improve from 0.47274\n",
            "219/219 [==============================] - 1s 4ms/step - loss: 0.2688 - accuracy: 0.9318 - balanced_acc: 0.9320 - val_loss: 0.6699 - val_accuracy: 0.7513 - val_balanced_acc: 0.4578 - lr: 2.5000e-04\n",
            "Epoch 89/100\n",
            "208/219 [===========================>..] - ETA: 0s - loss: 0.2678 - accuracy: 0.9303 - balanced_acc: 0.9322\n",
            "Epoch 89: val_balanced_acc did not improve from 0.47274\n",
            "219/219 [==============================] - 1s 4ms/step - loss: 0.2689 - accuracy: 0.9301 - balanced_acc: 0.9318 - val_loss: 0.6909 - val_accuracy: 0.7461 - val_balanced_acc: 0.4569 - lr: 2.5000e-04\n",
            "Epoch 90/100\n",
            "216/219 [============================>.] - ETA: 0s - loss: 0.2715 - accuracy: 0.9303 - balanced_acc: 0.9301\n",
            "Epoch 90: val_balanced_acc did not improve from 0.47274\n",
            "219/219 [==============================] - 1s 4ms/step - loss: 0.2719 - accuracy: 0.9302 - balanced_acc: 0.9298 - val_loss: 0.6821 - val_accuracy: 0.7461 - val_balanced_acc: 0.4542 - lr: 2.5000e-04\n",
            "Epoch 91/100\n",
            "210/219 [===========================>..] - ETA: 0s - loss: 0.2622 - accuracy: 0.9326 - balanced_acc: 0.9316\n",
            "Epoch 91: val_balanced_acc did not improve from 0.47274\n",
            "219/219 [==============================] - 1s 4ms/step - loss: 0.2623 - accuracy: 0.9325 - balanced_acc: 0.9313 - val_loss: 0.6980 - val_accuracy: 0.7409 - val_balanced_acc: 0.4588 - lr: 2.5000e-04\n",
            "Epoch 92/100\n",
            "209/219 [===========================>..] - ETA: 0s - loss: 0.2637 - accuracy: 0.9331 - balanced_acc: 0.9339\n",
            "Epoch 92: val_balanced_acc did not improve from 0.47274\n",
            "219/219 [==============================] - 1s 4ms/step - loss: 0.2629 - accuracy: 0.9333 - balanced_acc: 0.9335 - val_loss: 0.6957 - val_accuracy: 0.7409 - val_balanced_acc: 0.4588 - lr: 2.5000e-04\n",
            "Epoch 93/100\n",
            "214/219 [============================>.] - ETA: 0s - loss: 0.2676 - accuracy: 0.9314 - balanced_acc: 0.9311\n",
            "Epoch 93: val_balanced_acc did not improve from 0.47274\n",
            "219/219 [==============================] - 1s 4ms/step - loss: 0.2675 - accuracy: 0.9316 - balanced_acc: 0.9314 - val_loss: 0.6966 - val_accuracy: 0.7409 - val_balanced_acc: 0.4630 - lr: 2.5000e-04\n"
          ]
        }
      ],
      "source": [
        "best_model_fpath = '/content/drive/MyDrive/PHD/Model/Feature-Map-Ov/best_model_no.h5'\n",
        "last_model_fpath = '/content/drive/MyDrive/PHD/Model/Feature-Map-Ov/last_model_no.h5'\n",
        "model2.compile(optimizer = opt_SGD , loss = \"categorical_crossentropy\", metrics=['accuracy', balanced_acc])\n",
        "hst = model2.fit(X_train_fm_ov, y_train_ov, epochs=EPOCHS, batch_size=BATCH_SIZE, validation_data=(X_val_fm, y_val), verbose=1,\n",
        "                    steps_per_epoch=X_train_fm_ov.shape[0] // BATCH_SIZE, \n",
        "                    callbacks=[learning_rate_reduction,early_stopping_monitor, mc])"
      ]
    },
    {
      "cell_type": "code",
      "execution_count": 23,
      "metadata": {
        "id": "8XhlbWn--8Or",
        "colab": {
          "base_uri": "https://localhost:8080/",
          "height": 295
        },
        "outputId": "cc2db38f-c4b1-46d1-cebb-1d292045017f"
      },
      "outputs": [
        {
          "output_type": "display_data",
          "data": {
            "text/plain": [
              "<Figure size 432x288 with 1 Axes>"
            ],
            "image/png": "[encoded data removed]"
          },
          "metadata": {
            "needs_background": "light"
          }
        }
      ],
      "source": [
        "# summarize history for accuracy\n",
        "plt.plot(hst.history['accuracy'])\n",
        "plt.plot(hst.history['balanced_acc'])\n",
        "plt.plot(hst.history['val_accuracy'])\n",
        "plt.plot(hst.history['val_balanced_acc'])\n",
        "plt.title('Model accuracy')\n",
        "plt.ylabel('Performance')\n",
        "plt.xlabel('epoch')\n",
        "plt.legend(['train accuracy', 'train balanced acc.', 'val. accuracy', 'val. balanced acc.'], loc='lower right')\n",
        "plt.show()"
      ]
    },
    {
      "cell_type": "code",
      "execution_count": 24,
      "metadata": {
        "id": "IW-_U6vFpIci"
      },
      "outputs": [],
      "source": [
        "# get feature map for first hidden layer\n",
        "y_train_pred = model2.predict(X_train_fm_ov)\n",
        "y_val_pred = model2.predict(X_val_fm)"
      ]
    },
    {
      "cell_type": "code",
      "execution_count": 25,
      "metadata": {
        "id": "OLop0YK-ZK40",
        "colab": {
          "base_uri": "https://localhost:8080/"
        },
        "outputId": "3733507c-9883-4a46-d215-8ba49e778389"
      },
      "outputs": [
        {
          "output_type": "stream",
          "name": "stdout",
          "text": [
            "accuracy on training 0.9326561057043404\n",
            "balanced accuracy on training 0.9326561057043404\n",
            "accuracy on validation 0.7409326424870466\n",
            "balanced accuracy on validation 0.7154754362942517\n",
            "Score on val data:  (0.5704461396208969, 0.7154754362942517, 0.6059867124026416, None)\n"
          ]
        }
      ],
      "source": [
        "print('accuracy on training',accuracy_score(np.argmax(y_train_ov, axis=1), np.argmax(y_train_pred, axis=1)))\n",
        "print('balanced accuracy on training',balanced_accuracy_score(np.argmax(y_train_ov, axis=1), np.argmax(y_train_pred, axis=1)))\n",
        "print('accuracy on validation',accuracy_score(np.argmax(y_val, axis=1), np.argmax(y_val_pred, axis=1)))\n",
        "print('balanced accuracy on validation',balanced_accuracy_score(np.argmax(y_val, axis=1), np.argmax(y_val_pred, axis=1)))\n",
        "print('Score on val data: ',precision_recall_fscore_support(np.argmax(y_val, axis=1), np.argmax(y_val_pred, axis=1), average='macro'))"
      ]
    },
    {
      "cell_type": "markdown",
      "metadata": {
        "id": "RcRGeofw-8tK"
      },
      "source": [
        "#Load ISIC 2018 Challange Data"
      ]
    },
    {
      "cell_type": "code",
      "execution_count": 7,
      "metadata": {
        "id": "l3P7IjyLuZGY"
      },
      "outputs": [],
      "source": [
        "X_train, y_train, X_val, y_val = load_isic2018_dataset(train_under_frac = 0.7)"
      ]
    },
    {
      "cell_type": "code",
      "execution_count": null,
      "metadata": {
        "id": "2IncA-_o_n5w"
      },
      "outputs": [],
      "source": [
        "# ordered count of rows per unique label\n",
        "labels_count = y_train.value_counts(ascending=True)\n",
        "\n",
        "f = plt.figure(figsize=(15, 6))\n",
        "s = sns.barplot(x=labels_count.index,y=labels_count.values)\n",
        "s.set_xticklabels(s.get_xticklabels(), rotation = 30)"
      ]
    },
    {
      "cell_type": "markdown",
      "metadata": {
        "id": "AnKMKSb4Bkym"
      },
      "source": [
        "Plot 3 images per label"
      ]
    },
    {
      "cell_type": "code",
      "execution_count": null,
      "metadata": {
        "id": "jdnVuqbFBW3K"
      },
      "outputs": [],
      "source": [
        "def plot_images_per_label(df, label, cols: int, size: tuple):\n",
        "    fig, axs = plt.subplots(nrows=1, ncols=cols, figsize=size)\n",
        "\n",
        "    cntMax = cols\n",
        "    cntCur = 0\n",
        "    for index, row in df.iterrows():\n",
        "        if(y_train == label and cntCur < cntMax):\n",
        "            axs[cntCur].imshow(plt.imread(df.FilePaths[index]))\n",
        "            axs[cntCur].set_title(df.Labels[index])\n",
        "\n",
        "            cntCur += 1\n",
        "        else:\n",
        "            if(cntCur >= cntMax):\n",
        "                break\n",
        "    \n",
        "    plt.tight_layout()\n",
        "    plt.show()\n",
        "\n",
        "\n",
        "# unique labels\n",
        "labels = sorted(df1['y_train'].unique())\n",
        "for label in range(7):\n",
        "    plot_images_per_label(df1, label, 3, (12,9))"
      ]
    },
    {
      "cell_type": "code",
      "execution_count": null,
      "metadata": {
        "id": "asV1O58Lrq-R"
      },
      "outputs": [],
      "source": [
        "from PIL import Image\n",
        "img = Image.fromarray(X_train[0], 'RGB')\n",
        "display(img)"
      ]
    },
    {
      "cell_type": "markdown",
      "metadata": {
        "id": "qRKKrNacAZtl"
      },
      "source": [
        "Drop duplicate images"
      ]
    },
    {
      "cell_type": "code",
      "execution_count": null,
      "metadata": {
        "id": "ERwfyPDHP-zC"
      },
      "outputs": [],
      "source": [
        "#df_group = pd.read_csv('/content/drive/MyDrive/PHD/Datasets/isic2018/ISIC2018_Task3_Training_LesionGroupings.csv') \n",
        "#df_train = df_train.set_index('image').join(df_group.set_index('image'))\n",
        "#df_train = df_train.drop_duplicates(subset=['lesion_id'])"
      ]
    },
    {
      "cell_type": "markdown",
      "metadata": {
        "id": "cNBXx28B9yGu"
      },
      "source": [
        "#DeepSMOTE Oversampling"
      ]
    },
    {
      "cell_type": "code",
      "execution_count": null,
      "metadata": {
        "id": "YmX_Uqbmj-tN"
      },
      "outputs": [],
      "source": [
        "from numpy import moveaxis\n",
        "from sklearn.neighbors import NearestNeighbors\n",
        "import torch\n",
        "import torch.nn as nn\n",
        "\n",
        "max_el = np.inf\n",
        "\n",
        "args = {}\n",
        "args['dim_h'] = 64         # factor controlling size of hidden layers\n",
        "args['n_channel'] = 3#1    # number of channels in the input data \n",
        "args['n_z'] = 600 #300     # number of dimensions in latent space. \n",
        "args['sigma'] = 1.0        # variance in n_z\n",
        "args['lambda'] = 0.01      # hyper param for weight of discriminator loss\n",
        "args['lr'] = 0.0002        # learning rate for Adam optimizer .000\n",
        "args['epochs'] = 300       # how many epochs to run for\n",
        "args['batch_size'] = 100   # batch size for SGD\n",
        "args['save'] = True        # save weights at each epoch of training if True\n",
        "args['train'] = True       # train networks if True, else load networks from\n",
        "args['patience'] = 20"
      ]
    },
    {
      "cell_type": "code",
      "execution_count": null,
      "metadata": {
        "id": "NydOdPMajEfT"
      },
      "outputs": [],
      "source": [
        "class Encoder(nn.Module):\n",
        "    def __init__(self, args):\n",
        "        super(Encoder, self).__init__()\n",
        "\n",
        "        self.n_channel = args['n_channel']\n",
        "        self.dim_h = args['dim_h']\n",
        "        self.n_z = args['n_z']\n",
        "        \n",
        "        # convolutional filters, work excellent with image data\n",
        "        # [(W−K+2P)/S]+1\n",
        "        self.conv = nn.Sequential(\n",
        "            nn.AvgPool2d(7, stride=7),\n",
        "            nn.Conv2d(self.n_channel, self.dim_h, 4, 2, 1, bias=False),# 16\n",
        "            nn.LeakyReLU(0.2, inplace=True),\n",
        "            nn.Conv2d(self.dim_h, self.dim_h * 2, 4, 2, 1, bias=False), # 8\n",
        "            nn.BatchNorm2d(self.dim_h * 2),\n",
        "            nn.LeakyReLU(0.2, inplace=True),\n",
        "            nn.Conv2d(self.dim_h * 2, self.dim_h * 4, 4, 2, 1, bias=False),# 4\n",
        "            nn.BatchNorm2d(self.dim_h * 4),\n",
        "            nn.LeakyReLU(0.2, inplace=True),\n",
        "            nn.Conv2d(self.dim_h * 4, self.dim_h * 8, 4, 2, 0, bias=False),#14\n",
        "            nn.BatchNorm2d(self.dim_h * 8),\n",
        "            nn.LeakyReLU(0.2, inplace=True))\n",
        "        self.fc = nn.Linear(self.dim_h * (2 ** 3), self.n_z)\n",
        "\n",
        "    def forward(self, x):\n",
        "        x = self.conv(x)\n",
        "        \n",
        "        x = x.squeeze()\n",
        "        x = self.fc(x)\n",
        "        return x\n",
        "\n",
        "\n",
        "class Decoder(nn.Module):\n",
        "    def __init__(self, args):\n",
        "        super(Decoder, self).__init__()\n",
        "\n",
        "        self.n_channel = args['n_channel']\n",
        "        self.dim_h = args['dim_h']\n",
        "        self.n_z = args['n_z']\n",
        "\n",
        "        # first layer is fully connected\n",
        "        self.fc = nn.Sequential(\n",
        "            nn.Linear(self.n_z, self.dim_h * 2**3 * 7 * 7),\n",
        "            nn.ReLU())\n",
        "\n",
        "        # deconvolutional filters, essentially inverse of convolutional filters\n",
        "        # H_out ​= (H_in​−1)*stride[0] − 2×padding[0] + dilation[0]×(kernel_size[0]−1) + output_padding[0] + 1\n",
        "        self.deconv = nn.Sequential(\n",
        "            nn.ConvTranspose2d(self.dim_h * 8, self.dim_h * 4, 4), #10\n",
        "            nn.BatchNorm2d(self.dim_h * 4),\n",
        "            nn.ReLU(True),\n",
        "            nn.ConvTranspose2d(self.dim_h * 4, self.dim_h * 2, 4), #13\n",
        "            nn.BatchNorm2d(self.dim_h * 2),\n",
        "            nn.ReLU(True),\n",
        "            nn.ConvTranspose2d(self.dim_h * 2, self.dim_h, 4),# 16\n",
        "            nn.BatchNorm2d(self.dim_h),\n",
        "            nn.ReLU(True),\n",
        "            nn.ConvTranspose2d(self.dim_h, 3, 4, 2, 1),# 32\n",
        "            nn.UpsamplingBilinear2d(scale_factor=7),\n",
        "            nn.Tanh())\n",
        "\n",
        "    def forward(self, x):\n",
        "        x = self.fc(x)\n",
        "        x = x.view(-1, self.dim_h * 2**3, 7, 7)\n",
        "        x = self.deconv(x)\n",
        "        return x\n",
        "\n",
        "##############################################################################\n",
        "\"\"\"set models, loss functions\"\"\"\n",
        "# control which parameters are frozen / free for optimization\n",
        "def free_params(module: nn.Module):\n",
        "    for p in module.parameters():\n",
        "        p.requires_grad = True\n",
        "\n",
        "def frozen_params(module: nn.Module):\n",
        "    for p in module.parameters():\n",
        "        p.requires_grad = False\n",
        "\n",
        "def biased_get_class(X, y, c):\n",
        "    \n",
        "    xbeg = X[y == c]\n",
        "    ybeg = y[y == c]\n",
        "    \n",
        "    return xbeg, ybeg\n",
        "    #return xclass, yclass\n",
        "\n",
        "def G_SM(X, y,n_to_sample,cl):\n",
        "    n_neigh = 5\n",
        "    nn = NearestNeighbors(n_neighbors=n_neigh, n_jobs=1)\n",
        "    nn.fit(X)\n",
        "    dist, ind = nn.kneighbors(X)\n",
        "\n",
        "    # generating samples\n",
        "    base_indices = np.random.choice(list(range(len(X))),n_to_sample)\n",
        "    neighbor_indices = np.random.choice(list(range(1, n_neigh)),n_to_sample)\n",
        "\n",
        "    X_base = X[base_indices]\n",
        "    X_neighbor = X[ind[base_indices, neighbor_indices]]\n",
        "\n",
        "    samples = X_base + np.multiply(np.random.rand(n_to_sample,1),\n",
        "            X_neighbor - X_base)\n",
        "\n",
        "    #use 10 as label because 0 to 9 real classes and 1 fake/smoted = 10\n",
        "    return samples, [cl]*n_to_sample\n",
        "\n",
        "def DeepSMOTE_train(X_train, y_train, one_hot = False):\n",
        "  from torch.utils.data import TensorDataset\n",
        "  import os\n",
        "\n",
        "  max_el = np.max(X_train)\n",
        "  X_train = X_train / max_el\n",
        "  X_train = moveaxis(X_train, 3, 1)\n",
        "  if one_hot:\n",
        "    y_train = np.argmax(y_train, axis=1)\n",
        "  #X_train = X_train.astype('float32') / 255.\n",
        "  \n",
        "  batch_size = args['batch_size']\n",
        "  patience = args['patience']\n",
        "  encoder = Encoder(args)\n",
        "  decoder = Decoder(args)\n",
        "\n",
        "  device = 'cuda' if torch.cuda.is_available() else 'cpu'\n",
        "  print(device)\n",
        "  decoder = decoder.to(device)\n",
        "  encoder = encoder.to(device)\n",
        "\n",
        "  train_on_gpu = torch.cuda.is_available()\n",
        "\n",
        "  #decoder loss function\n",
        "  criterion = nn.MSELoss()\n",
        "  criterion = criterion.to(device)\n",
        "\n",
        "  num_workers = 0\n",
        "\n",
        "  #torch.Tensor returns float so if want long then use torch.tensor\n",
        "  tensor_x = torch.from_numpy(X_train.copy())#torch.Tensor(X_train)\n",
        "  tensor_y = torch.tensor(y_train,dtype=torch.long)\n",
        "  mnist_bal = TensorDataset(tensor_x,tensor_y) \n",
        "  train_loader = torch.utils.data.DataLoader(mnist_bal, \n",
        "      batch_size=batch_size,shuffle=True,num_workers=num_workers)\n",
        "\n",
        "  best_loss = np.inf\n",
        "\n",
        "  enc_optim = torch.optim.Adam(encoder.parameters(), lr = args['lr'])\n",
        "  dec_optim = torch.optim.Adam(decoder.parameters(), lr = args['lr'])\n",
        "\n",
        "  for epoch in range(args['epochs']):\n",
        "      train_loss = 0.0\n",
        "      tmse_loss = 0.0\n",
        "      tdiscr_loss = 0.0\n",
        "      # train for one epoch -- set nets to train mode\n",
        "      encoder.train()\n",
        "      decoder.train()\n",
        "  \n",
        "      for images,labs in train_loader:\n",
        "      \n",
        "          # zero gradients for each batch\n",
        "          encoder.zero_grad()\n",
        "          decoder.zero_grad()\n",
        "          images, labs = images.to(device), labs.to(device)\n",
        "          labsn = labs.detach().cpu().numpy()\n",
        "#            print('images shape', images.shape)\n",
        "          # run images\n",
        "          z_hat = encoder(images)\n",
        "#            print('images shape after encoding', z_hat.shape)\n",
        "      \n",
        "          x_hat = decoder(z_hat) #decoder outputs tanh\n",
        "#            print('images shape after decoding', x_hat.shape)\n",
        "          mse = criterion(x_hat,images)\n",
        "                  \n",
        "          resx = []\n",
        "          resy = []\n",
        "      \n",
        "          tc = np.random.choice(num_classes,1)\n",
        "          #tc = 9\n",
        "          xbeg = X_train[y_train == tc]\n",
        "          ybeg = y_train[y_train == tc] \n",
        "          xlen = len(xbeg)\n",
        "          nsamp = min(xlen, 100)\n",
        "          ind = np.random.choice(list(range(len(xbeg))),nsamp,replace=False)\n",
        "          xclass = xbeg[ind]\n",
        "          yclass = ybeg[ind]\n",
        "      \n",
        "          xclen = len(xclass)\n",
        "          xcminus = np.arange(1,xclen)\n",
        "          \n",
        "          xcplus = np.append(xcminus,0)\n",
        "          xcnew = (xclass[[xcplus],:])\n",
        "          xcnew = xcnew.reshape(xcnew.shape[1],xcnew.shape[2],xcnew.shape[3],xcnew.shape[4])\n",
        "      \n",
        "          xcnew = torch.Tensor(xcnew)\n",
        "          xcnew = xcnew.to(device)\n",
        "      \n",
        "          #encode xclass to feature space\n",
        "          xclass = torch.Tensor(xclass)\n",
        "          xclass = xclass.to(device)\n",
        "          xclass = encoder(xclass)\n",
        "      \n",
        "          xclass = xclass.detach().cpu().numpy()\n",
        "      \n",
        "          xc_enc = (xclass[[xcplus],:])\n",
        "          xc_enc = np.squeeze(xc_enc)\n",
        "      \n",
        "          xc_enc = torch.Tensor(xc_enc)\n",
        "          xc_enc = xc_enc.to(device)\n",
        "          \n",
        "          ximg = decoder(xc_enc)\n",
        "          \n",
        "          mse2 = criterion(ximg,xcnew)\n",
        "      \n",
        "          comb_loss = mse2 + mse\n",
        "          comb_loss.backward()\n",
        "      \n",
        "          enc_optim.step()\n",
        "          dec_optim.step()\n",
        "      \n",
        "          train_loss += comb_loss.item()*images.size(0)\n",
        "          tmse_loss += mse.item()*images.size(0)\n",
        "          tdiscr_loss += mse2.item()*images.size(0)\n",
        "\n",
        "      train_loss = train_loss/len(train_loader)\n",
        "      tmse_loss = tmse_loss/len(train_loader)\n",
        "      tdiscr_loss = tdiscr_loss/len(train_loader)\n",
        "      print('Epoch: {} \\tTrain Loss: {:.6f} \\tmse loss: {:.6f} \\tmse2 loss: {:.6f}'.format(epoch,\n",
        "              train_loss,tmse_loss,tdiscr_loss))\n",
        "      \n",
        "  \n",
        "  \n",
        "      #store the best encoder and decoder models\n",
        "      #here, /crs5 is a reference to 5 way cross validation, but is not\n",
        "      #necessary for illustration purposes\n",
        "      if train_loss < best_loss:\n",
        "          print('Saving..')\n",
        "          patience = args['patience']\n",
        "          path_enc = '/content/drive/MyDrive/PHD/Model/DeepSMOTE/32/bst_enc.pth'\n",
        "          path_dec = '/content/drive/MyDrive/PHD/Model/DeepSMOTE/32/bst_dec.pth'\n",
        "        \n",
        "          torch.save(encoder.state_dict(), path_enc)\n",
        "          torch.save(decoder.state_dict(), path_dec)\n",
        "  \n",
        "          best_loss = train_loss\n",
        "      else:\n",
        "          patience = patience - 1\n",
        "\n",
        "      if patience == 0:\n",
        "          print('Out of patience. \\n')\n",
        "          break\n",
        "\n",
        "def DeepSMOTE_Data(X_train, y_train, one_hot = False):\n",
        "  batch_size = args['batch_size']\n",
        "  max_el = np.max(X_train)\n",
        "  X_train = X_train / max_el\n",
        "  X_train = moveaxis(X_train, 3, 1)\n",
        "  if one_hot:\n",
        "    y_train = np.argmax(y_train, axis=1)\n",
        "  #Generate artificial images\n",
        "  import torch\n",
        "  np.printoptions(precision=5,suppress=True)\n",
        "\n",
        "  #path on the computer where the models are stored\n",
        "  modpth = '/content/drive/MyDrive/PHD/Model/DeepSMOTE/32/'\n",
        "\n",
        "  path_enc = modpth + '/bst_enc.pth'\n",
        "  path_dec = modpth + '/bst_dec.pth'\n",
        "  \n",
        "  train_on_gpu = torch.cuda.is_available()\n",
        "  device = 'cuda' if torch.cuda.is_available() else 'cpu'\n",
        "\n",
        "  encoder = Encoder(args)\n",
        "  encoder.load_state_dict(torch.load(path_enc), strict=False)\n",
        "  encoder = encoder.to(device)\n",
        "\n",
        "  decoder = Decoder(args)\n",
        "  decoder.load_state_dict(torch.load(path_dec), strict=False)\n",
        "  decoder = decoder.to(device)\n",
        "\n",
        "  encoder.eval()\n",
        "  decoder.eval()\n",
        "\n",
        "  resx = []\n",
        "  resy = []\n",
        "  \n",
        "  counter = Counter(y_train)\n",
        "  counter = sorted(counter.items())\n",
        "  counter = [value for _, value in counter]\n",
        "\n",
        "  for i in range(num_classes):\n",
        "      torch.cuda.empty_cache()\n",
        "\n",
        "      xclass, yclass = biased_get_class(X_train, y_train, i)\n",
        "      #encode xclass to feature space\n",
        "      xclass = torch.Tensor(xclass)\n",
        "      xclass = xclass.to(device)\n",
        "      xclass = encoder(xclass)\n",
        "          \n",
        "      xclass = xclass.detach().cpu().numpy()\n",
        "      n = np.max(counter) - counter[i]\n",
        "      if n == 0:\n",
        "        continue\n",
        "#        resx2 = []\n",
        "#        resy2 = []\n",
        "#        for j in range(batch_size, n+batch_size+1, batch_size):\n",
        "#          if j <= n:\n",
        "#            batch_size_max = batch_size\n",
        "#          elif n % batch_size != 0:\n",
        "#            batch_size_max = n%batch_size\n",
        "#          else:\n",
        "#            break\n",
        "#          xsamp, ysamp = G_SM(xclass,yclass,batch_size_max,i)\n",
        "      xsamp, ysamp = G_SM(xclass,yclass,n,i)\n",
        "      ysamp = np.array(ysamp)\n",
        "  \n",
        "      \"\"\"to generate samples for resnet\"\"\"   \n",
        "      xsamp = torch.Tensor(xsamp)\n",
        "      xsamp = xsamp.to(device)\n",
        "      ximg = decoder(xsamp)\n",
        "\n",
        "      ximn = ximg.detach().cpu().numpy()\n",
        "#        resx2.append(ximn)\n",
        "#        resy2.append(ysamp)\n",
        "#        \n",
        "#        resx2 = np.vstack(resx2)\n",
        "#        resy2 = np.hstack(resy2)\n",
        "      resx.append(ximn)\n",
        "      resy.append(ysamp)\n",
        "  \n",
        "  resx1 = np.vstack(resx)\n",
        "  resy1 = np.hstack(resy)\n",
        "  resx1 = resx1.reshape(resx1.shape[0],-1)\n",
        "  X_train = X_train.reshape(X_train.shape[0],-1)\n",
        "  X_train = np.vstack((resx1,X_train))\n",
        "  y_train = np.hstack((resy1,y_train))\n",
        "  y_train = to_categorical(y_train)\n",
        "  X_train = X_train.reshape(-1, 3, IMAGE_W, IMAGE_H)\n",
        "  X_train = moveaxis(X_train, 1, 3)\n",
        "  X_train = X_train * max_el\n",
        "  return X_train, y_train"
      ]
    },
    {
      "cell_type": "markdown",
      "metadata": {
        "id": "0jrJ33lUDkCM"
      },
      "source": [
        "#Split dataset to train and val"
      ]
    },
    {
      "cell_type": "code",
      "execution_count": null,
      "metadata": {
        "id": "e6qneWL_Bs2U"
      },
      "outputs": [],
      "source": [
        "# stratified train and rem (20%) datasets\n",
        "from sklearn.model_selection import train_test_split\n",
        "X_train, X_val, y_train, y_val = train_test_split(X_train, y_train, test_size=0.2, stratify=y_train, random_state=1)\n",
        "\n",
        "print('Train Data: ', X_train.shape)\n",
        "print('Remaining Data: ', X_val.shape)"
      ]
    },
    {
      "cell_type": "code",
      "execution_count": null,
      "metadata": {
        "id": "8Kef4r_zxjgk"
      },
      "outputs": [],
      "source": [
        "#Data Augmentation\n",
        "dataaugment = ImageDataGenerator(\n",
        "        rotation_range=90,  # randomly rotate images in the range (degrees, 0 to 180)\n",
        "        zoom_range = 0.1, # Randomly zoom image \n",
        "        width_shift_range=0.1,  # randomly shift images horizontally (fraction of total width)\n",
        "        height_shift_range=0.1,  # randomly shift images vertically (fraction of total height)\n",
        "        horizontal_flip=True,  # randomly flip images\n",
        "        vertical_flip=True,  # randomly flip images\n",
        "        shear_range = 10) \n",
        "\n",
        "dataaugment.fit(X_train)"
      ]
    },
    {
      "cell_type": "markdown",
      "metadata": {
        "id": "B2PgksTFkOAq"
      },
      "source": [
        "#Fine Tune"
      ]
    },
    {
      "cell_type": "code",
      "execution_count": null,
      "metadata": {
        "id": "Nr1jnSM7yzJc"
      },
      "outputs": [],
      "source": [
        "limit = 171\n",
        "for layer in model.layers[:limit]:\n",
        "   layer.trainable = False\n",
        "for layer in model.layers[limit:]:\n",
        "   layer.trainable = True\n",
        "\n",
        "optimizer_SGD = SGD(learning_rate=0.0001, momentum=0.9)\n",
        "model.compile(optimizer = optimizer_SGD , loss = \"categorical_crossentropy\", metrics=['accuracy', balanced_acc])\n",
        "hst2 = model.fit(train_data_batches,\n",
        "                    epochs = EPOCHS, validation_data = valid_data_batches,\n",
        "                    callbacks=[learning_rate_reduction,early_stopping_monitor, mc])\n"
      ]
    },
    {
      "cell_type": "code",
      "execution_count": null,
      "metadata": {
        "id": "vO1aAQBmiy0K"
      },
      "outputs": [],
      "source": [
        "# summarize history for accuracy\n",
        "plt.plot(hst2.history['balanced_acc'])\n",
        "plt.plot(hst2.history['val_balanced_acc'])\n",
        "plt.title('model balance_acc after tunning')\n",
        "plt.ylabel('accuracy')\n",
        "plt.xlabel('epoch')\n",
        "plt.legend(['train', 'val'], loc='upper left')\n",
        "plt.show()"
      ]
    }
  ],
  "metadata": {
    "accelerator": "GPU",
    "colab": {
      "collapsed_sections": [
        "UswA0co2y1wl",
        "iDRWiTnO0MGh",
        "eaK4zbtoaAaC",
        "3K908bbiYwbS",
        "kE8Ziq-BlEP4",
        "RcRGeofw-8tK",
        "cNBXx28B9yGu",
        "0jrJ33lUDkCM",
        "B2PgksTFkOAq"
      ],
      "machine_shape": "hm",
      "provenance": [],
      "include_colab_link": true
    },
    "gpuClass": "standard",
    "kernelspec": {
      "display_name": "Python 3",
      "name": "python3"
    },
    "language_info": {
      "name": "python"
    }
  },
  "nbformat": 4,
  "nbformat_minor": 0
}